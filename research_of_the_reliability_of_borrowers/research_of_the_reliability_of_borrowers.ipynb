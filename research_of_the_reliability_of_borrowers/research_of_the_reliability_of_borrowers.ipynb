{
 "cells": [
  {
   "cell_type": "markdown",
   "id": "c81daeeb",
   "metadata": {
    "deletable": false,
    "id": "c81daeeb"
   },
   "source": [
    "# Исследование надежности заемщиков"
   ]
  },
  {
   "cell_type": "markdown",
   "id": "744d7639",
   "metadata": {
    "deletable": false,
    "id": "744d7639"
   },
   "source": [
    "## Изучение общей информации о данных"
   ]
  },
  {
   "cell_type": "markdown",
   "id": "e7a14c31",
   "metadata": {
    "deletable": false,
    "id": "e7a14c31"
   },
   "source": [
    "**Путь к файлу с данными: `/datasets/data.csv`**"
   ]
  },
  {
   "cell_type": "code",
   "execution_count": 1,
   "id": "7bcf75c9",
   "metadata": {
    "deletable": false,
    "id": "7bcf75c9"
   },
   "outputs": [],
   "source": [
    "import pandas as pd\n",
    "\n",
    "try:\n",
    "    data = pd.read_csv('/datasets/data.csv')\n",
    "except:\n",
    "    data = pd.read_csv('https://code.s3.yandex.net/datasets/data.csv')"
   ]
  },
  {
   "cell_type": "markdown",
   "id": "b8038fe3",
   "metadata": {
    "deletable": false,
    "id": "b8038fe3"
   },
   "source": [
    "**Выведем первые 20 строчек датафрейма `data` на экран.**"
   ]
  },
  {
   "cell_type": "code",
   "execution_count": 2,
   "id": "2a7cab99",
   "metadata": {
    "deletable": false,
    "id": "2a7cab99",
    "outputId": "1a8f3ef2-d323-4ec2-ddf7-89670b5944c4"
   },
   "outputs": [
    {
     "data": {
      "text/html": [
       "<div>\n",
       "<style scoped>\n",
       "    .dataframe tbody tr th:only-of-type {\n",
       "        vertical-align: middle;\n",
       "    }\n",
       "\n",
       "    .dataframe tbody tr th {\n",
       "        vertical-align: top;\n",
       "    }\n",
       "\n",
       "    .dataframe thead th {\n",
       "        text-align: right;\n",
       "    }\n",
       "</style>\n",
       "<table border=\"1\" class=\"dataframe\">\n",
       "  <thead>\n",
       "    <tr style=\"text-align: right;\">\n",
       "      <th></th>\n",
       "      <th>children</th>\n",
       "      <th>days_employed</th>\n",
       "      <th>dob_years</th>\n",
       "      <th>education</th>\n",
       "      <th>education_id</th>\n",
       "      <th>family_status</th>\n",
       "      <th>family_status_id</th>\n",
       "      <th>gender</th>\n",
       "      <th>income_type</th>\n",
       "      <th>debt</th>\n",
       "      <th>total_income</th>\n",
       "      <th>purpose</th>\n",
       "    </tr>\n",
       "  </thead>\n",
       "  <tbody>\n",
       "    <tr>\n",
       "      <th>0</th>\n",
       "      <td>1</td>\n",
       "      <td>-8437.673028</td>\n",
       "      <td>42</td>\n",
       "      <td>высшее</td>\n",
       "      <td>0</td>\n",
       "      <td>женат / замужем</td>\n",
       "      <td>0</td>\n",
       "      <td>F</td>\n",
       "      <td>сотрудник</td>\n",
       "      <td>0</td>\n",
       "      <td>253875.639453</td>\n",
       "      <td>покупка жилья</td>\n",
       "    </tr>\n",
       "    <tr>\n",
       "      <th>1</th>\n",
       "      <td>1</td>\n",
       "      <td>-4024.803754</td>\n",
       "      <td>36</td>\n",
       "      <td>среднее</td>\n",
       "      <td>1</td>\n",
       "      <td>женат / замужем</td>\n",
       "      <td>0</td>\n",
       "      <td>F</td>\n",
       "      <td>сотрудник</td>\n",
       "      <td>0</td>\n",
       "      <td>112080.014102</td>\n",
       "      <td>приобретение автомобиля</td>\n",
       "    </tr>\n",
       "    <tr>\n",
       "      <th>2</th>\n",
       "      <td>0</td>\n",
       "      <td>-5623.422610</td>\n",
       "      <td>33</td>\n",
       "      <td>Среднее</td>\n",
       "      <td>1</td>\n",
       "      <td>женат / замужем</td>\n",
       "      <td>0</td>\n",
       "      <td>M</td>\n",
       "      <td>сотрудник</td>\n",
       "      <td>0</td>\n",
       "      <td>145885.952297</td>\n",
       "      <td>покупка жилья</td>\n",
       "    </tr>\n",
       "    <tr>\n",
       "      <th>3</th>\n",
       "      <td>3</td>\n",
       "      <td>-4124.747207</td>\n",
       "      <td>32</td>\n",
       "      <td>среднее</td>\n",
       "      <td>1</td>\n",
       "      <td>женат / замужем</td>\n",
       "      <td>0</td>\n",
       "      <td>M</td>\n",
       "      <td>сотрудник</td>\n",
       "      <td>0</td>\n",
       "      <td>267628.550329</td>\n",
       "      <td>дополнительное образование</td>\n",
       "    </tr>\n",
       "    <tr>\n",
       "      <th>4</th>\n",
       "      <td>0</td>\n",
       "      <td>340266.072047</td>\n",
       "      <td>53</td>\n",
       "      <td>среднее</td>\n",
       "      <td>1</td>\n",
       "      <td>гражданский брак</td>\n",
       "      <td>1</td>\n",
       "      <td>F</td>\n",
       "      <td>пенсионер</td>\n",
       "      <td>0</td>\n",
       "      <td>158616.077870</td>\n",
       "      <td>сыграть свадьбу</td>\n",
       "    </tr>\n",
       "    <tr>\n",
       "      <th>5</th>\n",
       "      <td>0</td>\n",
       "      <td>-926.185831</td>\n",
       "      <td>27</td>\n",
       "      <td>высшее</td>\n",
       "      <td>0</td>\n",
       "      <td>гражданский брак</td>\n",
       "      <td>1</td>\n",
       "      <td>M</td>\n",
       "      <td>компаньон</td>\n",
       "      <td>0</td>\n",
       "      <td>255763.565419</td>\n",
       "      <td>покупка жилья</td>\n",
       "    </tr>\n",
       "    <tr>\n",
       "      <th>6</th>\n",
       "      <td>0</td>\n",
       "      <td>-2879.202052</td>\n",
       "      <td>43</td>\n",
       "      <td>высшее</td>\n",
       "      <td>0</td>\n",
       "      <td>женат / замужем</td>\n",
       "      <td>0</td>\n",
       "      <td>F</td>\n",
       "      <td>компаньон</td>\n",
       "      <td>0</td>\n",
       "      <td>240525.971920</td>\n",
       "      <td>операции с жильем</td>\n",
       "    </tr>\n",
       "    <tr>\n",
       "      <th>7</th>\n",
       "      <td>0</td>\n",
       "      <td>-152.779569</td>\n",
       "      <td>50</td>\n",
       "      <td>СРЕДНЕЕ</td>\n",
       "      <td>1</td>\n",
       "      <td>женат / замужем</td>\n",
       "      <td>0</td>\n",
       "      <td>M</td>\n",
       "      <td>сотрудник</td>\n",
       "      <td>0</td>\n",
       "      <td>135823.934197</td>\n",
       "      <td>образование</td>\n",
       "    </tr>\n",
       "    <tr>\n",
       "      <th>8</th>\n",
       "      <td>2</td>\n",
       "      <td>-6929.865299</td>\n",
       "      <td>35</td>\n",
       "      <td>ВЫСШЕЕ</td>\n",
       "      <td>0</td>\n",
       "      <td>гражданский брак</td>\n",
       "      <td>1</td>\n",
       "      <td>F</td>\n",
       "      <td>сотрудник</td>\n",
       "      <td>0</td>\n",
       "      <td>95856.832424</td>\n",
       "      <td>на проведение свадьбы</td>\n",
       "    </tr>\n",
       "    <tr>\n",
       "      <th>9</th>\n",
       "      <td>0</td>\n",
       "      <td>-2188.756445</td>\n",
       "      <td>41</td>\n",
       "      <td>среднее</td>\n",
       "      <td>1</td>\n",
       "      <td>женат / замужем</td>\n",
       "      <td>0</td>\n",
       "      <td>M</td>\n",
       "      <td>сотрудник</td>\n",
       "      <td>0</td>\n",
       "      <td>144425.938277</td>\n",
       "      <td>покупка жилья для семьи</td>\n",
       "    </tr>\n",
       "    <tr>\n",
       "      <th>10</th>\n",
       "      <td>2</td>\n",
       "      <td>-4171.483647</td>\n",
       "      <td>36</td>\n",
       "      <td>высшее</td>\n",
       "      <td>0</td>\n",
       "      <td>женат / замужем</td>\n",
       "      <td>0</td>\n",
       "      <td>M</td>\n",
       "      <td>компаньон</td>\n",
       "      <td>0</td>\n",
       "      <td>113943.491460</td>\n",
       "      <td>покупка недвижимости</td>\n",
       "    </tr>\n",
       "    <tr>\n",
       "      <th>11</th>\n",
       "      <td>0</td>\n",
       "      <td>-792.701887</td>\n",
       "      <td>40</td>\n",
       "      <td>среднее</td>\n",
       "      <td>1</td>\n",
       "      <td>женат / замужем</td>\n",
       "      <td>0</td>\n",
       "      <td>F</td>\n",
       "      <td>сотрудник</td>\n",
       "      <td>0</td>\n",
       "      <td>77069.234271</td>\n",
       "      <td>покупка коммерческой недвижимости</td>\n",
       "    </tr>\n",
       "    <tr>\n",
       "      <th>12</th>\n",
       "      <td>0</td>\n",
       "      <td>NaN</td>\n",
       "      <td>65</td>\n",
       "      <td>среднее</td>\n",
       "      <td>1</td>\n",
       "      <td>гражданский брак</td>\n",
       "      <td>1</td>\n",
       "      <td>M</td>\n",
       "      <td>пенсионер</td>\n",
       "      <td>0</td>\n",
       "      <td>NaN</td>\n",
       "      <td>сыграть свадьбу</td>\n",
       "    </tr>\n",
       "    <tr>\n",
       "      <th>13</th>\n",
       "      <td>0</td>\n",
       "      <td>-1846.641941</td>\n",
       "      <td>54</td>\n",
       "      <td>неоконченное высшее</td>\n",
       "      <td>2</td>\n",
       "      <td>женат / замужем</td>\n",
       "      <td>0</td>\n",
       "      <td>F</td>\n",
       "      <td>сотрудник</td>\n",
       "      <td>0</td>\n",
       "      <td>130458.228857</td>\n",
       "      <td>приобретение автомобиля</td>\n",
       "    </tr>\n",
       "    <tr>\n",
       "      <th>14</th>\n",
       "      <td>0</td>\n",
       "      <td>-1844.956182</td>\n",
       "      <td>56</td>\n",
       "      <td>высшее</td>\n",
       "      <td>0</td>\n",
       "      <td>гражданский брак</td>\n",
       "      <td>1</td>\n",
       "      <td>F</td>\n",
       "      <td>компаньон</td>\n",
       "      <td>1</td>\n",
       "      <td>165127.911772</td>\n",
       "      <td>покупка жилой недвижимости</td>\n",
       "    </tr>\n",
       "    <tr>\n",
       "      <th>15</th>\n",
       "      <td>1</td>\n",
       "      <td>-972.364419</td>\n",
       "      <td>26</td>\n",
       "      <td>среднее</td>\n",
       "      <td>1</td>\n",
       "      <td>женат / замужем</td>\n",
       "      <td>0</td>\n",
       "      <td>F</td>\n",
       "      <td>сотрудник</td>\n",
       "      <td>0</td>\n",
       "      <td>116820.904450</td>\n",
       "      <td>строительство собственной недвижимости</td>\n",
       "    </tr>\n",
       "    <tr>\n",
       "      <th>16</th>\n",
       "      <td>0</td>\n",
       "      <td>-1719.934226</td>\n",
       "      <td>35</td>\n",
       "      <td>среднее</td>\n",
       "      <td>1</td>\n",
       "      <td>женат / замужем</td>\n",
       "      <td>0</td>\n",
       "      <td>F</td>\n",
       "      <td>сотрудник</td>\n",
       "      <td>0</td>\n",
       "      <td>289202.704229</td>\n",
       "      <td>недвижимость</td>\n",
       "    </tr>\n",
       "    <tr>\n",
       "      <th>17</th>\n",
       "      <td>0</td>\n",
       "      <td>-2369.999720</td>\n",
       "      <td>33</td>\n",
       "      <td>высшее</td>\n",
       "      <td>0</td>\n",
       "      <td>гражданский брак</td>\n",
       "      <td>1</td>\n",
       "      <td>M</td>\n",
       "      <td>сотрудник</td>\n",
       "      <td>0</td>\n",
       "      <td>90410.586745</td>\n",
       "      <td>строительство недвижимости</td>\n",
       "    </tr>\n",
       "    <tr>\n",
       "      <th>18</th>\n",
       "      <td>0</td>\n",
       "      <td>400281.136913</td>\n",
       "      <td>53</td>\n",
       "      <td>среднее</td>\n",
       "      <td>1</td>\n",
       "      <td>вдовец / вдова</td>\n",
       "      <td>2</td>\n",
       "      <td>F</td>\n",
       "      <td>пенсионер</td>\n",
       "      <td>0</td>\n",
       "      <td>56823.777243</td>\n",
       "      <td>на покупку подержанного автомобиля</td>\n",
       "    </tr>\n",
       "    <tr>\n",
       "      <th>19</th>\n",
       "      <td>0</td>\n",
       "      <td>-10038.818549</td>\n",
       "      <td>48</td>\n",
       "      <td>СРЕДНЕЕ</td>\n",
       "      <td>1</td>\n",
       "      <td>в разводе</td>\n",
       "      <td>3</td>\n",
       "      <td>F</td>\n",
       "      <td>сотрудник</td>\n",
       "      <td>0</td>\n",
       "      <td>242831.107982</td>\n",
       "      <td>на покупку своего автомобиля</td>\n",
       "    </tr>\n",
       "  </tbody>\n",
       "</table>\n",
       "</div>"
      ],
      "text/plain": [
       "    children  days_employed  dob_years            education  education_id  \\\n",
       "0          1   -8437.673028         42               высшее             0   \n",
       "1          1   -4024.803754         36              среднее             1   \n",
       "2          0   -5623.422610         33              Среднее             1   \n",
       "3          3   -4124.747207         32              среднее             1   \n",
       "4          0  340266.072047         53              среднее             1   \n",
       "5          0    -926.185831         27               высшее             0   \n",
       "6          0   -2879.202052         43               высшее             0   \n",
       "7          0    -152.779569         50              СРЕДНЕЕ             1   \n",
       "8          2   -6929.865299         35               ВЫСШЕЕ             0   \n",
       "9          0   -2188.756445         41              среднее             1   \n",
       "10         2   -4171.483647         36               высшее             0   \n",
       "11         0    -792.701887         40              среднее             1   \n",
       "12         0            NaN         65              среднее             1   \n",
       "13         0   -1846.641941         54  неоконченное высшее             2   \n",
       "14         0   -1844.956182         56               высшее             0   \n",
       "15         1    -972.364419         26              среднее             1   \n",
       "16         0   -1719.934226         35              среднее             1   \n",
       "17         0   -2369.999720         33               высшее             0   \n",
       "18         0  400281.136913         53              среднее             1   \n",
       "19         0  -10038.818549         48              СРЕДНЕЕ             1   \n",
       "\n",
       "       family_status  family_status_id gender income_type  debt  \\\n",
       "0    женат / замужем                 0      F   сотрудник     0   \n",
       "1    женат / замужем                 0      F   сотрудник     0   \n",
       "2    женат / замужем                 0      M   сотрудник     0   \n",
       "3    женат / замужем                 0      M   сотрудник     0   \n",
       "4   гражданский брак                 1      F   пенсионер     0   \n",
       "5   гражданский брак                 1      M   компаньон     0   \n",
       "6    женат / замужем                 0      F   компаньон     0   \n",
       "7    женат / замужем                 0      M   сотрудник     0   \n",
       "8   гражданский брак                 1      F   сотрудник     0   \n",
       "9    женат / замужем                 0      M   сотрудник     0   \n",
       "10   женат / замужем                 0      M   компаньон     0   \n",
       "11   женат / замужем                 0      F   сотрудник     0   \n",
       "12  гражданский брак                 1      M   пенсионер     0   \n",
       "13   женат / замужем                 0      F   сотрудник     0   \n",
       "14  гражданский брак                 1      F   компаньон     1   \n",
       "15   женат / замужем                 0      F   сотрудник     0   \n",
       "16   женат / замужем                 0      F   сотрудник     0   \n",
       "17  гражданский брак                 1      M   сотрудник     0   \n",
       "18    вдовец / вдова                 2      F   пенсионер     0   \n",
       "19         в разводе                 3      F   сотрудник     0   \n",
       "\n",
       "     total_income                                 purpose  \n",
       "0   253875.639453                           покупка жилья  \n",
       "1   112080.014102                 приобретение автомобиля  \n",
       "2   145885.952297                           покупка жилья  \n",
       "3   267628.550329              дополнительное образование  \n",
       "4   158616.077870                         сыграть свадьбу  \n",
       "5   255763.565419                           покупка жилья  \n",
       "6   240525.971920                       операции с жильем  \n",
       "7   135823.934197                             образование  \n",
       "8    95856.832424                   на проведение свадьбы  \n",
       "9   144425.938277                 покупка жилья для семьи  \n",
       "10  113943.491460                    покупка недвижимости  \n",
       "11   77069.234271       покупка коммерческой недвижимости  \n",
       "12            NaN                         сыграть свадьбу  \n",
       "13  130458.228857                 приобретение автомобиля  \n",
       "14  165127.911772              покупка жилой недвижимости  \n",
       "15  116820.904450  строительство собственной недвижимости  \n",
       "16  289202.704229                            недвижимость  \n",
       "17   90410.586745              строительство недвижимости  \n",
       "18   56823.777243      на покупку подержанного автомобиля  \n",
       "19  242831.107982            на покупку своего автомобиля  "
      ]
     },
     "execution_count": 2,
     "metadata": {},
     "output_type": "execute_result"
    }
   ],
   "source": [
    "data.head(20)"
   ]
  },
  {
   "cell_type": "markdown",
   "id": "1c12e233",
   "metadata": {
    "deletable": false,
    "id": "1c12e233"
   },
   "source": [
    "**Выведем основную информацию о датафрейме с помощью метода `info()`.**"
   ]
  },
  {
   "cell_type": "code",
   "execution_count": 3,
   "id": "2b757bca",
   "metadata": {
    "deletable": false,
    "id": "2b757bca",
    "outputId": "15376089-8dad-46c9-b520-c05248d43158"
   },
   "outputs": [
    {
     "name": "stdout",
     "output_type": "stream",
     "text": [
      "<class 'pandas.core.frame.DataFrame'>\n",
      "RangeIndex: 21525 entries, 0 to 21524\n",
      "Data columns (total 12 columns):\n",
      " #   Column            Non-Null Count  Dtype  \n",
      "---  ------            --------------  -----  \n",
      " 0   children          21525 non-null  int64  \n",
      " 1   days_employed     19351 non-null  float64\n",
      " 2   dob_years         21525 non-null  int64  \n",
      " 3   education         21525 non-null  object \n",
      " 4   education_id      21525 non-null  int64  \n",
      " 5   family_status     21525 non-null  object \n",
      " 6   family_status_id  21525 non-null  int64  \n",
      " 7   gender            21525 non-null  object \n",
      " 8   income_type       21525 non-null  object \n",
      " 9   debt              21525 non-null  int64  \n",
      " 10  total_income      19351 non-null  float64\n",
      " 11  purpose           21525 non-null  object \n",
      "dtypes: float64(2), int64(5), object(5)\n",
      "memory usage: 2.0+ MB\n"
     ]
    }
   ],
   "source": [
    "data.info()"
   ]
  },
  {
   "cell_type": "markdown",
   "id": "333ec665",
   "metadata": {
    "deletable": false,
    "id": "333ec665"
   },
   "source": [
    "## Предобработка данных"
   ]
  },
  {
   "cell_type": "markdown",
   "id": "02d92d53",
   "metadata": {
    "deletable": false,
    "id": "02d92d53"
   },
   "source": [
    "### Удаление пропусков"
   ]
  },
  {
   "cell_type": "markdown",
   "id": "cd84967c",
   "metadata": {
    "deletable": false,
    "id": "cd84967c"
   },
   "source": [
    "**Выведем количество пропущенных значений для каждого столбца, используя комбинацию двух методов.**"
   ]
  },
  {
   "cell_type": "code",
   "execution_count": 4,
   "id": "7f9b2309",
   "metadata": {
    "deletable": false,
    "id": "7f9b2309",
    "outputId": "81f4d817-781c-465c-ed15-91ce4446810d"
   },
   "outputs": [
    {
     "data": {
      "text/plain": [
       "children               0\n",
       "days_employed       2174\n",
       "dob_years              0\n",
       "education              0\n",
       "education_id           0\n",
       "family_status          0\n",
       "family_status_id       0\n",
       "gender                 0\n",
       "income_type            0\n",
       "debt                   0\n",
       "total_income        2174\n",
       "purpose                0\n",
       "dtype: int64"
      ]
     },
     "execution_count": 4,
     "metadata": {},
     "output_type": "execute_result"
    }
   ],
   "source": [
    "data.isna().sum()"
   ]
  },
  {
   "cell_type": "markdown",
   "id": "db86e27b",
   "metadata": {
    "deletable": false,
    "id": "db86e27b"
   },
   "source": [
    "**В двух столбцах есть пропущенные значения. Один из них — `days_employed`. Пропуски в этом столбце обработаем на следующем этапе. Другой столбец с пропущенными значениями — `total_income` — хранит данные о доходах. На сумму дохода сильнее всего влияет тип занятости, поэтому заполнить пропуски в этом столбце нужно медианным значением по каждому типу из столбца `income_type`. Например, у человека с типом занятости `сотрудник` пропуск в столбце `total_income` должен быть заполнен медианным доходом среди всех записей с тем же типом.**"
   ]
  },
  {
   "cell_type": "code",
   "execution_count": 5,
   "id": "42006a93",
   "metadata": {
    "deletable": false,
    "id": "42006a93"
   },
   "outputs": [],
   "source": [
    "for t in data['income_type'].unique():\n",
    "    data.loc[(data['income_type'] == t) & (data['total_income'].isna()), 'total_income'] = \\\n",
    "    data.loc[(data['income_type'] == t), 'total_income'].median()"
   ]
  },
  {
   "cell_type": "markdown",
   "id": "89da5ece",
   "metadata": {
    "deletable": false,
    "id": "89da5ece"
   },
   "source": [
    "### Обработка аномальных значений"
   ]
  },
  {
   "cell_type": "markdown",
   "id": "57964554",
   "metadata": {
    "deletable": false,
    "id": "57964554"
   },
   "source": [
    "**В данных могут встречаться артефакты (аномалии) — значения, которые не отражают действительность и появились по какой-то ошибке. Таким артефактом будет отрицательное количество дней трудового стажа в столбце `days_employed`. Для реальных данных это нормально. Обработаем значения в этом столбце: заменим все отрицательные значения положительными с помощью метода `abs()`.**"
   ]
  },
  {
   "cell_type": "code",
   "execution_count": 6,
   "id": "f6f055bf",
   "metadata": {
    "deletable": false,
    "id": "f6f055bf"
   },
   "outputs": [],
   "source": [
    "data['days_employed'] = data['days_employed'].abs()"
   ]
  },
  {
   "cell_type": "markdown",
   "id": "6107dd2f",
   "metadata": {
    "deletable": false,
    "id": "6107dd2f"
   },
   "source": [
    "**Для каждого типа занятости выведем медианное значение трудового стажа `days_employed` в днях.**"
   ]
  },
  {
   "cell_type": "code",
   "execution_count": 7,
   "id": "85a5faf6",
   "metadata": {
    "deletable": false,
    "id": "85a5faf6",
    "outputId": "801ef80e-522b-4668-f34e-565af7432bcf"
   },
   "outputs": [
    {
     "data": {
      "text/plain": [
       "income_type\n",
       "безработный        366413.652744\n",
       "в декрете            3296.759962\n",
       "госслужащий          2689.368353\n",
       "компаньон            1547.382223\n",
       "пенсионер          365213.306266\n",
       "предприниматель       520.848083\n",
       "сотрудник            1574.202821\n",
       "студент               578.751554\n",
       "Name: days_employed, dtype: float64"
      ]
     },
     "execution_count": 7,
     "metadata": {},
     "output_type": "execute_result"
    }
   ],
   "source": [
    "data.groupby('income_type')['days_employed'].agg('median')"
   ]
  },
  {
   "cell_type": "markdown",
   "id": "38d1a030",
   "metadata": {
    "deletable": false,
    "id": "38d1a030"
   },
   "source": [
    "У двух типов (безработные и пенсионеры) получатся аномально большие значения. Исправить такие значения сложно, поэтому оставьте их как есть. Тем более этот столбец не понадобится вам для исследования."
   ]
  },
  {
   "cell_type": "markdown",
   "id": "d8a9f147",
   "metadata": {
    "deletable": false,
    "id": "d8a9f147"
   },
   "source": [
    "**Выведем перечень уникальных значений столбца `children`.**"
   ]
  },
  {
   "cell_type": "code",
   "execution_count": 8,
   "id": "ef5056eb",
   "metadata": {
    "deletable": false,
    "id": "ef5056eb",
    "outputId": "6975b15c-7f95-4697-d16d-a0c79b657b03"
   },
   "outputs": [
    {
     "data": {
      "text/plain": [
       "array([ 1,  0,  3,  2, -1,  4, 20,  5])"
      ]
     },
     "execution_count": 8,
     "metadata": {},
     "output_type": "execute_result"
    }
   ],
   "source": [
    "data['children'].unique()"
   ]
  },
  {
   "cell_type": "markdown",
   "id": "40b9ebf2",
   "metadata": {
    "deletable": false,
    "id": "40b9ebf2"
   },
   "source": [
    "**В столбце `children` есть два аномальных значения. Удалим строки, в которых встречаются такие аномальные значения из датафрейма `data`.**"
   ]
  },
  {
   "cell_type": "code",
   "execution_count": 9,
   "id": "3ff9801d",
   "metadata": {
    "deletable": false,
    "id": "3ff9801d"
   },
   "outputs": [],
   "source": [
    "data = data[(data['children'] != -1) & (data['children'] != 20)]"
   ]
  },
  {
   "cell_type": "markdown",
   "id": "bbc4d0ce",
   "metadata": {
    "deletable": false,
    "id": "bbc4d0ce"
   },
   "source": [
    "**Ещё раз выведем перечень уникальных значений столбца `children`, чтобы убедиться, что артефакты удалены.**"
   ]
  },
  {
   "cell_type": "code",
   "execution_count": 10,
   "id": "ad4fa8b7",
   "metadata": {
    "deletable": false,
    "id": "ad4fa8b7",
    "outputId": "b2097101-d49d-44d9-901b-32a65c9463d1"
   },
   "outputs": [
    {
     "data": {
      "text/plain": [
       "array([1, 0, 3, 2, 4, 5])"
      ]
     },
     "execution_count": 10,
     "metadata": {},
     "output_type": "execute_result"
    }
   ],
   "source": [
    "data['children'].unique()"
   ]
  },
  {
   "cell_type": "markdown",
   "id": "75440b63",
   "metadata": {
    "deletable": false,
    "id": "75440b63"
   },
   "source": [
    "### Удаление пропусков (продолжение)"
   ]
  },
  {
   "cell_type": "markdown",
   "id": "f4ea573f",
   "metadata": {
    "deletable": false,
    "id": "f4ea573f"
   },
   "source": [
    "**Заполним пропуски в столбце `days_employed` медианными значениями по каждого типа занятости `income_type`.**"
   ]
  },
  {
   "cell_type": "code",
   "execution_count": 11,
   "id": "af6b1a7e",
   "metadata": {
    "deletable": false,
    "id": "af6b1a7e"
   },
   "outputs": [],
   "source": [
    "for t in data['income_type'].unique():\n",
    "    data.loc[(data['income_type'] == t) & (data['days_employed'].isna()), 'days_employed'] = \\\n",
    "    data.loc[(data['income_type'] == t), 'days_employed'].median()"
   ]
  },
  {
   "cell_type": "markdown",
   "id": "2753f40d",
   "metadata": {
    "deletable": false,
    "id": "2753f40d"
   },
   "source": [
    "**Убедимся, что все пропуски заполнены. Проверим себя и ещё раз выведем количество пропущенных значений для каждого столбца с помощью двух методов.**"
   ]
  },
  {
   "cell_type": "code",
   "execution_count": 12,
   "id": "55f78bc2",
   "metadata": {
    "deletable": false,
    "id": "55f78bc2",
    "outputId": "8da1e4e1-358e-4e87-98c9-f261bce0a7b2"
   },
   "outputs": [
    {
     "data": {
      "text/plain": [
       "children            0\n",
       "days_employed       0\n",
       "dob_years           0\n",
       "education           0\n",
       "education_id        0\n",
       "family_status       0\n",
       "family_status_id    0\n",
       "gender              0\n",
       "income_type         0\n",
       "debt                0\n",
       "total_income        0\n",
       "purpose             0\n",
       "dtype: int64"
      ]
     },
     "execution_count": 12,
     "metadata": {},
     "output_type": "execute_result"
    }
   ],
   "source": [
    "data.isna().sum()"
   ]
  },
  {
   "cell_type": "markdown",
   "id": "ddc81e43",
   "metadata": {
    "deletable": false,
    "id": "ddc81e43"
   },
   "source": [
    "### Изменение типов данных"
   ]
  },
  {
   "cell_type": "markdown",
   "id": "42d19d24",
   "metadata": {
    "deletable": false,
    "id": "42d19d24"
   },
   "source": [
    "**Заменим вещественный тип данных в столбце `total_income` на целочисленный с помощью метода `astype()`.**"
   ]
  },
  {
   "cell_type": "code",
   "execution_count": 13,
   "id": "920b65ad",
   "metadata": {
    "deletable": false,
    "id": "920b65ad"
   },
   "outputs": [],
   "source": [
    "data['total_income'] = data['total_income'].astype(int)"
   ]
  },
  {
   "cell_type": "markdown",
   "id": "80c420ba",
   "metadata": {
    "deletable": false,
    "id": "80c420ba"
   },
   "source": [
    "### Обработка дубликатов"
   ]
  },
  {
   "cell_type": "markdown",
   "id": "dc587695",
   "metadata": {
    "deletable": false,
    "id": "dc587695"
   },
   "source": [
    "**Выведем на экран количество строк-дубликатов в данных. Если такие строки присутствуют, удалим их.**"
   ]
  },
  {
   "cell_type": "code",
   "execution_count": 14,
   "id": "3ee445e4",
   "metadata": {
    "deletable": false,
    "id": "3ee445e4",
    "outputId": "9684deba-1934-42d1-99e1-cda61740f822"
   },
   "outputs": [
    {
     "data": {
      "text/plain": [
       "54"
      ]
     },
     "execution_count": 14,
     "metadata": {},
     "output_type": "execute_result"
    }
   ],
   "source": [
    "data.duplicated().sum()"
   ]
  },
  {
   "cell_type": "code",
   "execution_count": 15,
   "id": "8575fe05",
   "metadata": {
    "deletable": false,
    "id": "8575fe05"
   },
   "outputs": [],
   "source": [
    "data = data.drop_duplicates()"
   ]
  },
  {
   "cell_type": "markdown",
   "id": "9771a76c",
   "metadata": {
    "deletable": false,
    "id": "9771a76c"
   },
   "source": [
    "**Обработаем неявные дубликаты в столбце `education`. В этом столбце есть одни и те же значения, но записанные по-разному: с использованием заглавных и строчных букв. Приведем их к нижнему регистру. Проверим остальные столбцы.**"
   ]
  },
  {
   "cell_type": "code",
   "execution_count": 16,
   "id": "a9f8e2bf",
   "metadata": {
    "deletable": false,
    "id": "a9f8e2bf"
   },
   "outputs": [],
   "source": [
    "data['education'] = data['education'].str.lower()"
   ]
  },
  {
   "cell_type": "markdown",
   "id": "9904cf55",
   "metadata": {
    "deletable": false,
    "id": "9904cf55"
   },
   "source": [
    "### Категоризация данных"
   ]
  },
  {
   "cell_type": "markdown",
   "id": "72fcc8a2",
   "metadata": {
    "deletable": false,
    "id": "72fcc8a2"
   },
   "source": [
    "**На основании диапазонов, указанных ниже, создадим в датафрейме `data` столбец `total_income_category` с категориями:**\n",
    "\n",
    "- 0–30000 — `'E'`;\n",
    "- 30001–50000 — `'D'`;\n",
    "- 50001–200000 — `'C'`;\n",
    "- 200001–1000000 — `'B'`;\n",
    "- 1000001 и выше — `'A'`.\n",
    "\n",
    "\n",
    "**Например, кредитополучателю с доходом 25000 нужно назначить категорию `'E'`, а клиенту, получающему 235000, — `'B'`. Используем собственную функцию с именем `categorize_income()` и метод `apply()`.**"
   ]
  },
  {
   "cell_type": "code",
   "execution_count": 17,
   "id": "e1771346",
   "metadata": {
    "deletable": false,
    "id": "e1771346"
   },
   "outputs": [],
   "source": [
    "def categorize_income(income):\n",
    "    try:\n",
    "        if 0 <= income <= 30000:\n",
    "            return 'E'\n",
    "        elif 30001 <= income <= 50000:\n",
    "            return 'D'\n",
    "        elif 50001 <= income <= 200000:\n",
    "            return 'C'\n",
    "        elif 200001 <= income <= 1000000:\n",
    "            return 'B'\n",
    "        elif income >= 1000001:\n",
    "            return 'A'\n",
    "    except:\n",
    "        pass"
   ]
  },
  {
   "cell_type": "code",
   "execution_count": 18,
   "id": "d5f3586d",
   "metadata": {
    "deletable": false,
    "id": "d5f3586d"
   },
   "outputs": [],
   "source": [
    "data['total_income_category'] = data['total_income'].apply(categorize_income)"
   ]
  },
  {
   "cell_type": "markdown",
   "id": "dde49b5c",
   "metadata": {
    "deletable": false,
    "id": "dde49b5c"
   },
   "source": [
    "**Выведем на экран перечень уникальных целей взятия кредита из столбца `purpose`.**"
   ]
  },
  {
   "cell_type": "code",
   "execution_count": 19,
   "id": "f67ce9b3",
   "metadata": {
    "deletable": false,
    "id": "f67ce9b3",
    "outputId": "673c12d9-7d7e-4ae0-9812-c622c89dd244"
   },
   "outputs": [
    {
     "data": {
      "text/plain": [
       "array(['покупка жилья', 'приобретение автомобиля',\n",
       "       'дополнительное образование', 'сыграть свадьбу',\n",
       "       'операции с жильем', 'образование', 'на проведение свадьбы',\n",
       "       'покупка жилья для семьи', 'покупка недвижимости',\n",
       "       'покупка коммерческой недвижимости', 'покупка жилой недвижимости',\n",
       "       'строительство собственной недвижимости', 'недвижимость',\n",
       "       'строительство недвижимости', 'на покупку подержанного автомобиля',\n",
       "       'на покупку своего автомобиля',\n",
       "       'операции с коммерческой недвижимостью',\n",
       "       'строительство жилой недвижимости', 'жилье',\n",
       "       'операции со своей недвижимостью', 'автомобили',\n",
       "       'заняться образованием', 'сделка с подержанным автомобилем',\n",
       "       'получение образования', 'автомобиль', 'свадьба',\n",
       "       'получение дополнительного образования', 'покупка своего жилья',\n",
       "       'операции с недвижимостью', 'получение высшего образования',\n",
       "       'свой автомобиль', 'сделка с автомобилем',\n",
       "       'профильное образование', 'высшее образование',\n",
       "       'покупка жилья для сдачи', 'на покупку автомобиля', 'ремонт жилью',\n",
       "       'заняться высшим образованием'], dtype=object)"
      ]
     },
     "execution_count": 19,
     "metadata": {},
     "output_type": "execute_result"
    }
   ],
   "source": [
    "data['purpose'].unique()"
   ]
  },
  {
   "cell_type": "markdown",
   "id": "85d0aef0",
   "metadata": {
    "deletable": false,
    "id": "85d0aef0"
   },
   "source": [
    "**Создадим функцию, которая на основании данных из столбца `purpose` сформирует новый столбец `purpose_category`, в который войдут следующие категории:**\n",
    "\n",
    "- `'операции с автомобилем'`,\n",
    "- `'операции с недвижимостью'`,\n",
    "- `'проведение свадьбы'`,\n",
    "- `'получение образования'`.\n",
    "\n",
    "**Например, если в столбце `purpose` находится подстрока `'на покупку автомобиля'`, то в столбце `purpose_category` должна появиться строка `'операции с автомобилем'`.**\n",
    "\n",
    "**Используем собственную функцию с именем `categorize_purpose()` и метод `apply()`. Изучим данные в столбце `purpose` и определим, какие подстроки помогут нам правильно определить категорию.**"
   ]
  },
  {
   "cell_type": "code",
   "execution_count": 20,
   "id": "e149fab4",
   "metadata": {
    "deletable": false,
    "id": "e149fab4"
   },
   "outputs": [],
   "source": [
    "def categorize_purpose(row):\n",
    "    try:\n",
    "        if 'автом' in row:\n",
    "            return 'операции с автомобилем'\n",
    "        elif 'жил' in row or 'недвиж' in row:\n",
    "            return 'операции с недвижимостью'\n",
    "        elif 'свад' in row:\n",
    "            return 'проведение свадьбы'\n",
    "        elif 'образов' in row:\n",
    "            return 'получение образования'\n",
    "    except:\n",
    "        return 'нет категории'"
   ]
  },
  {
   "cell_type": "code",
   "execution_count": 21,
   "id": "bf36e69b",
   "metadata": {
    "deletable": false,
    "id": "bf36e69b"
   },
   "outputs": [],
   "source": [
    "data['purpose_category'] = data['purpose'].apply(categorize_purpose)"
   ]
  },
  {
   "cell_type": "markdown",
   "id": "09b242bf",
   "metadata": {
    "deletable": false,
    "editable": false,
    "id": "09b242bf"
   },
   "source": [
    "## Исследуйте данные и ответьте на вопросы"
   ]
  },
  {
   "cell_type": "markdown",
   "id": "c5d66278",
   "metadata": {
    "deletable": false,
    "editable": false,
    "id": "c5d66278"
   },
   "source": [
    "**Задание 19. Есть ли зависимость между количеством детей и возвратом кредита в срок?**"
   ]
  },
  {
   "cell_type": "code",
   "execution_count": 22,
   "id": "2cacfc4a",
   "metadata": {
    "id": "2cacfc4a"
   },
   "outputs": [
    {
     "data": {
      "text/plain": [
       "array([1, 0, 3, 2, 4, 5])"
      ]
     },
     "execution_count": 22,
     "metadata": {},
     "output_type": "execute_result"
    }
   ],
   "source": [
    "data['children'].unique() #смотрим, какие есть значения в колонке 'children' "
   ]
  },
  {
   "cell_type": "code",
   "execution_count": 23,
   "id": "a62738f0",
   "metadata": {
    "scrolled": true
   },
   "outputs": [
    {
     "data": {
      "text/html": [
       "<div>\n",
       "<style scoped>\n",
       "    .dataframe tbody tr th:only-of-type {\n",
       "        vertical-align: middle;\n",
       "    }\n",
       "\n",
       "    .dataframe tbody tr th {\n",
       "        vertical-align: top;\n",
       "    }\n",
       "\n",
       "    .dataframe thead tr th {\n",
       "        text-align: left;\n",
       "    }\n",
       "</style>\n",
       "<table border=\"1\" class=\"dataframe\">\n",
       "  <thead>\n",
       "    <tr>\n",
       "      <th></th>\n",
       "      <th>children</th>\n",
       "      <th colspan=\"2\" halign=\"left\">debt</th>\n",
       "      <th>ratio_children_percent</th>\n",
       "    </tr>\n",
       "    <tr>\n",
       "      <th></th>\n",
       "      <th></th>\n",
       "      <th>count</th>\n",
       "      <th>sum</th>\n",
       "      <th></th>\n",
       "    </tr>\n",
       "  </thead>\n",
       "  <tbody>\n",
       "    <tr>\n",
       "      <th>5</th>\n",
       "      <td>5</td>\n",
       "      <td>9</td>\n",
       "      <td>0</td>\n",
       "      <td>0.00</td>\n",
       "    </tr>\n",
       "    <tr>\n",
       "      <th>0</th>\n",
       "      <td>0</td>\n",
       "      <td>14107</td>\n",
       "      <td>1063</td>\n",
       "      <td>7.54</td>\n",
       "    </tr>\n",
       "    <tr>\n",
       "      <th>3</th>\n",
       "      <td>3</td>\n",
       "      <td>330</td>\n",
       "      <td>27</td>\n",
       "      <td>8.18</td>\n",
       "    </tr>\n",
       "    <tr>\n",
       "      <th>1</th>\n",
       "      <td>1</td>\n",
       "      <td>4809</td>\n",
       "      <td>444</td>\n",
       "      <td>9.23</td>\n",
       "    </tr>\n",
       "    <tr>\n",
       "      <th>2</th>\n",
       "      <td>2</td>\n",
       "      <td>2052</td>\n",
       "      <td>194</td>\n",
       "      <td>9.45</td>\n",
       "    </tr>\n",
       "    <tr>\n",
       "      <th>4</th>\n",
       "      <td>4</td>\n",
       "      <td>41</td>\n",
       "      <td>4</td>\n",
       "      <td>9.76</td>\n",
       "    </tr>\n",
       "  </tbody>\n",
       "</table>\n",
       "</div>"
      ],
      "text/plain": [
       "  children   debt       ratio_children_percent\n",
       "            count   sum                       \n",
       "5        5      9     0                   0.00\n",
       "0        0  14107  1063                   7.54\n",
       "3        3    330    27                   8.18\n",
       "1        1   4809   444                   9.23\n",
       "2        2   2052   194                   9.45\n",
       "4        4     41     4                   9.76"
      ]
     },
     "metadata": {},
     "output_type": "display_data"
    }
   ],
   "source": [
    "#агрегация 'children' и 'debt'\n",
    "children_debt_grouped = data.groupby('children', as_index=False).agg({'debt': ['count', 'sum']})\n",
    "#расчет доли должников среди всех людей с детьми или без детей\n",
    "children_debt_grouped['ratio_children_percent'] = children_debt_grouped['debt']['sum'] / children_debt_grouped['debt']['count']\n",
    "#приведение к визуально понятному отражению доли должников\n",
    "children_debt_grouped['ratio_children_percent'] = children_debt_grouped['ratio_children_percent'].multiply(100).round(2)\n",
    "#сортировка от меньшего к большему\n",
    "children_debt_grouped.sort_values('ratio_children_percent', ascending = True, inplace =True)\n",
    "display(children_debt_grouped)"
   ]
  },
  {
   "cell_type": "markdown",
   "id": "3a6b99ec",
   "metadata": {
    "deletable": false,
    "id": "3a6b99ec"
   },
   "source": [
    "**Вывод:** "
   ]
  },
  {
   "cell_type": "markdown",
   "id": "7e3b4749",
   "metadata": {},
   "source": [
    "По значениям в колонке ratio_children_percent можно увидеть, что процент должников без детей незначительно меньше, чем процент должников с детьми, однако среди людей с разным количеством детей нет большой разницы в платежеспособности. Самый низкий процент должников наблюдается у людей с тремя детьми, но такой результат мог появиться из-за нерепрезантивной выборки (всего 330 человек по сравнению с 4809 людей с одним ребенком). \n",
    "\n",
    "Итог: не наблюдается явной зависимости между количеством детей и возвратом кредита в срок, но вероятность возвращения кредита в срок немного выше у бездетных заемщиков."
   ]
  },
  {
   "cell_type": "markdown",
   "id": "97be82ca",
   "metadata": {
    "deletable": false,
    "editable": false,
    "id": "97be82ca"
   },
   "source": [
    "**Задание 20. Есть ли зависимость между семейным положением и возвратом кредита в срок?**"
   ]
  },
  {
   "cell_type": "code",
   "execution_count": 24,
   "id": "dc3f7ee8",
   "metadata": {
    "id": "dc3f7ee8"
   },
   "outputs": [
    {
     "data": {
      "text/plain": [
       "array(['женат / замужем', 'гражданский брак', 'вдовец / вдова',\n",
       "       'в разводе', 'Не женат / не замужем'], dtype=object)"
      ]
     },
     "execution_count": 24,
     "metadata": {},
     "output_type": "execute_result"
    }
   ],
   "source": [
    "data['family_status'].unique() #смотрим, какие есть значения в колонке 'family_status_id' "
   ]
  },
  {
   "cell_type": "code",
   "execution_count": 25,
   "id": "278412da",
   "metadata": {},
   "outputs": [
    {
     "data": {
      "text/html": [
       "<div>\n",
       "<style scoped>\n",
       "    .dataframe tbody tr th:only-of-type {\n",
       "        vertical-align: middle;\n",
       "    }\n",
       "\n",
       "    .dataframe tbody tr th {\n",
       "        vertical-align: top;\n",
       "    }\n",
       "\n",
       "    .dataframe thead tr th {\n",
       "        text-align: left;\n",
       "    }\n",
       "</style>\n",
       "<table border=\"1\" class=\"dataframe\">\n",
       "  <thead>\n",
       "    <tr>\n",
       "      <th></th>\n",
       "      <th>family_status</th>\n",
       "      <th colspan=\"2\" halign=\"left\">debt</th>\n",
       "      <th>ratio_family_status_percent</th>\n",
       "    </tr>\n",
       "    <tr>\n",
       "      <th></th>\n",
       "      <th></th>\n",
       "      <th>count</th>\n",
       "      <th>sum</th>\n",
       "      <th></th>\n",
       "    </tr>\n",
       "  </thead>\n",
       "  <tbody>\n",
       "    <tr>\n",
       "      <th>2</th>\n",
       "      <td>вдовец / вдова</td>\n",
       "      <td>951</td>\n",
       "      <td>63</td>\n",
       "      <td>6.62</td>\n",
       "    </tr>\n",
       "    <tr>\n",
       "      <th>1</th>\n",
       "      <td>в разводе</td>\n",
       "      <td>1189</td>\n",
       "      <td>84</td>\n",
       "      <td>7.06</td>\n",
       "    </tr>\n",
       "    <tr>\n",
       "      <th>4</th>\n",
       "      <td>женат / замужем</td>\n",
       "      <td>12266</td>\n",
       "      <td>927</td>\n",
       "      <td>7.56</td>\n",
       "    </tr>\n",
       "    <tr>\n",
       "      <th>3</th>\n",
       "      <td>гражданский брак</td>\n",
       "      <td>4146</td>\n",
       "      <td>385</td>\n",
       "      <td>9.29</td>\n",
       "    </tr>\n",
       "    <tr>\n",
       "      <th>0</th>\n",
       "      <td>Не женат / не замужем</td>\n",
       "      <td>2796</td>\n",
       "      <td>273</td>\n",
       "      <td>9.76</td>\n",
       "    </tr>\n",
       "  </tbody>\n",
       "</table>\n",
       "</div>"
      ],
      "text/plain": [
       "           family_status   debt      ratio_family_status_percent\n",
       "                          count  sum                            \n",
       "2         вдовец / вдова    951   63                        6.62\n",
       "1              в разводе   1189   84                        7.06\n",
       "4        женат / замужем  12266  927                        7.56\n",
       "3       гражданский брак   4146  385                        9.29\n",
       "0  Не женат / не замужем   2796  273                        9.76"
      ]
     },
     "metadata": {},
     "output_type": "display_data"
    }
   ],
   "source": [
    "family_status_debt_grouped = data.groupby('family_status', as_index = False).agg({'debt': ['count', 'sum']})\n",
    "family_status_debt_grouped['ratio_family_status_percent'] = family_status_debt_grouped['debt']['sum'] / family_status_debt_grouped['debt']['count']\n",
    "family_status_debt_grouped['ratio_family_status_percent'] = family_status_debt_grouped['ratio_family_status_percent'].multiply(100).round(2)\n",
    "family_status_debt_grouped.sort_values('ratio_family_status_percent', ascending = True, inplace = True)\n",
    "display(family_status_debt_grouped)"
   ]
  },
  {
   "cell_type": "markdown",
   "id": "1cef7837",
   "metadata": {
    "deletable": false,
    "id": "1cef7837"
   },
   "source": [
    "**Вывод:** "
   ]
  },
  {
   "cell_type": "markdown",
   "id": "c78f13ac",
   "metadata": {},
   "source": [
    "По значениям в колонке ratio_family_status_percent можно увидеть, что процент должников среди тех, кто не в браке или состоят в неофициальных отношениях выше, чем среди женатых/замужних заемщиков и заемщиков в разводе. Самый низкий процент должников наблюдается среди вдовцов/вдов, но это результат опять же может быть вызван нерепрезентативностью выборки (всего 951 человек). \n",
    "\n",
    "Итог: наблюдается зависимость между семейным положением и возвратом кредита в срок."
   ]
  },
  {
   "cell_type": "markdown",
   "id": "1e8b2fca",
   "metadata": {
    "deletable": false,
    "editable": false,
    "id": "1e8b2fca"
   },
   "source": [
    "**Задание 21. Есть ли зависимость между уровнем дохода и возвратом кредита в срок?**"
   ]
  },
  {
   "cell_type": "code",
   "execution_count": 26,
   "id": "cd7e3720",
   "metadata": {
    "id": "cd7e3720"
   },
   "outputs": [
    {
     "data": {
      "text/html": [
       "<div>\n",
       "<style scoped>\n",
       "    .dataframe tbody tr th:only-of-type {\n",
       "        vertical-align: middle;\n",
       "    }\n",
       "\n",
       "    .dataframe tbody tr th {\n",
       "        vertical-align: top;\n",
       "    }\n",
       "\n",
       "    .dataframe thead tr th {\n",
       "        text-align: left;\n",
       "    }\n",
       "</style>\n",
       "<table border=\"1\" class=\"dataframe\">\n",
       "  <thead>\n",
       "    <tr>\n",
       "      <th></th>\n",
       "      <th>total_income_category</th>\n",
       "      <th colspan=\"2\" halign=\"left\">debt</th>\n",
       "      <th>ratio_total_income_percent</th>\n",
       "    </tr>\n",
       "    <tr>\n",
       "      <th></th>\n",
       "      <th></th>\n",
       "      <th>count</th>\n",
       "      <th>sum</th>\n",
       "      <th></th>\n",
       "    </tr>\n",
       "  </thead>\n",
       "  <tbody>\n",
       "    <tr>\n",
       "      <th>3</th>\n",
       "      <td>D</td>\n",
       "      <td>349</td>\n",
       "      <td>21</td>\n",
       "      <td>6.02</td>\n",
       "    </tr>\n",
       "    <tr>\n",
       "      <th>1</th>\n",
       "      <td>B</td>\n",
       "      <td>5014</td>\n",
       "      <td>354</td>\n",
       "      <td>7.06</td>\n",
       "    </tr>\n",
       "    <tr>\n",
       "      <th>0</th>\n",
       "      <td>A</td>\n",
       "      <td>25</td>\n",
       "      <td>2</td>\n",
       "      <td>8.00</td>\n",
       "    </tr>\n",
       "    <tr>\n",
       "      <th>2</th>\n",
       "      <td>C</td>\n",
       "      <td>15938</td>\n",
       "      <td>1353</td>\n",
       "      <td>8.49</td>\n",
       "    </tr>\n",
       "    <tr>\n",
       "      <th>4</th>\n",
       "      <td>E</td>\n",
       "      <td>22</td>\n",
       "      <td>2</td>\n",
       "      <td>9.09</td>\n",
       "    </tr>\n",
       "  </tbody>\n",
       "</table>\n",
       "</div>"
      ],
      "text/plain": [
       "  total_income_category   debt       ratio_total_income_percent\n",
       "                         count   sum                           \n",
       "3                     D    349    21                       6.02\n",
       "1                     B   5014   354                       7.06\n",
       "0                     A     25     2                       8.00\n",
       "2                     C  15938  1353                       8.49\n",
       "4                     E     22     2                       9.09"
      ]
     },
     "metadata": {},
     "output_type": "display_data"
    }
   ],
   "source": [
    "#Обратимся к колонке 'total_income_category', где ранее были выделены категории по уровню дохода\n",
    "\n",
    "total_income_debt_grouped = data.groupby('total_income_category', as_index = False).agg({'debt': ['count', 'sum']})\n",
    "total_income_debt_grouped['ratio_total_income_percent'] = total_income_debt_grouped['debt']['sum'] / total_income_debt_grouped['debt']['count']\n",
    "total_income_debt_grouped['ratio_total_income_percent'] = total_income_debt_grouped['ratio_total_income_percent'].multiply(100).round(2)\n",
    "total_income_debt_grouped.sort_values('ratio_total_income_percent', ascending = True, inplace = True)\n",
    "display(total_income_debt_grouped)"
   ]
  },
  {
   "cell_type": "code",
   "execution_count": 27,
   "id": "edca43b1",
   "metadata": {},
   "outputs": [
    {
     "name": "stdout",
     "output_type": "stream",
     "text": [
      "0–30000 — 'E'\n",
      "30001–50000 — 'D'\n",
      "50001–200000 — 'C'\n",
      "200001–1000000 — 'B'\n",
      "1000001 и выше — 'A'.\n"
     ]
    }
   ],
   "source": [
    "#Напомним значения групп\n",
    "print(\"0–30000 — 'E'\\n30001–50000 — 'D'\\n50001–200000 — 'C'\\n200001–1000000 — 'B'\\n1000001 и выше — 'A'.\")"
   ]
  },
  {
   "cell_type": "markdown",
   "id": "e8593def",
   "metadata": {
    "deletable": false,
    "id": "e8593def"
   },
   "source": [
    "**Вывод:** "
   ]
  },
  {
   "cell_type": "markdown",
   "id": "def50729",
   "metadata": {},
   "source": [
    "В выборке представлено всего 22 человека из категории Е и 25 человек категории А, и несмотря на то, что, казалось бы, чем выше доход, тем меньше вероятность невозврата кредита в срок, категория А не попала на последнее место, следовательно, на основе данной выборки нельяз сделать вывод о наличии зависимости. Обратимся к категориям, которые содержат больше данных. Мы можем увидеть, что среди заемщиков категории С процент должников выше, чем среди заемщиков категории В, однако категория D демонстрирует наименьший процент должников, хотя это категория людей с не самым высоким достатком. \n",
    "\n",
    "Итог: явной зависимости между уровнем дохода и возвратом кредита в срок в данной выборке не наблюдается, но среди наиболее полно представленных категорий В и С, в категории В процент должников ниже, следовательно, у людей с более высоким достатков больше вероятность возврата кредита в срок, чем с более низким."
   ]
  },
  {
   "cell_type": "markdown",
   "id": "99ecbd1f",
   "metadata": {
    "deletable": false,
    "editable": false,
    "id": "99ecbd1f"
   },
   "source": [
    "**Задание 22. Как разные цели кредита влияют на его возврат в срок?**"
   ]
  },
  {
   "cell_type": "code",
   "execution_count": 28,
   "id": "2b687290",
   "metadata": {
    "id": "2b687290"
   },
   "outputs": [
    {
     "data": {
      "text/html": [
       "<div>\n",
       "<style scoped>\n",
       "    .dataframe tbody tr th:only-of-type {\n",
       "        vertical-align: middle;\n",
       "    }\n",
       "\n",
       "    .dataframe tbody tr th {\n",
       "        vertical-align: top;\n",
       "    }\n",
       "\n",
       "    .dataframe thead tr th {\n",
       "        text-align: left;\n",
       "    }\n",
       "</style>\n",
       "<table border=\"1\" class=\"dataframe\">\n",
       "  <thead>\n",
       "    <tr>\n",
       "      <th></th>\n",
       "      <th>purpose_category</th>\n",
       "      <th colspan=\"2\" halign=\"left\">debt</th>\n",
       "      <th>ratio_purpose_percent</th>\n",
       "    </tr>\n",
       "    <tr>\n",
       "      <th></th>\n",
       "      <th></th>\n",
       "      <th>count</th>\n",
       "      <th>sum</th>\n",
       "      <th></th>\n",
       "    </tr>\n",
       "  </thead>\n",
       "  <tbody>\n",
       "    <tr>\n",
       "      <th>1</th>\n",
       "      <td>операции с недвижимостью</td>\n",
       "      <td>10754</td>\n",
       "      <td>780</td>\n",
       "      <td>7.25</td>\n",
       "    </tr>\n",
       "    <tr>\n",
       "      <th>3</th>\n",
       "      <td>проведение свадьбы</td>\n",
       "      <td>2324</td>\n",
       "      <td>183</td>\n",
       "      <td>7.87</td>\n",
       "    </tr>\n",
       "    <tr>\n",
       "      <th>2</th>\n",
       "      <td>получение образования</td>\n",
       "      <td>3989</td>\n",
       "      <td>369</td>\n",
       "      <td>9.25</td>\n",
       "    </tr>\n",
       "    <tr>\n",
       "      <th>0</th>\n",
       "      <td>операции с автомобилем</td>\n",
       "      <td>4281</td>\n",
       "      <td>400</td>\n",
       "      <td>9.34</td>\n",
       "    </tr>\n",
       "  </tbody>\n",
       "</table>\n",
       "</div>"
      ],
      "text/plain": [
       "           purpose_category   debt      ratio_purpose_percent\n",
       "                             count  sum                      \n",
       "1  операции с недвижимостью  10754  780                  7.25\n",
       "3        проведение свадьбы   2324  183                  7.87\n",
       "2     получение образования   3989  369                  9.25\n",
       "0    операции с автомобилем   4281  400                  9.34"
      ]
     },
     "metadata": {},
     "output_type": "display_data"
    }
   ],
   "source": [
    "#Обратимся к колонке 'purpose_category', где ранее были выделены категории по целям взятия кредита\n",
    "\n",
    "purpose_debt_grouped = data.groupby('purpose_category', as_index = False).agg({'debt': ['count', 'sum']})\n",
    "purpose_debt_grouped['ratio_purpose_percent'] = purpose_debt_grouped['debt']['sum'] / purpose_debt_grouped['debt']['count']\n",
    "purpose_debt_grouped['ratio_purpose_percent'] = purpose_debt_grouped['ratio_purpose_percent'].multiply(100).round(2)\n",
    "purpose_debt_grouped.sort_values('ratio_purpose_percent', ascending = True, inplace = True)\n",
    "display(purpose_debt_grouped)"
   ]
  },
  {
   "cell_type": "markdown",
   "id": "b4bb2ce6",
   "metadata": {
    "deletable": false,
    "id": "b4bb2ce6"
   },
   "source": [
    "**Вывод:** "
   ]
  },
  {
   "cell_type": "markdown",
   "id": "671abd71",
   "metadata": {},
   "source": [
    "По значениям в колонке ratio_purpose_percent можно увидеть, что при займе для операций с автомобилем и получения образования наблюдается наибольший процент должников. Меньше должников наблюдается среди людей, целью кредита которых была операция с недвижимостью и проведение свадьбы."
   ]
  },
  {
   "cell_type": "markdown",
   "id": "09c3ac4c",
   "metadata": {
    "deletable": false,
    "editable": false,
    "id": "09c3ac4c"
   },
   "source": [
    "**Задание 23. Приведите возможные причины появления пропусков в исходных данных.**"
   ]
  },
  {
   "cell_type": "markdown",
   "id": "9da2ceda",
   "metadata": {
    "deletable": false,
    "id": "9da2ceda"
   },
   "source": [
    "*Ответ:* Значения пропущены в колонках days_employed и total_income и их количество совпадает, следовательно, можно предположить, что заемщики у которых нет трудового стажа также и не получают доход, поэтому данные пропущены."
   ]
  },
  {
   "cell_type": "markdown",
   "id": "7b0487d6",
   "metadata": {
    "deletable": false,
    "editable": false,
    "id": "7b0487d6"
   },
   "source": [
    "**Задание 24. Объясните, почему заполнить пропуски медианным значением — лучшее решение для количественных переменных.**"
   ]
  },
  {
   "cell_type": "markdown",
   "id": "7ecf2b8e",
   "metadata": {
    "deletable": false,
    "id": "7ecf2b8e"
   },
   "source": [
    "*Ответ:* В выборке присутствуют выдающиеся значения, поэтому лучше использовать медиану, которая более устойчива к «выбросам», а также можно использовать моду."
   ]
  },
  {
   "cell_type": "markdown",
   "id": "6db5255a",
   "metadata": {
    "deletable": false,
    "editable": false,
    "id": "6db5255a"
   },
   "source": [
    "## Общий вывод."
   ]
  },
  {
   "cell_type": "markdown",
   "id": "bad65432",
   "metadata": {
    "id": "bad65432"
   },
   "source": [
    "При анализе и агрегации данных были сделаны следующие выводы:\n",
    "\n",
    "1. Не наблюдается явной зависимости между количеством детей и возвратом кредита в срок, но вероятность возвращения кредита в срок немного выше у бездетных заемщиков;\n",
    "2. Процент должников среди тех, кто не в браке или состоят в неофициальных отношениях выше, чем среди женатых/замужних заемщиков и заемщиков в разводе. Самый низкий процент должников наблюдается среди вдовцов/вдов;\n",
    "3. Явной зависимости между уровнем дохода и возвратом кредита в срок в данной выборке не наблюдается, однако у людей с более высоким достатков немного больше вероятность возврата кредита в срок, чем с более низким;\n",
    "4. При займе для операций с автомобилем и получения образования наблюдается наибольший процент должников. Меньше должников наблюдается среди людей, целью кредита которых была операция с недвижимостью и проведение свадьбы."
   ]
  }
 ],
 "metadata": {
  "ExecuteTimeLog": [
   {
    "duration": 509,
    "start_time": "2022-07-03T16:45:42.099Z"
   },
   {
    "duration": 25,
    "start_time": "2022-07-03T16:45:42.609Z"
   },
   {
    "duration": 16,
    "start_time": "2022-07-03T16:45:42.635Z"
   },
   {
    "duration": 10,
    "start_time": "2022-07-03T16:45:42.654Z"
   },
   {
    "duration": 60,
    "start_time": "2022-07-03T16:45:42.666Z"
   },
   {
    "duration": 4,
    "start_time": "2022-07-03T16:45:42.729Z"
   },
   {
    "duration": 29,
    "start_time": "2022-07-03T16:45:42.735Z"
   },
   {
    "duration": 5,
    "start_time": "2022-07-03T16:45:42.767Z"
   },
   {
    "duration": 15,
    "start_time": "2022-07-03T16:45:42.774Z"
   },
   {
    "duration": 6,
    "start_time": "2022-07-03T16:45:42.792Z"
   },
   {
    "duration": 61,
    "start_time": "2022-07-03T16:45:42.801Z"
   },
   {
    "duration": 16,
    "start_time": "2022-07-03T16:45:42.864Z"
   },
   {
    "duration": 7,
    "start_time": "2022-07-03T16:45:42.883Z"
   },
   {
    "duration": 50,
    "start_time": "2022-07-03T16:45:42.893Z"
   },
   {
    "duration": 20,
    "start_time": "2022-07-03T16:45:42.945Z"
   },
   {
    "duration": 20,
    "start_time": "2022-07-03T16:45:42.967Z"
   },
   {
    "duration": 11,
    "start_time": "2022-07-03T16:45:42.990Z"
   },
   {
    "duration": 57,
    "start_time": "2022-07-03T16:45:43.003Z"
   },
   {
    "duration": 12,
    "start_time": "2022-07-03T16:45:43.063Z"
   },
   {
    "duration": 7,
    "start_time": "2022-07-03T16:45:43.077Z"
   },
   {
    "duration": 14,
    "start_time": "2022-07-03T16:45:43.086Z"
   },
   {
    "duration": 7,
    "start_time": "2022-07-03T16:45:43.101Z"
   },
   {
    "duration": 8,
    "start_time": "2022-07-03T16:45:43.110Z"
   },
   {
    "duration": 4,
    "start_time": "2022-07-03T16:45:43.125Z"
   },
   {
    "duration": 5,
    "start_time": "2022-07-03T16:45:43.131Z"
   },
   {
    "duration": 45,
    "start_time": "2022-07-04T16:44:25.052Z"
   },
   {
    "duration": 450,
    "start_time": "2022-07-04T16:44:42.384Z"
   },
   {
    "duration": 21,
    "start_time": "2022-07-04T16:44:42.836Z"
   },
   {
    "duration": 13,
    "start_time": "2022-07-04T16:44:42.858Z"
   },
   {
    "duration": 8,
    "start_time": "2022-07-04T16:44:42.873Z"
   },
   {
    "duration": 31,
    "start_time": "2022-07-04T16:44:42.882Z"
   },
   {
    "duration": 3,
    "start_time": "2022-07-04T16:44:42.915Z"
   },
   {
    "duration": 30,
    "start_time": "2022-07-04T16:44:42.919Z"
   },
   {
    "duration": 4,
    "start_time": "2022-07-04T16:44:42.950Z"
   },
   {
    "duration": 7,
    "start_time": "2022-07-04T16:44:42.956Z"
   },
   {
    "duration": 5,
    "start_time": "2022-07-04T16:44:42.966Z"
   },
   {
    "duration": 32,
    "start_time": "2022-07-04T16:44:42.972Z"
   },
   {
    "duration": 37,
    "start_time": "2022-07-04T16:44:43.006Z"
   },
   {
    "duration": 4,
    "start_time": "2022-07-04T16:44:43.044Z"
   },
   {
    "duration": 19,
    "start_time": "2022-07-04T16:44:43.049Z"
   },
   {
    "duration": 15,
    "start_time": "2022-07-04T16:44:43.069Z"
   },
   {
    "duration": 10,
    "start_time": "2022-07-04T16:44:43.085Z"
   },
   {
    "duration": 5,
    "start_time": "2022-07-04T16:44:43.097Z"
   },
   {
    "duration": 11,
    "start_time": "2022-07-04T16:44:43.104Z"
   },
   {
    "duration": 27,
    "start_time": "2022-07-04T16:44:43.116Z"
   },
   {
    "duration": 6,
    "start_time": "2022-07-04T16:44:43.145Z"
   },
   {
    "duration": 11,
    "start_time": "2022-07-04T16:44:43.153Z"
   },
   {
    "duration": 6,
    "start_time": "2022-07-04T16:44:43.166Z"
   },
   {
    "duration": 4,
    "start_time": "2022-07-04T16:48:54.358Z"
   },
   {
    "duration": 6,
    "start_time": "2022-07-04T16:49:06.422Z"
   },
   {
    "duration": 7,
    "start_time": "2022-07-04T16:54:17.346Z"
   },
   {
    "duration": 12,
    "start_time": "2022-07-04T16:54:38.257Z"
   },
   {
    "duration": 15,
    "start_time": "2022-07-04T16:55:08.610Z"
   },
   {
    "duration": 8,
    "start_time": "2022-07-04T16:55:17.594Z"
   },
   {
    "duration": 9,
    "start_time": "2022-07-04T16:56:00.546Z"
   },
   {
    "duration": 4,
    "start_time": "2022-07-04T16:56:08.226Z"
   },
   {
    "duration": 6,
    "start_time": "2022-07-04T16:56:10.492Z"
   },
   {
    "duration": 5,
    "start_time": "2022-07-04T16:56:17.692Z"
   },
   {
    "duration": 7,
    "start_time": "2022-07-04T16:57:11.866Z"
   },
   {
    "duration": 6,
    "start_time": "2022-07-04T16:57:28.100Z"
   },
   {
    "duration": 4,
    "start_time": "2022-07-04T16:59:17.820Z"
   },
   {
    "duration": 4,
    "start_time": "2022-07-04T16:59:27.956Z"
   },
   {
    "duration": 53,
    "start_time": "2022-07-04T17:00:22.441Z"
   },
   {
    "duration": 13,
    "start_time": "2022-07-04T17:00:22.496Z"
   },
   {
    "duration": 17,
    "start_time": "2022-07-04T17:00:22.511Z"
   },
   {
    "duration": 14,
    "start_time": "2022-07-04T17:00:22.529Z"
   },
   {
    "duration": 29,
    "start_time": "2022-07-04T17:00:22.546Z"
   },
   {
    "duration": 3,
    "start_time": "2022-07-04T17:00:22.576Z"
   },
   {
    "duration": 10,
    "start_time": "2022-07-04T17:00:22.580Z"
   },
   {
    "duration": 3,
    "start_time": "2022-07-04T17:00:22.592Z"
   },
   {
    "duration": 8,
    "start_time": "2022-07-04T17:00:22.597Z"
   },
   {
    "duration": 5,
    "start_time": "2022-07-04T17:00:22.607Z"
   },
   {
    "duration": 55,
    "start_time": "2022-07-04T17:00:22.614Z"
   },
   {
    "duration": 9,
    "start_time": "2022-07-04T17:00:22.672Z"
   },
   {
    "duration": 4,
    "start_time": "2022-07-04T17:00:22.682Z"
   },
   {
    "duration": 20,
    "start_time": "2022-07-04T17:00:22.688Z"
   },
   {
    "duration": 33,
    "start_time": "2022-07-04T17:00:22.709Z"
   },
   {
    "duration": 10,
    "start_time": "2022-07-04T17:00:22.744Z"
   },
   {
    "duration": 8,
    "start_time": "2022-07-04T17:00:22.755Z"
   },
   {
    "duration": 18,
    "start_time": "2022-07-04T17:00:22.764Z"
   },
   {
    "duration": 9,
    "start_time": "2022-07-04T17:00:22.784Z"
   },
   {
    "duration": 9,
    "start_time": "2022-07-04T17:00:22.794Z"
   },
   {
    "duration": 12,
    "start_time": "2022-07-04T17:00:22.804Z"
   },
   {
    "duration": 12,
    "start_time": "2022-07-04T17:01:53.697Z"
   },
   {
    "duration": 14,
    "start_time": "2022-07-04T17:02:15.814Z"
   },
   {
    "duration": 5,
    "start_time": "2022-07-04T17:02:52.054Z"
   },
   {
    "duration": 4,
    "start_time": "2022-07-04T17:03:28.902Z"
   },
   {
    "duration": 4,
    "start_time": "2022-07-04T17:03:40.040Z"
   },
   {
    "duration": 6,
    "start_time": "2022-07-04T17:04:56.527Z"
   },
   {
    "duration": 6,
    "start_time": "2022-07-04T17:06:52.072Z"
   },
   {
    "duration": 55,
    "start_time": "2022-07-04T17:07:00.780Z"
   },
   {
    "duration": 14,
    "start_time": "2022-07-04T17:07:00.837Z"
   },
   {
    "duration": 26,
    "start_time": "2022-07-04T17:07:00.853Z"
   },
   {
    "duration": 16,
    "start_time": "2022-07-04T17:07:00.881Z"
   },
   {
    "duration": 33,
    "start_time": "2022-07-04T17:07:00.898Z"
   },
   {
    "duration": 2,
    "start_time": "2022-07-04T17:07:00.933Z"
   },
   {
    "duration": 20,
    "start_time": "2022-07-04T17:07:00.937Z"
   },
   {
    "duration": 9,
    "start_time": "2022-07-04T17:07:00.959Z"
   },
   {
    "duration": 20,
    "start_time": "2022-07-04T17:07:00.970Z"
   },
   {
    "duration": 8,
    "start_time": "2022-07-04T17:07:00.993Z"
   },
   {
    "duration": 41,
    "start_time": "2022-07-04T17:07:01.003Z"
   },
   {
    "duration": 8,
    "start_time": "2022-07-04T17:07:01.045Z"
   },
   {
    "duration": 10,
    "start_time": "2022-07-04T17:07:01.055Z"
   },
   {
    "duration": 29,
    "start_time": "2022-07-04T17:07:01.066Z"
   },
   {
    "duration": 18,
    "start_time": "2022-07-04T17:07:01.097Z"
   },
   {
    "duration": 11,
    "start_time": "2022-07-04T17:07:01.117Z"
   },
   {
    "duration": 20,
    "start_time": "2022-07-04T17:07:01.130Z"
   },
   {
    "duration": 25,
    "start_time": "2022-07-04T17:07:01.152Z"
   },
   {
    "duration": 28,
    "start_time": "2022-07-04T17:07:01.179Z"
   },
   {
    "duration": 12,
    "start_time": "2022-07-04T17:07:01.209Z"
   },
   {
    "duration": 16,
    "start_time": "2022-07-04T17:07:01.222Z"
   },
   {
    "duration": 12,
    "start_time": "2022-07-04T17:07:01.240Z"
   },
   {
    "duration": 5,
    "start_time": "2022-07-04T17:07:39.163Z"
   },
   {
    "duration": 5,
    "start_time": "2022-07-04T17:07:47.201Z"
   },
   {
    "duration": 5,
    "start_time": "2022-07-04T17:08:04.105Z"
   },
   {
    "duration": 52,
    "start_time": "2022-07-04T17:08:37.750Z"
   },
   {
    "duration": 14,
    "start_time": "2022-07-04T17:08:37.803Z"
   },
   {
    "duration": 31,
    "start_time": "2022-07-04T17:08:37.818Z"
   },
   {
    "duration": 18,
    "start_time": "2022-07-04T17:08:37.851Z"
   },
   {
    "duration": 33,
    "start_time": "2022-07-04T17:08:37.871Z"
   },
   {
    "duration": 3,
    "start_time": "2022-07-04T17:08:37.906Z"
   },
   {
    "duration": 26,
    "start_time": "2022-07-04T17:08:37.910Z"
   },
   {
    "duration": 15,
    "start_time": "2022-07-04T17:08:37.937Z"
   },
   {
    "duration": 21,
    "start_time": "2022-07-04T17:08:37.953Z"
   },
   {
    "duration": 7,
    "start_time": "2022-07-04T17:08:37.977Z"
   },
   {
    "duration": 36,
    "start_time": "2022-07-04T17:08:37.985Z"
   },
   {
    "duration": 9,
    "start_time": "2022-07-04T17:08:38.022Z"
   },
   {
    "duration": 3,
    "start_time": "2022-07-04T17:08:38.033Z"
   },
   {
    "duration": 20,
    "start_time": "2022-07-04T17:08:38.037Z"
   },
   {
    "duration": 15,
    "start_time": "2022-07-04T17:08:38.058Z"
   },
   {
    "duration": 9,
    "start_time": "2022-07-04T17:08:38.075Z"
   },
   {
    "duration": 14,
    "start_time": "2022-07-04T17:08:38.085Z"
   },
   {
    "duration": 12,
    "start_time": "2022-07-04T17:08:38.100Z"
   },
   {
    "duration": 5,
    "start_time": "2022-07-04T17:08:38.114Z"
   },
   {
    "duration": 3,
    "start_time": "2022-07-04T17:08:38.120Z"
   },
   {
    "duration": 21,
    "start_time": "2022-07-04T17:08:38.124Z"
   },
   {
    "duration": 7,
    "start_time": "2022-07-04T17:08:40.698Z"
   },
   {
    "duration": 13,
    "start_time": "2022-07-04T17:09:18.326Z"
   },
   {
    "duration": 12,
    "start_time": "2022-07-04T17:09:46.595Z"
   },
   {
    "duration": 484,
    "start_time": "2022-07-04T17:09:53.669Z"
   },
   {
    "duration": 11,
    "start_time": "2022-07-04T17:09:59.692Z"
   },
   {
    "duration": 59,
    "start_time": "2022-07-04T17:11:06.200Z"
   },
   {
    "duration": 12,
    "start_time": "2022-07-04T17:11:48.647Z"
   },
   {
    "duration": 15,
    "start_time": "2022-07-04T17:12:13.572Z"
   },
   {
    "duration": 11,
    "start_time": "2022-07-04T17:15:18.968Z"
   },
   {
    "duration": 5,
    "start_time": "2022-07-04T17:15:26.152Z"
   },
   {
    "duration": 10,
    "start_time": "2022-07-04T17:22:54.405Z"
   },
   {
    "duration": 8,
    "start_time": "2022-07-04T17:23:06.307Z"
   },
   {
    "duration": 10,
    "start_time": "2022-07-04T17:23:31.548Z"
   },
   {
    "duration": 13,
    "start_time": "2022-07-04T17:25:04.997Z"
   },
   {
    "duration": 13,
    "start_time": "2022-07-04T17:26:26.911Z"
   },
   {
    "duration": 10,
    "start_time": "2022-07-04T17:26:42.126Z"
   },
   {
    "duration": 4,
    "start_time": "2022-07-04T17:27:16.294Z"
   },
   {
    "duration": 8,
    "start_time": "2022-07-04T17:33:08.942Z"
   },
   {
    "duration": 10,
    "start_time": "2022-07-04T17:34:14.932Z"
   },
   {
    "duration": 10,
    "start_time": "2022-07-04T17:34:27.428Z"
   },
   {
    "duration": 1069,
    "start_time": "2022-07-04T17:38:55.134Z"
   },
   {
    "duration": 7,
    "start_time": "2022-07-04T17:40:25.238Z"
   },
   {
    "duration": 1196,
    "start_time": "2022-07-04T17:52:35.452Z"
   },
   {
    "duration": 15,
    "start_time": "2022-07-04T17:52:51.501Z"
   },
   {
    "duration": 953,
    "start_time": "2022-07-04T17:53:38.251Z"
   },
   {
    "duration": 8,
    "start_time": "2022-07-04T18:08:36.652Z"
   },
   {
    "duration": 47,
    "start_time": "2022-07-05T13:54:04.768Z"
   },
   {
    "duration": 513,
    "start_time": "2022-07-05T13:54:16.969Z"
   },
   {
    "duration": 25,
    "start_time": "2022-07-05T13:54:17.484Z"
   },
   {
    "duration": 14,
    "start_time": "2022-07-05T13:54:17.511Z"
   },
   {
    "duration": 8,
    "start_time": "2022-07-05T13:54:17.527Z"
   },
   {
    "duration": 37,
    "start_time": "2022-07-05T13:54:17.537Z"
   },
   {
    "duration": 24,
    "start_time": "2022-07-05T13:54:17.577Z"
   },
   {
    "duration": 14,
    "start_time": "2022-07-05T13:54:17.603Z"
   },
   {
    "duration": 4,
    "start_time": "2022-07-05T13:54:17.619Z"
   },
   {
    "duration": 14,
    "start_time": "2022-07-05T13:54:17.624Z"
   },
   {
    "duration": 6,
    "start_time": "2022-07-05T13:54:17.641Z"
   },
   {
    "duration": 53,
    "start_time": "2022-07-05T13:54:17.649Z"
   },
   {
    "duration": 10,
    "start_time": "2022-07-05T13:54:17.703Z"
   },
   {
    "duration": 9,
    "start_time": "2022-07-05T13:54:17.715Z"
   },
   {
    "duration": 20,
    "start_time": "2022-07-05T13:54:17.725Z"
   },
   {
    "duration": 16,
    "start_time": "2022-07-05T13:54:17.747Z"
   },
   {
    "duration": 10,
    "start_time": "2022-07-05T13:54:17.764Z"
   },
   {
    "duration": 26,
    "start_time": "2022-07-05T13:54:17.776Z"
   },
   {
    "duration": 21,
    "start_time": "2022-07-05T13:54:17.804Z"
   },
   {
    "duration": 6,
    "start_time": "2022-07-05T13:54:17.827Z"
   },
   {
    "duration": 8,
    "start_time": "2022-07-05T13:54:17.835Z"
   },
   {
    "duration": 15,
    "start_time": "2022-07-05T13:54:17.845Z"
   },
   {
    "duration": 9,
    "start_time": "2022-07-05T13:54:17.861Z"
   },
   {
    "duration": 2,
    "start_time": "2022-07-05T13:54:17.872Z"
   },
   {
    "duration": 6,
    "start_time": "2022-07-05T13:54:17.875Z"
   },
   {
    "duration": 3,
    "start_time": "2022-07-05T13:54:17.901Z"
   },
   {
    "duration": 8,
    "start_time": "2022-07-05T13:55:22.486Z"
   },
   {
    "duration": 9,
    "start_time": "2022-07-05T13:55:25.266Z"
   },
   {
    "duration": 83,
    "start_time": "2022-07-05T14:02:37.705Z"
   },
   {
    "duration": 9,
    "start_time": "2022-07-05T14:02:55.660Z"
   },
   {
    "duration": 731,
    "start_time": "2022-07-05T14:09:58.989Z"
   },
   {
    "duration": 12,
    "start_time": "2022-07-05T14:11:01.207Z"
   },
   {
    "duration": 14,
    "start_time": "2022-07-05T14:13:54.920Z"
   },
   {
    "duration": 11,
    "start_time": "2022-07-05T14:14:52.825Z"
   },
   {
    "duration": 15,
    "start_time": "2022-07-05T14:17:06.488Z"
   },
   {
    "duration": 16,
    "start_time": "2022-07-05T14:17:15.571Z"
   },
   {
    "duration": 62,
    "start_time": "2022-07-05T14:18:32.885Z"
   },
   {
    "duration": 16,
    "start_time": "2022-07-05T14:18:32.949Z"
   },
   {
    "duration": 23,
    "start_time": "2022-07-05T14:18:32.967Z"
   },
   {
    "duration": 12,
    "start_time": "2022-07-05T14:18:32.993Z"
   },
   {
    "duration": 35,
    "start_time": "2022-07-05T14:18:33.007Z"
   },
   {
    "duration": 3,
    "start_time": "2022-07-05T14:18:33.044Z"
   },
   {
    "duration": 18,
    "start_time": "2022-07-05T14:18:33.049Z"
   },
   {
    "duration": 34,
    "start_time": "2022-07-05T14:18:33.069Z"
   },
   {
    "duration": 11,
    "start_time": "2022-07-05T14:18:33.105Z"
   },
   {
    "duration": 6,
    "start_time": "2022-07-05T14:18:33.119Z"
   },
   {
    "duration": 38,
    "start_time": "2022-07-05T14:18:33.127Z"
   },
   {
    "duration": 10,
    "start_time": "2022-07-05T14:18:33.167Z"
   },
   {
    "duration": 22,
    "start_time": "2022-07-05T14:18:33.179Z"
   },
   {
    "duration": 21,
    "start_time": "2022-07-05T14:18:33.203Z"
   },
   {
    "duration": 18,
    "start_time": "2022-07-05T14:18:33.226Z"
   },
   {
    "duration": 12,
    "start_time": "2022-07-05T14:18:33.246Z"
   },
   {
    "duration": 9,
    "start_time": "2022-07-05T14:18:33.259Z"
   },
   {
    "duration": 32,
    "start_time": "2022-07-05T14:18:33.269Z"
   },
   {
    "duration": 21,
    "start_time": "2022-07-05T14:18:33.303Z"
   },
   {
    "duration": 11,
    "start_time": "2022-07-05T14:18:33.326Z"
   },
   {
    "duration": 14,
    "start_time": "2022-07-05T14:18:33.338Z"
   },
   {
    "duration": 15,
    "start_time": "2022-07-05T14:18:37.265Z"
   },
   {
    "duration": 450,
    "start_time": "2022-07-05T14:20:17.522Z"
   },
   {
    "duration": 16,
    "start_time": "2022-07-05T14:20:30.641Z"
   },
   {
    "duration": 24,
    "start_time": "2022-07-05T14:20:44.548Z"
   },
   {
    "duration": 14,
    "start_time": "2022-07-05T14:20:48.403Z"
   },
   {
    "duration": 16,
    "start_time": "2022-07-05T14:21:01.737Z"
   },
   {
    "duration": 56,
    "start_time": "2022-07-05T14:21:49.738Z"
   },
   {
    "duration": 753,
    "start_time": "2022-07-05T14:21:58.224Z"
   },
   {
    "duration": 760,
    "start_time": "2022-07-05T14:23:17.508Z"
   },
   {
    "duration": 27,
    "start_time": "2022-07-05T14:23:29.189Z"
   },
   {
    "duration": 25,
    "start_time": "2022-07-05T14:24:13.108Z"
   },
   {
    "duration": 15,
    "start_time": "2022-07-05T14:38:34.701Z"
   },
   {
    "duration": 22,
    "start_time": "2022-07-05T14:39:03.184Z"
   },
   {
    "duration": 18,
    "start_time": "2022-07-05T14:39:14.076Z"
   },
   {
    "duration": 29,
    "start_time": "2022-07-05T14:39:48.829Z"
   },
   {
    "duration": 15,
    "start_time": "2022-07-05T14:47:43.474Z"
   },
   {
    "duration": 19,
    "start_time": "2022-07-05T14:48:01.153Z"
   },
   {
    "duration": 24,
    "start_time": "2022-07-05T14:50:42.938Z"
   },
   {
    "duration": 17,
    "start_time": "2022-07-05T14:53:30.404Z"
   },
   {
    "duration": 20,
    "start_time": "2022-07-05T14:54:18.869Z"
   },
   {
    "duration": 18,
    "start_time": "2022-07-05T14:54:33.332Z"
   },
   {
    "duration": 22,
    "start_time": "2022-07-05T14:54:41.469Z"
   },
   {
    "duration": 22,
    "start_time": "2022-07-05T14:57:27.830Z"
   },
   {
    "duration": 21,
    "start_time": "2022-07-05T15:16:24.761Z"
   },
   {
    "duration": 21,
    "start_time": "2022-07-05T15:19:28.234Z"
   },
   {
    "duration": 32,
    "start_time": "2022-07-05T15:20:15.299Z"
   },
   {
    "duration": 9,
    "start_time": "2022-07-05T15:20:26.188Z"
   },
   {
    "duration": 21,
    "start_time": "2022-07-05T15:20:32.572Z"
   },
   {
    "duration": 4,
    "start_time": "2022-07-05T15:20:58.413Z"
   },
   {
    "duration": 20,
    "start_time": "2022-07-05T15:21:36.160Z"
   },
   {
    "duration": 5,
    "start_time": "2022-07-05T15:22:17.780Z"
   },
   {
    "duration": 19,
    "start_time": "2022-07-05T15:23:05.742Z"
   },
   {
    "duration": 5,
    "start_time": "2022-07-05T15:25:09.045Z"
   },
   {
    "duration": 22,
    "start_time": "2022-07-05T15:25:21.926Z"
   },
   {
    "duration": 6,
    "start_time": "2022-07-05T15:32:38.979Z"
   },
   {
    "duration": 24,
    "start_time": "2022-07-05T15:34:13.178Z"
   },
   {
    "duration": 22,
    "start_time": "2022-07-05T15:46:42.389Z"
   },
   {
    "duration": 2,
    "start_time": "2022-07-05T15:47:00.529Z"
   },
   {
    "duration": 47,
    "start_time": "2022-07-05T15:47:43.995Z"
   },
   {
    "duration": 61,
    "start_time": "2022-07-05T15:47:56.295Z"
   },
   {
    "duration": 53,
    "start_time": "2022-07-05T15:48:17.109Z"
   },
   {
    "duration": 56,
    "start_time": "2022-07-05T15:48:30.510Z"
   },
   {
    "duration": 3,
    "start_time": "2022-07-05T15:48:45.579Z"
   },
   {
    "duration": 4,
    "start_time": "2022-07-05T15:49:10.587Z"
   },
   {
    "duration": 3,
    "start_time": "2022-07-05T15:49:19.194Z"
   },
   {
    "duration": 3,
    "start_time": "2022-07-05T15:50:17.093Z"
   },
   {
    "duration": 62,
    "start_time": "2022-07-05T15:59:25.217Z"
   },
   {
    "duration": 17,
    "start_time": "2022-07-05T16:00:10.538Z"
   },
   {
    "duration": 24,
    "start_time": "2022-07-05T16:15:51.402Z"
   },
   {
    "duration": 463,
    "start_time": "2022-07-05T16:42:50.691Z"
   },
   {
    "duration": 21,
    "start_time": "2022-07-05T16:42:51.157Z"
   },
   {
    "duration": 15,
    "start_time": "2022-07-05T16:42:51.179Z"
   },
   {
    "duration": 10,
    "start_time": "2022-07-05T16:42:51.200Z"
   },
   {
    "duration": 36,
    "start_time": "2022-07-05T16:42:51.211Z"
   },
   {
    "duration": 3,
    "start_time": "2022-07-05T16:42:51.249Z"
   },
   {
    "duration": 13,
    "start_time": "2022-07-05T16:42:51.253Z"
   },
   {
    "duration": 6,
    "start_time": "2022-07-05T16:42:51.267Z"
   },
   {
    "duration": 10,
    "start_time": "2022-07-05T16:42:51.274Z"
   },
   {
    "duration": 4,
    "start_time": "2022-07-05T16:42:51.301Z"
   },
   {
    "duration": 38,
    "start_time": "2022-07-05T16:42:51.306Z"
   },
   {
    "duration": 8,
    "start_time": "2022-07-05T16:42:51.346Z"
   },
   {
    "duration": 4,
    "start_time": "2022-07-05T16:42:51.356Z"
   },
   {
    "duration": 23,
    "start_time": "2022-07-05T16:42:51.361Z"
   },
   {
    "duration": 29,
    "start_time": "2022-07-05T16:42:51.385Z"
   },
   {
    "duration": 9,
    "start_time": "2022-07-05T16:42:51.416Z"
   },
   {
    "duration": 17,
    "start_time": "2022-07-05T16:42:51.427Z"
   },
   {
    "duration": 20,
    "start_time": "2022-07-05T16:42:51.445Z"
   },
   {
    "duration": 8,
    "start_time": "2022-07-05T16:42:51.467Z"
   },
   {
    "duration": 6,
    "start_time": "2022-07-05T16:42:51.476Z"
   },
   {
    "duration": 25,
    "start_time": "2022-07-05T16:42:51.484Z"
   },
   {
    "duration": 14,
    "start_time": "2022-07-05T16:42:51.511Z"
   },
   {
    "duration": 30,
    "start_time": "2022-07-05T16:42:51.527Z"
   },
   {
    "duration": 6,
    "start_time": "2022-07-05T16:42:51.558Z"
   },
   {
    "duration": 32,
    "start_time": "2022-07-05T16:42:51.566Z"
   },
   {
    "duration": 22,
    "start_time": "2022-07-05T16:42:51.600Z"
   },
   {
    "duration": 3,
    "start_time": "2022-07-05T16:42:51.624Z"
   },
   {
    "duration": 25,
    "start_time": "2022-07-05T16:42:51.631Z"
   },
   {
    "duration": 4,
    "start_time": "2022-07-05T16:43:43.673Z"
   },
   {
    "duration": 500,
    "start_time": "2022-07-06T07:31:36.074Z"
   },
   {
    "duration": 35,
    "start_time": "2022-07-06T07:31:36.576Z"
   },
   {
    "duration": 18,
    "start_time": "2022-07-06T07:31:36.613Z"
   },
   {
    "duration": 9,
    "start_time": "2022-07-06T07:31:36.633Z"
   },
   {
    "duration": 35,
    "start_time": "2022-07-06T07:31:36.643Z"
   },
   {
    "duration": 4,
    "start_time": "2022-07-06T07:31:36.680Z"
   },
   {
    "duration": 30,
    "start_time": "2022-07-06T07:31:36.685Z"
   },
   {
    "duration": 7,
    "start_time": "2022-07-06T07:31:36.718Z"
   },
   {
    "duration": 7,
    "start_time": "2022-07-06T07:31:36.727Z"
   },
   {
    "duration": 13,
    "start_time": "2022-07-06T07:31:36.738Z"
   },
   {
    "duration": 39,
    "start_time": "2022-07-06T07:31:36.753Z"
   },
   {
    "duration": 21,
    "start_time": "2022-07-06T07:31:36.795Z"
   },
   {
    "duration": 11,
    "start_time": "2022-07-06T07:31:36.820Z"
   },
   {
    "duration": 38,
    "start_time": "2022-07-06T07:31:36.833Z"
   },
   {
    "duration": 21,
    "start_time": "2022-07-06T07:31:36.872Z"
   },
   {
    "duration": 22,
    "start_time": "2022-07-06T07:31:36.895Z"
   },
   {
    "duration": 8,
    "start_time": "2022-07-06T07:31:36.919Z"
   },
   {
    "duration": 24,
    "start_time": "2022-07-06T07:31:36.928Z"
   },
   {
    "duration": 9,
    "start_time": "2022-07-06T07:31:36.953Z"
   },
   {
    "duration": 5,
    "start_time": "2022-07-06T07:31:36.964Z"
   },
   {
    "duration": 16,
    "start_time": "2022-07-06T07:31:36.970Z"
   },
   {
    "duration": 8,
    "start_time": "2022-07-06T07:31:36.988Z"
   },
   {
    "duration": 55,
    "start_time": "2022-07-06T07:31:36.997Z"
   },
   {
    "duration": 5,
    "start_time": "2022-07-06T07:31:37.054Z"
   },
   {
    "duration": 37,
    "start_time": "2022-07-06T07:31:37.060Z"
   },
   {
    "duration": 36,
    "start_time": "2022-07-06T07:31:37.099Z"
   },
   {
    "duration": 10,
    "start_time": "2022-07-06T07:31:37.137Z"
   },
   {
    "duration": 37,
    "start_time": "2022-07-06T07:31:37.150Z"
   },
   {
    "duration": 49,
    "start_time": "2022-07-06T14:51:34.978Z"
   },
   {
    "duration": 756,
    "start_time": "2022-07-06T14:51:42.603Z"
   },
   {
    "duration": 26,
    "start_time": "2022-07-06T14:51:43.362Z"
   },
   {
    "duration": 16,
    "start_time": "2022-07-06T14:51:43.390Z"
   },
   {
    "duration": 9,
    "start_time": "2022-07-06T14:51:43.409Z"
   },
   {
    "duration": 35,
    "start_time": "2022-07-06T14:51:43.420Z"
   },
   {
    "duration": 3,
    "start_time": "2022-07-06T14:51:43.457Z"
   },
   {
    "duration": 15,
    "start_time": "2022-07-06T14:51:43.462Z"
   },
   {
    "duration": 27,
    "start_time": "2022-07-06T14:51:43.478Z"
   },
   {
    "duration": 11,
    "start_time": "2022-07-06T14:51:43.507Z"
   },
   {
    "duration": 6,
    "start_time": "2022-07-06T14:51:43.522Z"
   },
   {
    "duration": 38,
    "start_time": "2022-07-06T14:51:43.530Z"
   },
   {
    "duration": 10,
    "start_time": "2022-07-06T14:51:43.570Z"
   },
   {
    "duration": 5,
    "start_time": "2022-07-06T14:51:43.605Z"
   },
   {
    "duration": 27,
    "start_time": "2022-07-06T14:51:43.612Z"
   },
   {
    "duration": 16,
    "start_time": "2022-07-06T14:51:43.640Z"
   },
   {
    "duration": 11,
    "start_time": "2022-07-06T14:51:43.658Z"
   },
   {
    "duration": 12,
    "start_time": "2022-07-06T14:51:43.670Z"
   },
   {
    "duration": 37,
    "start_time": "2022-07-06T14:51:43.683Z"
   },
   {
    "duration": 6,
    "start_time": "2022-07-06T14:51:43.723Z"
   },
   {
    "duration": 9,
    "start_time": "2022-07-06T14:51:43.731Z"
   },
   {
    "duration": 30,
    "start_time": "2022-07-06T14:51:43.742Z"
   },
   {
    "duration": 9,
    "start_time": "2022-07-06T14:51:43.774Z"
   },
   {
    "duration": 30,
    "start_time": "2022-07-06T14:51:43.785Z"
   },
   {
    "duration": 32,
    "start_time": "2022-07-06T14:51:43.816Z"
   },
   {
    "duration": 0,
    "start_time": "2022-07-06T14:51:43.850Z"
   },
   {
    "duration": 0,
    "start_time": "2022-07-06T14:51:43.851Z"
   },
   {
    "duration": 0,
    "start_time": "2022-07-06T14:51:43.853Z"
   },
   {
    "duration": 0,
    "start_time": "2022-07-06T14:51:43.854Z"
   },
   {
    "duration": 0,
    "start_time": "2022-07-06T14:51:43.855Z"
   },
   {
    "duration": 15,
    "start_time": "2022-07-06T14:54:48.902Z"
   },
   {
    "duration": 31,
    "start_time": "2022-07-06T14:55:00.257Z"
   },
   {
    "duration": 85,
    "start_time": "2022-07-06T14:55:44.921Z"
   },
   {
    "duration": 15,
    "start_time": "2022-07-06T14:55:58.058Z"
   },
   {
    "duration": 20,
    "start_time": "2022-07-06T15:01:32.875Z"
   },
   {
    "duration": 21,
    "start_time": "2022-07-06T15:01:58.619Z"
   },
   {
    "duration": 88,
    "start_time": "2022-07-06T15:02:10.001Z"
   },
   {
    "duration": 111,
    "start_time": "2022-07-06T15:02:18.452Z"
   },
   {
    "duration": 23,
    "start_time": "2022-07-06T15:02:38.495Z"
   },
   {
    "duration": 94,
    "start_time": "2022-07-06T15:05:14.675Z"
   },
   {
    "duration": 15,
    "start_time": "2022-07-06T15:09:22.263Z"
   },
   {
    "duration": 17,
    "start_time": "2022-07-06T15:09:41.629Z"
   },
   {
    "duration": 71,
    "start_time": "2022-07-06T15:09:43.926Z"
   },
   {
    "duration": 26,
    "start_time": "2022-07-06T15:09:43.999Z"
   },
   {
    "duration": 25,
    "start_time": "2022-07-06T15:09:44.026Z"
   },
   {
    "duration": 9,
    "start_time": "2022-07-06T15:09:44.052Z"
   },
   {
    "duration": 43,
    "start_time": "2022-07-06T15:09:44.063Z"
   },
   {
    "duration": 4,
    "start_time": "2022-07-06T15:09:44.111Z"
   },
   {
    "duration": 33,
    "start_time": "2022-07-06T15:09:44.116Z"
   },
   {
    "duration": 4,
    "start_time": "2022-07-06T15:09:44.151Z"
   },
   {
    "duration": 13,
    "start_time": "2022-07-06T15:09:44.157Z"
   },
   {
    "duration": 5,
    "start_time": "2022-07-06T15:09:44.171Z"
   },
   {
    "duration": 41,
    "start_time": "2022-07-06T15:09:44.178Z"
   },
   {
    "duration": 13,
    "start_time": "2022-07-06T15:09:44.223Z"
   },
   {
    "duration": 4,
    "start_time": "2022-07-06T15:09:44.238Z"
   },
   {
    "duration": 20,
    "start_time": "2022-07-06T15:09:44.244Z"
   },
   {
    "duration": 17,
    "start_time": "2022-07-06T15:09:44.265Z"
   },
   {
    "duration": 42,
    "start_time": "2022-07-06T15:09:44.284Z"
   },
   {
    "duration": 9,
    "start_time": "2022-07-06T15:09:44.327Z"
   },
   {
    "duration": 12,
    "start_time": "2022-07-06T15:09:44.337Z"
   },
   {
    "duration": 11,
    "start_time": "2022-07-06T15:09:44.351Z"
   },
   {
    "duration": 5,
    "start_time": "2022-07-06T15:09:44.364Z"
   },
   {
    "duration": 13,
    "start_time": "2022-07-06T15:09:44.370Z"
   },
   {
    "duration": 22,
    "start_time": "2022-07-06T15:09:44.385Z"
   },
   {
    "duration": 29,
    "start_time": "2022-07-06T15:09:44.411Z"
   },
   {
    "duration": 5,
    "start_time": "2022-07-06T15:09:44.441Z"
   },
   {
    "duration": 26,
    "start_time": "2022-07-06T15:09:44.448Z"
   },
   {
    "duration": 42,
    "start_time": "2022-07-06T15:09:44.475Z"
   },
   {
    "duration": 5,
    "start_time": "2022-07-06T15:09:44.519Z"
   },
   {
    "duration": 31,
    "start_time": "2022-07-06T15:09:44.527Z"
   },
   {
    "duration": 18,
    "start_time": "2022-07-06T15:09:44.560Z"
   },
   {
    "duration": 9,
    "start_time": "2022-07-06T15:10:07.717Z"
   },
   {
    "duration": 14,
    "start_time": "2022-07-06T15:10:21.523Z"
   },
   {
    "duration": 8,
    "start_time": "2022-07-06T15:10:59.619Z"
   },
   {
    "duration": 14,
    "start_time": "2022-07-06T15:11:11.882Z"
   },
   {
    "duration": 462,
    "start_time": "2022-07-06T15:13:37.034Z"
   },
   {
    "duration": 31,
    "start_time": "2022-07-06T15:13:37.497Z"
   },
   {
    "duration": 17,
    "start_time": "2022-07-06T15:13:37.531Z"
   },
   {
    "duration": 19,
    "start_time": "2022-07-06T15:13:37.550Z"
   },
   {
    "duration": 57,
    "start_time": "2022-07-06T15:13:37.571Z"
   },
   {
    "duration": 3,
    "start_time": "2022-07-06T15:13:37.633Z"
   },
   {
    "duration": 22,
    "start_time": "2022-07-06T15:13:37.638Z"
   },
   {
    "duration": 11,
    "start_time": "2022-07-06T15:13:37.661Z"
   },
   {
    "duration": 25,
    "start_time": "2022-07-06T15:13:37.674Z"
   },
   {
    "duration": 24,
    "start_time": "2022-07-06T15:13:37.706Z"
   },
   {
    "duration": 38,
    "start_time": "2022-07-06T15:13:37.732Z"
   },
   {
    "duration": 8,
    "start_time": "2022-07-06T15:13:37.772Z"
   },
   {
    "duration": 12,
    "start_time": "2022-07-06T15:13:37.782Z"
   },
   {
    "duration": 51,
    "start_time": "2022-07-06T15:13:37.796Z"
   },
   {
    "duration": 16,
    "start_time": "2022-07-06T15:13:37.849Z"
   },
   {
    "duration": 12,
    "start_time": "2022-07-06T15:13:37.867Z"
   },
   {
    "duration": 14,
    "start_time": "2022-07-06T15:13:37.880Z"
   },
   {
    "duration": 44,
    "start_time": "2022-07-06T15:13:37.895Z"
   },
   {
    "duration": 28,
    "start_time": "2022-07-06T15:13:37.941Z"
   },
   {
    "duration": 8,
    "start_time": "2022-07-06T15:13:37.971Z"
   },
   {
    "duration": 42,
    "start_time": "2022-07-06T15:13:37.980Z"
   },
   {
    "duration": 23,
    "start_time": "2022-07-06T15:13:38.029Z"
   },
   {
    "duration": 37,
    "start_time": "2022-07-06T15:13:38.053Z"
   },
   {
    "duration": 9,
    "start_time": "2022-07-06T15:13:38.091Z"
   },
   {
    "duration": 57,
    "start_time": "2022-07-06T15:13:38.102Z"
   },
   {
    "duration": 25,
    "start_time": "2022-07-06T15:13:38.160Z"
   },
   {
    "duration": 3,
    "start_time": "2022-07-06T15:13:38.187Z"
   },
   {
    "duration": 59,
    "start_time": "2022-07-06T15:13:38.192Z"
   },
   {
    "duration": 730,
    "start_time": "2022-07-07T09:13:08.510Z"
   },
   {
    "duration": 24,
    "start_time": "2022-07-07T09:13:09.242Z"
   },
   {
    "duration": 14,
    "start_time": "2022-07-07T09:13:09.267Z"
   },
   {
    "duration": 9,
    "start_time": "2022-07-07T09:13:09.283Z"
   },
   {
    "duration": 40,
    "start_time": "2022-07-07T09:13:09.293Z"
   },
   {
    "duration": 4,
    "start_time": "2022-07-07T09:13:09.335Z"
   },
   {
    "duration": 10,
    "start_time": "2022-07-07T09:13:09.341Z"
   },
   {
    "duration": 5,
    "start_time": "2022-07-07T09:13:09.352Z"
   },
   {
    "duration": 10,
    "start_time": "2022-07-07T09:13:09.359Z"
   },
   {
    "duration": 4,
    "start_time": "2022-07-07T09:13:09.374Z"
   },
   {
    "duration": 33,
    "start_time": "2022-07-07T09:13:09.403Z"
   },
   {
    "duration": 9,
    "start_time": "2022-07-07T09:13:09.438Z"
   },
   {
    "duration": 6,
    "start_time": "2022-07-07T09:13:09.449Z"
   },
   {
    "duration": 21,
    "start_time": "2022-07-07T09:13:09.456Z"
   },
   {
    "duration": 37,
    "start_time": "2022-07-07T09:13:09.478Z"
   },
   {
    "duration": 10,
    "start_time": "2022-07-07T09:13:09.517Z"
   },
   {
    "duration": 6,
    "start_time": "2022-07-07T09:13:09.529Z"
   },
   {
    "duration": 13,
    "start_time": "2022-07-07T09:13:09.536Z"
   },
   {
    "duration": 8,
    "start_time": "2022-07-07T09:13:09.551Z"
   },
   {
    "duration": 4,
    "start_time": "2022-07-07T09:13:09.561Z"
   },
   {
    "duration": 14,
    "start_time": "2022-07-07T09:13:09.567Z"
   },
   {
    "duration": 4,
    "start_time": "2022-07-07T09:13:09.605Z"
   },
   {
    "duration": 26,
    "start_time": "2022-07-07T09:13:09.611Z"
   },
   {
    "duration": 6,
    "start_time": "2022-07-07T09:13:09.639Z"
   },
   {
    "duration": 25,
    "start_time": "2022-07-07T09:13:09.647Z"
   },
   {
    "duration": 47,
    "start_time": "2022-07-07T09:13:09.674Z"
   },
   {
    "duration": 3,
    "start_time": "2022-07-07T09:13:09.723Z"
   },
   {
    "duration": 25,
    "start_time": "2022-07-07T09:13:09.729Z"
   },
   {
    "duration": 35,
    "start_time": "2022-07-07T09:14:28.482Z"
   }
  ],
  "colab": {
   "name": "dpp_template_part2.ipynb",
   "provenance": []
  },
  "kernelspec": {
   "display_name": "Python 3 (ipykernel)",
   "language": "python",
   "name": "python3"
  },
  "language_info": {
   "codemirror_mode": {
    "name": "ipython",
    "version": 3
   },
   "file_extension": ".py",
   "mimetype": "text/x-python",
   "name": "python",
   "nbconvert_exporter": "python",
   "pygments_lexer": "ipython3",
   "version": "3.9.5"
  },
  "toc": {
   "base_numbering": 1,
   "nav_menu": {},
   "number_sections": true,
   "sideBar": true,
   "skip_h1_title": true,
   "title_cell": "Table of Contents",
   "title_sidebar": "Contents",
   "toc_cell": false,
   "toc_position": {},
   "toc_section_display": true,
   "toc_window_display": false
  }
 },
 "nbformat": 4,
 "nbformat_minor": 5
}
