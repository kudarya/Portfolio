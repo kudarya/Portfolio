{
 "cells": [
  {
   "cell_type": "markdown",
   "metadata": {},
   "source": [
    "### Изучение поведения пользователей мобильного приложения\n",
    "_____\n",
    "##### Описание данных\n",
    "\n",
    "Путь к файлу: [Скачать датасет](https://code.s3.yandex.net/datasets/logs_exp.csv)\n",
    "\n",
    "Структура `/datasets/logs_exp.csv`:\n",
    "\n",
    "- `EventName` — название события;\n",
    "- `DeviceIDHash` — уникальный идентификатор пользователя;;\n",
    "- `EventTimestamp` — время события;\n",
    "- `ExpId` — номер эксперимента: 246 и 247 — контрольные группы, а 248 — экспериментальная.\n",
    "______\n",
    "\n",
    "###### Данное исследование разделим на несколько частей.\n",
    "\n",
    "##### Часть 1. Изучение общей информации:\n",
    "1. Изучение файла с данными, получение общей информации, загрузка библиотек;\n",
    "\n",
    "##### Часть 2. Подготовка данных:\n",
    "1. Замена названия столбцов;\n",
    "2. Приведение данных к нужным типам;\n",
    "3. Нахождение и исправление пропусков, аномалий и ошибок;\n",
    "4. Добавление столбца даты и времени, а также отдельного столбца дат.\n",
    "\n",
    "##### Часть 3. Изучение и проверка данных:\n",
    "\n",
    "1. Подсчет событий в логе;\n",
    "2. Подсчет общего кол-ва пользователей в логе;\n",
    "3. Подсчет количества в событий, приходящихся на пользователя в среднем;\n",
    "4. Определения периода, за который представлены данные. Поиск максимальной и минимальной даты. Построение гистограммы по дате и времени. Определение, с какого момента данные полные и отбрасывание более старых. Определение за какой период данные представлены на самом деле;\n",
    "5. Подсчет количества событий, которые были потеряны после отброса данных;\n",
    "6. Проверка наличия пользователей из всех трёх экспериментальных групп.\n",
    "\n",
    "##### Часть 4. Изучение воронки событий:\n",
    "\n",
    "1. Проверка, какие события есть в логах, как часто они встречаются. Сортировка событий по частоте;\n",
    "2. Подсчет пользователей, совершивших каждое из этих событий. Сортировка событий по числу пользователей. Подсчет доли пользователей, которые хоть раз совершали событие;\n",
    "3. Предположение, в каком порядке происходят события;\n",
    "4. Подсчет по воронке событий, какая доля пользователей проходит на следующий шаг воронки (от числа пользователей на предыдущем);\n",
    "5. Определение, на каком шаге теряется больше всего пользователей;\n",
    "6. Определение, какая доля пользователей доходит от первого события до оплаты.\n",
    "\n",
    "##### Часть 4. Изучение результатов эксперимента:\n",
    "\n",
    "1. Подсчет пользователей в каждой экспериментальной группе;\n",
    "2. Проведение А/А теста по всем событиям;\n",
    "3. А/В тест для контрольной группы 246 и группы с измененным шрифтом 248 по всем событиям.\n",
    "5. А/В тест для контрольной группы 247 и группы с измененным шрифтом 248 по всем событиям.\n",
    "6. А/В тест для контрольной группы 246 + 247 и группы с измененным шрифтом 248 по всем событиям.\n",
    "7. Обоснование выбора уровня значимости при проверке статистических гипотез выше.\n",
    "\n",
    "##### Часть 5. Выводы"
   ]
  },
  {
   "cell_type": "markdown",
   "metadata": {},
   "source": [
    "## Изучение общей информации"
   ]
  },
  {
   "cell_type": "code",
   "execution_count": 1,
   "metadata": {},
   "outputs": [],
   "source": [
    "import pandas as pd\n",
    "import numpy as np\n",
    "import matplotlib.pyplot as plt\n",
    "import scipy.stats as stats\n",
    "import math as mth\n",
    "\n",
    "from plotly import graph_objects as go\n",
    "from statsmodels.stats.proportion import proportions_ztest"
   ]
  },
  {
   "cell_type": "code",
   "execution_count": 2,
   "metadata": {},
   "outputs": [],
   "source": [
    "try:\n",
    "    data_first = pd.read_csv('/datasets/logs_exp.csv', sep=\"\\t\")\n",
    "except:\n",
    "    data_first = pd.read_csv('https://code.s3.yandex.net/datasets/logs_exp.csv')\n",
    "pd.set_option('display.max_columns', None)\n",
    "pd.options.mode.chained_assignment = None"
   ]
  },
  {
   "cell_type": "code",
   "execution_count": 3,
   "metadata": {},
   "outputs": [],
   "source": [
    "# зададим функцию для первичного изучения данных \n",
    "def first_data_check(data):\n",
    "    return display(data.head(20)), display(data.info()), print('Количество пропусков:'), display(data.isna().sum()), print('Количество дубликатов:', (data.duplicated().sum()))"
   ]
  },
  {
   "cell_type": "code",
   "execution_count": 4,
   "metadata": {},
   "outputs": [
    {
     "data": {
      "text/html": [
       "<div>\n",
       "<style scoped>\n",
       "    .dataframe tbody tr th:only-of-type {\n",
       "        vertical-align: middle;\n",
       "    }\n",
       "\n",
       "    .dataframe tbody tr th {\n",
       "        vertical-align: top;\n",
       "    }\n",
       "\n",
       "    .dataframe thead th {\n",
       "        text-align: right;\n",
       "    }\n",
       "</style>\n",
       "<table border=\"1\" class=\"dataframe\">\n",
       "  <thead>\n",
       "    <tr style=\"text-align: right;\">\n",
       "      <th></th>\n",
       "      <th>EventName</th>\n",
       "      <th>DeviceIDHash</th>\n",
       "      <th>EventTimestamp</th>\n",
       "      <th>ExpId</th>\n",
       "    </tr>\n",
       "  </thead>\n",
       "  <tbody>\n",
       "    <tr>\n",
       "      <th>0</th>\n",
       "      <td>MainScreenAppear</td>\n",
       "      <td>4575588528974610257</td>\n",
       "      <td>1564029816</td>\n",
       "      <td>246</td>\n",
       "    </tr>\n",
       "    <tr>\n",
       "      <th>1</th>\n",
       "      <td>MainScreenAppear</td>\n",
       "      <td>7416695313311560658</td>\n",
       "      <td>1564053102</td>\n",
       "      <td>246</td>\n",
       "    </tr>\n",
       "    <tr>\n",
       "      <th>2</th>\n",
       "      <td>PaymentScreenSuccessful</td>\n",
       "      <td>3518123091307005509</td>\n",
       "      <td>1564054127</td>\n",
       "      <td>248</td>\n",
       "    </tr>\n",
       "    <tr>\n",
       "      <th>3</th>\n",
       "      <td>CartScreenAppear</td>\n",
       "      <td>3518123091307005509</td>\n",
       "      <td>1564054127</td>\n",
       "      <td>248</td>\n",
       "    </tr>\n",
       "    <tr>\n",
       "      <th>4</th>\n",
       "      <td>PaymentScreenSuccessful</td>\n",
       "      <td>6217807653094995999</td>\n",
       "      <td>1564055322</td>\n",
       "      <td>248</td>\n",
       "    </tr>\n",
       "    <tr>\n",
       "      <th>5</th>\n",
       "      <td>CartScreenAppear</td>\n",
       "      <td>6217807653094995999</td>\n",
       "      <td>1564055323</td>\n",
       "      <td>248</td>\n",
       "    </tr>\n",
       "    <tr>\n",
       "      <th>6</th>\n",
       "      <td>OffersScreenAppear</td>\n",
       "      <td>8351860793733343758</td>\n",
       "      <td>1564066242</td>\n",
       "      <td>246</td>\n",
       "    </tr>\n",
       "    <tr>\n",
       "      <th>7</th>\n",
       "      <td>MainScreenAppear</td>\n",
       "      <td>5682100281902512875</td>\n",
       "      <td>1564085677</td>\n",
       "      <td>246</td>\n",
       "    </tr>\n",
       "    <tr>\n",
       "      <th>8</th>\n",
       "      <td>MainScreenAppear</td>\n",
       "      <td>1850981295691852772</td>\n",
       "      <td>1564086702</td>\n",
       "      <td>247</td>\n",
       "    </tr>\n",
       "    <tr>\n",
       "      <th>9</th>\n",
       "      <td>MainScreenAppear</td>\n",
       "      <td>5407636962369102641</td>\n",
       "      <td>1564112112</td>\n",
       "      <td>246</td>\n",
       "    </tr>\n",
       "    <tr>\n",
       "      <th>10</th>\n",
       "      <td>MainScreenAppear</td>\n",
       "      <td>948465712512390382</td>\n",
       "      <td>1564119214</td>\n",
       "      <td>247</td>\n",
       "    </tr>\n",
       "    <tr>\n",
       "      <th>11</th>\n",
       "      <td>MainScreenAppear</td>\n",
       "      <td>2547684315586332355</td>\n",
       "      <td>1564123826</td>\n",
       "      <td>248</td>\n",
       "    </tr>\n",
       "    <tr>\n",
       "      <th>12</th>\n",
       "      <td>MainScreenAppear</td>\n",
       "      <td>8885295911290764495</td>\n",
       "      <td>1564124085</td>\n",
       "      <td>248</td>\n",
       "    </tr>\n",
       "    <tr>\n",
       "      <th>13</th>\n",
       "      <td>MainScreenAppear</td>\n",
       "      <td>2140904690380565988</td>\n",
       "      <td>1564125732</td>\n",
       "      <td>247</td>\n",
       "    </tr>\n",
       "    <tr>\n",
       "      <th>14</th>\n",
       "      <td>MainScreenAppear</td>\n",
       "      <td>4444236400320272864</td>\n",
       "      <td>1564135560</td>\n",
       "      <td>246</td>\n",
       "    </tr>\n",
       "    <tr>\n",
       "      <th>15</th>\n",
       "      <td>MainScreenAppear</td>\n",
       "      <td>8947220251154009657</td>\n",
       "      <td>1564140668</td>\n",
       "      <td>248</td>\n",
       "    </tr>\n",
       "    <tr>\n",
       "      <th>16</th>\n",
       "      <td>MainScreenAppear</td>\n",
       "      <td>5839517684026830712</td>\n",
       "      <td>1564141421</td>\n",
       "      <td>247</td>\n",
       "    </tr>\n",
       "    <tr>\n",
       "      <th>17</th>\n",
       "      <td>MainScreenAppear</td>\n",
       "      <td>7540130374989658208</td>\n",
       "      <td>1564144283</td>\n",
       "      <td>248</td>\n",
       "    </tr>\n",
       "    <tr>\n",
       "      <th>18</th>\n",
       "      <td>CartScreenAppear</td>\n",
       "      <td>2575393697599976818</td>\n",
       "      <td>1564148945</td>\n",
       "      <td>247</td>\n",
       "    </tr>\n",
       "    <tr>\n",
       "      <th>19</th>\n",
       "      <td>MainScreenAppear</td>\n",
       "      <td>4651149533106703820</td>\n",
       "      <td>1564149866</td>\n",
       "      <td>246</td>\n",
       "    </tr>\n",
       "  </tbody>\n",
       "</table>\n",
       "</div>"
      ],
      "text/plain": [
       "                  EventName         DeviceIDHash  EventTimestamp  ExpId\n",
       "0          MainScreenAppear  4575588528974610257      1564029816    246\n",
       "1          MainScreenAppear  7416695313311560658      1564053102    246\n",
       "2   PaymentScreenSuccessful  3518123091307005509      1564054127    248\n",
       "3          CartScreenAppear  3518123091307005509      1564054127    248\n",
       "4   PaymentScreenSuccessful  6217807653094995999      1564055322    248\n",
       "5          CartScreenAppear  6217807653094995999      1564055323    248\n",
       "6        OffersScreenAppear  8351860793733343758      1564066242    246\n",
       "7          MainScreenAppear  5682100281902512875      1564085677    246\n",
       "8          MainScreenAppear  1850981295691852772      1564086702    247\n",
       "9          MainScreenAppear  5407636962369102641      1564112112    246\n",
       "10         MainScreenAppear   948465712512390382      1564119214    247\n",
       "11         MainScreenAppear  2547684315586332355      1564123826    248\n",
       "12         MainScreenAppear  8885295911290764495      1564124085    248\n",
       "13         MainScreenAppear  2140904690380565988      1564125732    247\n",
       "14         MainScreenAppear  4444236400320272864      1564135560    246\n",
       "15         MainScreenAppear  8947220251154009657      1564140668    248\n",
       "16         MainScreenAppear  5839517684026830712      1564141421    247\n",
       "17         MainScreenAppear  7540130374989658208      1564144283    248\n",
       "18         CartScreenAppear  2575393697599976818      1564148945    247\n",
       "19         MainScreenAppear  4651149533106703820      1564149866    246"
      ]
     },
     "metadata": {},
     "output_type": "display_data"
    },
    {
     "name": "stdout",
     "output_type": "stream",
     "text": [
      "<class 'pandas.core.frame.DataFrame'>\n",
      "RangeIndex: 244126 entries, 0 to 244125\n",
      "Data columns (total 4 columns):\n",
      " #   Column          Non-Null Count   Dtype \n",
      "---  ------          --------------   ----- \n",
      " 0   EventName       244126 non-null  object\n",
      " 1   DeviceIDHash    244126 non-null  int64 \n",
      " 2   EventTimestamp  244126 non-null  int64 \n",
      " 3   ExpId           244126 non-null  int64 \n",
      "dtypes: int64(3), object(1)\n",
      "memory usage: 7.5+ MB\n"
     ]
    },
    {
     "data": {
      "text/plain": [
       "None"
      ]
     },
     "metadata": {},
     "output_type": "display_data"
    },
    {
     "name": "stdout",
     "output_type": "stream",
     "text": [
      "Количество пропусков:\n"
     ]
    },
    {
     "data": {
      "text/plain": [
       "EventName         0\n",
       "DeviceIDHash      0\n",
       "EventTimestamp    0\n",
       "ExpId             0\n",
       "dtype: int64"
      ]
     },
     "metadata": {},
     "output_type": "display_data"
    },
    {
     "name": "stdout",
     "output_type": "stream",
     "text": [
      "Количество дубликатов: 413\n"
     ]
    }
   ],
   "source": [
    "first_data_check(data_first);"
   ]
  },
  {
   "cell_type": "markdown",
   "metadata": {},
   "source": [
    "## Подготовка данных"
   ]
  },
  {
   "cell_type": "code",
   "execution_count": 5,
   "metadata": {},
   "outputs": [
    {
     "data": {
      "text/plain": [
       "Index(['event_name', 'user_id', 'event_time', 'group'], dtype='object')"
      ]
     },
     "execution_count": 5,
     "metadata": {},
     "output_type": "execute_result"
    }
   ],
   "source": [
    "data_first.columns=['event_name', 'user_id', 'event_time', 'group'] # замена названия столбцов               \n",
    "data_first.columns #проверка"
   ]
  },
  {
   "cell_type": "markdown",
   "metadata": {},
   "source": [
    "Типы данных в порядке. При первичной проверке данных были выявленs 413 явных дубликатов. Удалим их."
   ]
  },
  {
   "cell_type": "code",
   "execution_count": 6,
   "metadata": {},
   "outputs": [
    {
     "data": {
      "text/plain": [
       "0"
      ]
     },
     "execution_count": 6,
     "metadata": {},
     "output_type": "execute_result"
    }
   ],
   "source": [
    "data1 = data_first.drop_duplicates().reset_index(drop=True)\n",
    "data1.duplicated().sum() #проверка"
   ]
  },
  {
   "cell_type": "code",
   "execution_count": 7,
   "metadata": {},
   "outputs": [
    {
     "name": "stdout",
     "output_type": "stream",
     "text": [
      "Было строк - 244126 , удалили дубликатов -  413 , осталось строк - 243713 \n",
      "Сократили 0.17 % данных\n"
     ]
    }
   ],
   "source": [
    "print('Было строк -', len(data_first), \", удалили дубликатов - \", (data_first.duplicated().sum()), \n",
    "      \", осталось строк -\", (len(data_first) - (data_first.duplicated().sum())), \n",
    "      '\\nСократили', round(100 - (((len(data_first) - (data_first.duplicated().sum())) / len(data_first) * 100)), 2), '% данных')"
   ]
  },
  {
   "cell_type": "code",
   "execution_count": 8,
   "metadata": {},
   "outputs": [
    {
     "name": "stdout",
     "output_type": "stream",
     "text": [
      "Группы А/A/B теста в таблице: [246 248 247]\n"
     ]
    }
   ],
   "source": [
    "# узнаем, сколько групп в А/В тесте\n",
    "\n",
    "print('Группы А/A/B теста в таблице:', data1['group'].unique())"
   ]
  },
  {
   "cell_type": "code",
   "execution_count": 9,
   "metadata": {},
   "outputs": [],
   "source": [
    "# изменим названия групп для удобства\n",
    "\n",
    "data1['group'].replace(to_replace= (246,247,248), value = ('A1', 'A2', 'B'), inplace=True ) "
   ]
  },
  {
   "cell_type": "code",
   "execution_count": 10,
   "metadata": {},
   "outputs": [
    {
     "data": {
      "text/html": [
       "<div>\n",
       "<style scoped>\n",
       "    .dataframe tbody tr th:only-of-type {\n",
       "        vertical-align: middle;\n",
       "    }\n",
       "\n",
       "    .dataframe tbody tr th {\n",
       "        vertical-align: top;\n",
       "    }\n",
       "\n",
       "    .dataframe thead th {\n",
       "        text-align: right;\n",
       "    }\n",
       "</style>\n",
       "<table border=\"1\" class=\"dataframe\">\n",
       "  <thead>\n",
       "    <tr style=\"text-align: right;\">\n",
       "      <th></th>\n",
       "      <th>user_id</th>\n",
       "    </tr>\n",
       "    <tr>\n",
       "      <th>group</th>\n",
       "      <th></th>\n",
       "    </tr>\n",
       "  </thead>\n",
       "  <tbody>\n",
       "    <tr>\n",
       "      <th>A1</th>\n",
       "      <td>2489</td>\n",
       "    </tr>\n",
       "    <tr>\n",
       "      <th>A2</th>\n",
       "      <td>2520</td>\n",
       "    </tr>\n",
       "    <tr>\n",
       "      <th>B</th>\n",
       "      <td>2542</td>\n",
       "    </tr>\n",
       "  </tbody>\n",
       "</table>\n",
       "</div>"
      ],
      "text/plain": [
       "       user_id\n",
       "group         \n",
       "A1        2489\n",
       "A2        2520\n",
       "B         2542"
      ]
     },
     "execution_count": 10,
     "metadata": {},
     "output_type": "execute_result"
    }
   ],
   "source": [
    "# проверим, сколько пользователей в каждой группе\n",
    "\n",
    "data1.pivot_table(index='group', values='user_id', aggfunc='nunique')"
   ]
  },
  {
   "cell_type": "markdown",
   "metadata": {},
   "source": [
    "Мы видим, что количество пользователей группы А1 больше, чем количество пользователей группы А2 на 1.25%, количество пользователей группы В больше кол-ва пользователей группы А1 на 2.08% и группы А2 на 0.87%. Разница между А1 и А2, а также между В и А1 больше, чем 1%. Если бы это был не учебный проект, данная информация была бы передана до группы, занимающейся сбором данных."
   ]
  },
  {
   "cell_type": "code",
   "execution_count": 11,
   "metadata": {},
   "outputs": [
    {
     "data": {
      "text/html": [
       "<div>\n",
       "<style scoped>\n",
       "    .dataframe tbody tr th:only-of-type {\n",
       "        vertical-align: middle;\n",
       "    }\n",
       "\n",
       "    .dataframe tbody tr th {\n",
       "        vertical-align: top;\n",
       "    }\n",
       "\n",
       "    .dataframe thead th {\n",
       "        text-align: right;\n",
       "    }\n",
       "</style>\n",
       "<table border=\"1\" class=\"dataframe\">\n",
       "  <thead>\n",
       "    <tr style=\"text-align: right;\">\n",
       "      <th></th>\n",
       "      <th>event_name</th>\n",
       "      <th>user_id</th>\n",
       "      <th>event_time</th>\n",
       "      <th>group</th>\n",
       "      <th>date_time</th>\n",
       "      <th>date</th>\n",
       "    </tr>\n",
       "  </thead>\n",
       "  <tbody>\n",
       "    <tr>\n",
       "      <th>0</th>\n",
       "      <td>MainScreenAppear</td>\n",
       "      <td>4575588528974610257</td>\n",
       "      <td>1564029816</td>\n",
       "      <td>A1</td>\n",
       "      <td>2019-07-25 04:43:36</td>\n",
       "      <td>2019-07-25</td>\n",
       "    </tr>\n",
       "    <tr>\n",
       "      <th>1</th>\n",
       "      <td>MainScreenAppear</td>\n",
       "      <td>7416695313311560658</td>\n",
       "      <td>1564053102</td>\n",
       "      <td>A1</td>\n",
       "      <td>2019-07-25 11:11:42</td>\n",
       "      <td>2019-07-25</td>\n",
       "    </tr>\n",
       "    <tr>\n",
       "      <th>2</th>\n",
       "      <td>PaymentScreenSuccessful</td>\n",
       "      <td>3518123091307005509</td>\n",
       "      <td>1564054127</td>\n",
       "      <td>B</td>\n",
       "      <td>2019-07-25 11:28:47</td>\n",
       "      <td>2019-07-25</td>\n",
       "    </tr>\n",
       "    <tr>\n",
       "      <th>3</th>\n",
       "      <td>CartScreenAppear</td>\n",
       "      <td>3518123091307005509</td>\n",
       "      <td>1564054127</td>\n",
       "      <td>B</td>\n",
       "      <td>2019-07-25 11:28:47</td>\n",
       "      <td>2019-07-25</td>\n",
       "    </tr>\n",
       "    <tr>\n",
       "      <th>4</th>\n",
       "      <td>PaymentScreenSuccessful</td>\n",
       "      <td>6217807653094995999</td>\n",
       "      <td>1564055322</td>\n",
       "      <td>B</td>\n",
       "      <td>2019-07-25 11:48:42</td>\n",
       "      <td>2019-07-25</td>\n",
       "    </tr>\n",
       "  </tbody>\n",
       "</table>\n",
       "</div>"
      ],
      "text/plain": [
       "                event_name              user_id  event_time group  \\\n",
       "0         MainScreenAppear  4575588528974610257  1564029816    A1   \n",
       "1         MainScreenAppear  7416695313311560658  1564053102    A1   \n",
       "2  PaymentScreenSuccessful  3518123091307005509  1564054127     B   \n",
       "3         CartScreenAppear  3518123091307005509  1564054127     B   \n",
       "4  PaymentScreenSuccessful  6217807653094995999  1564055322     B   \n",
       "\n",
       "            date_time       date  \n",
       "0 2019-07-25 04:43:36 2019-07-25  \n",
       "1 2019-07-25 11:11:42 2019-07-25  \n",
       "2 2019-07-25 11:28:47 2019-07-25  \n",
       "3 2019-07-25 11:28:47 2019-07-25  \n",
       "4 2019-07-25 11:48:42 2019-07-25  "
      ]
     },
     "metadata": {},
     "output_type": "display_data"
    },
    {
     "name": "stdout",
     "output_type": "stream",
     "text": [
      "<class 'pandas.core.frame.DataFrame'>\n",
      "RangeIndex: 243713 entries, 0 to 243712\n",
      "Data columns (total 6 columns):\n",
      " #   Column      Non-Null Count   Dtype         \n",
      "---  ------      --------------   -----         \n",
      " 0   event_name  243713 non-null  object        \n",
      " 1   user_id     243713 non-null  int64         \n",
      " 2   event_time  243713 non-null  int64         \n",
      " 3   group       243713 non-null  object        \n",
      " 4   date_time   243713 non-null  datetime64[ns]\n",
      " 5   date        243713 non-null  datetime64[ns]\n",
      "dtypes: datetime64[ns](2), int64(2), object(2)\n",
      "memory usage: 11.2+ MB\n"
     ]
    }
   ],
   "source": [
    "# добавим столбец даты и времени, а также отдельный столбец дат\n",
    "\n",
    "data1['date_time'] = pd.to_datetime(data1['event_time'], unit='s')\n",
    "data1['date'] = data1['date_time'].dt.floor('1D')\n",
    "\n",
    "display(data1.head()) # проверка\n",
    "data1.info()"
   ]
  },
  {
   "cell_type": "markdown",
   "metadata": {},
   "source": [
    "Вывод: данные прошли первичную проверку и готовы для дальнейшего анализа\n",
    "\n",
    "- Изменены названия столбцов\n",
    "- Удалены явные дубликаты (0.17% данных)\n",
    "- Добавлены столбцы с датой и временем\n",
    "- Изменены названия групп на А1/А2/В\n",
    "- Провели проверку количества пользователей в каждой группе"
   ]
  },
  {
   "cell_type": "markdown",
   "metadata": {},
   "source": [
    "## Изучение и проверка данных"
   ]
  },
  {
   "cell_type": "code",
   "execution_count": 12,
   "metadata": {},
   "outputs": [
    {
     "name": "stdout",
     "output_type": "stream",
     "text": [
      "Всего событий в логе: 243713\n"
     ]
    }
   ],
   "source": [
    "# Подсчет собыйтий в логе\n",
    "\n",
    "print('Всего событий в логе:', len(data1))"
   ]
  },
  {
   "cell_type": "code",
   "execution_count": 13,
   "metadata": {},
   "outputs": [
    {
     "name": "stdout",
     "output_type": "stream",
     "text": [
      "Всего пользователей в логе: 7551\n"
     ]
    }
   ],
   "source": [
    "# Подсчет пользователей в логе\n",
    "\n",
    "print('Всего пользователей в логе:', data1['user_id'].nunique())"
   ]
  },
  {
   "cell_type": "code",
   "execution_count": 14,
   "metadata": {},
   "outputs": [
    {
     "data": {
      "text/plain": [
       "count    7551.000000\n",
       "mean       32.275593\n",
       "std        65.154219\n",
       "min         1.000000\n",
       "25%         9.000000\n",
       "50%        20.000000\n",
       "75%        37.000000\n",
       "max      2307.000000\n",
       "Name: event_name, dtype: float64"
      ]
     },
     "execution_count": 14,
     "metadata": {},
     "output_type": "execute_result"
    }
   ],
   "source": [
    "# Подсчет количества событий, приходящихся на пользователя в среднем\n",
    "\n",
    "event_per_user = data1.groupby('user_id')['event_name'].count()\n",
    "event_per_user.describe()"
   ]
  },
  {
   "cell_type": "markdown",
   "metadata": {},
   "source": [
    "В среднем на пользователя приходится 32 события. "
   ]
  },
  {
   "cell_type": "code",
   "execution_count": 15,
   "metadata": {},
   "outputs": [
    {
     "data": {
      "image/png": "[encoded data removed]",
      "text/plain": [
       "<Figure size 1296x288 with 1 Axes>"
      ]
     },
     "metadata": {
      "needs_background": "light"
     },
     "output_type": "display_data"
    }
   ],
   "source": [
    "# построим гистограмму числа событий на 1 пользователя\n",
    "\n",
    "plt.figure(figsize=(18,4))\n",
    "event_per_user.hist(bins=150)\n",
    "plt.xlim([-1, 500])\n",
    "plt.title('Гистограмма числа событий на 1 пользователя')\n",
    "plt.ylabel('Количество пользователей')\n",
    "plt.xlabel('Количество событий');"
   ]
  },
  {
   "cell_type": "code",
   "execution_count": 16,
   "metadata": {},
   "outputs": [
    {
     "name": "stdout",
     "output_type": "stream",
     "text": [
      "Период данных: 2019-07-25 04:43:36 - 2019-08-07 21:15:17\n"
     ]
    }
   ],
   "source": [
    "# узнаем, за какой период представлены данные в таблицах\n",
    "\n",
    "print('Период данных:', data1['date_time'].min(), '-', data1['date_time'].max())"
   ]
  },
  {
   "cell_type": "code",
   "execution_count": 17,
   "metadata": {},
   "outputs": [
    {
     "data": {
      "image/png": "[encoded data removed]",
      "text/plain": [
       "<Figure size 1296x288 with 1 Axes>"
      ]
     },
     "metadata": {
      "needs_background": "light"
     },
     "output_type": "display_data"
    }
   ],
   "source": [
    "# построим гистограмму по дате и времени\n",
    "\n",
    "plt.figure(figsize=(18,4))\n",
    "data1['date_time'].hist(bins=100)\n",
    "plt.title('Гистограмма по дате и времени')\n",
    "plt.ylabel('Количество событий')\n",
    "plt.xlabel('Дата и время');"
   ]
  },
  {
   "cell_type": "markdown",
   "metadata": {},
   "source": [
    "По графику видно, что события представлены с 01.08.2019 года, а до этой даты событий было мало. Технически в логи новых дней по некоторым пользователям могут «доезжать» события из прошлого — это может «перекашивать данные». Отбросим старые данные."
   ]
  },
  {
   "cell_type": "code",
   "execution_count": 18,
   "metadata": {},
   "outputs": [
    {
     "name": "stdout",
     "output_type": "stream",
     "text": [
      "Актуальный период данных: 2019-08-01 00:07:28 - 2019-08-07 21:15:17\n"
     ]
    }
   ],
   "source": [
    "data = data1.query('date >= \"2019-08-01\"')\n",
    "print('Актуальный период данных:', data['date_time'].min(), '-', data['date_time'].max())"
   ]
  },
  {
   "cell_type": "code",
   "execution_count": 19,
   "metadata": {},
   "outputs": [
    {
     "name": "stdout",
     "output_type": "stream",
     "text": [
      "Было событий - 243713 , осталось событий - 240887 \n",
      "Сократили 1.16 % данных\n",
      "Было пользователей -  7551 , осталось пользователей - 7534 \n",
      "Сократили 0.23 % данных\n"
     ]
    }
   ],
   "source": [
    "print('Было событий -', len(data1), \", осталось событий -\", len(data),\n",
    "      '\\nСократили', round(100 - (len(data)/len(data1) * 100), 2), '% данных')\n",
    "\n",
    "print('Было пользователей - ', data1['user_id'].nunique(), \n",
    "      \", осталось пользователей -\", data['user_id'].nunique(),\n",
    "      '\\nСократили', round(100 - ( data['user_id'].nunique() / data1['user_id'].nunique() * 100), 2), '% данных')"
   ]
  },
  {
   "cell_type": "code",
   "execution_count": 20,
   "metadata": {},
   "outputs": [
    {
     "data": {
      "text/html": [
       "<div>\n",
       "<style scoped>\n",
       "    .dataframe tbody tr th:only-of-type {\n",
       "        vertical-align: middle;\n",
       "    }\n",
       "\n",
       "    .dataframe tbody tr th {\n",
       "        vertical-align: top;\n",
       "    }\n",
       "\n",
       "    .dataframe thead th {\n",
       "        text-align: right;\n",
       "    }\n",
       "</style>\n",
       "<table border=\"1\" class=\"dataframe\">\n",
       "  <thead>\n",
       "    <tr style=\"text-align: right;\">\n",
       "      <th></th>\n",
       "      <th>user_id</th>\n",
       "    </tr>\n",
       "    <tr>\n",
       "      <th>group</th>\n",
       "      <th></th>\n",
       "    </tr>\n",
       "  </thead>\n",
       "  <tbody>\n",
       "    <tr>\n",
       "      <th>A1</th>\n",
       "      <td>2484</td>\n",
       "    </tr>\n",
       "    <tr>\n",
       "      <th>A2</th>\n",
       "      <td>2513</td>\n",
       "    </tr>\n",
       "    <tr>\n",
       "      <th>B</th>\n",
       "      <td>2537</td>\n",
       "    </tr>\n",
       "  </tbody>\n",
       "</table>\n",
       "</div>"
      ],
      "text/plain": [
       "       user_id\n",
       "group         \n",
       "A1        2484\n",
       "A2        2513\n",
       "B         2537"
      ]
     },
     "execution_count": 20,
     "metadata": {},
     "output_type": "execute_result"
    }
   ],
   "source": [
    "# убедимся, что у нас есть пользователи в каждой из трех групп\n",
    "\n",
    "data.pivot_table(index='group', values='user_id', aggfunc='nunique')"
   ]
  },
  {
   "cell_type": "markdown",
   "metadata": {},
   "source": [
    "Вывод: данные были изучены и проверены для дальнейшего анализа\n",
    "\n",
    "- Количество событий - 240 887 , количество пользователей - 7 534\n",
    "- Определен актуальный период, за который представлены данные - с 01.08.2019 по 07.08.2019\n",
    "- Сократили неактуальные данные за прошлые периоды - 1.16% событий и 0.23% пользователей\n",
    "- Убедились, что пользователи представлены в каждой группе, в группе А1 - 2 485, в группе А2 - 2 513, в группе В - 2 537"
   ]
  },
  {
   "cell_type": "markdown",
   "metadata": {},
   "source": [
    "## Изучение воронки событий"
   ]
  },
  {
   "cell_type": "code",
   "execution_count": 21,
   "metadata": {},
   "outputs": [
    {
     "data": {
      "text/html": [
       "<div>\n",
       "<style scoped>\n",
       "    .dataframe tbody tr th:only-of-type {\n",
       "        vertical-align: middle;\n",
       "    }\n",
       "\n",
       "    .dataframe tbody tr th {\n",
       "        vertical-align: top;\n",
       "    }\n",
       "\n",
       "    .dataframe thead th {\n",
       "        text-align: right;\n",
       "    }\n",
       "</style>\n",
       "<table border=\"1\" class=\"dataframe\">\n",
       "  <thead>\n",
       "    <tr style=\"text-align: right;\">\n",
       "      <th></th>\n",
       "      <th>user_id</th>\n",
       "    </tr>\n",
       "    <tr>\n",
       "      <th>event_name</th>\n",
       "      <th></th>\n",
       "    </tr>\n",
       "  </thead>\n",
       "  <tbody>\n",
       "    <tr>\n",
       "      <th>MainScreenAppear</th>\n",
       "      <td>117328</td>\n",
       "    </tr>\n",
       "    <tr>\n",
       "      <th>OffersScreenAppear</th>\n",
       "      <td>46333</td>\n",
       "    </tr>\n",
       "    <tr>\n",
       "      <th>CartScreenAppear</th>\n",
       "      <td>42303</td>\n",
       "    </tr>\n",
       "    <tr>\n",
       "      <th>PaymentScreenSuccessful</th>\n",
       "      <td>33918</td>\n",
       "    </tr>\n",
       "    <tr>\n",
       "      <th>Tutorial</th>\n",
       "      <td>1005</td>\n",
       "    </tr>\n",
       "  </tbody>\n",
       "</table>\n",
       "</div>"
      ],
      "text/plain": [
       "                         user_id\n",
       "event_name                      \n",
       "MainScreenAppear          117328\n",
       "OffersScreenAppear         46333\n",
       "CartScreenAppear           42303\n",
       "PaymentScreenSuccessful    33918\n",
       "Tutorial                    1005"
      ]
     },
     "execution_count": 21,
     "metadata": {},
     "output_type": "execute_result"
    }
   ],
   "source": [
    "# посмотрим, какие события есть в логах, как часто они встречаются, отсортируем события по частоте\n",
    "\n",
    "data.pivot_table(index='event_name', values='user_id', aggfunc='count').sort_values(by='user_id', ascending=False)"
   ]
  },
  {
   "cell_type": "markdown",
   "metadata": {},
   "source": [
    "В датафрейме представлено 5 типов событий (переход на страницу с корзиной, переход на главную страницу, переход на страницу с предложениями, переход на страницу с успешной оплатой, переход на страницу с обучением). Пользователи чаще всего переходят на главную страницу, меньше всего заглядывают на страницу с обучением."
   ]
  },
  {
   "cell_type": "code",
   "execution_count": 22,
   "metadata": {},
   "outputs": [
    {
     "data": {
      "text/html": [
       "<div>\n",
       "<style scoped>\n",
       "    .dataframe tbody tr th:only-of-type {\n",
       "        vertical-align: middle;\n",
       "    }\n",
       "\n",
       "    .dataframe tbody tr th {\n",
       "        vertical-align: top;\n",
       "    }\n",
       "\n",
       "    .dataframe thead th {\n",
       "        text-align: right;\n",
       "    }\n",
       "</style>\n",
       "<table border=\"1\" class=\"dataframe\">\n",
       "  <thead>\n",
       "    <tr style=\"text-align: right;\">\n",
       "      <th></th>\n",
       "      <th>event_name</th>\n",
       "      <th>amount</th>\n",
       "      <th>user_id</th>\n",
       "      <th>proportion_%</th>\n",
       "    </tr>\n",
       "  </thead>\n",
       "  <tbody>\n",
       "    <tr>\n",
       "      <th>0</th>\n",
       "      <td>MainScreenAppear</td>\n",
       "      <td>117328</td>\n",
       "      <td>7419</td>\n",
       "      <td>98.47</td>\n",
       "    </tr>\n",
       "    <tr>\n",
       "      <th>1</th>\n",
       "      <td>OffersScreenAppear</td>\n",
       "      <td>46333</td>\n",
       "      <td>4593</td>\n",
       "      <td>60.96</td>\n",
       "    </tr>\n",
       "    <tr>\n",
       "      <th>2</th>\n",
       "      <td>CartScreenAppear</td>\n",
       "      <td>42303</td>\n",
       "      <td>3734</td>\n",
       "      <td>49.56</td>\n",
       "    </tr>\n",
       "    <tr>\n",
       "      <th>3</th>\n",
       "      <td>PaymentScreenSuccessful</td>\n",
       "      <td>33918</td>\n",
       "      <td>3539</td>\n",
       "      <td>46.97</td>\n",
       "    </tr>\n",
       "    <tr>\n",
       "      <th>4</th>\n",
       "      <td>Tutorial</td>\n",
       "      <td>1005</td>\n",
       "      <td>840</td>\n",
       "      <td>11.15</td>\n",
       "    </tr>\n",
       "  </tbody>\n",
       "</table>\n",
       "</div>"
      ],
      "text/plain": [
       "                event_name  amount  user_id  proportion_%\n",
       "0         MainScreenAppear  117328     7419         98.47\n",
       "1       OffersScreenAppear   46333     4593         60.96\n",
       "2         CartScreenAppear   42303     3734         49.56\n",
       "3  PaymentScreenSuccessful   33918     3539         46.97\n",
       "4                 Tutorial    1005      840         11.15"
      ]
     },
     "execution_count": 22,
     "metadata": {},
     "output_type": "execute_result"
    }
   ],
   "source": [
    "# Посчитаем, сколько пользователей совершали каждое из этих событий. \n",
    "# Отсортируем события по числу пользователей. Посчитаем долю пользователей, которые хоть раз совершали событие.\n",
    "\n",
    "events = data.groupby('event_name').agg({'event_name':'count', 'user_id':'nunique'}).sort_values(by='user_id', ascending=False)\n",
    "events.columns=['amount', 'user_id'] # замена названия столбцов               \n",
    "events['proportion_%'] = (events['user_id'] / data['user_id'].nunique() * 100).round(2)\n",
    "events = events.reset_index()\n",
    "events"
   ]
  },
  {
   "cell_type": "markdown",
   "metadata": {},
   "source": [
    "98 % пользователей переходили на главный экран, 61% - на страницу с предложениями, почти одинаковые результаты для страниц с корзиной и успешной оплатой - 49% и 47%, и самая малая доля у страницы с обучением - 11 %.\n",
    "\n",
    "Предположим порядок событий:\n",
    "\n",
    "1) Просмотрел главную страницу;  \n",
    "2) Перешел на странцу с предложениями;  \n",
    "3) Перешел на страницу с корзиной;  \n",
    "4) Перешел на страницу с успешной оплатой.\n",
    "\n",
    "Переходов на страницу с обучением мало, и сложно предположить, в каком порядке может произойти это событие, не будем учитывать это событие при расчете воронки."
   ]
  },
  {
   "cell_type": "code",
   "execution_count": 23,
   "metadata": {},
   "outputs": [
    {
     "data": {
      "text/html": [
       "<div>\n",
       "<style scoped>\n",
       "    .dataframe tbody tr th:only-of-type {\n",
       "        vertical-align: middle;\n",
       "    }\n",
       "\n",
       "    .dataframe tbody tr th {\n",
       "        vertical-align: top;\n",
       "    }\n",
       "\n",
       "    .dataframe thead th {\n",
       "        text-align: right;\n",
       "    }\n",
       "</style>\n",
       "<table border=\"1\" class=\"dataframe\">\n",
       "  <thead>\n",
       "    <tr style=\"text-align: right;\">\n",
       "      <th></th>\n",
       "      <th>event_name</th>\n",
       "      <th>amount</th>\n",
       "      <th>user_id</th>\n",
       "      <th>proportion_%</th>\n",
       "    </tr>\n",
       "  </thead>\n",
       "  <tbody>\n",
       "    <tr>\n",
       "      <th>0</th>\n",
       "      <td>MainScreenAppear</td>\n",
       "      <td>117328</td>\n",
       "      <td>7419</td>\n",
       "      <td>98.47</td>\n",
       "    </tr>\n",
       "    <tr>\n",
       "      <th>1</th>\n",
       "      <td>OffersScreenAppear</td>\n",
       "      <td>46333</td>\n",
       "      <td>4593</td>\n",
       "      <td>60.96</td>\n",
       "    </tr>\n",
       "    <tr>\n",
       "      <th>2</th>\n",
       "      <td>CartScreenAppear</td>\n",
       "      <td>42303</td>\n",
       "      <td>3734</td>\n",
       "      <td>49.56</td>\n",
       "    </tr>\n",
       "    <tr>\n",
       "      <th>3</th>\n",
       "      <td>PaymentScreenSuccessful</td>\n",
       "      <td>33918</td>\n",
       "      <td>3539</td>\n",
       "      <td>46.97</td>\n",
       "    </tr>\n",
       "  </tbody>\n",
       "</table>\n",
       "</div>"
      ],
      "text/plain": [
       "                event_name  amount  user_id  proportion_%\n",
       "0         MainScreenAppear  117328     7419         98.47\n",
       "1       OffersScreenAppear   46333     4593         60.96\n",
       "2         CartScreenAppear   42303     3734         49.56\n",
       "3  PaymentScreenSuccessful   33918     3539         46.97"
      ]
     },
     "execution_count": 23,
     "metadata": {},
     "output_type": "execute_result"
    }
   ],
   "source": [
    "events = events.iloc[:-1, :] # удаляем событие с переходом на страницу обучения\n",
    "events"
   ]
  },
  {
   "cell_type": "code",
   "execution_count": 24,
   "metadata": {},
   "outputs": [
    {
     "data": {
      "text/html": [
       "<div>\n",
       "<style scoped>\n",
       "    .dataframe tbody tr th:only-of-type {\n",
       "        vertical-align: middle;\n",
       "    }\n",
       "\n",
       "    .dataframe tbody tr th {\n",
       "        vertical-align: top;\n",
       "    }\n",
       "\n",
       "    .dataframe thead th {\n",
       "        text-align: right;\n",
       "    }\n",
       "</style>\n",
       "<table border=\"1\" class=\"dataframe\">\n",
       "  <thead>\n",
       "    <tr style=\"text-align: right;\">\n",
       "      <th></th>\n",
       "      <th>event_name</th>\n",
       "      <th>amount</th>\n",
       "      <th>user_id</th>\n",
       "      <th>proportion_%</th>\n",
       "      <th>funnel_share_%</th>\n",
       "    </tr>\n",
       "  </thead>\n",
       "  <tbody>\n",
       "    <tr>\n",
       "      <th>0</th>\n",
       "      <td>MainScreenAppear</td>\n",
       "      <td>117328</td>\n",
       "      <td>7419</td>\n",
       "      <td>98.47</td>\n",
       "      <td>98.5</td>\n",
       "    </tr>\n",
       "    <tr>\n",
       "      <th>1</th>\n",
       "      <td>OffersScreenAppear</td>\n",
       "      <td>46333</td>\n",
       "      <td>4593</td>\n",
       "      <td>60.96</td>\n",
       "      <td>61.9</td>\n",
       "    </tr>\n",
       "    <tr>\n",
       "      <th>2</th>\n",
       "      <td>CartScreenAppear</td>\n",
       "      <td>42303</td>\n",
       "      <td>3734</td>\n",
       "      <td>49.56</td>\n",
       "      <td>81.3</td>\n",
       "    </tr>\n",
       "    <tr>\n",
       "      <th>3</th>\n",
       "      <td>PaymentScreenSuccessful</td>\n",
       "      <td>33918</td>\n",
       "      <td>3539</td>\n",
       "      <td>46.97</td>\n",
       "      <td>94.8</td>\n",
       "    </tr>\n",
       "  </tbody>\n",
       "</table>\n",
       "</div>"
      ],
      "text/plain": [
       "                event_name  amount  user_id  proportion_%  funnel_share_%\n",
       "0         MainScreenAppear  117328     7419         98.47            98.5\n",
       "1       OffersScreenAppear   46333     4593         60.96            61.9\n",
       "2         CartScreenAppear   42303     3734         49.56            81.3\n",
       "3  PaymentScreenSuccessful   33918     3539         46.97            94.8"
      ]
     },
     "execution_count": 24,
     "metadata": {},
     "output_type": "execute_result"
    }
   ],
   "source": [
    "# По воронке событий посчитаем, какая доля пользователей проходит на следующий шаг воронки относительно предыдущего\n",
    "\n",
    "events['funnel_share_%'] = (events['user_id'] / events['user_id'].shift()).round(3) * 100\n",
    "events.iloc[0, -1] = (events.loc[0, 'user_id'] / data['user_id'].nunique()).round(3) * 100\n",
    "events"
   ]
  },
  {
   "cell_type": "code",
   "execution_count": null,
   "metadata": {},
   "outputs": [],
   "source": [
    "# Построим воронку, какая доля пользователей проходит на следующий шаг воронки относительно предыдущего\n",
    "fig = go.Figure(go.Funnel(x = events['funnel_share_%'], y = events['event_name']))\n",
    "fig.update_layout(title='Доля пользователей, переходящих на следующий шаг воронки относительно предыдущего', title_x = 0.5)\n",
    "fig.show();"
   ]
  },
  {
   "cell_type": "markdown",
   "metadata": {},
   "source": [
    "По графику видно, что на шаге перехода от главной страницы к странице с предложениями теряется больше всего пользователей - 36,6%. "
   ]
  },
  {
   "cell_type": "code",
   "execution_count": null,
   "metadata": {},
   "outputs": [],
   "source": [
    "# Посмотрим, какая доля пользователей доходит от первого события до оплаты\n",
    "\n",
    "events['funnel_share_from_first_%'] = (events['user_id'] / events.loc[0, 'user_id']).round(3) * 100\n",
    "events"
   ]
  },
  {
   "cell_type": "code",
   "execution_count": null,
   "metadata": {},
   "outputs": [],
   "source": [
    "# Построим воронку, какая доля пользователей проходит на следующий шаг воронки относительно первого события\n",
    "fig = go.Figure(go.Funnel(x = events['funnel_share_from_first_%'], y = events['event_name']))\n",
    "fig.update_layout(title='Доля пользователей, переходящих на следующий шаг воронки относительно первого события', title_x = 0.5)\n",
    "fig.show();"
   ]
  },
  {
   "cell_type": "markdown",
   "metadata": {},
   "source": [
    "По воронке можно увидеть, что от первого события до оплаты доходит 47,7% - хороший результат!"
   ]
  },
  {
   "cell_type": "code",
   "execution_count": null,
   "metadata": {},
   "outputs": [],
   "source": [
    "# Построим воронки для каждой из групп по отдельности\n",
    "\n",
    "data_A1 = data.query('group == \"A1\" & event_name != \"Tutorial\"')\n",
    "events_A1 = data_A1.groupby('event_name').agg({'event_name':'count', 'user_id':'nunique'}).sort_values(by='user_id', ascending=False)\n",
    "events_A1.columns=['amount', 'user_id'] # замена названия столбцов     \n",
    "events_A1['proportion_%'] = (events_A1['user_id'] / data_A1['user_id'].nunique() * 100).round(2)\n",
    "events_A1 = events_A1.reset_index()\n",
    "events_A1['funnel_share_from_first_%'] = (events_A1['user_id'] / events_A1.loc[0, 'user_id']).round(3) * 100\n",
    "display(events_A1)\n",
    "\n",
    "data_A2 = data.query('group == \"A2\" & event_name != \"Tutorial\"')\n",
    "events_A2 = data_A2.groupby('event_name').agg({'event_name':'count', 'user_id':'nunique'}).sort_values(by='user_id', ascending=False)\n",
    "events_A2.columns=['amount', 'user_id'] # замена названия столбцов     \n",
    "events_A2['proportion_%'] = (events_A2['user_id'] / data_A2['user_id'].nunique() * 100).round(2)\n",
    "events_A2 = events_A2.reset_index()\n",
    "events_A2['funnel_share_from_first_%'] = (events_A2['user_id'] / events_A2.loc[0, 'user_id']).round(3) * 100\n",
    "display(events_A2)\n",
    "\n",
    "data_B = data.query('group == \"B\" & event_name != \"Tutorial\"')\n",
    "events_B = data_A1.groupby('event_name').agg({'event_name':'count', 'user_id':'nunique'}).sort_values(by='user_id', ascending=False)\n",
    "events_B.columns=['amount', 'user_id'] # замена названия столбцов \n",
    "events_B['proportion_%'] = (events_B['user_id'] / data_B['user_id'].nunique() * 100).round(2)\n",
    "events_B = events_B.reset_index()\n",
    "events_B['funnel_share_from_first_%'] = (events_B['user_id'] / events_B.loc[0, 'user_id']).round(3) * 100\n",
    "display(events_B)"
   ]
  },
  {
   "cell_type": "code",
   "execution_count": null,
   "metadata": {},
   "outputs": [],
   "source": [
    "fig = go.Figure(go.Funnel(x = events_A1['funnel_share_from_first_%'], y = events_A1['event_name']))\n",
    "fig.update_layout(title='Доля пользователей, переходящих на следующий шаг воронки относительно первого события, группа А1', title_x = 0.5)\n",
    "fig.show();\n",
    "\n",
    "fig = go.Figure(go.Funnel(x = events_A2['funnel_share_from_first_%'], y = events_A2['event_name']))\n",
    "fig.update_layout(title='Доля пользователей, переходящих на следующий шаг воронки относительно первого события, группа А2', title_x = 0.5)\n",
    "fig.show();\n",
    "\n",
    "fig = go.Figure(go.Funnel(x = events_B['funnel_share_from_first_%'], y = events_B['event_name']))\n",
    "fig.update_layout(title='Доля пользователей, переходящих на следующий шаг воронки относительно первого события, группа В', title_x = 0.5)\n",
    "fig.show();"
   ]
  },
  {
   "cell_type": "markdown",
   "metadata": {},
   "source": [
    "Мы видим, что конверсии в группах в по отедльности и общая конверсия распределены пропорционально, поэтому можем приступать к проведению тестов."
   ]
  },
  {
   "cell_type": "markdown",
   "metadata": {},
   "source": [
    "Вывод: были изучены воронки событий\n",
    "\n",
    "- Предположили порядок событий:  \n",
    "     1) Просмотрел главную страницу;  \n",
    "     2) Перешел на странцу с предложениями;  \n",
    "     3) Перешел на страницу с корзиной;  \n",
    "     4) Перешел на страницу с успешной оплатой.  \n",
    "- 98 % пользователей попадали на главный экран, 61% - на страницу с предложениями, почти одинаковые результаты для страниц с корзиной и успешной оплатой - 49% и 47%, и самая малая доля у страницы с обучением - 11 %.\n",
    "- Переходов на страницу с обучением мало, и сложно предположить, в каком порядке может произойти это событие, это событие было исключено при расчете воронки\n",
    "- На шаге перехода от главной страницы к странице с предложениями теряется больше всего пользователей - 36,6%, необходимо изучить, почему такое большое кол-во пользователей отсеивается на данном этапе\n",
    "- От первого события (переход на главную страницу) до оплаты доходит 47,7% - хороший результат!"
   ]
  },
  {
   "cell_type": "markdown",
   "metadata": {},
   "source": [
    "## Изучение результатов эксперимента"
   ]
  },
  {
   "cell_type": "code",
   "execution_count": null,
   "metadata": {},
   "outputs": [],
   "source": [
    "#проверим, есть ли пользователи, попавшие в две или более группы\n",
    "\n",
    "data.pivot_table(index='user_id', values='group', aggfunc='nunique').query('group > 1').count()"
   ]
  },
  {
   "cell_type": "markdown",
   "metadata": {},
   "source": [
    "Пользователей, попавших в две или более группы, нет"
   ]
  },
  {
   "cell_type": "markdown",
   "metadata": {},
   "source": [
    "Перед тем как начать A/B-тест, убедимся, что:\n",
    " - на результаты не влияют аномалии и выбросы в генеральной совокупности;\n",
    " - инструмент «деления» трафика работает безошибочно;\n",
    " - данные отправляются в системы аналитики корректно.\n",
    " \n",
    "Для этого проведем А/А тест, в нашем случае проверим, находят ли статистические критерии разницу между группами А1 и А2"
   ]
  },
  {
   "cell_type": "code",
   "execution_count": null,
   "metadata": {},
   "outputs": [],
   "source": [
    "# Посмотрим, сколько пользователей в каждой экспериментальной группе\n",
    "\n",
    "group_users = data.pivot_table(index='group', values='user_id', aggfunc='nunique').reset_index()\n",
    "group_users"
   ]
  },
  {
   "cell_type": "markdown",
   "metadata": {},
   "source": [
    "В группе А1 - 2 484 пользователя, в группе А2 - 2 513 пользователя, в группе В - 2 537 пользователя. Количество пользователей в каждой группе соразмерно."
   ]
  },
  {
   "cell_type": "markdown",
   "metadata": {},
   "source": [
    "Сформулируем гипотезы:\n",
    "\n",
    "- Н0 Нулевая: доли уникальных посетителей, побывавших на этапе воронки, не имеют статистически значимых различий\n",
    "- Н1 Альтернативная: между долями уникальных посетителей, побывавших на этапе воронки, есть статистически значимые различия\n",
    "\n",
    "\n",
    "Для проверки гипотез будем использовать Z-тест, так как этот метод определяет, являются ли два средних значения выборки примерно одинаковыми или разными. Размер выборки должен быть больше 30 - это правило соблюдено. Будем тестировать группы по всем событиям.\n",
    "\n",
    "Уровень значимости alpha - 0.05"
   ]
  },
  {
   "cell_type": "code",
   "execution_count": null,
   "metadata": {},
   "outputs": [],
   "source": [
    "# построим сводную таблицу для проверки гипотез\n",
    "\n",
    "data_test = data.pivot_table(index='event_name', columns='group', values='user_id', aggfunc='nunique').sort_values(by='A1', ascending=False)\n",
    "data_test = data_test.reset_index()\n",
    "data_test['A1_and_A2'] = data_test['A1'] + data_test['A2']\n",
    "data_test['all'] = data_test['A1_and_A2'] + data_test['B']\n",
    "data_test['A1_all'] = group_users.loc[0, 'user_id']\n",
    "data_test['A2_all'] = group_users.loc[1, 'user_id']\n",
    "data_test['B_all'] = group_users.loc[2, 'user_id']\n",
    "data_test['A1_and_A2_all'] = data_test['A1_all'] + data_test['A2_all']\n",
    "\n",
    "data_test"
   ]
  },
  {
   "cell_type": "code",
   "execution_count": null,
   "metadata": {},
   "outputs": [],
   "source": [
    "# зададим функцию для проведения теста\n",
    "\n",
    "def proportion_test(successes, leads):\n",
    "    # пропорция успехов в первой группе:\n",
    "    p1 = successes[0]/leads[0]\n",
    "# пропорция успехов во второй группе:\n",
    "    p2 = successes[1]/leads[1]\n",
    "# пропорция успехов в комбинированном датасете:\n",
    "    p_combined = (successes[0] + successes[1]) / (leads[0] + leads[1])\n",
    "# разница пропорций в датасетах\n",
    "    difference = p1 - p2\n",
    "    z_value = difference / mth.sqrt(p_combined * (1 - p_combined) * (1/leads[0] + 1/leads[1]))\n",
    "    distr = stats.norm(0, 1)\n",
    "    p_value = (1 - distr.cdf(abs(z_value))) * 2\n",
    "    print('p-значение по событию', data_test['event_name'][idx],':')\n",
    "    print(\"{0:.5f}\".format(p_value))\n",
    "    if p_value < alpha:\n",
    "        print('Отвергаем нулевую гипотезу: между долями есть значимая разница')\n",
    "    else:\n",
    "        print(\n",
    "            'Не получилось отвергнуть нулевую гипотезу, нет оснований считать доли разными'\n",
    "        )\n",
    "alpha = .05 # критический уровень статистической значимости"
   ]
  },
  {
   "cell_type": "code",
   "execution_count": null,
   "metadata": {},
   "outputs": [],
   "source": [
    "# проведем А/А тест для каждого события\n",
    "\n",
    "for idx, event in enumerate(data_test['event_name']):\n",
    "    successes = np.array([data_test['A1'][idx], data_test['A2'][idx]])\n",
    "    leads = np.array([data_test['A1_all'][idx], data_test['A2_all'][idx]])\n",
    "    proportion_test(successes, leads)"
   ]
  },
  {
   "cell_type": "markdown",
   "metadata": {},
   "source": [
    "По итогам теста, между контрольными группами для А/А теста - А1 и А2 - статистические критерии не находят разницу для всех событий. Мы можем сделать вывод, что разбиение на группы работает корректно."
   ]
  },
  {
   "cell_type": "markdown",
   "metadata": {},
   "source": [
    "Теперь проведем тест с группами А1 и В, А2 и В, А1+А2 и В. Сформулируем гипотезы:\n",
    "\n",
    "- Н0 Нулевая: доли уникальных посетителей, побывавших на этапе воронки, не имеют статистически значимых различий\n",
    "- Н1 Альтернативная: между долями уникальных посетителей, побывавших на этапе воронки, есть статистически значимые различия\n",
    "\n",
    "Уровень значимости alpha - 0.05"
   ]
  },
  {
   "cell_type": "code",
   "execution_count": null,
   "metadata": {},
   "outputs": [],
   "source": [
    "# проведем А/В тест с группами А1 и В\n",
    "\n",
    "for idx, event in enumerate(data_test['event_name']):\n",
    "    successes = np.array([data_test['A1'][idx], data_test['B'][idx]])\n",
    "    leads = np.array([data_test['A1_all'][idx], data_test['B_all'][idx]])\n",
    "    proportion_test(successes, leads)"
   ]
  },
  {
   "cell_type": "markdown",
   "metadata": {},
   "source": [
    "По итогам теста, между контрольными группами для А/B теста - А1 и B - статистические критерии не находят разницу для всех событий. Следовательно, изменения в шрифте не влияют на поведение пользователей."
   ]
  },
  {
   "cell_type": "code",
   "execution_count": null,
   "metadata": {},
   "outputs": [],
   "source": [
    "# проведем А/В тест с группами А2 и В\n",
    "\n",
    "for idx, event in enumerate(data_test['event_name']):\n",
    "    successes = np.array([data_test['A2'][idx], data_test['B'][idx]])\n",
    "    leads = np.array([data_test['A2_all'][idx], data_test['B_all'][idx]])\n",
    "    proportion_test(successes, leads)"
   ]
  },
  {
   "cell_type": "markdown",
   "metadata": {},
   "source": [
    "По итогам теста, между контрольными группами для А/B теста - А2 и B - статистические критерии не находят разницу для всех событий. Следовательно, изменения в шрифте не влияют на поведение пользователей."
   ]
  },
  {
   "cell_type": "code",
   "execution_count": null,
   "metadata": {},
   "outputs": [],
   "source": [
    "# проведем А/В тест с группами А1+А2 и В\n",
    "\n",
    "for idx, event in enumerate(data_test['event_name']):\n",
    "    successes = np.array([data_test['A1_and_A2'][idx], data_test['B'][idx]])\n",
    "    leads = np.array([data_test['A1_and_A2_all'][idx], data_test['B_all'][idx]])\n",
    "    proportion_test(successes, leads)"
   ]
  },
  {
   "cell_type": "markdown",
   "metadata": {},
   "source": [
    "По итогам теста, между контрольными группами для А/B теста - А1+А2 и B - статистические критерии не находят разницу для всех событий. Следовательно, изменения в шрифте не влияют на поведение пользователей."
   ]
  },
  {
   "cell_type": "markdown",
   "metadata": {},
   "source": [
    "При проверке гипотез, сформулированных выше, мы выбрали уровень значимости alpha - 0.05. Всего было проверено 20 пар гипотез, таким образом, было несколько сравнений, проводимых на одних и тех же данных — это множественный тест, значит, с каждой новой проверкой гипотезы растёт вероятность ошибки первого рода. Чтобы избежать этой ошибки, можно применить поправку Бонферрони по формуле:\n",
    "\n",
    "![title](https://pictures.s3.yandex.net/resources/Untitled-f33fc295-f007-4b31-b2dd-89ee237989d1_1569201056.png)"
   ]
  },
  {
   "cell_type": "code",
   "execution_count": null,
   "metadata": {},
   "outputs": [],
   "source": [
    "# рассчет поправки Бонферрони для избежания ошибок множественного теста\n",
    "\n",
    "new_alpha = alpha / 20\n",
    "new_alpha"
   ]
  },
  {
   "cell_type": "markdown",
   "metadata": {},
   "source": [
    "Новое значение уровня значимости alpha - 0.0025. В нашем случае, по всем тестам p-значение было значительно больше 0.0025, поэтому проводить тесты заново с новым уровнем значимости не будем."
   ]
  },
  {
   "cell_type": "markdown",
   "metadata": {},
   "source": [
    "## Выводы"
   ]
  },
  {
   "cell_type": "markdown",
   "metadata": {},
   "source": [
    "В данном учебном проекте мы исследовали поведение пользователей мобильного приложения, а также провели А/А/В-эксперименты для выяснения, какой шрифт лучше.\n",
    "\n",
    "Мы получили и исследовали общую информацию о данных, а также проверели подготовку данных:\n",
    "- Изменены названия столбцов\n",
    "- Удалены явные дубликаты (0.17% данных)\n",
    "- Добавлены столбцы с датой и временем\n",
    "- Изменены названия групп на А1/А2/В\n",
    "- Провели проверку количества пользователей в каждой группе\n",
    "\n",
    "Далее, данные были подробно изучены и проверены:\n",
    "\n",
    "- Количество событий - 240 887 , количество пользователей - 7 534\n",
    "- Определен актуальный период, за который представлены данные - с 01.08.2019 по 07.08.2019\n",
    "- Сократили неактуальные данные за прошлые периоды - 1.16% событий и 0.23% пользователей\n",
    "- Убедились, что пользователи представлены в каждой группе, в группе А1 - 2 485, в группе А2 - 2 513, в группе В - 2 537\n",
    "\n",
    "Изучили воронки событий и предположили порядок событий:\n",
    "\n",
    "- Предположили порядок событий:  \n",
    "     1) Просмотрел главную страницу;  \n",
    "     2) Перешел на странцу с предложениями;  \n",
    "     3) Перешел на страницу с корзиной;  \n",
    "     4) Перешел на страницу с успешной оплатой.  \n",
    "- 98 % пользователей попадали на главный экран, 61% - на страницу с предложениями, почти одинаковые результаты для страниц с корзиной и успешной оплатой - 49% и 47%, и самая малая доля у страницы с обучением - 11 %.\n",
    "- Переходов на страницу с обучением мало, и сложно предположить, в каком порядке может произойти это событие, это событие было исключено при расчете воронки\n",
    "- От первого события (переход на главную страницу) до оплаты доходит 47,7%\n",
    "\n",
    "Провели А/А/В-эксперименты:\n",
    "\n",
    "- Провели А/А тест и подтвердили, что данные готовы для проведения А/В теста\n",
    "- По результатам А/В теста выяснили, что между контрольными группыми и группой с новым шрифтом нет статистически значимой разницы\n",
    "\n",
    "Таким образом, мы можем сделать вывод, что новый шрифт не влияет на поведение пользователей, а значит не лучше и не хуже, чем предыдущий."
   ]
  }
 ],
 "metadata": {
  "ExecuteTimeLog": [
   {
    "duration": 1331,
    "start_time": "2022-10-23T13:05:00.551Z"
   },
   {
    "duration": 761,
    "start_time": "2022-10-23T13:05:32.379Z"
   },
   {
    "duration": 85,
    "start_time": "2022-10-23T13:06:53.953Z"
   },
   {
    "duration": 36,
    "start_time": "2022-10-23T13:07:05.746Z"
   },
   {
    "duration": 5,
    "start_time": "2022-10-23T13:07:48.352Z"
   },
   {
    "duration": 29,
    "start_time": "2022-10-23T13:08:01.684Z"
   },
   {
    "duration": 1093,
    "start_time": "2022-10-23T13:09:57.381Z"
   },
   {
    "duration": 291,
    "start_time": "2022-10-23T13:09:58.476Z"
   },
   {
    "duration": 3,
    "start_time": "2022-10-23T13:09:58.769Z"
   },
   {
    "duration": 40,
    "start_time": "2022-10-23T13:09:58.774Z"
   },
   {
    "duration": 1115,
    "start_time": "2022-10-23T13:10:07.488Z"
   },
   {
    "duration": 67,
    "start_time": "2022-10-23T13:10:08.606Z"
   },
   {
    "duration": 0,
    "start_time": "2022-10-23T13:10:08.675Z"
   },
   {
    "duration": 0,
    "start_time": "2022-10-23T13:10:08.676Z"
   },
   {
    "duration": 301,
    "start_time": "2022-10-23T13:10:41.838Z"
   },
   {
    "duration": 4,
    "start_time": "2022-10-23T13:10:43.434Z"
   },
   {
    "duration": 27,
    "start_time": "2022-10-23T13:10:44.976Z"
   },
   {
    "duration": 136,
    "start_time": "2022-10-23T13:14:41.293Z"
   },
   {
    "duration": 4,
    "start_time": "2022-10-23T13:14:41.837Z"
   },
   {
    "duration": 38,
    "start_time": "2022-10-23T13:14:43.102Z"
   },
   {
    "duration": 45,
    "start_time": "2022-10-23T13:15:29.543Z"
   },
   {
    "duration": 177,
    "start_time": "2022-10-23T13:16:39.388Z"
   },
   {
    "duration": 3,
    "start_time": "2022-10-23T13:16:40.282Z"
   },
   {
    "duration": 35,
    "start_time": "2022-10-23T13:16:40.702Z"
   },
   {
    "duration": 3,
    "start_time": "2022-10-23T13:17:10.501Z"
   },
   {
    "duration": 1149,
    "start_time": "2022-10-23T13:17:16.089Z"
   },
   {
    "duration": 154,
    "start_time": "2022-10-23T13:17:17.240Z"
   },
   {
    "duration": 5,
    "start_time": "2022-10-23T13:17:17.396Z"
   },
   {
    "duration": 134,
    "start_time": "2022-10-23T13:17:17.411Z"
   },
   {
    "duration": 1115,
    "start_time": "2022-10-23T13:17:41.166Z"
   },
   {
    "duration": 163,
    "start_time": "2022-10-23T13:17:42.283Z"
   },
   {
    "duration": 4,
    "start_time": "2022-10-23T13:17:42.447Z"
   },
   {
    "duration": 148,
    "start_time": "2022-10-23T13:17:42.453Z"
   },
   {
    "duration": 5,
    "start_time": "2022-10-23T13:32:58.656Z"
   },
   {
    "duration": 81,
    "start_time": "2022-10-23T13:49:14.512Z"
   },
   {
    "duration": 125,
    "start_time": "2022-10-23T13:49:31.142Z"
   },
   {
    "duration": 1059,
    "start_time": "2022-10-23T13:49:42.898Z"
   },
   {
    "duration": 147,
    "start_time": "2022-10-23T13:49:43.960Z"
   },
   {
    "duration": 5,
    "start_time": "2022-10-23T13:49:44.113Z"
   },
   {
    "duration": 126,
    "start_time": "2022-10-23T13:49:44.125Z"
   },
   {
    "duration": 6,
    "start_time": "2022-10-23T13:49:44.253Z"
   },
   {
    "duration": 147,
    "start_time": "2022-10-23T13:49:44.260Z"
   },
   {
    "duration": 1069,
    "start_time": "2022-10-23T16:51:20.412Z"
   },
   {
    "duration": 158,
    "start_time": "2022-10-23T16:51:21.484Z"
   },
   {
    "duration": 3,
    "start_time": "2022-10-23T16:51:21.644Z"
   },
   {
    "duration": 122,
    "start_time": "2022-10-23T16:51:21.648Z"
   },
   {
    "duration": 5,
    "start_time": "2022-10-23T16:51:21.773Z"
   },
   {
    "duration": 147,
    "start_time": "2022-10-23T16:51:21.779Z"
   },
   {
    "duration": 107,
    "start_time": "2022-10-23T16:56:30.886Z"
   },
   {
    "duration": 5,
    "start_time": "2022-10-23T16:56:48.861Z"
   },
   {
    "duration": 13,
    "start_time": "2022-10-23T17:00:21.534Z"
   },
   {
    "duration": 1678,
    "start_time": "2022-10-23T17:00:31.813Z"
   },
   {
    "duration": 1143,
    "start_time": "2022-10-23T17:00:45.392Z"
   },
   {
    "duration": 152,
    "start_time": "2022-10-23T17:00:46.537Z"
   },
   {
    "duration": 4,
    "start_time": "2022-10-23T17:00:46.691Z"
   },
   {
    "duration": 123,
    "start_time": "2022-10-23T17:00:46.697Z"
   },
   {
    "duration": 10,
    "start_time": "2022-10-23T17:00:46.821Z"
   },
   {
    "duration": 167,
    "start_time": "2022-10-23T17:00:46.833Z"
   },
   {
    "duration": 1032,
    "start_time": "2022-10-23T17:00:47.002Z"
   },
   {
    "duration": 18,
    "start_time": "2022-10-23T17:01:30.632Z"
   },
   {
    "duration": 18,
    "start_time": "2022-10-23T17:01:58.270Z"
   },
   {
    "duration": 1078,
    "start_time": "2022-10-23T17:05:05.036Z"
   },
   {
    "duration": 158,
    "start_time": "2022-10-23T17:05:06.116Z"
   },
   {
    "duration": 3,
    "start_time": "2022-10-23T17:05:06.275Z"
   },
   {
    "duration": 118,
    "start_time": "2022-10-23T17:05:06.280Z"
   },
   {
    "duration": 16,
    "start_time": "2022-10-23T17:05:06.400Z"
   },
   {
    "duration": 145,
    "start_time": "2022-10-23T17:05:06.418Z"
   },
   {
    "duration": 956,
    "start_time": "2022-10-23T17:05:06.565Z"
   },
   {
    "duration": 50,
    "start_time": "2022-10-23T17:05:32.349Z"
   },
   {
    "duration": 1161,
    "start_time": "2022-10-23T17:06:02.593Z"
   },
   {
    "duration": 172,
    "start_time": "2022-10-23T17:06:03.756Z"
   },
   {
    "duration": 5,
    "start_time": "2022-10-23T17:06:03.930Z"
   },
   {
    "duration": 124,
    "start_time": "2022-10-23T17:06:03.937Z"
   },
   {
    "duration": 5,
    "start_time": "2022-10-23T17:06:04.062Z"
   },
   {
    "duration": 164,
    "start_time": "2022-10-23T17:06:04.069Z"
   },
   {
    "duration": 56,
    "start_time": "2022-10-23T17:06:04.239Z"
   },
   {
    "duration": 52,
    "start_time": "2022-10-23T17:07:16.099Z"
   },
   {
    "duration": 58,
    "start_time": "2022-10-23T17:07:36.026Z"
   },
   {
    "duration": 72,
    "start_time": "2022-10-23T17:07:49.751Z"
   },
   {
    "duration": 111,
    "start_time": "2022-10-23T17:13:01.337Z"
   },
   {
    "duration": 1025,
    "start_time": "2022-10-23T17:13:16.542Z"
   },
   {
    "duration": 143,
    "start_time": "2022-10-23T17:13:17.569Z"
   },
   {
    "duration": 5,
    "start_time": "2022-10-23T17:13:17.715Z"
   },
   {
    "duration": 121,
    "start_time": "2022-10-23T17:13:17.722Z"
   },
   {
    "duration": 6,
    "start_time": "2022-10-23T17:13:17.846Z"
   },
   {
    "duration": 143,
    "start_time": "2022-10-23T17:13:17.853Z"
   },
   {
    "duration": 136,
    "start_time": "2022-10-23T17:13:17.998Z"
   },
   {
    "duration": 0,
    "start_time": "2022-10-23T17:13:18.136Z"
   },
   {
    "duration": 12,
    "start_time": "2022-10-23T17:13:30.790Z"
   },
   {
    "duration": 65,
    "start_time": "2022-10-23T17:13:51.918Z"
   },
   {
    "duration": 1133,
    "start_time": "2022-10-23T17:13:58.627Z"
   },
   {
    "duration": 153,
    "start_time": "2022-10-23T17:13:59.761Z"
   },
   {
    "duration": 6,
    "start_time": "2022-10-23T17:13:59.916Z"
   },
   {
    "duration": 131,
    "start_time": "2022-10-23T17:13:59.924Z"
   },
   {
    "duration": 6,
    "start_time": "2022-10-23T17:14:00.057Z"
   },
   {
    "duration": 143,
    "start_time": "2022-10-23T17:14:00.065Z"
   },
   {
    "duration": 44,
    "start_time": "2022-10-23T17:14:00.210Z"
   },
   {
    "duration": 83,
    "start_time": "2022-10-23T17:14:00.256Z"
   },
   {
    "duration": 62,
    "start_time": "2022-10-23T17:14:45.839Z"
   },
   {
    "duration": 1090,
    "start_time": "2022-10-23T17:14:50.656Z"
   },
   {
    "duration": 152,
    "start_time": "2022-10-23T17:14:51.748Z"
   },
   {
    "duration": 4,
    "start_time": "2022-10-23T17:14:51.901Z"
   },
   {
    "duration": 126,
    "start_time": "2022-10-23T17:14:51.907Z"
   },
   {
    "duration": 5,
    "start_time": "2022-10-23T17:14:52.036Z"
   },
   {
    "duration": 145,
    "start_time": "2022-10-23T17:14:52.043Z"
   },
   {
    "duration": 66,
    "start_time": "2022-10-23T17:14:52.190Z"
   },
   {
    "duration": 73,
    "start_time": "2022-10-23T17:14:52.258Z"
   },
   {
    "duration": 10,
    "start_time": "2022-10-23T17:25:49.523Z"
   },
   {
    "duration": 20,
    "start_time": "2022-10-23T17:26:30.861Z"
   },
   {
    "duration": 61,
    "start_time": "2022-10-23T17:29:25.883Z"
   },
   {
    "duration": 74,
    "start_time": "2022-10-23T17:30:20.603Z"
   },
   {
    "duration": 32,
    "start_time": "2022-10-23T17:30:27.586Z"
   },
   {
    "duration": 48,
    "start_time": "2022-10-23T17:31:50.257Z"
   },
   {
    "duration": 34,
    "start_time": "2022-10-23T17:32:05.048Z"
   },
   {
    "duration": 40,
    "start_time": "2022-10-23T17:33:12.038Z"
   },
   {
    "duration": 32,
    "start_time": "2022-10-23T17:42:17.176Z"
   },
   {
    "duration": 27,
    "start_time": "2022-10-23T17:42:25.553Z"
   },
   {
    "duration": 53,
    "start_time": "2022-10-23T17:42:39.460Z"
   },
   {
    "duration": 114,
    "start_time": "2022-10-23T17:43:13.096Z"
   },
   {
    "duration": 7,
    "start_time": "2022-10-23T17:43:41.024Z"
   },
   {
    "duration": 10,
    "start_time": "2022-10-23T17:43:53.082Z"
   },
   {
    "duration": 25,
    "start_time": "2022-10-23T17:44:59.253Z"
   },
   {
    "duration": 12,
    "start_time": "2022-10-23T17:45:41.042Z"
   },
   {
    "duration": 5,
    "start_time": "2022-10-23T17:45:51.137Z"
   },
   {
    "duration": 11,
    "start_time": "2022-10-23T17:46:28.989Z"
   },
   {
    "duration": 1021,
    "start_time": "2022-10-23T17:46:35.553Z"
   },
   {
    "duration": 149,
    "start_time": "2022-10-23T17:46:36.576Z"
   },
   {
    "duration": 4,
    "start_time": "2022-10-23T17:46:36.727Z"
   },
   {
    "duration": 129,
    "start_time": "2022-10-23T17:46:36.733Z"
   },
   {
    "duration": 5,
    "start_time": "2022-10-23T17:46:36.863Z"
   },
   {
    "duration": 144,
    "start_time": "2022-10-23T17:46:36.870Z"
   },
   {
    "duration": 50,
    "start_time": "2022-10-23T17:46:37.015Z"
   },
   {
    "duration": 77,
    "start_time": "2022-10-23T17:46:37.068Z"
   },
   {
    "duration": 15,
    "start_time": "2022-10-23T17:46:37.147Z"
   },
   {
    "duration": 55,
    "start_time": "2022-10-23T17:46:37.164Z"
   },
   {
    "duration": 116,
    "start_time": "2022-10-23T17:46:37.221Z"
   },
   {
    "duration": 1077,
    "start_time": "2022-10-23T17:48:06.684Z"
   },
   {
    "duration": 152,
    "start_time": "2022-10-23T17:48:07.763Z"
   },
   {
    "duration": 7,
    "start_time": "2022-10-23T17:48:07.917Z"
   },
   {
    "duration": 114,
    "start_time": "2022-10-23T17:48:07.925Z"
   },
   {
    "duration": 4,
    "start_time": "2022-10-23T17:48:08.042Z"
   },
   {
    "duration": 144,
    "start_time": "2022-10-23T17:48:08.048Z"
   },
   {
    "duration": 53,
    "start_time": "2022-10-23T17:48:08.194Z"
   },
   {
    "duration": 72,
    "start_time": "2022-10-23T17:48:08.249Z"
   },
   {
    "duration": 17,
    "start_time": "2022-10-23T17:48:08.323Z"
   },
   {
    "duration": 43,
    "start_time": "2022-10-23T17:48:08.342Z"
   },
   {
    "duration": 134,
    "start_time": "2022-10-23T17:48:08.387Z"
   },
   {
    "duration": 4,
    "start_time": "2022-10-23T17:53:18.895Z"
   },
   {
    "duration": 11,
    "start_time": "2022-10-23T17:54:14.177Z"
   },
   {
    "duration": 8,
    "start_time": "2022-10-23T17:54:18.628Z"
   },
   {
    "duration": 16,
    "start_time": "2022-10-23T17:54:23.796Z"
   },
   {
    "duration": 5,
    "start_time": "2022-10-23T17:54:40.167Z"
   },
   {
    "duration": 10,
    "start_time": "2022-10-23T17:54:46.638Z"
   },
   {
    "duration": 6,
    "start_time": "2022-10-23T17:54:53.487Z"
   },
   {
    "duration": 11,
    "start_time": "2022-10-23T17:55:19.521Z"
   },
   {
    "duration": 3,
    "start_time": "2022-10-23T17:55:33.422Z"
   },
   {
    "duration": 1060,
    "start_time": "2022-10-23T17:55:40.970Z"
   },
   {
    "duration": 164,
    "start_time": "2022-10-23T17:55:42.032Z"
   },
   {
    "duration": 4,
    "start_time": "2022-10-23T17:55:42.197Z"
   },
   {
    "duration": 162,
    "start_time": "2022-10-23T17:55:42.202Z"
   },
   {
    "duration": 6,
    "start_time": "2022-10-23T17:55:42.366Z"
   },
   {
    "duration": 159,
    "start_time": "2022-10-23T17:55:42.373Z"
   },
   {
    "duration": 54,
    "start_time": "2022-10-23T17:55:42.533Z"
   },
   {
    "duration": 97,
    "start_time": "2022-10-23T17:55:42.589Z"
   },
   {
    "duration": 38,
    "start_time": "2022-10-23T17:55:42.688Z"
   },
   {
    "duration": 65,
    "start_time": "2022-10-23T17:55:42.730Z"
   },
   {
    "duration": 129,
    "start_time": "2022-10-23T17:55:42.798Z"
   },
   {
    "duration": 2,
    "start_time": "2022-10-23T17:55:54.642Z"
   },
   {
    "duration": 3,
    "start_time": "2022-10-23T17:56:08.133Z"
   },
   {
    "duration": 57,
    "start_time": "2022-10-23T17:57:00.988Z"
   },
   {
    "duration": 53,
    "start_time": "2022-10-23T17:57:06.771Z"
   },
   {
    "duration": 51,
    "start_time": "2022-10-23T17:57:23.366Z"
   },
   {
    "duration": 50,
    "start_time": "2022-10-23T17:57:38.263Z"
   },
   {
    "duration": 50,
    "start_time": "2022-10-23T17:57:44.954Z"
   },
   {
    "duration": 53,
    "start_time": "2022-10-23T17:58:06.897Z"
   },
   {
    "duration": 50,
    "start_time": "2022-10-23T17:59:18.051Z"
   },
   {
    "duration": 56,
    "start_time": "2022-10-23T17:59:37.380Z"
   },
   {
    "duration": 55,
    "start_time": "2022-10-23T18:00:03.028Z"
   },
   {
    "duration": 50,
    "start_time": "2022-10-23T18:02:42.745Z"
   },
   {
    "duration": 30,
    "start_time": "2022-10-23T18:02:55.186Z"
   },
   {
    "duration": 44,
    "start_time": "2022-10-23T18:08:23.864Z"
   },
   {
    "duration": 8,
    "start_time": "2022-10-23T18:11:34.884Z"
   },
   {
    "duration": 23,
    "start_time": "2022-10-23T18:11:38.528Z"
   },
   {
    "duration": 25,
    "start_time": "2022-10-23T18:11:46.183Z"
   },
   {
    "duration": 10,
    "start_time": "2022-10-23T18:11:56.033Z"
   },
   {
    "duration": 10,
    "start_time": "2022-10-23T18:13:50.986Z"
   },
   {
    "duration": 1193,
    "start_time": "2022-10-24T04:23:09.363Z"
   },
   {
    "duration": 477,
    "start_time": "2022-10-24T04:23:10.557Z"
   },
   {
    "duration": 3,
    "start_time": "2022-10-24T04:23:11.035Z"
   },
   {
    "duration": 108,
    "start_time": "2022-10-24T04:23:11.039Z"
   },
   {
    "duration": 5,
    "start_time": "2022-10-24T04:23:11.150Z"
   },
   {
    "duration": 131,
    "start_time": "2022-10-24T04:23:11.156Z"
   },
   {
    "duration": 54,
    "start_time": "2022-10-24T04:23:11.289Z"
   },
   {
    "duration": 18,
    "start_time": "2022-10-24T04:23:11.345Z"
   },
   {
    "duration": 67,
    "start_time": "2022-10-24T04:23:11.365Z"
   },
   {
    "duration": 52,
    "start_time": "2022-10-24T04:23:11.434Z"
   },
   {
    "duration": 120,
    "start_time": "2022-10-24T04:23:11.488Z"
   },
   {
    "duration": 0,
    "start_time": "2022-10-24T04:23:11.610Z"
   },
   {
    "duration": 60,
    "start_time": "2022-10-24T04:23:47.215Z"
   },
   {
    "duration": 1023,
    "start_time": "2022-10-24T04:23:57.270Z"
   },
   {
    "duration": 191,
    "start_time": "2022-10-24T04:23:58.295Z"
   },
   {
    "duration": 3,
    "start_time": "2022-10-24T04:23:58.488Z"
   },
   {
    "duration": 122,
    "start_time": "2022-10-24T04:23:58.492Z"
   },
   {
    "duration": 5,
    "start_time": "2022-10-24T04:23:58.622Z"
   },
   {
    "duration": 132,
    "start_time": "2022-10-24T04:23:58.628Z"
   },
   {
    "duration": 44,
    "start_time": "2022-10-24T04:23:58.762Z"
   },
   {
    "duration": 28,
    "start_time": "2022-10-24T04:23:58.808Z"
   },
   {
    "duration": 86,
    "start_time": "2022-10-24T04:23:58.837Z"
   },
   {
    "duration": 74,
    "start_time": "2022-10-24T04:23:58.925Z"
   },
   {
    "duration": 136,
    "start_time": "2022-10-24T04:23:59.001Z"
   },
   {
    "duration": 54,
    "start_time": "2022-10-24T04:24:14.617Z"
   },
   {
    "duration": 58,
    "start_time": "2022-10-24T04:24:50.489Z"
   },
   {
    "duration": 58,
    "start_time": "2022-10-24T04:25:37.817Z"
   },
   {
    "duration": 4,
    "start_time": "2022-10-24T04:25:47.681Z"
   },
   {
    "duration": 31,
    "start_time": "2022-10-24T04:35:35.019Z"
   },
   {
    "duration": 13,
    "start_time": "2022-10-24T04:35:46.300Z"
   },
   {
    "duration": 30,
    "start_time": "2022-10-24T04:35:50.610Z"
   },
   {
    "duration": 46,
    "start_time": "2022-10-24T04:40:29.215Z"
   },
   {
    "duration": 16,
    "start_time": "2022-10-24T04:41:24.935Z"
   },
   {
    "duration": 1085,
    "start_time": "2022-10-24T04:41:30.196Z"
   },
   {
    "duration": 146,
    "start_time": "2022-10-24T04:41:31.283Z"
   },
   {
    "duration": 3,
    "start_time": "2022-10-24T04:41:31.431Z"
   },
   {
    "duration": 126,
    "start_time": "2022-10-24T04:41:31.436Z"
   },
   {
    "duration": 4,
    "start_time": "2022-10-24T04:41:31.564Z"
   },
   {
    "duration": 147,
    "start_time": "2022-10-24T04:41:31.570Z"
   },
   {
    "duration": 46,
    "start_time": "2022-10-24T04:41:31.721Z"
   },
   {
    "duration": 78,
    "start_time": "2022-10-24T04:41:31.768Z"
   },
   {
    "duration": 18,
    "start_time": "2022-10-24T04:41:31.848Z"
   },
   {
    "duration": 113,
    "start_time": "2022-10-24T04:41:31.868Z"
   },
   {
    "duration": 0,
    "start_time": "2022-10-24T04:41:31.982Z"
   },
   {
    "duration": 0,
    "start_time": "2022-10-24T04:41:31.983Z"
   },
   {
    "duration": 34,
    "start_time": "2022-10-24T04:41:48.361Z"
   },
   {
    "duration": 13,
    "start_time": "2022-10-24T04:42:36.082Z"
   },
   {
    "duration": 12,
    "start_time": "2022-10-24T04:42:57.890Z"
   },
   {
    "duration": 1018,
    "start_time": "2022-10-24T04:43:02.348Z"
   },
   {
    "duration": 152,
    "start_time": "2022-10-24T04:43:03.368Z"
   },
   {
    "duration": 5,
    "start_time": "2022-10-24T04:43:03.522Z"
   },
   {
    "duration": 127,
    "start_time": "2022-10-24T04:43:03.529Z"
   },
   {
    "duration": 6,
    "start_time": "2022-10-24T04:43:03.659Z"
   },
   {
    "duration": 143,
    "start_time": "2022-10-24T04:43:03.666Z"
   },
   {
    "duration": 56,
    "start_time": "2022-10-24T04:43:03.810Z"
   },
   {
    "duration": 82,
    "start_time": "2022-10-24T04:43:03.868Z"
   },
   {
    "duration": 20,
    "start_time": "2022-10-24T04:43:03.951Z"
   },
   {
    "duration": 53,
    "start_time": "2022-10-24T04:43:03.972Z"
   },
   {
    "duration": 102,
    "start_time": "2022-10-24T04:43:04.027Z"
   },
   {
    "duration": 0,
    "start_time": "2022-10-24T04:43:04.131Z"
   },
   {
    "duration": 37,
    "start_time": "2022-10-24T04:43:57.930Z"
   },
   {
    "duration": 8,
    "start_time": "2022-10-24T04:44:25.138Z"
   },
   {
    "duration": 9,
    "start_time": "2022-10-24T04:46:10.073Z"
   },
   {
    "duration": 4,
    "start_time": "2022-10-24T04:46:20.192Z"
   },
   {
    "duration": 27,
    "start_time": "2022-10-24T04:50:30.063Z"
   },
   {
    "duration": 25,
    "start_time": "2022-10-24T04:50:35.469Z"
   },
   {
    "duration": 27,
    "start_time": "2022-10-24T04:50:41.838Z"
   },
   {
    "duration": 7,
    "start_time": "2022-10-24T04:51:14.941Z"
   },
   {
    "duration": 976,
    "start_time": "2022-10-24T04:51:24.188Z"
   },
   {
    "duration": 142,
    "start_time": "2022-10-24T04:51:25.165Z"
   },
   {
    "duration": 3,
    "start_time": "2022-10-24T04:51:25.309Z"
   },
   {
    "duration": 102,
    "start_time": "2022-10-24T04:51:25.313Z"
   },
   {
    "duration": 5,
    "start_time": "2022-10-24T04:51:25.423Z"
   },
   {
    "duration": 129,
    "start_time": "2022-10-24T04:51:25.429Z"
   },
   {
    "duration": 45,
    "start_time": "2022-10-24T04:51:25.559Z"
   },
   {
    "duration": 72,
    "start_time": "2022-10-24T04:51:25.605Z"
   },
   {
    "duration": 19,
    "start_time": "2022-10-24T04:51:25.678Z"
   },
   {
    "duration": 54,
    "start_time": "2022-10-24T04:51:25.699Z"
   },
   {
    "duration": 107,
    "start_time": "2022-10-24T04:51:25.755Z"
   },
   {
    "duration": 0,
    "start_time": "2022-10-24T04:51:25.863Z"
   },
   {
    "duration": 8,
    "start_time": "2022-10-24T04:51:37.223Z"
   },
   {
    "duration": 12,
    "start_time": "2022-10-24T04:52:14.935Z"
   },
   {
    "duration": 4,
    "start_time": "2022-10-24T04:52:40.536Z"
   },
   {
    "duration": 11,
    "start_time": "2022-10-24T04:55:05.293Z"
   },
   {
    "duration": 7,
    "start_time": "2022-10-24T04:55:08.460Z"
   },
   {
    "duration": 3,
    "start_time": "2022-10-24T04:55:33.709Z"
   },
   {
    "duration": 3,
    "start_time": "2022-10-24T04:55:54.132Z"
   },
   {
    "duration": 5,
    "start_time": "2022-10-24T04:58:28.355Z"
   },
   {
    "duration": 9,
    "start_time": "2022-10-24T04:58:35.914Z"
   },
   {
    "duration": 1010,
    "start_time": "2022-10-24T04:58:42.441Z"
   },
   {
    "duration": 143,
    "start_time": "2022-10-24T04:58:43.452Z"
   },
   {
    "duration": 3,
    "start_time": "2022-10-24T04:58:43.596Z"
   },
   {
    "duration": 103,
    "start_time": "2022-10-24T04:58:43.600Z"
   },
   {
    "duration": 5,
    "start_time": "2022-10-24T04:58:43.705Z"
   },
   {
    "duration": 139,
    "start_time": "2022-10-24T04:58:43.711Z"
   },
   {
    "duration": 44,
    "start_time": "2022-10-24T04:58:43.851Z"
   },
   {
    "duration": 72,
    "start_time": "2022-10-24T04:58:43.896Z"
   },
   {
    "duration": 18,
    "start_time": "2022-10-24T04:58:43.970Z"
   },
   {
    "duration": 48,
    "start_time": "2022-10-24T04:58:43.989Z"
   },
   {
    "duration": 8,
    "start_time": "2022-10-24T04:58:44.039Z"
   },
   {
    "duration": 10,
    "start_time": "2022-10-24T04:58:44.048Z"
   },
   {
    "duration": 153,
    "start_time": "2022-10-24T05:09:53.693Z"
   },
   {
    "duration": 140,
    "start_time": "2022-10-24T05:10:08.676Z"
   },
   {
    "duration": 143,
    "start_time": "2022-10-24T05:10:15.972Z"
   },
   {
    "duration": 3,
    "start_time": "2022-10-24T05:10:21.300Z"
   },
   {
    "duration": 4,
    "start_time": "2022-10-24T05:11:37.531Z"
   },
   {
    "duration": 98,
    "start_time": "2022-10-24T05:11:57.507Z"
   },
   {
    "duration": 9,
    "start_time": "2022-10-24T05:12:10.371Z"
   },
   {
    "duration": 9,
    "start_time": "2022-10-24T05:12:17.619Z"
   },
   {
    "duration": 10,
    "start_time": "2022-10-24T05:12:57.138Z"
   },
   {
    "duration": 9,
    "start_time": "2022-10-24T05:13:08.330Z"
   },
   {
    "duration": 42,
    "start_time": "2022-10-24T05:13:44.491Z"
   },
   {
    "duration": 8,
    "start_time": "2022-10-24T05:14:06.978Z"
   },
   {
    "duration": 4,
    "start_time": "2022-10-24T05:14:31.554Z"
   },
   {
    "duration": 4,
    "start_time": "2022-10-24T05:14:47.545Z"
   },
   {
    "duration": 4,
    "start_time": "2022-10-24T05:15:04.545Z"
   },
   {
    "duration": 4,
    "start_time": "2022-10-24T05:15:20.313Z"
   },
   {
    "duration": 4,
    "start_time": "2022-10-24T05:15:33.106Z"
   },
   {
    "duration": 4,
    "start_time": "2022-10-24T05:15:42.433Z"
   },
   {
    "duration": 8,
    "start_time": "2022-10-24T05:19:24.920Z"
   },
   {
    "duration": 188,
    "start_time": "2022-10-24T05:19:29.638Z"
   },
   {
    "duration": 1138,
    "start_time": "2022-10-24T05:19:38.608Z"
   },
   {
    "duration": 144,
    "start_time": "2022-10-24T05:19:39.748Z"
   },
   {
    "duration": 3,
    "start_time": "2022-10-24T05:19:39.894Z"
   },
   {
    "duration": 108,
    "start_time": "2022-10-24T05:19:39.899Z"
   },
   {
    "duration": 5,
    "start_time": "2022-10-24T05:19:40.021Z"
   },
   {
    "duration": 141,
    "start_time": "2022-10-24T05:19:40.027Z"
   },
   {
    "duration": 4,
    "start_time": "2022-10-24T05:19:40.170Z"
   },
   {
    "duration": 67,
    "start_time": "2022-10-24T05:19:40.176Z"
   },
   {
    "duration": 58,
    "start_time": "2022-10-24T05:19:40.245Z"
   },
   {
    "duration": 59,
    "start_time": "2022-10-24T05:19:40.304Z"
   },
   {
    "duration": 34,
    "start_time": "2022-10-24T05:19:40.364Z"
   },
   {
    "duration": 28,
    "start_time": "2022-10-24T05:19:40.399Z"
   },
   {
    "duration": 9,
    "start_time": "2022-10-24T05:19:40.428Z"
   },
   {
    "duration": 45,
    "start_time": "2022-10-24T05:23:09.326Z"
   },
   {
    "duration": 1009,
    "start_time": "2022-10-24T05:23:17.970Z"
   },
   {
    "duration": 159,
    "start_time": "2022-10-24T05:23:18.981Z"
   },
   {
    "duration": 4,
    "start_time": "2022-10-24T05:23:19.141Z"
   },
   {
    "duration": 116,
    "start_time": "2022-10-24T05:23:19.146Z"
   },
   {
    "duration": 5,
    "start_time": "2022-10-24T05:23:19.264Z"
   },
   {
    "duration": 136,
    "start_time": "2022-10-24T05:23:19.270Z"
   },
   {
    "duration": 4,
    "start_time": "2022-10-24T05:23:19.408Z"
   },
   {
    "duration": 45,
    "start_time": "2022-10-24T05:23:19.422Z"
   },
   {
    "duration": 80,
    "start_time": "2022-10-24T05:23:19.469Z"
   },
   {
    "duration": 42,
    "start_time": "2022-10-24T05:23:19.551Z"
   },
   {
    "duration": 72,
    "start_time": "2022-10-24T05:23:19.594Z"
   },
   {
    "duration": 8,
    "start_time": "2022-10-24T05:23:19.668Z"
   },
   {
    "duration": 9,
    "start_time": "2022-10-24T05:23:19.678Z"
   },
   {
    "duration": 28,
    "start_time": "2022-10-24T05:24:13.271Z"
   },
   {
    "duration": 54,
    "start_time": "2022-10-24T05:25:58.191Z"
   },
   {
    "duration": 1175,
    "start_time": "2022-10-24T05:26:02.590Z"
   },
   {
    "duration": 145,
    "start_time": "2022-10-24T05:26:03.767Z"
   },
   {
    "duration": 11,
    "start_time": "2022-10-24T05:26:03.913Z"
   },
   {
    "duration": 116,
    "start_time": "2022-10-24T05:26:03.925Z"
   },
   {
    "duration": 4,
    "start_time": "2022-10-24T05:26:04.043Z"
   },
   {
    "duration": 139,
    "start_time": "2022-10-24T05:26:04.049Z"
   },
   {
    "duration": 4,
    "start_time": "2022-10-24T05:26:04.189Z"
   },
   {
    "duration": 61,
    "start_time": "2022-10-24T05:26:04.195Z"
   },
   {
    "duration": 68,
    "start_time": "2022-10-24T05:26:04.257Z"
   },
   {
    "duration": 48,
    "start_time": "2022-10-24T05:26:04.326Z"
   },
   {
    "duration": 56,
    "start_time": "2022-10-24T05:26:04.376Z"
   },
   {
    "duration": 0,
    "start_time": "2022-10-24T05:26:04.434Z"
   },
   {
    "duration": 0,
    "start_time": "2022-10-24T05:26:04.435Z"
   },
   {
    "duration": 33,
    "start_time": "2022-10-24T05:26:11.099Z"
   },
   {
    "duration": 87,
    "start_time": "2022-10-24T05:26:23.107Z"
   },
   {
    "duration": 11,
    "start_time": "2022-10-24T05:26:42.403Z"
   },
   {
    "duration": 1047,
    "start_time": "2022-10-24T05:26:46.514Z"
   },
   {
    "duration": 144,
    "start_time": "2022-10-24T05:26:47.563Z"
   },
   {
    "duration": 4,
    "start_time": "2022-10-24T05:26:47.708Z"
   },
   {
    "duration": 118,
    "start_time": "2022-10-24T05:26:47.714Z"
   },
   {
    "duration": 4,
    "start_time": "2022-10-24T05:26:47.834Z"
   },
   {
    "duration": 134,
    "start_time": "2022-10-24T05:26:47.839Z"
   },
   {
    "duration": 4,
    "start_time": "2022-10-24T05:26:47.974Z"
   },
   {
    "duration": 57,
    "start_time": "2022-10-24T05:26:47.979Z"
   },
   {
    "duration": 58,
    "start_time": "2022-10-24T05:26:48.038Z"
   },
   {
    "duration": 59,
    "start_time": "2022-10-24T05:26:48.098Z"
   },
   {
    "duration": 33,
    "start_time": "2022-10-24T05:26:48.158Z"
   },
   {
    "duration": 7,
    "start_time": "2022-10-24T05:26:48.192Z"
   },
   {
    "duration": 89,
    "start_time": "2022-10-24T05:26:48.222Z"
   },
   {
    "duration": 71,
    "start_time": "2022-10-24T05:27:10.443Z"
   },
   {
    "duration": 8,
    "start_time": "2022-10-24T05:27:14.636Z"
   },
   {
    "duration": 989,
    "start_time": "2022-10-24T05:27:19.669Z"
   },
   {
    "duration": 141,
    "start_time": "2022-10-24T05:27:20.660Z"
   },
   {
    "duration": 4,
    "start_time": "2022-10-24T05:27:20.802Z"
   },
   {
    "duration": 115,
    "start_time": "2022-10-24T05:27:20.807Z"
   },
   {
    "duration": 4,
    "start_time": "2022-10-24T05:27:20.924Z"
   },
   {
    "duration": 138,
    "start_time": "2022-10-24T05:27:20.929Z"
   },
   {
    "duration": 6,
    "start_time": "2022-10-24T05:27:21.069Z"
   },
   {
    "duration": 60,
    "start_time": "2022-10-24T05:27:21.077Z"
   },
   {
    "duration": 58,
    "start_time": "2022-10-24T05:27:21.139Z"
   },
   {
    "duration": 55,
    "start_time": "2022-10-24T05:27:21.200Z"
   },
   {
    "duration": 33,
    "start_time": "2022-10-24T05:27:21.256Z"
   },
   {
    "duration": 31,
    "start_time": "2022-10-24T05:27:21.291Z"
   },
   {
    "duration": 86,
    "start_time": "2022-10-24T05:27:21.324Z"
   },
   {
    "duration": 8,
    "start_time": "2022-10-24T05:27:31.463Z"
   },
   {
    "duration": 15,
    "start_time": "2022-10-24T05:28:03.679Z"
   },
   {
    "duration": 8,
    "start_time": "2022-10-24T05:28:13.398Z"
   },
   {
    "duration": 29,
    "start_time": "2022-10-24T05:28:37.942Z"
   },
   {
    "duration": 992,
    "start_time": "2022-10-24T05:28:41.857Z"
   },
   {
    "duration": 140,
    "start_time": "2022-10-24T05:28:42.851Z"
   },
   {
    "duration": 3,
    "start_time": "2022-10-24T05:28:42.993Z"
   },
   {
    "duration": 130,
    "start_time": "2022-10-24T05:28:42.997Z"
   },
   {
    "duration": 4,
    "start_time": "2022-10-24T05:28:43.129Z"
   },
   {
    "duration": 138,
    "start_time": "2022-10-24T05:28:43.135Z"
   },
   {
    "duration": 4,
    "start_time": "2022-10-24T05:28:43.274Z"
   },
   {
    "duration": 58,
    "start_time": "2022-10-24T05:28:43.280Z"
   },
   {
    "duration": 57,
    "start_time": "2022-10-24T05:28:43.340Z"
   },
   {
    "duration": 57,
    "start_time": "2022-10-24T05:28:43.399Z"
   },
   {
    "duration": 34,
    "start_time": "2022-10-24T05:28:43.457Z"
   },
   {
    "duration": 6,
    "start_time": "2022-10-24T05:28:43.492Z"
   },
   {
    "duration": 4,
    "start_time": "2022-10-24T05:28:43.521Z"
   },
   {
    "duration": 1337,
    "start_time": "2022-10-24T16:50:36.060Z"
   },
   {
    "duration": 743,
    "start_time": "2022-10-24T16:50:37.400Z"
   },
   {
    "duration": 6,
    "start_time": "2022-10-24T16:50:38.146Z"
   },
   {
    "duration": 156,
    "start_time": "2022-10-24T16:50:38.155Z"
   },
   {
    "duration": 16,
    "start_time": "2022-10-24T16:50:38.313Z"
   },
   {
    "duration": 157,
    "start_time": "2022-10-24T16:50:38.331Z"
   },
   {
    "duration": 5,
    "start_time": "2022-10-24T16:50:38.489Z"
   },
   {
    "duration": 71,
    "start_time": "2022-10-24T16:50:38.495Z"
   },
   {
    "duration": 78,
    "start_time": "2022-10-24T16:50:38.568Z"
   },
   {
    "duration": 56,
    "start_time": "2022-10-24T16:50:38.648Z"
   },
   {
    "duration": 54,
    "start_time": "2022-10-24T16:50:38.706Z"
   },
   {
    "duration": 9,
    "start_time": "2022-10-24T16:50:38.762Z"
   },
   {
    "duration": 13,
    "start_time": "2022-10-24T16:50:38.773Z"
   },
   {
    "duration": 18,
    "start_time": "2022-10-24T16:58:11.148Z"
   },
   {
    "duration": 25,
    "start_time": "2022-10-24T16:58:25.329Z"
   },
   {
    "duration": 24,
    "start_time": "2022-10-24T16:59:05.175Z"
   },
   {
    "duration": 9,
    "start_time": "2022-10-24T16:59:26.092Z"
   },
   {
    "duration": 29,
    "start_time": "2022-10-24T16:59:56.970Z"
   },
   {
    "duration": 3,
    "start_time": "2022-10-24T17:00:02.965Z"
   },
   {
    "duration": 1169,
    "start_time": "2022-10-24T17:00:09.746Z"
   },
   {
    "duration": 169,
    "start_time": "2022-10-24T17:00:10.917Z"
   },
   {
    "duration": 4,
    "start_time": "2022-10-24T17:00:11.088Z"
   },
   {
    "duration": 144,
    "start_time": "2022-10-24T17:00:11.094Z"
   },
   {
    "duration": 5,
    "start_time": "2022-10-24T17:00:11.240Z"
   },
   {
    "duration": 155,
    "start_time": "2022-10-24T17:00:11.246Z"
   },
   {
    "duration": 5,
    "start_time": "2022-10-24T17:00:11.403Z"
   },
   {
    "duration": 66,
    "start_time": "2022-10-24T17:00:11.410Z"
   },
   {
    "duration": 115,
    "start_time": "2022-10-24T17:00:11.478Z"
   },
   {
    "duration": 65,
    "start_time": "2022-10-24T17:00:11.596Z"
   },
   {
    "duration": 4,
    "start_time": "2022-10-24T17:00:11.663Z"
   },
   {
    "duration": 9,
    "start_time": "2022-10-24T17:00:11.670Z"
   },
   {
    "duration": 59,
    "start_time": "2022-10-24T17:00:11.680Z"
   },
   {
    "duration": 6,
    "start_time": "2022-10-24T17:06:50.546Z"
   },
   {
    "duration": 5,
    "start_time": "2022-10-24T17:07:27.485Z"
   },
   {
    "duration": 421,
    "start_time": "2022-10-24T17:09:54.550Z"
   },
   {
    "duration": 322,
    "start_time": "2022-10-24T17:09:59.211Z"
   },
   {
    "duration": 277,
    "start_time": "2022-10-24T17:10:55.043Z"
   },
   {
    "duration": 300,
    "start_time": "2022-10-24T17:11:07.590Z"
   },
   {
    "duration": 246,
    "start_time": "2022-10-24T17:11:14.708Z"
   },
   {
    "duration": 396,
    "start_time": "2022-10-24T17:11:18.910Z"
   },
   {
    "duration": 303,
    "start_time": "2022-10-24T17:12:19.823Z"
   },
   {
    "duration": 324,
    "start_time": "2022-10-24T17:13:17.137Z"
   },
   {
    "duration": 339,
    "start_time": "2022-10-24T17:13:36.975Z"
   },
   {
    "duration": 24,
    "start_time": "2022-10-24T17:17:11.525Z"
   },
   {
    "duration": 20,
    "start_time": "2022-10-24T17:17:24.447Z"
   },
   {
    "duration": 6,
    "start_time": "2022-10-24T17:17:41.043Z"
   },
   {
    "duration": 16,
    "start_time": "2022-10-24T17:17:45.989Z"
   },
   {
    "duration": 17,
    "start_time": "2022-10-24T17:18:20.505Z"
   },
   {
    "duration": 17,
    "start_time": "2022-10-24T17:18:27.454Z"
   },
   {
    "duration": 5,
    "start_time": "2022-10-24T17:19:42.609Z"
   },
   {
    "duration": 5,
    "start_time": "2022-10-24T17:19:50.704Z"
   },
   {
    "duration": 5,
    "start_time": "2022-10-24T17:20:01.794Z"
   },
   {
    "duration": 5,
    "start_time": "2022-10-24T17:20:11.667Z"
   },
   {
    "duration": 6,
    "start_time": "2022-10-24T17:20:18.440Z"
   },
   {
    "duration": 4,
    "start_time": "2022-10-24T17:22:44.895Z"
   },
   {
    "duration": 16,
    "start_time": "2022-10-24T17:25:03.397Z"
   },
   {
    "duration": 16,
    "start_time": "2022-10-24T17:25:17.374Z"
   },
   {
    "duration": 56,
    "start_time": "2022-10-24T17:25:55.031Z"
   },
   {
    "duration": 121,
    "start_time": "2022-10-24T17:55:56.147Z"
   },
   {
    "duration": 34,
    "start_time": "2022-10-24T17:56:43.950Z"
   },
   {
    "duration": 13,
    "start_time": "2022-10-24T17:58:26.307Z"
   },
   {
    "duration": 12,
    "start_time": "2022-10-24T17:58:51.381Z"
   },
   {
    "duration": 9,
    "start_time": "2022-10-24T17:59:57.673Z"
   },
   {
    "duration": 20,
    "start_time": "2022-10-24T18:00:02.945Z"
   },
   {
    "duration": 24,
    "start_time": "2022-10-24T18:00:14.857Z"
   },
   {
    "duration": 27,
    "start_time": "2022-10-24T18:00:27.642Z"
   },
   {
    "duration": 22,
    "start_time": "2022-10-24T18:00:33.169Z"
   },
   {
    "duration": 25,
    "start_time": "2022-10-24T18:00:45.914Z"
   },
   {
    "duration": 24,
    "start_time": "2022-10-24T18:00:51.395Z"
   },
   {
    "duration": 23,
    "start_time": "2022-10-24T18:01:19.545Z"
   },
   {
    "duration": 24,
    "start_time": "2022-10-24T18:01:32.542Z"
   },
   {
    "duration": 9,
    "start_time": "2022-10-24T18:02:17.345Z"
   },
   {
    "duration": 10,
    "start_time": "2022-10-24T18:02:21.975Z"
   },
   {
    "duration": 31,
    "start_time": "2022-10-24T18:02:27.652Z"
   },
   {
    "duration": 36,
    "start_time": "2022-10-24T18:03:33.284Z"
   },
   {
    "duration": 53,
    "start_time": "2022-10-24T18:03:49.256Z"
   },
   {
    "duration": 3,
    "start_time": "2022-10-24T18:03:56.946Z"
   },
   {
    "duration": 34,
    "start_time": "2022-10-24T18:04:06.290Z"
   },
   {
    "duration": 70,
    "start_time": "2022-10-24T18:11:57.895Z"
   },
   {
    "duration": 64,
    "start_time": "2022-10-24T18:14:42.977Z"
   },
   {
    "duration": 80,
    "start_time": "2022-10-24T18:18:26.144Z"
   },
   {
    "duration": 110,
    "start_time": "2022-10-24T18:19:18.347Z"
   },
   {
    "duration": 94,
    "start_time": "2022-10-24T18:35:22.786Z"
   },
   {
    "duration": 492,
    "start_time": "2022-10-24T18:36:58.086Z"
   },
   {
    "duration": 62,
    "start_time": "2022-10-24T18:37:44.037Z"
   },
   {
    "duration": 13,
    "start_time": "2022-10-24T18:38:18.092Z"
   },
   {
    "duration": 3,
    "start_time": "2022-10-24T18:39:18.019Z"
   },
   {
    "duration": 1103,
    "start_time": "2022-10-24T18:39:22.429Z"
   },
   {
    "duration": 1213,
    "start_time": "2022-10-24T18:44:53.554Z"
   },
   {
    "duration": 175,
    "start_time": "2022-10-24T18:44:54.768Z"
   },
   {
    "duration": 3,
    "start_time": "2022-10-24T18:44:54.945Z"
   },
   {
    "duration": 131,
    "start_time": "2022-10-24T18:44:54.951Z"
   },
   {
    "duration": 4,
    "start_time": "2022-10-24T18:44:55.084Z"
   },
   {
    "duration": 157,
    "start_time": "2022-10-24T18:44:55.090Z"
   },
   {
    "duration": 5,
    "start_time": "2022-10-24T18:44:55.249Z"
   },
   {
    "duration": 84,
    "start_time": "2022-10-24T18:44:55.256Z"
   },
   {
    "duration": 63,
    "start_time": "2022-10-24T18:44:55.342Z"
   },
   {
    "duration": 62,
    "start_time": "2022-10-24T18:44:55.408Z"
   },
   {
    "duration": 3,
    "start_time": "2022-10-24T18:44:55.472Z"
   },
   {
    "duration": 9,
    "start_time": "2022-10-24T18:44:55.476Z"
   },
   {
    "duration": 52,
    "start_time": "2022-10-24T18:44:55.486Z"
   },
   {
    "duration": 5,
    "start_time": "2022-10-24T18:44:55.540Z"
   },
   {
    "duration": 424,
    "start_time": "2022-10-24T18:44:55.546Z"
   },
   {
    "duration": 23,
    "start_time": "2022-10-24T18:44:55.972Z"
   },
   {
    "duration": 31,
    "start_time": "2022-10-24T18:44:55.997Z"
   },
   {
    "duration": 54,
    "start_time": "2022-10-24T18:44:56.030Z"
   },
   {
    "duration": 48,
    "start_time": "2022-10-24T18:44:56.086Z"
   },
   {
    "duration": 99,
    "start_time": "2022-10-24T18:44:56.137Z"
   },
   {
    "duration": 4,
    "start_time": "2022-10-24T18:44:56.238Z"
   },
   {
    "duration": 50,
    "start_time": "2022-10-26T05:30:16.697Z"
   },
   {
    "duration": 1240,
    "start_time": "2022-10-26T05:30:21.781Z"
   },
   {
    "duration": 492,
    "start_time": "2022-10-26T05:30:23.023Z"
   },
   {
    "duration": 3,
    "start_time": "2022-10-26T05:30:23.516Z"
   },
   {
    "duration": 104,
    "start_time": "2022-10-26T05:30:23.521Z"
   },
   {
    "duration": 13,
    "start_time": "2022-10-26T05:30:23.627Z"
   },
   {
    "duration": 155,
    "start_time": "2022-10-26T05:30:23.641Z"
   },
   {
    "duration": 3,
    "start_time": "2022-10-26T05:30:23.798Z"
   },
   {
    "duration": 63,
    "start_time": "2022-10-26T05:30:23.803Z"
   },
   {
    "duration": 72,
    "start_time": "2022-10-26T05:30:23.868Z"
   },
   {
    "duration": 42,
    "start_time": "2022-10-26T05:30:23.942Z"
   },
   {
    "duration": 3,
    "start_time": "2022-10-26T05:30:23.985Z"
   },
   {
    "duration": 10,
    "start_time": "2022-10-26T05:30:23.989Z"
   },
   {
    "duration": 41,
    "start_time": "2022-10-26T05:30:24.000Z"
   },
   {
    "duration": 4,
    "start_time": "2022-10-26T05:30:24.044Z"
   },
   {
    "duration": 378,
    "start_time": "2022-10-26T05:30:24.050Z"
   },
   {
    "duration": 28,
    "start_time": "2022-10-26T05:30:24.430Z"
   },
   {
    "duration": 11,
    "start_time": "2022-10-26T05:30:24.460Z"
   },
   {
    "duration": 50,
    "start_time": "2022-10-26T05:30:24.472Z"
   },
   {
    "duration": 27,
    "start_time": "2022-10-26T05:30:24.539Z"
   },
   {
    "duration": 74,
    "start_time": "2022-10-26T05:30:24.567Z"
   },
   {
    "duration": 2,
    "start_time": "2022-10-26T05:30:24.643Z"
   },
   {
    "duration": 1069,
    "start_time": "2022-10-26T05:30:51.197Z"
   },
   {
    "duration": 163,
    "start_time": "2022-10-26T05:30:52.268Z"
   },
   {
    "duration": 3,
    "start_time": "2022-10-26T05:30:52.432Z"
   },
   {
    "duration": 112,
    "start_time": "2022-10-26T05:30:52.437Z"
   },
   {
    "duration": 4,
    "start_time": "2022-10-26T05:30:52.551Z"
   },
   {
    "duration": 144,
    "start_time": "2022-10-26T05:30:52.557Z"
   },
   {
    "duration": 3,
    "start_time": "2022-10-26T05:30:52.703Z"
   },
   {
    "duration": 66,
    "start_time": "2022-10-26T05:30:52.708Z"
   },
   {
    "duration": 68,
    "start_time": "2022-10-26T05:30:52.776Z"
   },
   {
    "duration": 42,
    "start_time": "2022-10-26T05:30:52.846Z"
   },
   {
    "duration": 3,
    "start_time": "2022-10-26T05:30:52.890Z"
   },
   {
    "duration": 14,
    "start_time": "2022-10-26T05:30:52.894Z"
   },
   {
    "duration": 43,
    "start_time": "2022-10-26T05:30:52.910Z"
   },
   {
    "duration": 5,
    "start_time": "2022-10-26T05:30:52.955Z"
   },
   {
    "duration": 387,
    "start_time": "2022-10-26T05:30:52.962Z"
   },
   {
    "duration": 24,
    "start_time": "2022-10-26T05:30:53.352Z"
   },
   {
    "duration": 13,
    "start_time": "2022-10-26T05:30:53.378Z"
   },
   {
    "duration": 78,
    "start_time": "2022-10-26T05:30:53.392Z"
   },
   {
    "duration": 25,
    "start_time": "2022-10-26T05:30:53.471Z"
   },
   {
    "duration": 74,
    "start_time": "2022-10-26T05:30:53.498Z"
   },
   {
    "duration": 2,
    "start_time": "2022-10-26T05:30:53.573Z"
   },
   {
    "duration": 31,
    "start_time": "2022-10-26T05:31:06.068Z"
   },
   {
    "duration": 32,
    "start_time": "2022-10-26T05:31:11.603Z"
   },
   {
    "duration": 1112,
    "start_time": "2022-10-26T05:31:20.096Z"
   },
   {
    "duration": 163,
    "start_time": "2022-10-26T05:31:21.210Z"
   },
   {
    "duration": 3,
    "start_time": "2022-10-26T05:31:21.375Z"
   },
   {
    "duration": 122,
    "start_time": "2022-10-26T05:31:21.379Z"
   },
   {
    "duration": 5,
    "start_time": "2022-10-26T05:31:21.503Z"
   },
   {
    "duration": 151,
    "start_time": "2022-10-26T05:31:21.509Z"
   },
   {
    "duration": 4,
    "start_time": "2022-10-26T05:31:21.662Z"
   },
   {
    "duration": 56,
    "start_time": "2022-10-26T05:31:21.668Z"
   },
   {
    "duration": 61,
    "start_time": "2022-10-26T05:31:21.739Z"
   },
   {
    "duration": 59,
    "start_time": "2022-10-26T05:31:21.801Z"
   },
   {
    "duration": 3,
    "start_time": "2022-10-26T05:31:21.861Z"
   },
   {
    "duration": 12,
    "start_time": "2022-10-26T05:31:21.866Z"
   },
   {
    "duration": 29,
    "start_time": "2022-10-26T05:31:21.880Z"
   },
   {
    "duration": 5,
    "start_time": "2022-10-26T05:31:21.911Z"
   },
   {
    "duration": 387,
    "start_time": "2022-10-26T05:31:21.918Z"
   },
   {
    "duration": 34,
    "start_time": "2022-10-26T05:31:22.307Z"
   },
   {
    "duration": 13,
    "start_time": "2022-10-26T05:31:22.344Z"
   },
   {
    "duration": 55,
    "start_time": "2022-10-26T05:31:22.359Z"
   },
   {
    "duration": 49,
    "start_time": "2022-10-26T05:31:22.416Z"
   },
   {
    "duration": 80,
    "start_time": "2022-10-26T05:31:22.467Z"
   },
   {
    "duration": 3,
    "start_time": "2022-10-26T05:31:22.549Z"
   },
   {
    "duration": 1157,
    "start_time": "2022-10-26T05:31:37.539Z"
   },
   {
    "duration": 171,
    "start_time": "2022-10-26T05:31:38.698Z"
   },
   {
    "duration": 4,
    "start_time": "2022-10-26T05:31:38.871Z"
   },
   {
    "duration": 122,
    "start_time": "2022-10-26T05:31:38.877Z"
   },
   {
    "duration": 4,
    "start_time": "2022-10-26T05:31:39.000Z"
   },
   {
    "duration": 158,
    "start_time": "2022-10-26T05:31:39.006Z"
   },
   {
    "duration": 4,
    "start_time": "2022-10-26T05:31:39.167Z"
   },
   {
    "duration": 77,
    "start_time": "2022-10-26T05:31:39.173Z"
   },
   {
    "duration": 61,
    "start_time": "2022-10-26T05:31:39.252Z"
   },
   {
    "duration": 51,
    "start_time": "2022-10-26T05:31:39.315Z"
   },
   {
    "duration": 3,
    "start_time": "2022-10-26T05:31:39.367Z"
   },
   {
    "duration": 12,
    "start_time": "2022-10-26T05:31:39.372Z"
   },
   {
    "duration": 23,
    "start_time": "2022-10-26T05:31:39.386Z"
   },
   {
    "duration": 6,
    "start_time": "2022-10-26T05:31:39.438Z"
   },
   {
    "duration": 399,
    "start_time": "2022-10-26T05:31:39.446Z"
   },
   {
    "duration": 23,
    "start_time": "2022-10-26T05:31:39.848Z"
   },
   {
    "duration": 11,
    "start_time": "2022-10-26T05:31:39.873Z"
   },
   {
    "duration": 74,
    "start_time": "2022-10-26T05:31:39.886Z"
   },
   {
    "duration": 28,
    "start_time": "2022-10-26T05:31:39.962Z"
   },
   {
    "duration": 80,
    "start_time": "2022-10-26T05:31:39.991Z"
   },
   {
    "duration": 3,
    "start_time": "2022-10-26T05:31:40.072Z"
   },
   {
    "duration": 314,
    "start_time": "2022-10-26T05:33:01.619Z"
   },
   {
    "duration": 1092,
    "start_time": "2022-10-26T05:33:11.477Z"
   },
   {
    "duration": 160,
    "start_time": "2022-10-26T05:33:12.571Z"
   },
   {
    "duration": 2,
    "start_time": "2022-10-26T05:33:12.733Z"
   },
   {
    "duration": 123,
    "start_time": "2022-10-26T05:33:12.739Z"
   },
   {
    "duration": 4,
    "start_time": "2022-10-26T05:33:12.863Z"
   },
   {
    "duration": 146,
    "start_time": "2022-10-26T05:33:12.869Z"
   },
   {
    "duration": 4,
    "start_time": "2022-10-26T05:33:13.016Z"
   },
   {
    "duration": 70,
    "start_time": "2022-10-26T05:33:13.021Z"
   },
   {
    "duration": 72,
    "start_time": "2022-10-26T05:33:13.093Z"
   },
   {
    "duration": 44,
    "start_time": "2022-10-26T05:33:13.168Z"
   },
   {
    "duration": 3,
    "start_time": "2022-10-26T05:33:13.214Z"
   },
   {
    "duration": 8,
    "start_time": "2022-10-26T05:33:13.239Z"
   },
   {
    "duration": 25,
    "start_time": "2022-10-26T05:33:13.249Z"
   },
   {
    "duration": 5,
    "start_time": "2022-10-26T05:33:13.276Z"
   },
   {
    "duration": 382,
    "start_time": "2022-10-26T05:33:13.283Z"
   },
   {
    "duration": 22,
    "start_time": "2022-10-26T05:33:13.667Z"
   },
   {
    "duration": 11,
    "start_time": "2022-10-26T05:33:13.691Z"
   },
   {
    "duration": 69,
    "start_time": "2022-10-26T05:33:13.703Z"
   },
   {
    "duration": 30,
    "start_time": "2022-10-26T05:33:13.774Z"
   },
   {
    "duration": 82,
    "start_time": "2022-10-26T05:33:13.806Z"
   },
   {
    "duration": 2,
    "start_time": "2022-10-26T05:33:13.890Z"
   },
   {
    "duration": 1135,
    "start_time": "2022-10-26T05:33:43.524Z"
   },
   {
    "duration": 158,
    "start_time": "2022-10-26T05:33:44.660Z"
   },
   {
    "duration": 4,
    "start_time": "2022-10-26T05:33:44.819Z"
   },
   {
    "duration": 132,
    "start_time": "2022-10-26T05:33:44.825Z"
   },
   {
    "duration": 4,
    "start_time": "2022-10-26T05:33:44.960Z"
   },
   {
    "duration": 146,
    "start_time": "2022-10-26T05:33:44.966Z"
   },
   {
    "duration": 5,
    "start_time": "2022-10-26T05:33:45.114Z"
   },
   {
    "duration": 74,
    "start_time": "2022-10-26T05:33:45.121Z"
   },
   {
    "duration": 75,
    "start_time": "2022-10-26T05:33:45.197Z"
   },
   {
    "duration": 42,
    "start_time": "2022-10-26T05:33:45.274Z"
   },
   {
    "duration": 3,
    "start_time": "2022-10-26T05:33:45.318Z"
   },
   {
    "duration": 24,
    "start_time": "2022-10-26T05:33:45.323Z"
   },
   {
    "duration": 24,
    "start_time": "2022-10-26T05:33:45.349Z"
   },
   {
    "duration": 6,
    "start_time": "2022-10-26T05:33:45.376Z"
   },
   {
    "duration": 399,
    "start_time": "2022-10-26T05:33:45.383Z"
   },
   {
    "duration": 24,
    "start_time": "2022-10-26T05:33:45.784Z"
   },
   {
    "duration": 29,
    "start_time": "2022-10-26T05:33:45.809Z"
   },
   {
    "duration": 51,
    "start_time": "2022-10-26T05:33:45.840Z"
   },
   {
    "duration": 47,
    "start_time": "2022-10-26T05:33:45.893Z"
   },
   {
    "duration": 64,
    "start_time": "2022-10-26T05:33:45.942Z"
   },
   {
    "duration": 3,
    "start_time": "2022-10-26T05:33:46.008Z"
   },
   {
    "duration": 32,
    "start_time": "2022-10-26T05:34:34.626Z"
   },
   {
    "duration": 32,
    "start_time": "2022-10-26T05:34:43.202Z"
   },
   {
    "duration": 48,
    "start_time": "2022-10-26T05:36:38.905Z"
   },
   {
    "duration": 1197,
    "start_time": "2022-10-26T05:36:47.673Z"
   },
   {
    "duration": 167,
    "start_time": "2022-10-26T05:36:48.872Z"
   },
   {
    "duration": 4,
    "start_time": "2022-10-26T05:36:49.041Z"
   },
   {
    "duration": 131,
    "start_time": "2022-10-26T05:36:49.047Z"
   },
   {
    "duration": 4,
    "start_time": "2022-10-26T05:36:49.180Z"
   },
   {
    "duration": 153,
    "start_time": "2022-10-26T05:36:49.186Z"
   },
   {
    "duration": 4,
    "start_time": "2022-10-26T05:36:49.341Z"
   },
   {
    "duration": 66,
    "start_time": "2022-10-26T05:36:49.347Z"
   },
   {
    "duration": 77,
    "start_time": "2022-10-26T05:36:49.415Z"
   },
   {
    "duration": 59,
    "start_time": "2022-10-26T05:36:49.494Z"
   },
   {
    "duration": 4,
    "start_time": "2022-10-26T05:36:49.555Z"
   },
   {
    "duration": 10,
    "start_time": "2022-10-26T05:36:49.561Z"
   },
   {
    "duration": 24,
    "start_time": "2022-10-26T05:36:49.573Z"
   },
   {
    "duration": 6,
    "start_time": "2022-10-26T05:36:49.599Z"
   },
   {
    "duration": 393,
    "start_time": "2022-10-26T05:36:49.639Z"
   },
   {
    "duration": 25,
    "start_time": "2022-10-26T05:36:50.034Z"
   },
   {
    "duration": 13,
    "start_time": "2022-10-26T05:36:50.060Z"
   },
   {
    "duration": 80,
    "start_time": "2022-10-26T05:36:50.076Z"
   },
   {
    "duration": 133,
    "start_time": "2022-10-26T05:36:50.158Z"
   },
   {
    "duration": 0,
    "start_time": "2022-10-26T05:36:50.294Z"
   },
   {
    "duration": 0,
    "start_time": "2022-10-26T05:36:50.295Z"
   },
   {
    "duration": 47,
    "start_time": "2022-10-26T05:37:30.952Z"
   },
   {
    "duration": 1152,
    "start_time": "2022-10-26T05:37:35.305Z"
   },
   {
    "duration": 176,
    "start_time": "2022-10-26T05:37:36.459Z"
   },
   {
    "duration": 4,
    "start_time": "2022-10-26T05:37:36.637Z"
   },
   {
    "duration": 115,
    "start_time": "2022-10-26T05:37:36.642Z"
   },
   {
    "duration": 4,
    "start_time": "2022-10-26T05:37:36.759Z"
   },
   {
    "duration": 139,
    "start_time": "2022-10-26T05:37:36.765Z"
   },
   {
    "duration": 4,
    "start_time": "2022-10-26T05:37:36.906Z"
   },
   {
    "duration": 67,
    "start_time": "2022-10-26T05:37:36.911Z"
   },
   {
    "duration": 71,
    "start_time": "2022-10-26T05:37:36.979Z"
   },
   {
    "duration": 46,
    "start_time": "2022-10-26T05:37:37.051Z"
   },
   {
    "duration": 3,
    "start_time": "2022-10-26T05:37:37.098Z"
   },
   {
    "duration": 11,
    "start_time": "2022-10-26T05:37:37.103Z"
   },
   {
    "duration": 29,
    "start_time": "2022-10-26T05:37:37.138Z"
   },
   {
    "duration": 8,
    "start_time": "2022-10-26T05:37:37.170Z"
   },
   {
    "duration": 459,
    "start_time": "2022-10-26T05:37:37.179Z"
   },
   {
    "duration": 22,
    "start_time": "2022-10-26T05:37:37.640Z"
   },
   {
    "duration": 10,
    "start_time": "2022-10-26T05:37:37.664Z"
   },
   {
    "duration": 68,
    "start_time": "2022-10-26T05:37:37.676Z"
   },
   {
    "duration": 123,
    "start_time": "2022-10-26T05:37:37.745Z"
   },
   {
    "duration": 0,
    "start_time": "2022-10-26T05:37:37.870Z"
   },
   {
    "duration": 0,
    "start_time": "2022-10-26T05:37:37.871Z"
   },
   {
    "duration": 30,
    "start_time": "2022-10-26T05:37:45.475Z"
   },
   {
    "duration": 60,
    "start_time": "2022-10-26T05:37:51.834Z"
   },
   {
    "duration": 1104,
    "start_time": "2022-10-26T05:37:58.464Z"
   },
   {
    "duration": 164,
    "start_time": "2022-10-26T05:37:59.570Z"
   },
   {
    "duration": 3,
    "start_time": "2022-10-26T05:37:59.739Z"
   },
   {
    "duration": 119,
    "start_time": "2022-10-26T05:37:59.743Z"
   },
   {
    "duration": 4,
    "start_time": "2022-10-26T05:37:59.864Z"
   },
   {
    "duration": 133,
    "start_time": "2022-10-26T05:37:59.870Z"
   },
   {
    "duration": 4,
    "start_time": "2022-10-26T05:38:00.005Z"
   },
   {
    "duration": 88,
    "start_time": "2022-10-26T05:38:00.011Z"
   },
   {
    "duration": 60,
    "start_time": "2022-10-26T05:38:00.100Z"
   },
   {
    "duration": 44,
    "start_time": "2022-10-26T05:38:00.162Z"
   },
   {
    "duration": 3,
    "start_time": "2022-10-26T05:38:00.208Z"
   },
   {
    "duration": 37,
    "start_time": "2022-10-26T05:38:00.213Z"
   },
   {
    "duration": 25,
    "start_time": "2022-10-26T05:38:00.252Z"
   },
   {
    "duration": 6,
    "start_time": "2022-10-26T05:38:00.281Z"
   },
   {
    "duration": 403,
    "start_time": "2022-10-26T05:38:00.289Z"
   },
   {
    "duration": 24,
    "start_time": "2022-10-26T05:38:00.694Z"
   },
   {
    "duration": 28,
    "start_time": "2022-10-26T05:38:00.720Z"
   },
   {
    "duration": 59,
    "start_time": "2022-10-26T05:38:00.750Z"
   },
   {
    "duration": 47,
    "start_time": "2022-10-26T05:38:00.811Z"
   },
   {
    "duration": 56,
    "start_time": "2022-10-26T05:38:00.860Z"
   },
   {
    "duration": 0,
    "start_time": "2022-10-26T05:38:00.918Z"
   },
   {
    "duration": 48,
    "start_time": "2022-10-26T05:38:35.695Z"
   },
   {
    "duration": 36,
    "start_time": "2022-10-26T05:40:50.222Z"
   },
   {
    "duration": 1128,
    "start_time": "2022-10-26T05:40:56.084Z"
   },
   {
    "duration": 182,
    "start_time": "2022-10-26T05:40:57.215Z"
   },
   {
    "duration": 3,
    "start_time": "2022-10-26T05:40:57.399Z"
   },
   {
    "duration": 108,
    "start_time": "2022-10-26T05:40:57.404Z"
   },
   {
    "duration": 5,
    "start_time": "2022-10-26T05:40:57.514Z"
   },
   {
    "duration": 149,
    "start_time": "2022-10-26T05:40:57.520Z"
   },
   {
    "duration": 4,
    "start_time": "2022-10-26T05:40:57.671Z"
   },
   {
    "duration": 70,
    "start_time": "2022-10-26T05:40:57.676Z"
   },
   {
    "duration": 58,
    "start_time": "2022-10-26T05:40:57.747Z"
   },
   {
    "duration": 57,
    "start_time": "2022-10-26T05:40:57.806Z"
   },
   {
    "duration": 3,
    "start_time": "2022-10-26T05:40:57.865Z"
   },
   {
    "duration": 13,
    "start_time": "2022-10-26T05:40:57.869Z"
   },
   {
    "duration": 21,
    "start_time": "2022-10-26T05:40:57.883Z"
   },
   {
    "duration": 4,
    "start_time": "2022-10-26T05:40:57.907Z"
   },
   {
    "duration": 435,
    "start_time": "2022-10-26T05:40:57.913Z"
   },
   {
    "duration": 25,
    "start_time": "2022-10-26T05:40:58.351Z"
   },
   {
    "duration": 12,
    "start_time": "2022-10-26T05:40:58.378Z"
   },
   {
    "duration": 66,
    "start_time": "2022-10-26T05:40:58.391Z"
   },
   {
    "duration": 29,
    "start_time": "2022-10-26T05:40:58.459Z"
   },
   {
    "duration": 41,
    "start_time": "2022-10-26T05:40:58.489Z"
   },
   {
    "duration": 0,
    "start_time": "2022-10-26T05:40:58.532Z"
   },
   {
    "duration": 107,
    "start_time": "2022-10-26T05:42:24.698Z"
   },
   {
    "duration": 23,
    "start_time": "2022-10-26T05:42:27.209Z"
   },
   {
    "duration": 1161,
    "start_time": "2022-10-26T05:42:31.610Z"
   },
   {
    "duration": 161,
    "start_time": "2022-10-26T05:42:32.773Z"
   },
   {
    "duration": 3,
    "start_time": "2022-10-26T05:42:32.936Z"
   },
   {
    "duration": 119,
    "start_time": "2022-10-26T05:42:32.941Z"
   },
   {
    "duration": 5,
    "start_time": "2022-10-26T05:42:33.062Z"
   },
   {
    "duration": 146,
    "start_time": "2022-10-26T05:42:33.068Z"
   },
   {
    "duration": 4,
    "start_time": "2022-10-26T05:42:33.216Z"
   },
   {
    "duration": 64,
    "start_time": "2022-10-26T05:42:33.222Z"
   },
   {
    "duration": 66,
    "start_time": "2022-10-26T05:42:33.288Z"
   },
   {
    "duration": 42,
    "start_time": "2022-10-26T05:42:33.356Z"
   },
   {
    "duration": 3,
    "start_time": "2022-10-26T05:42:33.400Z"
   },
   {
    "duration": 13,
    "start_time": "2022-10-26T05:42:33.405Z"
   },
   {
    "duration": 39,
    "start_time": "2022-10-26T05:42:33.420Z"
   },
   {
    "duration": 5,
    "start_time": "2022-10-26T05:42:33.462Z"
   },
   {
    "duration": 405,
    "start_time": "2022-10-26T05:42:33.469Z"
   },
   {
    "duration": 23,
    "start_time": "2022-10-26T05:42:33.876Z"
   },
   {
    "duration": 12,
    "start_time": "2022-10-26T05:42:33.900Z"
   },
   {
    "duration": 95,
    "start_time": "2022-10-26T05:42:33.913Z"
   },
   {
    "duration": 30,
    "start_time": "2022-10-26T05:42:34.009Z"
   },
   {
    "duration": 103,
    "start_time": "2022-10-26T05:42:34.041Z"
   },
   {
    "duration": 0,
    "start_time": "2022-10-26T05:42:34.146Z"
   },
   {
    "duration": 1154,
    "start_time": "2022-10-26T05:42:53.414Z"
   },
   {
    "duration": 160,
    "start_time": "2022-10-26T05:42:54.570Z"
   },
   {
    "duration": 7,
    "start_time": "2022-10-26T05:42:54.731Z"
   },
   {
    "duration": 126,
    "start_time": "2022-10-26T05:42:54.740Z"
   },
   {
    "duration": 4,
    "start_time": "2022-10-26T05:42:54.869Z"
   },
   {
    "duration": 145,
    "start_time": "2022-10-26T05:42:54.875Z"
   },
   {
    "duration": 4,
    "start_time": "2022-10-26T05:42:55.022Z"
   },
   {
    "duration": 65,
    "start_time": "2022-10-26T05:42:55.027Z"
   },
   {
    "duration": 64,
    "start_time": "2022-10-26T05:42:55.094Z"
   },
   {
    "duration": 42,
    "start_time": "2022-10-26T05:42:55.159Z"
   },
   {
    "duration": 3,
    "start_time": "2022-10-26T05:42:55.202Z"
   },
   {
    "duration": 13,
    "start_time": "2022-10-26T05:42:55.206Z"
   },
   {
    "duration": 21,
    "start_time": "2022-10-26T05:42:55.238Z"
   },
   {
    "duration": 4,
    "start_time": "2022-10-26T05:42:55.261Z"
   },
   {
    "duration": 376,
    "start_time": "2022-10-26T05:42:55.267Z"
   },
   {
    "duration": 22,
    "start_time": "2022-10-26T05:42:55.645Z"
   },
   {
    "duration": 10,
    "start_time": "2022-10-26T05:42:55.669Z"
   },
   {
    "duration": 71,
    "start_time": "2022-10-26T05:42:55.681Z"
   },
   {
    "duration": 29,
    "start_time": "2022-10-26T05:42:55.754Z"
   },
   {
    "duration": 168,
    "start_time": "2022-10-26T05:42:55.784Z"
   },
   {
    "duration": 0,
    "start_time": "2022-10-26T05:42:55.954Z"
   },
   {
    "duration": 1145,
    "start_time": "2022-10-26T05:44:54.461Z"
   },
   {
    "duration": 163,
    "start_time": "2022-10-26T05:44:55.608Z"
   },
   {
    "duration": 3,
    "start_time": "2022-10-26T05:44:55.773Z"
   },
   {
    "duration": 122,
    "start_time": "2022-10-26T05:44:55.778Z"
   },
   {
    "duration": 5,
    "start_time": "2022-10-26T05:44:55.902Z"
   },
   {
    "duration": 150,
    "start_time": "2022-10-26T05:44:55.908Z"
   },
   {
    "duration": 5,
    "start_time": "2022-10-26T05:44:56.059Z"
   },
   {
    "duration": 63,
    "start_time": "2022-10-26T05:44:56.065Z"
   },
   {
    "duration": 66,
    "start_time": "2022-10-26T05:44:56.129Z"
   },
   {
    "duration": 60,
    "start_time": "2022-10-26T05:44:56.197Z"
   },
   {
    "duration": 3,
    "start_time": "2022-10-26T05:44:56.258Z"
   },
   {
    "duration": 11,
    "start_time": "2022-10-26T05:44:56.262Z"
   },
   {
    "duration": 21,
    "start_time": "2022-10-26T05:44:56.275Z"
   },
   {
    "duration": 5,
    "start_time": "2022-10-26T05:44:56.297Z"
   },
   {
    "duration": 410,
    "start_time": "2022-10-26T05:44:56.303Z"
   },
   {
    "duration": 35,
    "start_time": "2022-10-26T05:44:56.715Z"
   },
   {
    "duration": 12,
    "start_time": "2022-10-26T05:44:56.751Z"
   },
   {
    "duration": 53,
    "start_time": "2022-10-26T05:44:56.765Z"
   },
   {
    "duration": 31,
    "start_time": "2022-10-26T05:44:56.838Z"
   },
   {
    "duration": 166,
    "start_time": "2022-10-26T05:44:56.870Z"
   },
   {
    "duration": 0,
    "start_time": "2022-10-26T05:44:57.038Z"
   },
   {
    "duration": 10,
    "start_time": "2022-10-26T05:45:53.375Z"
   },
   {
    "duration": 1147,
    "start_time": "2022-10-26T05:45:59.327Z"
   },
   {
    "duration": 158,
    "start_time": "2022-10-26T05:46:00.476Z"
   },
   {
    "duration": 4,
    "start_time": "2022-10-26T05:46:00.638Z"
   },
   {
    "duration": 140,
    "start_time": "2022-10-26T05:46:00.644Z"
   },
   {
    "duration": 5,
    "start_time": "2022-10-26T05:46:00.785Z"
   },
   {
    "duration": 154,
    "start_time": "2022-10-26T05:46:00.792Z"
   },
   {
    "duration": 5,
    "start_time": "2022-10-26T05:46:00.947Z"
   },
   {
    "duration": 72,
    "start_time": "2022-10-26T05:46:00.953Z"
   },
   {
    "duration": 71,
    "start_time": "2022-10-26T05:46:01.027Z"
   },
   {
    "duration": 61,
    "start_time": "2022-10-26T05:46:01.100Z"
   },
   {
    "duration": 2,
    "start_time": "2022-10-26T05:46:01.163Z"
   },
   {
    "duration": 22,
    "start_time": "2022-10-26T05:46:01.167Z"
   },
   {
    "duration": 22,
    "start_time": "2022-10-26T05:46:01.192Z"
   },
   {
    "duration": 4,
    "start_time": "2022-10-26T05:46:01.216Z"
   },
   {
    "duration": 405,
    "start_time": "2022-10-26T05:46:01.222Z"
   },
   {
    "duration": 26,
    "start_time": "2022-10-26T05:46:01.629Z"
   },
   {
    "duration": 11,
    "start_time": "2022-10-26T05:46:01.657Z"
   },
   {
    "duration": 70,
    "start_time": "2022-10-26T05:46:01.669Z"
   },
   {
    "duration": 101,
    "start_time": "2022-10-26T05:46:01.741Z"
   },
   {
    "duration": 0,
    "start_time": "2022-10-26T05:46:01.844Z"
   },
   {
    "duration": 0,
    "start_time": "2022-10-26T05:46:01.845Z"
   },
   {
    "duration": 10,
    "start_time": "2022-10-26T05:46:42.219Z"
   },
   {
    "duration": 1310,
    "start_time": "2022-10-26T05:46:47.377Z"
   },
   {
    "duration": 185,
    "start_time": "2022-10-26T05:46:48.689Z"
   },
   {
    "duration": 4,
    "start_time": "2022-10-26T05:46:48.876Z"
   },
   {
    "duration": 130,
    "start_time": "2022-10-26T05:46:48.882Z"
   },
   {
    "duration": 6,
    "start_time": "2022-10-26T05:46:49.014Z"
   },
   {
    "duration": 149,
    "start_time": "2022-10-26T05:46:49.021Z"
   },
   {
    "duration": 3,
    "start_time": "2022-10-26T05:46:49.172Z"
   },
   {
    "duration": 82,
    "start_time": "2022-10-26T05:46:49.177Z"
   },
   {
    "duration": 62,
    "start_time": "2022-10-26T05:46:49.261Z"
   },
   {
    "duration": 54,
    "start_time": "2022-10-26T05:46:49.339Z"
   },
   {
    "duration": 3,
    "start_time": "2022-10-26T05:46:49.395Z"
   },
   {
    "duration": 10,
    "start_time": "2022-10-26T05:46:49.400Z"
   },
   {
    "duration": 46,
    "start_time": "2022-10-26T05:46:49.412Z"
   },
   {
    "duration": 5,
    "start_time": "2022-10-26T05:46:49.460Z"
   },
   {
    "duration": 408,
    "start_time": "2022-10-26T05:46:49.467Z"
   },
   {
    "duration": 22,
    "start_time": "2022-10-26T05:46:49.878Z"
   },
   {
    "duration": 11,
    "start_time": "2022-10-26T05:46:49.902Z"
   },
   {
    "duration": 80,
    "start_time": "2022-10-26T05:46:49.915Z"
   },
   {
    "duration": 29,
    "start_time": "2022-10-26T05:46:49.996Z"
   },
   {
    "duration": 122,
    "start_time": "2022-10-26T05:46:50.027Z"
   },
   {
    "duration": 0,
    "start_time": "2022-10-26T05:46:50.151Z"
   },
   {
    "duration": 65,
    "start_time": "2022-10-26T05:48:14.508Z"
   },
   {
    "duration": 74,
    "start_time": "2022-10-26T05:51:46.089Z"
   },
   {
    "duration": 1153,
    "start_time": "2022-10-26T05:57:12.004Z"
   },
   {
    "duration": 160,
    "start_time": "2022-10-26T05:57:13.158Z"
   },
   {
    "duration": 3,
    "start_time": "2022-10-26T05:57:13.320Z"
   },
   {
    "duration": 124,
    "start_time": "2022-10-26T05:57:13.324Z"
   },
   {
    "duration": 5,
    "start_time": "2022-10-26T05:57:13.450Z"
   },
   {
    "duration": 151,
    "start_time": "2022-10-26T05:57:13.457Z"
   },
   {
    "duration": 4,
    "start_time": "2022-10-26T05:57:13.610Z"
   },
   {
    "duration": 69,
    "start_time": "2022-10-26T05:57:13.615Z"
   },
   {
    "duration": 72,
    "start_time": "2022-10-26T05:57:13.686Z"
   },
   {
    "duration": 45,
    "start_time": "2022-10-26T05:57:13.760Z"
   },
   {
    "duration": 4,
    "start_time": "2022-10-26T05:57:13.806Z"
   },
   {
    "duration": 31,
    "start_time": "2022-10-26T05:57:13.811Z"
   },
   {
    "duration": 21,
    "start_time": "2022-10-26T05:57:13.844Z"
   },
   {
    "duration": 5,
    "start_time": "2022-10-26T05:57:13.867Z"
   },
   {
    "duration": 384,
    "start_time": "2022-10-26T05:57:13.873Z"
   },
   {
    "duration": 23,
    "start_time": "2022-10-26T05:57:14.259Z"
   },
   {
    "duration": 11,
    "start_time": "2022-10-26T05:57:14.284Z"
   },
   {
    "duration": 78,
    "start_time": "2022-10-26T05:57:14.296Z"
   },
   {
    "duration": 33,
    "start_time": "2022-10-26T05:57:14.376Z"
   },
   {
    "duration": 167,
    "start_time": "2022-10-26T05:57:14.410Z"
   },
   {
    "duration": 0,
    "start_time": "2022-10-26T05:57:14.579Z"
   },
   {
    "duration": 66,
    "start_time": "2022-10-26T05:57:53.135Z"
   },
   {
    "duration": 1139,
    "start_time": "2022-10-26T05:58:06.689Z"
   },
   {
    "duration": 162,
    "start_time": "2022-10-26T05:58:07.830Z"
   },
   {
    "duration": 14,
    "start_time": "2022-10-26T05:58:07.993Z"
   },
   {
    "duration": 115,
    "start_time": "2022-10-26T05:58:08.010Z"
   },
   {
    "duration": 12,
    "start_time": "2022-10-26T05:58:08.127Z"
   },
   {
    "duration": 138,
    "start_time": "2022-10-26T05:58:08.141Z"
   },
   {
    "duration": 3,
    "start_time": "2022-10-26T05:58:08.281Z"
   },
   {
    "duration": 66,
    "start_time": "2022-10-26T05:58:08.286Z"
   },
   {
    "duration": 58,
    "start_time": "2022-10-26T05:58:08.354Z"
   },
   {
    "duration": 60,
    "start_time": "2022-10-26T05:58:08.415Z"
   },
   {
    "duration": 3,
    "start_time": "2022-10-26T05:58:08.477Z"
   },
   {
    "duration": 12,
    "start_time": "2022-10-26T05:58:08.482Z"
   },
   {
    "duration": 29,
    "start_time": "2022-10-26T05:58:08.495Z"
   },
   {
    "duration": 19,
    "start_time": "2022-10-26T05:58:08.525Z"
   },
   {
    "duration": 380,
    "start_time": "2022-10-26T05:58:08.545Z"
   },
   {
    "duration": 30,
    "start_time": "2022-10-26T05:58:08.926Z"
   },
   {
    "duration": 11,
    "start_time": "2022-10-26T05:58:08.957Z"
   },
   {
    "duration": 69,
    "start_time": "2022-10-26T05:58:08.970Z"
   },
   {
    "duration": 29,
    "start_time": "2022-10-26T05:58:09.040Z"
   },
   {
    "duration": 171,
    "start_time": "2022-10-26T05:58:09.071Z"
   },
   {
    "duration": 0,
    "start_time": "2022-10-26T05:58:09.244Z"
   },
   {
    "duration": 73,
    "start_time": "2022-10-26T05:58:20.557Z"
   },
   {
    "duration": 1162,
    "start_time": "2022-10-26T05:58:28.188Z"
   },
   {
    "duration": 163,
    "start_time": "2022-10-26T05:58:29.352Z"
   },
   {
    "duration": 3,
    "start_time": "2022-10-26T05:58:29.516Z"
   },
   {
    "duration": 122,
    "start_time": "2022-10-26T05:58:29.521Z"
   },
   {
    "duration": 5,
    "start_time": "2022-10-26T05:58:29.645Z"
   },
   {
    "duration": 148,
    "start_time": "2022-10-26T05:58:29.651Z"
   },
   {
    "duration": 5,
    "start_time": "2022-10-26T05:58:29.801Z"
   },
   {
    "duration": 70,
    "start_time": "2022-10-26T05:58:29.808Z"
   },
   {
    "duration": 65,
    "start_time": "2022-10-26T05:58:29.880Z"
   },
   {
    "duration": 41,
    "start_time": "2022-10-26T05:58:29.947Z"
   },
   {
    "duration": 3,
    "start_time": "2022-10-26T05:58:29.990Z"
   },
   {
    "duration": 9,
    "start_time": "2022-10-26T05:58:29.995Z"
   },
   {
    "duration": 45,
    "start_time": "2022-10-26T05:58:30.005Z"
   },
   {
    "duration": 4,
    "start_time": "2022-10-26T05:58:30.053Z"
   },
   {
    "duration": 383,
    "start_time": "2022-10-26T05:58:30.059Z"
   },
   {
    "duration": 22,
    "start_time": "2022-10-26T05:58:30.444Z"
   },
   {
    "duration": 27,
    "start_time": "2022-10-26T05:58:30.468Z"
   },
   {
    "duration": 62,
    "start_time": "2022-10-26T05:58:30.497Z"
   },
   {
    "duration": 36,
    "start_time": "2022-10-26T05:58:30.561Z"
   },
   {
    "duration": 193,
    "start_time": "2022-10-26T05:58:30.599Z"
   },
   {
    "duration": 0,
    "start_time": "2022-10-26T05:58:30.794Z"
   },
   {
    "duration": 23,
    "start_time": "2022-10-26T05:59:36.805Z"
   },
   {
    "duration": 29,
    "start_time": "2022-10-26T05:59:51.668Z"
   },
   {
    "duration": 66,
    "start_time": "2022-10-26T06:00:56.076Z"
   },
   {
    "duration": 251,
    "start_time": "2022-10-26T06:02:00.543Z"
   },
   {
    "duration": 1193,
    "start_time": "2022-10-26T06:02:08.363Z"
   },
   {
    "duration": 170,
    "start_time": "2022-10-26T06:02:09.558Z"
   },
   {
    "duration": 11,
    "start_time": "2022-10-26T06:02:09.729Z"
   },
   {
    "duration": 122,
    "start_time": "2022-10-26T06:02:09.743Z"
   },
   {
    "duration": 6,
    "start_time": "2022-10-26T06:02:09.867Z"
   },
   {
    "duration": 141,
    "start_time": "2022-10-26T06:02:09.875Z"
   },
   {
    "duration": 4,
    "start_time": "2022-10-26T06:02:10.018Z"
   },
   {
    "duration": 64,
    "start_time": "2022-10-26T06:02:10.024Z"
   },
   {
    "duration": 73,
    "start_time": "2022-10-26T06:02:10.090Z"
   },
   {
    "duration": 88,
    "start_time": "2022-10-26T06:02:10.166Z"
   },
   {
    "duration": 4,
    "start_time": "2022-10-26T06:02:10.256Z"
   },
   {
    "duration": 12,
    "start_time": "2022-10-26T06:02:10.262Z"
   },
   {
    "duration": 27,
    "start_time": "2022-10-26T06:02:10.277Z"
   },
   {
    "duration": 34,
    "start_time": "2022-10-26T06:02:10.306Z"
   },
   {
    "duration": 400,
    "start_time": "2022-10-26T06:02:10.342Z"
   },
   {
    "duration": 21,
    "start_time": "2022-10-26T06:02:10.744Z"
   },
   {
    "duration": 10,
    "start_time": "2022-10-26T06:02:10.767Z"
   },
   {
    "duration": 72,
    "start_time": "2022-10-26T06:02:10.779Z"
   },
   {
    "duration": 29,
    "start_time": "2022-10-26T06:02:10.853Z"
   },
   {
    "duration": 356,
    "start_time": "2022-10-26T06:02:10.883Z"
   },
   {
    "duration": 0,
    "start_time": "2022-10-26T06:02:11.241Z"
   },
   {
    "duration": 65,
    "start_time": "2022-10-26T06:02:35.254Z"
   },
   {
    "duration": 64,
    "start_time": "2022-10-26T06:02:46.085Z"
   },
   {
    "duration": 1074,
    "start_time": "2022-10-26T06:03:21.989Z"
   },
   {
    "duration": 168,
    "start_time": "2022-10-26T06:03:23.065Z"
   },
   {
    "duration": 4,
    "start_time": "2022-10-26T06:03:23.234Z"
   },
   {
    "duration": 113,
    "start_time": "2022-10-26T06:03:23.240Z"
   },
   {
    "duration": 5,
    "start_time": "2022-10-26T06:03:23.354Z"
   },
   {
    "duration": 135,
    "start_time": "2022-10-26T06:03:23.360Z"
   },
   {
    "duration": 4,
    "start_time": "2022-10-26T06:03:23.497Z"
   },
   {
    "duration": 66,
    "start_time": "2022-10-26T06:03:23.502Z"
   },
   {
    "duration": 69,
    "start_time": "2022-10-26T06:03:23.570Z"
   },
   {
    "duration": 43,
    "start_time": "2022-10-26T06:03:23.641Z"
   },
   {
    "duration": 3,
    "start_time": "2022-10-26T06:03:23.686Z"
   },
   {
    "duration": 13,
    "start_time": "2022-10-26T06:03:23.690Z"
   },
   {
    "duration": 42,
    "start_time": "2022-10-26T06:03:23.704Z"
   },
   {
    "duration": 4,
    "start_time": "2022-10-26T06:03:23.748Z"
   },
   {
    "duration": 371,
    "start_time": "2022-10-26T06:03:23.754Z"
   },
   {
    "duration": 29,
    "start_time": "2022-10-26T06:03:24.127Z"
   },
   {
    "duration": 11,
    "start_time": "2022-10-26T06:03:24.158Z"
   },
   {
    "duration": 52,
    "start_time": "2022-10-26T06:03:24.171Z"
   },
   {
    "duration": 30,
    "start_time": "2022-10-26T06:03:24.238Z"
   },
   {
    "duration": 175,
    "start_time": "2022-10-26T06:03:24.269Z"
   },
   {
    "duration": 0,
    "start_time": "2022-10-26T06:03:24.446Z"
   },
   {
    "duration": 66,
    "start_time": "2022-10-26T06:03:49.254Z"
   },
   {
    "duration": 1164,
    "start_time": "2022-10-26T06:03:54.705Z"
   },
   {
    "duration": 155,
    "start_time": "2022-10-26T06:03:55.871Z"
   },
   {
    "duration": 3,
    "start_time": "2022-10-26T06:03:56.027Z"
   },
   {
    "duration": 120,
    "start_time": "2022-10-26T06:03:56.032Z"
   },
   {
    "duration": 4,
    "start_time": "2022-10-26T06:03:56.154Z"
   },
   {
    "duration": 136,
    "start_time": "2022-10-26T06:03:56.159Z"
   },
   {
    "duration": 5,
    "start_time": "2022-10-26T06:03:56.296Z"
   },
   {
    "duration": 58,
    "start_time": "2022-10-26T06:03:56.302Z"
   },
   {
    "duration": 61,
    "start_time": "2022-10-26T06:03:56.362Z"
   },
   {
    "duration": 53,
    "start_time": "2022-10-26T06:03:56.424Z"
   },
   {
    "duration": 3,
    "start_time": "2022-10-26T06:03:56.479Z"
   },
   {
    "duration": 9,
    "start_time": "2022-10-26T06:03:56.484Z"
   },
   {
    "duration": 45,
    "start_time": "2022-10-26T06:03:56.495Z"
   },
   {
    "duration": 5,
    "start_time": "2022-10-26T06:03:56.543Z"
   },
   {
    "duration": 372,
    "start_time": "2022-10-26T06:03:56.550Z"
   },
   {
    "duration": 31,
    "start_time": "2022-10-26T06:03:56.923Z"
   },
   {
    "duration": 11,
    "start_time": "2022-10-26T06:03:56.955Z"
   },
   {
    "duration": 48,
    "start_time": "2022-10-26T06:03:56.967Z"
   },
   {
    "duration": 48,
    "start_time": "2022-10-26T06:03:57.017Z"
   },
   {
    "duration": 89,
    "start_time": "2022-10-26T06:03:57.066Z"
   },
   {
    "duration": 3,
    "start_time": "2022-10-26T06:03:57.159Z"
   },
   {
    "duration": 67,
    "start_time": "2022-10-26T06:04:08.427Z"
   },
   {
    "duration": 1152,
    "start_time": "2022-10-26T06:04:32.997Z"
   },
   {
    "duration": 165,
    "start_time": "2022-10-26T06:04:34.151Z"
   },
   {
    "duration": 5,
    "start_time": "2022-10-26T06:04:34.318Z"
   },
   {
    "duration": 118,
    "start_time": "2022-10-26T06:04:34.326Z"
   },
   {
    "duration": 5,
    "start_time": "2022-10-26T06:04:34.446Z"
   },
   {
    "duration": 142,
    "start_time": "2022-10-26T06:04:34.452Z"
   },
   {
    "duration": 4,
    "start_time": "2022-10-26T06:04:34.596Z"
   },
   {
    "duration": 70,
    "start_time": "2022-10-26T06:04:34.601Z"
   },
   {
    "duration": 67,
    "start_time": "2022-10-26T06:04:34.672Z"
   },
   {
    "duration": 45,
    "start_time": "2022-10-26T06:04:34.740Z"
   },
   {
    "duration": 4,
    "start_time": "2022-10-26T06:04:34.786Z"
   },
   {
    "duration": 9,
    "start_time": "2022-10-26T06:04:34.791Z"
   },
   {
    "duration": 43,
    "start_time": "2022-10-26T06:04:34.802Z"
   },
   {
    "duration": 5,
    "start_time": "2022-10-26T06:04:34.848Z"
   },
   {
    "duration": 374,
    "start_time": "2022-10-26T06:04:34.855Z"
   },
   {
    "duration": 26,
    "start_time": "2022-10-26T06:04:35.239Z"
   },
   {
    "duration": 12,
    "start_time": "2022-10-26T06:04:35.266Z"
   },
   {
    "duration": 68,
    "start_time": "2022-10-26T06:04:35.280Z"
   },
   {
    "duration": 29,
    "start_time": "2022-10-26T06:04:35.350Z"
   },
   {
    "duration": 82,
    "start_time": "2022-10-26T06:04:35.381Z"
   },
   {
    "duration": 2,
    "start_time": "2022-10-26T06:04:35.465Z"
   },
   {
    "duration": 103,
    "start_time": "2022-10-26T06:07:38.363Z"
   },
   {
    "duration": 1156,
    "start_time": "2022-10-26T06:07:47.090Z"
   },
   {
    "duration": 159,
    "start_time": "2022-10-26T06:07:48.248Z"
   },
   {
    "duration": 4,
    "start_time": "2022-10-26T06:07:48.409Z"
   },
   {
    "duration": 150,
    "start_time": "2022-10-26T06:07:48.415Z"
   },
   {
    "duration": 5,
    "start_time": "2022-10-26T06:07:48.567Z"
   },
   {
    "duration": 169,
    "start_time": "2022-10-26T06:07:48.574Z"
   },
   {
    "duration": 4,
    "start_time": "2022-10-26T06:07:48.744Z"
   },
   {
    "duration": 63,
    "start_time": "2022-10-26T06:07:48.750Z"
   },
   {
    "duration": 73,
    "start_time": "2022-10-26T06:07:48.815Z"
   },
   {
    "duration": 50,
    "start_time": "2022-10-26T06:07:48.890Z"
   },
   {
    "duration": 3,
    "start_time": "2022-10-26T06:07:48.942Z"
   },
   {
    "duration": 11,
    "start_time": "2022-10-26T06:07:48.946Z"
   },
   {
    "duration": 24,
    "start_time": "2022-10-26T06:07:48.959Z"
   },
   {
    "duration": 5,
    "start_time": "2022-10-26T06:07:48.985Z"
   },
   {
    "duration": 409,
    "start_time": "2022-10-26T06:07:48.992Z"
   },
   {
    "duration": 35,
    "start_time": "2022-10-26T06:07:49.403Z"
   },
   {
    "duration": 12,
    "start_time": "2022-10-26T06:07:49.441Z"
   },
   {
    "duration": 54,
    "start_time": "2022-10-26T06:07:49.455Z"
   },
   {
    "duration": 53,
    "start_time": "2022-10-26T06:07:49.511Z"
   },
   {
    "duration": 77,
    "start_time": "2022-10-26T06:07:49.565Z"
   },
   {
    "duration": 123,
    "start_time": "2022-10-26T06:07:49.644Z"
   },
   {
    "duration": 19,
    "start_time": "2022-10-26T06:25:41.895Z"
   },
   {
    "duration": 18,
    "start_time": "2022-10-26T06:26:37.663Z"
   },
   {
    "duration": 8,
    "start_time": "2022-10-26T06:27:01.350Z"
   },
   {
    "duration": 8,
    "start_time": "2022-10-26T06:27:39.268Z"
   },
   {
    "duration": 1228,
    "start_time": "2022-10-26T06:27:48.041Z"
   },
   {
    "duration": 167,
    "start_time": "2022-10-26T06:27:49.271Z"
   },
   {
    "duration": 3,
    "start_time": "2022-10-26T06:27:49.439Z"
   },
   {
    "duration": 122,
    "start_time": "2022-10-26T06:27:49.444Z"
   },
   {
    "duration": 5,
    "start_time": "2022-10-26T06:27:49.567Z"
   },
   {
    "duration": 145,
    "start_time": "2022-10-26T06:27:49.574Z"
   },
   {
    "duration": 5,
    "start_time": "2022-10-26T06:27:49.721Z"
   },
   {
    "duration": 57,
    "start_time": "2022-10-26T06:27:49.738Z"
   },
   {
    "duration": 73,
    "start_time": "2022-10-26T06:27:49.797Z"
   },
   {
    "duration": 43,
    "start_time": "2022-10-26T06:27:49.872Z"
   },
   {
    "duration": 3,
    "start_time": "2022-10-26T06:27:49.917Z"
   },
   {
    "duration": 7,
    "start_time": "2022-10-26T06:27:49.939Z"
   },
   {
    "duration": 26,
    "start_time": "2022-10-26T06:27:49.947Z"
   },
   {
    "duration": 5,
    "start_time": "2022-10-26T06:27:49.974Z"
   },
   {
    "duration": 405,
    "start_time": "2022-10-26T06:27:49.981Z"
   },
   {
    "duration": 22,
    "start_time": "2022-10-26T06:27:50.388Z"
   },
   {
    "duration": 28,
    "start_time": "2022-10-26T06:27:50.412Z"
   },
   {
    "duration": 52,
    "start_time": "2022-10-26T06:27:50.441Z"
   },
   {
    "duration": 45,
    "start_time": "2022-10-26T06:27:50.494Z"
   },
   {
    "duration": 72,
    "start_time": "2022-10-26T06:27:50.541Z"
   },
   {
    "duration": 26,
    "start_time": "2022-10-26T06:27:50.614Z"
   },
   {
    "duration": 6,
    "start_time": "2022-10-26T06:27:50.641Z"
   },
   {
    "duration": 110,
    "start_time": "2022-10-26T06:37:05.052Z"
   },
   {
    "duration": 9,
    "start_time": "2022-10-26T06:39:45.667Z"
   },
   {
    "duration": 18,
    "start_time": "2022-10-26T06:39:53.828Z"
   },
   {
    "duration": 12,
    "start_time": "2022-10-26T06:52:07.835Z"
   },
   {
    "duration": 9,
    "start_time": "2022-10-26T06:53:07.936Z"
   },
   {
    "duration": 1184,
    "start_time": "2022-10-26T06:53:16.371Z"
   },
   {
    "duration": 159,
    "start_time": "2022-10-26T06:53:17.557Z"
   },
   {
    "duration": 3,
    "start_time": "2022-10-26T06:53:17.718Z"
   },
   {
    "duration": 119,
    "start_time": "2022-10-26T06:53:17.722Z"
   },
   {
    "duration": 4,
    "start_time": "2022-10-26T06:53:17.844Z"
   },
   {
    "duration": 138,
    "start_time": "2022-10-26T06:53:17.849Z"
   },
   {
    "duration": 4,
    "start_time": "2022-10-26T06:53:17.989Z"
   },
   {
    "duration": 68,
    "start_time": "2022-10-26T06:53:17.995Z"
   },
   {
    "duration": 63,
    "start_time": "2022-10-26T06:53:18.064Z"
   },
   {
    "duration": 46,
    "start_time": "2022-10-26T06:53:18.139Z"
   },
   {
    "duration": 4,
    "start_time": "2022-10-26T06:53:18.186Z"
   },
   {
    "duration": 8,
    "start_time": "2022-10-26T06:53:18.192Z"
   },
   {
    "duration": 47,
    "start_time": "2022-10-26T06:53:18.202Z"
   },
   {
    "duration": 5,
    "start_time": "2022-10-26T06:53:18.252Z"
   },
   {
    "duration": 436,
    "start_time": "2022-10-26T06:53:18.259Z"
   },
   {
    "duration": 23,
    "start_time": "2022-10-26T06:53:18.697Z"
   },
   {
    "duration": 26,
    "start_time": "2022-10-26T06:53:18.722Z"
   },
   {
    "duration": 51,
    "start_time": "2022-10-26T06:53:18.750Z"
   },
   {
    "duration": 45,
    "start_time": "2022-10-26T06:53:18.803Z"
   },
   {
    "duration": 69,
    "start_time": "2022-10-26T06:53:18.850Z"
   },
   {
    "duration": 19,
    "start_time": "2022-10-26T06:53:18.921Z"
   },
   {
    "duration": 25,
    "start_time": "2022-10-26T06:53:18.942Z"
   },
   {
    "duration": 15,
    "start_time": "2022-10-26T06:53:37.448Z"
   },
   {
    "duration": 112,
    "start_time": "2022-10-26T06:54:18.583Z"
   },
   {
    "duration": 14,
    "start_time": "2022-10-26T06:57:55.709Z"
   },
   {
    "duration": 11,
    "start_time": "2022-10-26T06:58:08.972Z"
   },
   {
    "duration": 18,
    "start_time": "2022-10-26T06:58:17.173Z"
   },
   {
    "duration": 15,
    "start_time": "2022-10-26T06:58:29.405Z"
   },
   {
    "duration": 1197,
    "start_time": "2022-10-26T06:58:37.313Z"
   },
   {
    "duration": 182,
    "start_time": "2022-10-26T06:58:38.512Z"
   },
   {
    "duration": 4,
    "start_time": "2022-10-26T06:58:38.695Z"
   },
   {
    "duration": 106,
    "start_time": "2022-10-26T06:58:38.700Z"
   },
   {
    "duration": 4,
    "start_time": "2022-10-26T06:58:38.809Z"
   },
   {
    "duration": 148,
    "start_time": "2022-10-26T06:58:38.814Z"
   },
   {
    "duration": 5,
    "start_time": "2022-10-26T06:58:38.964Z"
   },
   {
    "duration": 71,
    "start_time": "2022-10-26T06:58:38.970Z"
   },
   {
    "duration": 60,
    "start_time": "2022-10-26T06:58:39.043Z"
   },
   {
    "duration": 59,
    "start_time": "2022-10-26T06:58:39.105Z"
   },
   {
    "duration": 3,
    "start_time": "2022-10-26T06:58:39.166Z"
   },
   {
    "duration": 9,
    "start_time": "2022-10-26T06:58:39.170Z"
   },
   {
    "duration": 23,
    "start_time": "2022-10-26T06:58:39.181Z"
   },
   {
    "duration": 5,
    "start_time": "2022-10-26T06:58:39.206Z"
   },
   {
    "duration": 367,
    "start_time": "2022-10-26T06:58:39.239Z"
   },
   {
    "duration": 36,
    "start_time": "2022-10-26T06:58:39.608Z"
   },
   {
    "duration": 11,
    "start_time": "2022-10-26T06:58:39.645Z"
   },
   {
    "duration": 53,
    "start_time": "2022-10-26T06:58:39.657Z"
   },
   {
    "duration": 46,
    "start_time": "2022-10-26T06:58:39.712Z"
   },
   {
    "duration": 87,
    "start_time": "2022-10-26T06:58:39.761Z"
   },
   {
    "duration": 8,
    "start_time": "2022-10-26T06:58:39.850Z"
   },
   {
    "duration": 18,
    "start_time": "2022-10-26T06:58:39.860Z"
   },
   {
    "duration": 15,
    "start_time": "2022-10-26T06:58:53.328Z"
   },
   {
    "duration": 14,
    "start_time": "2022-10-26T06:58:59.776Z"
   },
   {
    "duration": 16,
    "start_time": "2022-10-26T06:59:08.551Z"
   },
   {
    "duration": 15,
    "start_time": "2022-10-26T07:00:26.479Z"
   },
   {
    "duration": 15,
    "start_time": "2022-10-26T07:00:36.838Z"
   },
   {
    "duration": 1186,
    "start_time": "2022-10-26T07:00:49.310Z"
   },
   {
    "duration": 169,
    "start_time": "2022-10-26T07:00:50.498Z"
   },
   {
    "duration": 5,
    "start_time": "2022-10-26T07:00:50.669Z"
   },
   {
    "duration": 150,
    "start_time": "2022-10-26T07:00:50.676Z"
   },
   {
    "duration": 5,
    "start_time": "2022-10-26T07:00:50.838Z"
   },
   {
    "duration": 147,
    "start_time": "2022-10-26T07:00:50.845Z"
   },
   {
    "duration": 5,
    "start_time": "2022-10-26T07:00:50.994Z"
   },
   {
    "duration": 87,
    "start_time": "2022-10-26T07:00:51.001Z"
   },
   {
    "duration": 67,
    "start_time": "2022-10-26T07:00:51.090Z"
   },
   {
    "duration": 45,
    "start_time": "2022-10-26T07:00:51.159Z"
   },
   {
    "duration": 3,
    "start_time": "2022-10-26T07:00:51.206Z"
   },
   {
    "duration": 7,
    "start_time": "2022-10-26T07:00:51.239Z"
   },
   {
    "duration": 23,
    "start_time": "2022-10-26T07:00:51.249Z"
   },
   {
    "duration": 6,
    "start_time": "2022-10-26T07:00:51.275Z"
   },
   {
    "duration": 411,
    "start_time": "2022-10-26T07:00:51.283Z"
   },
   {
    "duration": 22,
    "start_time": "2022-10-26T07:00:51.696Z"
   },
   {
    "duration": 27,
    "start_time": "2022-10-26T07:00:51.720Z"
   },
   {
    "duration": 53,
    "start_time": "2022-10-26T07:00:51.748Z"
   },
   {
    "duration": 50,
    "start_time": "2022-10-26T07:00:51.803Z"
   },
   {
    "duration": 87,
    "start_time": "2022-10-26T07:00:51.855Z"
   },
   {
    "duration": 8,
    "start_time": "2022-10-26T07:00:51.944Z"
   },
   {
    "duration": 20,
    "start_time": "2022-10-26T07:00:51.954Z"
   },
   {
    "duration": 14,
    "start_time": "2022-10-26T07:01:21.391Z"
   },
   {
    "duration": 16,
    "start_time": "2022-10-26T07:01:36.872Z"
   },
   {
    "duration": 13,
    "start_time": "2022-10-26T07:02:01.661Z"
   },
   {
    "duration": 13,
    "start_time": "2022-10-26T07:02:54.950Z"
   },
   {
    "duration": 14,
    "start_time": "2022-10-26T07:02:59.536Z"
   },
   {
    "duration": 117,
    "start_time": "2022-10-26T07:05:02.898Z"
   },
   {
    "duration": 16,
    "start_time": "2022-10-26T07:09:20.635Z"
   },
   {
    "duration": 16,
    "start_time": "2022-10-26T07:09:38.435Z"
   },
   {
    "duration": 16,
    "start_time": "2022-10-26T07:09:46.599Z"
   },
   {
    "duration": 1217,
    "start_time": "2022-10-26T07:50:31.865Z"
   },
   {
    "duration": 170,
    "start_time": "2022-10-26T07:50:33.085Z"
   },
   {
    "duration": 3,
    "start_time": "2022-10-26T07:50:33.257Z"
   },
   {
    "duration": 133,
    "start_time": "2022-10-26T07:50:33.262Z"
   },
   {
    "duration": 4,
    "start_time": "2022-10-26T07:50:33.398Z"
   },
   {
    "duration": 165,
    "start_time": "2022-10-26T07:50:33.404Z"
   },
   {
    "duration": 5,
    "start_time": "2022-10-26T07:50:33.571Z"
   },
   {
    "duration": 79,
    "start_time": "2022-10-26T07:50:33.578Z"
   },
   {
    "duration": 65,
    "start_time": "2022-10-26T07:50:33.658Z"
   },
   {
    "duration": 68,
    "start_time": "2022-10-26T07:50:33.725Z"
   },
   {
    "duration": 4,
    "start_time": "2022-10-26T07:50:33.794Z"
   },
   {
    "duration": 11,
    "start_time": "2022-10-26T07:50:33.799Z"
   },
   {
    "duration": 54,
    "start_time": "2022-10-26T07:50:33.811Z"
   },
   {
    "duration": 5,
    "start_time": "2022-10-26T07:50:33.868Z"
   },
   {
    "duration": 431,
    "start_time": "2022-10-26T07:50:33.875Z"
   },
   {
    "duration": 38,
    "start_time": "2022-10-26T07:50:34.309Z"
   },
   {
    "duration": 13,
    "start_time": "2022-10-26T07:50:34.349Z"
   },
   {
    "duration": 74,
    "start_time": "2022-10-26T07:50:34.365Z"
   },
   {
    "duration": 33,
    "start_time": "2022-10-26T07:50:34.441Z"
   },
   {
    "duration": 92,
    "start_time": "2022-10-26T07:50:34.476Z"
   },
   {
    "duration": 9,
    "start_time": "2022-10-26T07:50:34.569Z"
   },
   {
    "duration": 17,
    "start_time": "2022-10-26T07:50:34.580Z"
   },
   {
    "duration": 899,
    "start_time": "2022-10-26T07:54:49.365Z"
   },
   {
    "duration": 1259,
    "start_time": "2022-10-26T07:54:56.374Z"
   },
   {
    "duration": 173,
    "start_time": "2022-10-26T07:54:57.635Z"
   },
   {
    "duration": 4,
    "start_time": "2022-10-26T07:54:57.810Z"
   },
   {
    "duration": 152,
    "start_time": "2022-10-26T07:54:57.816Z"
   },
   {
    "duration": 6,
    "start_time": "2022-10-26T07:54:57.970Z"
   },
   {
    "duration": 160,
    "start_time": "2022-10-26T07:54:57.978Z"
   },
   {
    "duration": 5,
    "start_time": "2022-10-26T07:54:58.140Z"
   },
   {
    "duration": 64,
    "start_time": "2022-10-26T07:54:58.147Z"
   },
   {
    "duration": 84,
    "start_time": "2022-10-26T07:54:58.213Z"
   },
   {
    "duration": 71,
    "start_time": "2022-10-26T07:54:58.300Z"
   },
   {
    "duration": 4,
    "start_time": "2022-10-26T07:54:58.373Z"
   },
   {
    "duration": 11,
    "start_time": "2022-10-26T07:54:58.380Z"
   },
   {
    "duration": 24,
    "start_time": "2022-10-26T07:54:58.393Z"
   },
   {
    "duration": 24,
    "start_time": "2022-10-26T07:54:58.418Z"
   },
   {
    "duration": 445,
    "start_time": "2022-10-26T07:54:58.444Z"
   },
   {
    "duration": 25,
    "start_time": "2022-10-26T07:54:58.891Z"
   },
   {
    "duration": 29,
    "start_time": "2022-10-26T07:54:58.918Z"
   },
   {
    "duration": 58,
    "start_time": "2022-10-26T07:54:58.948Z"
   },
   {
    "duration": 43,
    "start_time": "2022-10-26T07:54:59.008Z"
   },
   {
    "duration": 89,
    "start_time": "2022-10-26T07:54:59.052Z"
   },
   {
    "duration": 8,
    "start_time": "2022-10-26T07:54:59.143Z"
   },
   {
    "duration": 119,
    "start_time": "2022-10-26T07:54:59.153Z"
   },
   {
    "duration": 16,
    "start_time": "2022-10-26T07:56:18.163Z"
   },
   {
    "duration": 16,
    "start_time": "2022-10-26T07:57:33.791Z"
   },
   {
    "duration": 17,
    "start_time": "2022-10-26T07:57:59.851Z"
   },
   {
    "duration": 16,
    "start_time": "2022-10-26T07:58:09.263Z"
   },
   {
    "duration": 16,
    "start_time": "2022-10-26T07:58:18.251Z"
   },
   {
    "duration": 10,
    "start_time": "2022-10-26T07:58:34.006Z"
   },
   {
    "duration": 16,
    "start_time": "2022-10-26T07:58:41.155Z"
   },
   {
    "duration": 1252,
    "start_time": "2022-10-26T07:58:48.409Z"
   },
   {
    "duration": 168,
    "start_time": "2022-10-26T07:58:49.662Z"
   },
   {
    "duration": 8,
    "start_time": "2022-10-26T07:58:49.831Z"
   },
   {
    "duration": 123,
    "start_time": "2022-10-26T07:58:49.840Z"
   },
   {
    "duration": 4,
    "start_time": "2022-10-26T07:58:49.965Z"
   },
   {
    "duration": 151,
    "start_time": "2022-10-26T07:58:49.971Z"
   },
   {
    "duration": 3,
    "start_time": "2022-10-26T07:58:50.124Z"
   },
   {
    "duration": 71,
    "start_time": "2022-10-26T07:58:50.129Z"
   },
   {
    "duration": 64,
    "start_time": "2022-10-26T07:58:50.202Z"
   },
   {
    "duration": 46,
    "start_time": "2022-10-26T07:58:50.268Z"
   },
   {
    "duration": 4,
    "start_time": "2022-10-26T07:58:50.316Z"
   },
   {
    "duration": 15,
    "start_time": "2022-10-26T07:58:50.338Z"
   },
   {
    "duration": 48,
    "start_time": "2022-10-26T07:58:50.355Z"
   },
   {
    "duration": 5,
    "start_time": "2022-10-26T07:58:50.406Z"
   },
   {
    "duration": 415,
    "start_time": "2022-10-26T07:58:50.412Z"
   },
   {
    "duration": 25,
    "start_time": "2022-10-26T07:58:50.828Z"
   },
   {
    "duration": 11,
    "start_time": "2022-10-26T07:58:50.855Z"
   },
   {
    "duration": 51,
    "start_time": "2022-10-26T07:58:50.867Z"
   },
   {
    "duration": 29,
    "start_time": "2022-10-26T07:58:50.939Z"
   },
   {
    "duration": 86,
    "start_time": "2022-10-26T07:58:50.970Z"
   },
   {
    "duration": 8,
    "start_time": "2022-10-26T07:58:51.057Z"
   },
   {
    "duration": 20,
    "start_time": "2022-10-26T07:58:51.067Z"
   },
   {
    "duration": 21,
    "start_time": "2022-10-26T07:58:57.182Z"
   },
   {
    "duration": 1232,
    "start_time": "2022-10-26T07:59:03.154Z"
   },
   {
    "duration": 172,
    "start_time": "2022-10-26T07:59:04.388Z"
   },
   {
    "duration": 4,
    "start_time": "2022-10-26T07:59:04.562Z"
   },
   {
    "duration": 143,
    "start_time": "2022-10-26T07:59:04.568Z"
   },
   {
    "duration": 6,
    "start_time": "2022-10-26T07:59:04.713Z"
   },
   {
    "duration": 140,
    "start_time": "2022-10-26T07:59:04.739Z"
   },
   {
    "duration": 5,
    "start_time": "2022-10-26T07:59:04.881Z"
   },
   {
    "duration": 65,
    "start_time": "2022-10-26T07:59:04.887Z"
   },
   {
    "duration": 65,
    "start_time": "2022-10-26T07:59:04.954Z"
   },
   {
    "duration": 65,
    "start_time": "2022-10-26T07:59:05.020Z"
   },
   {
    "duration": 3,
    "start_time": "2022-10-26T07:59:05.087Z"
   },
   {
    "duration": 12,
    "start_time": "2022-10-26T07:59:05.092Z"
   },
   {
    "duration": 51,
    "start_time": "2022-10-26T07:59:05.106Z"
   },
   {
    "duration": 5,
    "start_time": "2022-10-26T07:59:05.160Z"
   },
   {
    "duration": 424,
    "start_time": "2022-10-26T07:59:05.167Z"
   },
   {
    "duration": 44,
    "start_time": "2022-10-26T07:59:05.594Z"
   },
   {
    "duration": 11,
    "start_time": "2022-10-26T07:59:05.641Z"
   },
   {
    "duration": 74,
    "start_time": "2022-10-26T07:59:05.654Z"
   },
   {
    "duration": 38,
    "start_time": "2022-10-26T07:59:05.729Z"
   },
   {
    "duration": 97,
    "start_time": "2022-10-26T07:59:05.769Z"
   },
   {
    "duration": 8,
    "start_time": "2022-10-26T07:59:05.867Z"
   },
   {
    "duration": 18,
    "start_time": "2022-10-26T07:59:05.877Z"
   },
   {
    "duration": 1126,
    "start_time": "2022-10-26T08:03:42.759Z"
   },
   {
    "duration": 173,
    "start_time": "2022-10-26T08:03:43.887Z"
   },
   {
    "duration": 3,
    "start_time": "2022-10-26T08:03:44.062Z"
   },
   {
    "duration": 134,
    "start_time": "2022-10-26T08:03:44.067Z"
   },
   {
    "duration": 6,
    "start_time": "2022-10-26T08:03:44.203Z"
   },
   {
    "duration": 175,
    "start_time": "2022-10-26T08:03:44.211Z"
   },
   {
    "duration": 5,
    "start_time": "2022-10-26T08:03:44.389Z"
   },
   {
    "duration": 77,
    "start_time": "2022-10-26T08:03:44.396Z"
   },
   {
    "duration": 73,
    "start_time": "2022-10-26T08:03:44.475Z"
   },
   {
    "duration": 49,
    "start_time": "2022-10-26T08:03:44.551Z"
   },
   {
    "duration": 4,
    "start_time": "2022-10-26T08:03:44.602Z"
   },
   {
    "duration": 9,
    "start_time": "2022-10-26T08:03:44.638Z"
   },
   {
    "duration": 24,
    "start_time": "2022-10-26T08:03:44.650Z"
   },
   {
    "duration": 7,
    "start_time": "2022-10-26T08:03:44.676Z"
   },
   {
    "duration": 446,
    "start_time": "2022-10-26T08:03:44.684Z"
   },
   {
    "duration": 29,
    "start_time": "2022-10-26T08:03:45.132Z"
   },
   {
    "duration": 13,
    "start_time": "2022-10-26T08:03:45.163Z"
   },
   {
    "duration": 80,
    "start_time": "2022-10-26T08:03:45.178Z"
   },
   {
    "duration": 31,
    "start_time": "2022-10-26T08:03:45.260Z"
   },
   {
    "duration": 94,
    "start_time": "2022-10-26T08:03:45.292Z"
   },
   {
    "duration": 8,
    "start_time": "2022-10-26T08:03:45.388Z"
   },
   {
    "duration": 18,
    "start_time": "2022-10-26T08:03:45.397Z"
   },
   {
    "duration": 105,
    "start_time": "2022-10-26T08:15:38.947Z"
   },
   {
    "duration": 12,
    "start_time": "2022-10-26T08:16:03.971Z"
   },
   {
    "duration": 13,
    "start_time": "2022-10-26T08:16:09.403Z"
   },
   {
    "duration": 14,
    "start_time": "2022-10-26T08:16:28.372Z"
   },
   {
    "duration": 15,
    "start_time": "2022-10-26T08:16:39.387Z"
   },
   {
    "duration": 20,
    "start_time": "2022-10-26T08:17:11.301Z"
   },
   {
    "duration": 15,
    "start_time": "2022-10-26T08:17:26.811Z"
   },
   {
    "duration": 15,
    "start_time": "2022-10-26T08:17:57.547Z"
   },
   {
    "duration": 14,
    "start_time": "2022-10-26T08:18:01.948Z"
   },
   {
    "duration": 14,
    "start_time": "2022-10-26T08:18:05.748Z"
   },
   {
    "duration": 1190,
    "start_time": "2022-10-26T08:19:30.850Z"
   },
   {
    "duration": 163,
    "start_time": "2022-10-26T08:19:32.042Z"
   },
   {
    "duration": 4,
    "start_time": "2022-10-26T08:19:32.207Z"
   },
   {
    "duration": 116,
    "start_time": "2022-10-26T08:19:32.212Z"
   },
   {
    "duration": 5,
    "start_time": "2022-10-26T08:19:32.339Z"
   },
   {
    "duration": 151,
    "start_time": "2022-10-26T08:19:32.346Z"
   },
   {
    "duration": 5,
    "start_time": "2022-10-26T08:19:32.498Z"
   },
   {
    "duration": 102,
    "start_time": "2022-10-26T08:19:32.505Z"
   },
   {
    "duration": 62,
    "start_time": "2022-10-26T08:19:32.609Z"
   },
   {
    "duration": 43,
    "start_time": "2022-10-26T08:19:32.672Z"
   },
   {
    "duration": 23,
    "start_time": "2022-10-26T08:19:32.717Z"
   },
   {
    "duration": 20,
    "start_time": "2022-10-26T08:19:32.742Z"
   },
   {
    "duration": 61,
    "start_time": "2022-10-26T08:19:32.763Z"
   },
   {
    "duration": 6,
    "start_time": "2022-10-26T08:19:32.827Z"
   },
   {
    "duration": 410,
    "start_time": "2022-10-26T08:19:32.835Z"
   },
   {
    "duration": 24,
    "start_time": "2022-10-26T08:19:33.247Z"
   },
   {
    "duration": 12,
    "start_time": "2022-10-26T08:19:33.273Z"
   },
   {
    "duration": 74,
    "start_time": "2022-10-26T08:19:33.287Z"
   },
   {
    "duration": 29,
    "start_time": "2022-10-26T08:19:33.363Z"
   },
   {
    "duration": 93,
    "start_time": "2022-10-26T08:19:33.394Z"
   },
   {
    "duration": 7,
    "start_time": "2022-10-26T08:19:33.489Z"
   },
   {
    "duration": 35,
    "start_time": "2022-10-26T08:19:33.498Z"
   },
   {
    "duration": 16,
    "start_time": "2022-10-26T08:20:41.449Z"
   },
   {
    "duration": 14,
    "start_time": "2022-10-26T08:20:53.363Z"
   },
   {
    "duration": 1135,
    "start_time": "2022-10-26T08:20:59.652Z"
   },
   {
    "duration": 169,
    "start_time": "2022-10-26T08:21:00.789Z"
   },
   {
    "duration": 3,
    "start_time": "2022-10-26T08:21:00.960Z"
   },
   {
    "duration": 211,
    "start_time": "2022-10-26T08:21:00.965Z"
   },
   {
    "duration": 5,
    "start_time": "2022-10-26T08:21:01.177Z"
   },
   {
    "duration": 177,
    "start_time": "2022-10-26T08:21:01.184Z"
   },
   {
    "duration": 3,
    "start_time": "2022-10-26T08:21:01.363Z"
   },
   {
    "duration": 70,
    "start_time": "2022-10-26T08:21:01.368Z"
   },
   {
    "duration": 63,
    "start_time": "2022-10-26T08:21:01.440Z"
   },
   {
    "duration": 61,
    "start_time": "2022-10-26T08:21:01.506Z"
   },
   {
    "duration": 3,
    "start_time": "2022-10-26T08:21:01.569Z"
   },
   {
    "duration": 28,
    "start_time": "2022-10-26T08:21:01.573Z"
   },
   {
    "duration": 45,
    "start_time": "2022-10-26T08:21:01.602Z"
   },
   {
    "duration": 11,
    "start_time": "2022-10-26T08:21:01.648Z"
   },
   {
    "duration": 389,
    "start_time": "2022-10-26T08:21:01.660Z"
   },
   {
    "duration": 24,
    "start_time": "2022-10-26T08:21:02.050Z"
   },
   {
    "duration": 18,
    "start_time": "2022-10-26T08:21:02.075Z"
   },
   {
    "duration": 76,
    "start_time": "2022-10-26T08:21:02.094Z"
   },
   {
    "duration": 29,
    "start_time": "2022-10-26T08:21:02.172Z"
   },
   {
    "duration": 84,
    "start_time": "2022-10-26T08:21:02.203Z"
   },
   {
    "duration": 7,
    "start_time": "2022-10-26T08:21:02.289Z"
   },
   {
    "duration": 41,
    "start_time": "2022-10-26T08:21:02.298Z"
   },
   {
    "duration": 72,
    "start_time": "2022-10-26T08:23:50.649Z"
   },
   {
    "duration": 1111,
    "start_time": "2022-10-26T08:23:55.172Z"
   },
   {
    "duration": 176,
    "start_time": "2022-10-26T08:23:56.285Z"
   },
   {
    "duration": 3,
    "start_time": "2022-10-26T08:23:56.463Z"
   },
   {
    "duration": 121,
    "start_time": "2022-10-26T08:23:56.468Z"
   },
   {
    "duration": 4,
    "start_time": "2022-10-26T08:23:56.591Z"
   },
   {
    "duration": 157,
    "start_time": "2022-10-26T08:23:56.597Z"
   },
   {
    "duration": 5,
    "start_time": "2022-10-26T08:23:56.756Z"
   },
   {
    "duration": 77,
    "start_time": "2022-10-26T08:23:56.762Z"
   },
   {
    "duration": 64,
    "start_time": "2022-10-26T08:23:56.841Z"
   },
   {
    "duration": 59,
    "start_time": "2022-10-26T08:23:56.907Z"
   },
   {
    "duration": 4,
    "start_time": "2022-10-26T08:23:56.967Z"
   },
   {
    "duration": 10,
    "start_time": "2022-10-26T08:23:56.972Z"
   },
   {
    "duration": 24,
    "start_time": "2022-10-26T08:23:56.983Z"
   },
   {
    "duration": 30,
    "start_time": "2022-10-26T08:23:57.009Z"
   },
   {
    "duration": 464,
    "start_time": "2022-10-26T08:23:57.041Z"
   },
   {
    "duration": 33,
    "start_time": "2022-10-26T08:23:57.506Z"
   },
   {
    "duration": 12,
    "start_time": "2022-10-26T08:23:57.541Z"
   },
   {
    "duration": 55,
    "start_time": "2022-10-26T08:23:57.555Z"
   },
   {
    "duration": 46,
    "start_time": "2022-10-26T08:23:57.612Z"
   },
   {
    "duration": 79,
    "start_time": "2022-10-26T08:23:57.660Z"
   },
   {
    "duration": 8,
    "start_time": "2022-10-26T08:23:57.740Z"
   },
   {
    "duration": 15,
    "start_time": "2022-10-26T08:23:57.750Z"
   },
   {
    "duration": 9,
    "start_time": "2022-10-26T08:27:24.743Z"
   },
   {
    "duration": 9,
    "start_time": "2022-10-26T08:33:05.488Z"
   },
   {
    "duration": 7,
    "start_time": "2022-10-26T08:33:09.183Z"
   },
   {
    "duration": 10,
    "start_time": "2022-10-26T08:33:44.848Z"
   },
   {
    "duration": 1069,
    "start_time": "2022-10-26T08:34:28.463Z"
   },
   {
    "duration": 1330,
    "start_time": "2022-10-26T08:34:36.126Z"
   },
   {
    "duration": 171,
    "start_time": "2022-10-26T08:34:37.458Z"
   },
   {
    "duration": 3,
    "start_time": "2022-10-26T08:34:37.631Z"
   },
   {
    "duration": 160,
    "start_time": "2022-10-26T08:34:37.639Z"
   },
   {
    "duration": 7,
    "start_time": "2022-10-26T08:34:37.802Z"
   },
   {
    "duration": 172,
    "start_time": "2022-10-26T08:34:37.811Z"
   },
   {
    "duration": 5,
    "start_time": "2022-10-26T08:34:37.985Z"
   },
   {
    "duration": 77,
    "start_time": "2022-10-26T08:34:37.992Z"
   },
   {
    "duration": 70,
    "start_time": "2022-10-26T08:34:38.072Z"
   },
   {
    "duration": 47,
    "start_time": "2022-10-26T08:34:38.146Z"
   },
   {
    "duration": 4,
    "start_time": "2022-10-26T08:34:38.195Z"
   },
   {
    "duration": 38,
    "start_time": "2022-10-26T08:34:38.201Z"
   },
   {
    "duration": 27,
    "start_time": "2022-10-26T08:34:38.241Z"
   },
   {
    "duration": 24,
    "start_time": "2022-10-26T08:34:38.270Z"
   },
   {
    "duration": 456,
    "start_time": "2022-10-26T08:34:38.296Z"
   },
   {
    "duration": 24,
    "start_time": "2022-10-26T08:34:38.753Z"
   },
   {
    "duration": 13,
    "start_time": "2022-10-26T08:34:38.779Z"
   },
   {
    "duration": 68,
    "start_time": "2022-10-26T08:34:38.794Z"
   },
   {
    "duration": 29,
    "start_time": "2022-10-26T08:34:38.863Z"
   },
   {
    "duration": 85,
    "start_time": "2022-10-26T08:34:38.894Z"
   },
   {
    "duration": 8,
    "start_time": "2022-10-26T08:34:38.980Z"
   },
   {
    "duration": 118,
    "start_time": "2022-10-26T08:34:38.989Z"
   },
   {
    "duration": 16,
    "start_time": "2022-10-26T08:40:54.179Z"
   },
   {
    "duration": 1140,
    "start_time": "2022-10-26T08:40:59.944Z"
   },
   {
    "duration": 187,
    "start_time": "2022-10-26T08:41:01.087Z"
   },
   {
    "duration": 4,
    "start_time": "2022-10-26T08:41:01.276Z"
   },
   {
    "duration": 135,
    "start_time": "2022-10-26T08:41:01.282Z"
   },
   {
    "duration": 5,
    "start_time": "2022-10-26T08:41:01.420Z"
   },
   {
    "duration": 149,
    "start_time": "2022-10-26T08:41:01.439Z"
   },
   {
    "duration": 4,
    "start_time": "2022-10-26T08:41:01.590Z"
   },
   {
    "duration": 73,
    "start_time": "2022-10-26T08:41:01.596Z"
   },
   {
    "duration": 73,
    "start_time": "2022-10-26T08:41:01.670Z"
   },
   {
    "duration": 46,
    "start_time": "2022-10-26T08:41:01.745Z"
   },
   {
    "duration": 4,
    "start_time": "2022-10-26T08:41:01.793Z"
   },
   {
    "duration": 12,
    "start_time": "2022-10-26T08:41:01.799Z"
   },
   {
    "duration": 42,
    "start_time": "2022-10-26T08:41:01.812Z"
   },
   {
    "duration": 6,
    "start_time": "2022-10-26T08:41:01.856Z"
   },
   {
    "duration": 408,
    "start_time": "2022-10-26T08:41:01.864Z"
   },
   {
    "duration": 25,
    "start_time": "2022-10-26T08:41:02.275Z"
   },
   {
    "duration": 12,
    "start_time": "2022-10-26T08:41:02.302Z"
   },
   {
    "duration": 75,
    "start_time": "2022-10-26T08:41:02.339Z"
   },
   {
    "duration": 41,
    "start_time": "2022-10-26T08:41:02.416Z"
   },
   {
    "duration": 81,
    "start_time": "2022-10-26T08:41:02.459Z"
   },
   {
    "duration": 7,
    "start_time": "2022-10-26T08:41:02.542Z"
   },
   {
    "duration": 19,
    "start_time": "2022-10-26T08:41:02.551Z"
   },
   {
    "duration": 1156,
    "start_time": "2022-10-26T08:41:42.111Z"
   },
   {
    "duration": 171,
    "start_time": "2022-10-26T08:41:43.269Z"
   },
   {
    "duration": 3,
    "start_time": "2022-10-26T08:41:43.441Z"
   },
   {
    "duration": 129,
    "start_time": "2022-10-26T08:41:43.446Z"
   },
   {
    "duration": 5,
    "start_time": "2022-10-26T08:41:43.578Z"
   },
   {
    "duration": 145,
    "start_time": "2022-10-26T08:41:43.584Z"
   },
   {
    "duration": 9,
    "start_time": "2022-10-26T08:41:43.731Z"
   },
   {
    "duration": 60,
    "start_time": "2022-10-26T08:41:43.742Z"
   },
   {
    "duration": 79,
    "start_time": "2022-10-26T08:41:43.804Z"
   },
   {
    "duration": 55,
    "start_time": "2022-10-26T08:41:43.884Z"
   },
   {
    "duration": 4,
    "start_time": "2022-10-26T08:41:43.940Z"
   },
   {
    "duration": 16,
    "start_time": "2022-10-26T08:41:43.945Z"
   },
   {
    "duration": 21,
    "start_time": "2022-10-26T08:41:43.963Z"
   },
   {
    "duration": 4,
    "start_time": "2022-10-26T08:41:43.987Z"
   },
   {
    "duration": 405,
    "start_time": "2022-10-26T08:41:43.992Z"
   },
   {
    "duration": 24,
    "start_time": "2022-10-26T08:41:44.399Z"
   },
   {
    "duration": 23,
    "start_time": "2022-10-26T08:41:44.425Z"
   },
   {
    "duration": 55,
    "start_time": "2022-10-26T08:41:44.450Z"
   },
   {
    "duration": 48,
    "start_time": "2022-10-26T08:41:44.507Z"
   },
   {
    "duration": 83,
    "start_time": "2022-10-26T08:41:44.556Z"
   },
   {
    "duration": 9,
    "start_time": "2022-10-26T08:41:44.641Z"
   },
   {
    "duration": 18,
    "start_time": "2022-10-26T08:41:44.651Z"
   },
   {
    "duration": 1192,
    "start_time": "2022-10-26T08:42:42.485Z"
   },
   {
    "duration": 162,
    "start_time": "2022-10-26T08:42:43.679Z"
   },
   {
    "duration": 3,
    "start_time": "2022-10-26T08:42:43.843Z"
   },
   {
    "duration": 129,
    "start_time": "2022-10-26T08:42:43.848Z"
   },
   {
    "duration": 6,
    "start_time": "2022-10-26T08:42:43.979Z"
   },
   {
    "duration": 144,
    "start_time": "2022-10-26T08:42:43.987Z"
   },
   {
    "duration": 4,
    "start_time": "2022-10-26T08:42:44.138Z"
   },
   {
    "duration": 62,
    "start_time": "2022-10-26T08:42:44.144Z"
   },
   {
    "duration": 73,
    "start_time": "2022-10-26T08:42:44.208Z"
   },
   {
    "duration": 59,
    "start_time": "2022-10-26T08:42:44.283Z"
   },
   {
    "duration": 3,
    "start_time": "2022-10-26T08:42:44.344Z"
   },
   {
    "duration": 15,
    "start_time": "2022-10-26T08:42:44.349Z"
   },
   {
    "duration": 28,
    "start_time": "2022-10-26T08:42:44.366Z"
   },
   {
    "duration": 5,
    "start_time": "2022-10-26T08:42:44.395Z"
   },
   {
    "duration": 378,
    "start_time": "2022-10-26T08:42:44.402Z"
   },
   {
    "duration": 24,
    "start_time": "2022-10-26T08:42:44.782Z"
   },
   {
    "duration": 11,
    "start_time": "2022-10-26T08:42:44.808Z"
   },
   {
    "duration": 49,
    "start_time": "2022-10-26T08:42:44.839Z"
   },
   {
    "duration": 29,
    "start_time": "2022-10-26T08:42:44.889Z"
   },
   {
    "duration": 82,
    "start_time": "2022-10-26T08:42:44.919Z"
   },
   {
    "duration": 8,
    "start_time": "2022-10-26T08:42:45.003Z"
   },
   {
    "duration": 1469,
    "start_time": "2022-10-26T08:42:45.012Z"
   },
   {
    "duration": 1193,
    "start_time": "2022-10-26T08:43:21.050Z"
   },
   {
    "duration": 181,
    "start_time": "2022-10-26T08:43:22.245Z"
   },
   {
    "duration": 3,
    "start_time": "2022-10-26T08:43:22.427Z"
   },
   {
    "duration": 115,
    "start_time": "2022-10-26T08:43:22.438Z"
   },
   {
    "duration": 5,
    "start_time": "2022-10-26T08:43:22.555Z"
   },
   {
    "duration": 143,
    "start_time": "2022-10-26T08:43:22.561Z"
   },
   {
    "duration": 5,
    "start_time": "2022-10-26T08:43:22.705Z"
   },
   {
    "duration": 74,
    "start_time": "2022-10-26T08:43:22.711Z"
   },
   {
    "duration": 69,
    "start_time": "2022-10-26T08:43:22.786Z"
   },
   {
    "duration": 43,
    "start_time": "2022-10-26T08:43:22.857Z"
   },
   {
    "duration": 3,
    "start_time": "2022-10-26T08:43:22.902Z"
   },
   {
    "duration": 10,
    "start_time": "2022-10-26T08:43:22.907Z"
   },
   {
    "duration": 21,
    "start_time": "2022-10-26T08:43:22.939Z"
   },
   {
    "duration": 5,
    "start_time": "2022-10-26T08:43:22.962Z"
   },
   {
    "duration": 410,
    "start_time": "2022-10-26T08:43:22.969Z"
   },
   {
    "duration": 23,
    "start_time": "2022-10-26T08:43:23.381Z"
   },
   {
    "duration": 11,
    "start_time": "2022-10-26T08:43:23.406Z"
   },
   {
    "duration": 50,
    "start_time": "2022-10-26T08:43:23.439Z"
   },
   {
    "duration": 29,
    "start_time": "2022-10-26T08:43:23.491Z"
   },
   {
    "duration": 76,
    "start_time": "2022-10-26T08:43:23.521Z"
   },
   {
    "duration": 7,
    "start_time": "2022-10-26T08:43:23.599Z"
   },
   {
    "duration": 37,
    "start_time": "2022-10-26T08:43:23.608Z"
   },
   {
    "duration": 1168,
    "start_time": "2022-10-26T08:44:28.449Z"
   },
   {
    "duration": 172,
    "start_time": "2022-10-26T08:44:29.619Z"
   },
   {
    "duration": 3,
    "start_time": "2022-10-26T08:44:29.792Z"
   },
   {
    "duration": 123,
    "start_time": "2022-10-26T08:44:29.796Z"
   },
   {
    "duration": 18,
    "start_time": "2022-10-26T08:44:29.922Z"
   },
   {
    "duration": 146,
    "start_time": "2022-10-26T08:44:29.942Z"
   },
   {
    "duration": 4,
    "start_time": "2022-10-26T08:44:30.090Z"
   },
   {
    "duration": 74,
    "start_time": "2022-10-26T08:44:30.096Z"
   },
   {
    "duration": 70,
    "start_time": "2022-10-26T08:44:30.172Z"
   },
   {
    "duration": 45,
    "start_time": "2022-10-26T08:44:30.244Z"
   },
   {
    "duration": 3,
    "start_time": "2022-10-26T08:44:30.291Z"
   },
   {
    "duration": 14,
    "start_time": "2022-10-26T08:44:30.296Z"
   },
   {
    "duration": 55,
    "start_time": "2022-10-26T08:44:30.312Z"
   },
   {
    "duration": 6,
    "start_time": "2022-10-26T08:44:30.369Z"
   },
   {
    "duration": 432,
    "start_time": "2022-10-26T08:44:30.376Z"
   },
   {
    "duration": 32,
    "start_time": "2022-10-26T08:44:30.810Z"
   },
   {
    "duration": 12,
    "start_time": "2022-10-26T08:44:30.844Z"
   },
   {
    "duration": 77,
    "start_time": "2022-10-26T08:44:30.857Z"
   },
   {
    "duration": 31,
    "start_time": "2022-10-26T08:44:30.935Z"
   },
   {
    "duration": 89,
    "start_time": "2022-10-26T08:44:30.967Z"
   },
   {
    "duration": 8,
    "start_time": "2022-10-26T08:44:31.058Z"
   },
   {
    "duration": 153,
    "start_time": "2022-10-26T08:44:31.068Z"
   },
   {
    "duration": 1196,
    "start_time": "2022-10-26T08:45:02.204Z"
   },
   {
    "duration": 172,
    "start_time": "2022-10-26T08:45:03.402Z"
   },
   {
    "duration": 4,
    "start_time": "2022-10-26T08:45:03.575Z"
   },
   {
    "duration": 136,
    "start_time": "2022-10-26T08:45:03.581Z"
   },
   {
    "duration": 5,
    "start_time": "2022-10-26T08:45:03.719Z"
   },
   {
    "duration": 151,
    "start_time": "2022-10-26T08:45:03.726Z"
   },
   {
    "duration": 5,
    "start_time": "2022-10-26T08:45:03.879Z"
   },
   {
    "duration": 69,
    "start_time": "2022-10-26T08:45:03.886Z"
   },
   {
    "duration": 66,
    "start_time": "2022-10-26T08:45:03.956Z"
   },
   {
    "duration": 46,
    "start_time": "2022-10-26T08:45:04.038Z"
   },
   {
    "duration": 3,
    "start_time": "2022-10-26T08:45:04.085Z"
   },
   {
    "duration": 11,
    "start_time": "2022-10-26T08:45:04.090Z"
   },
   {
    "duration": 47,
    "start_time": "2022-10-26T08:45:04.103Z"
   },
   {
    "duration": 5,
    "start_time": "2022-10-26T08:45:04.152Z"
   },
   {
    "duration": 408,
    "start_time": "2022-10-26T08:45:04.159Z"
   },
   {
    "duration": 23,
    "start_time": "2022-10-26T08:45:04.569Z"
   },
   {
    "duration": 11,
    "start_time": "2022-10-26T08:45:04.594Z"
   },
   {
    "duration": 72,
    "start_time": "2022-10-26T08:45:04.607Z"
   },
   {
    "duration": 30,
    "start_time": "2022-10-26T08:45:04.681Z"
   },
   {
    "duration": 86,
    "start_time": "2022-10-26T08:45:04.712Z"
   },
   {
    "duration": 9,
    "start_time": "2022-10-26T08:45:04.799Z"
   },
   {
    "duration": 37,
    "start_time": "2022-10-26T08:45:04.809Z"
   },
   {
    "duration": 1135,
    "start_time": "2022-10-26T08:48:22.949Z"
   },
   {
    "duration": 167,
    "start_time": "2022-10-26T08:48:24.086Z"
   },
   {
    "duration": 3,
    "start_time": "2022-10-26T08:48:24.255Z"
   },
   {
    "duration": 153,
    "start_time": "2022-10-26T08:48:24.260Z"
   },
   {
    "duration": 5,
    "start_time": "2022-10-26T08:48:24.415Z"
   },
   {
    "duration": 169,
    "start_time": "2022-10-26T08:48:24.421Z"
   },
   {
    "duration": 5,
    "start_time": "2022-10-26T08:48:24.591Z"
   },
   {
    "duration": 82,
    "start_time": "2022-10-26T08:48:24.597Z"
   },
   {
    "duration": 70,
    "start_time": "2022-10-26T08:48:24.681Z"
   },
   {
    "duration": 46,
    "start_time": "2022-10-26T08:48:24.753Z"
   },
   {
    "duration": 3,
    "start_time": "2022-10-26T08:48:24.801Z"
   },
   {
    "duration": 14,
    "start_time": "2022-10-26T08:48:24.805Z"
   },
   {
    "duration": 23,
    "start_time": "2022-10-26T08:48:24.839Z"
   },
   {
    "duration": 5,
    "start_time": "2022-10-26T08:48:24.864Z"
   },
   {
    "duration": 386,
    "start_time": "2022-10-26T08:48:24.871Z"
   },
   {
    "duration": 24,
    "start_time": "2022-10-26T08:48:25.259Z"
   },
   {
    "duration": 11,
    "start_time": "2022-10-26T08:48:25.285Z"
   },
   {
    "duration": 82,
    "start_time": "2022-10-26T08:48:25.298Z"
   },
   {
    "duration": 30,
    "start_time": "2022-10-26T08:48:25.382Z"
   },
   {
    "duration": 81,
    "start_time": "2022-10-26T08:48:25.414Z"
   },
   {
    "duration": 7,
    "start_time": "2022-10-26T08:48:25.497Z"
   },
   {
    "duration": 35,
    "start_time": "2022-10-26T08:48:25.505Z"
   },
   {
    "duration": 1231,
    "start_time": "2022-10-26T08:50:02.048Z"
   },
   {
    "duration": 166,
    "start_time": "2022-10-26T08:50:03.281Z"
   },
   {
    "duration": 3,
    "start_time": "2022-10-26T08:50:03.449Z"
   },
   {
    "duration": 128,
    "start_time": "2022-10-26T08:50:03.454Z"
   },
   {
    "duration": 4,
    "start_time": "2022-10-26T08:50:03.584Z"
   },
   {
    "duration": 145,
    "start_time": "2022-10-26T08:50:03.590Z"
   },
   {
    "duration": 4,
    "start_time": "2022-10-26T08:50:03.739Z"
   },
   {
    "duration": 60,
    "start_time": "2022-10-26T08:50:03.745Z"
   },
   {
    "duration": 76,
    "start_time": "2022-10-26T08:50:03.807Z"
   },
   {
    "duration": 55,
    "start_time": "2022-10-26T08:50:03.884Z"
   },
   {
    "duration": 4,
    "start_time": "2022-10-26T08:50:03.940Z"
   },
   {
    "duration": 14,
    "start_time": "2022-10-26T08:50:03.945Z"
   },
   {
    "duration": 23,
    "start_time": "2022-10-26T08:50:03.961Z"
   },
   {
    "duration": 5,
    "start_time": "2022-10-26T08:50:03.986Z"
   },
   {
    "duration": 414,
    "start_time": "2022-10-26T08:50:03.992Z"
   },
   {
    "duration": 31,
    "start_time": "2022-10-26T08:50:04.407Z"
   },
   {
    "duration": 11,
    "start_time": "2022-10-26T08:50:04.440Z"
   },
   {
    "duration": 53,
    "start_time": "2022-10-26T08:50:04.453Z"
   },
   {
    "duration": 49,
    "start_time": "2022-10-26T08:50:04.508Z"
   },
   {
    "duration": 87,
    "start_time": "2022-10-26T08:50:04.559Z"
   },
   {
    "duration": 7,
    "start_time": "2022-10-26T08:50:04.648Z"
   },
   {
    "duration": 26,
    "start_time": "2022-10-26T08:50:04.657Z"
   },
   {
    "duration": 1157,
    "start_time": "2022-10-26T08:50:20.104Z"
   },
   {
    "duration": 164,
    "start_time": "2022-10-26T08:50:21.263Z"
   },
   {
    "duration": 3,
    "start_time": "2022-10-26T08:50:21.429Z"
   },
   {
    "duration": 122,
    "start_time": "2022-10-26T08:50:21.433Z"
   },
   {
    "duration": 4,
    "start_time": "2022-10-26T08:50:21.558Z"
   },
   {
    "duration": 149,
    "start_time": "2022-10-26T08:50:21.563Z"
   },
   {
    "duration": 4,
    "start_time": "2022-10-26T08:50:21.714Z"
   },
   {
    "duration": 71,
    "start_time": "2022-10-26T08:50:21.719Z"
   },
   {
    "duration": 72,
    "start_time": "2022-10-26T08:50:21.792Z"
   },
   {
    "duration": 43,
    "start_time": "2022-10-26T08:50:21.866Z"
   },
   {
    "duration": 4,
    "start_time": "2022-10-26T08:50:21.911Z"
   },
   {
    "duration": 26,
    "start_time": "2022-10-26T08:50:21.916Z"
   },
   {
    "duration": 23,
    "start_time": "2022-10-26T08:50:21.943Z"
   },
   {
    "duration": 5,
    "start_time": "2022-10-26T08:50:21.968Z"
   },
   {
    "duration": 397,
    "start_time": "2022-10-26T08:50:21.974Z"
   },
   {
    "duration": 23,
    "start_time": "2022-10-26T08:50:22.373Z"
   },
   {
    "duration": 12,
    "start_time": "2022-10-26T08:50:22.398Z"
   },
   {
    "duration": 75,
    "start_time": "2022-10-26T08:50:22.411Z"
   },
   {
    "duration": 30,
    "start_time": "2022-10-26T08:50:22.488Z"
   },
   {
    "duration": 83,
    "start_time": "2022-10-26T08:50:22.519Z"
   },
   {
    "duration": 8,
    "start_time": "2022-10-26T08:50:22.603Z"
   },
   {
    "duration": 33,
    "start_time": "2022-10-26T08:50:22.612Z"
   },
   {
    "duration": 1227,
    "start_time": "2022-10-26T08:50:36.749Z"
   },
   {
    "duration": 161,
    "start_time": "2022-10-26T08:50:37.978Z"
   },
   {
    "duration": 3,
    "start_time": "2022-10-26T08:50:38.141Z"
   },
   {
    "duration": 136,
    "start_time": "2022-10-26T08:50:38.146Z"
   },
   {
    "duration": 6,
    "start_time": "2022-10-26T08:50:38.285Z"
   },
   {
    "duration": 201,
    "start_time": "2022-10-26T08:50:38.293Z"
   },
   {
    "duration": 4,
    "start_time": "2022-10-26T08:50:38.495Z"
   },
   {
    "duration": 111,
    "start_time": "2022-10-26T08:50:38.501Z"
   },
   {
    "duration": 68,
    "start_time": "2022-10-26T08:50:38.614Z"
   },
   {
    "duration": 63,
    "start_time": "2022-10-26T08:50:38.684Z"
   },
   {
    "duration": 3,
    "start_time": "2022-10-26T08:50:38.748Z"
   },
   {
    "duration": 33,
    "start_time": "2022-10-26T08:50:38.753Z"
   },
   {
    "duration": 31,
    "start_time": "2022-10-26T08:50:38.788Z"
   },
   {
    "duration": 5,
    "start_time": "2022-10-26T08:50:38.823Z"
   },
   {
    "duration": 386,
    "start_time": "2022-10-26T08:50:38.830Z"
   },
   {
    "duration": 31,
    "start_time": "2022-10-26T08:50:39.218Z"
   },
   {
    "duration": 14,
    "start_time": "2022-10-26T08:50:39.252Z"
   },
   {
    "duration": 82,
    "start_time": "2022-10-26T08:50:39.268Z"
   },
   {
    "duration": 30,
    "start_time": "2022-10-26T08:50:39.351Z"
   },
   {
    "duration": 80,
    "start_time": "2022-10-26T08:50:39.382Z"
   },
   {
    "duration": 7,
    "start_time": "2022-10-26T08:50:39.464Z"
   },
   {
    "duration": 46,
    "start_time": "2022-10-26T08:50:39.473Z"
   },
   {
    "duration": 1182,
    "start_time": "2022-10-26T08:51:37.847Z"
   },
   {
    "duration": 168,
    "start_time": "2022-10-26T08:51:39.031Z"
   },
   {
    "duration": 5,
    "start_time": "2022-10-26T08:51:39.201Z"
   },
   {
    "duration": 157,
    "start_time": "2022-10-26T08:51:39.208Z"
   },
   {
    "duration": 5,
    "start_time": "2022-10-26T08:51:39.367Z"
   },
   {
    "duration": 174,
    "start_time": "2022-10-26T08:51:39.374Z"
   },
   {
    "duration": 3,
    "start_time": "2022-10-26T08:51:39.550Z"
   },
   {
    "duration": 68,
    "start_time": "2022-10-26T08:51:39.555Z"
   },
   {
    "duration": 72,
    "start_time": "2022-10-26T08:51:39.625Z"
   },
   {
    "duration": 55,
    "start_time": "2022-10-26T08:51:39.699Z"
   },
   {
    "duration": 3,
    "start_time": "2022-10-26T08:51:39.756Z"
   },
   {
    "duration": 19,
    "start_time": "2022-10-26T08:51:39.761Z"
   },
   {
    "duration": 34,
    "start_time": "2022-10-26T08:51:39.782Z"
   },
   {
    "duration": 5,
    "start_time": "2022-10-26T08:51:39.819Z"
   },
   {
    "duration": 407,
    "start_time": "2022-10-26T08:51:39.825Z"
   },
   {
    "duration": 25,
    "start_time": "2022-10-26T08:51:40.234Z"
   },
   {
    "duration": 13,
    "start_time": "2022-10-26T08:51:40.260Z"
   },
   {
    "duration": 82,
    "start_time": "2022-10-26T08:51:40.274Z"
   },
   {
    "duration": 32,
    "start_time": "2022-10-26T08:51:40.358Z"
   },
   {
    "duration": 97,
    "start_time": "2022-10-26T08:51:40.392Z"
   },
   {
    "duration": 8,
    "start_time": "2022-10-26T08:51:40.491Z"
   },
   {
    "duration": 23,
    "start_time": "2022-10-26T08:51:40.501Z"
   },
   {
    "duration": 135,
    "start_time": "2022-10-26T08:53:29.592Z"
   },
   {
    "duration": 8,
    "start_time": "2022-10-26T08:54:37.585Z"
   },
   {
    "duration": 117,
    "start_time": "2022-10-26T08:55:21.097Z"
   },
   {
    "duration": 113,
    "start_time": "2022-10-26T08:55:30.152Z"
   },
   {
    "duration": 8,
    "start_time": "2022-10-26T08:55:41.960Z"
   },
   {
    "duration": 3,
    "start_time": "2022-10-26T09:00:46.398Z"
   },
   {
    "duration": 17,
    "start_time": "2022-10-26T09:09:35.249Z"
   },
   {
    "duration": 1241,
    "start_time": "2022-10-26T09:10:48.630Z"
   },
   {
    "duration": 162,
    "start_time": "2022-10-26T09:10:49.873Z"
   },
   {
    "duration": 3,
    "start_time": "2022-10-26T09:10:50.036Z"
   },
   {
    "duration": 129,
    "start_time": "2022-10-26T09:10:50.041Z"
   },
   {
    "duration": 4,
    "start_time": "2022-10-26T09:10:50.172Z"
   },
   {
    "duration": 142,
    "start_time": "2022-10-26T09:10:50.178Z"
   },
   {
    "duration": 4,
    "start_time": "2022-10-26T09:10:50.322Z"
   },
   {
    "duration": 65,
    "start_time": "2022-10-26T09:10:50.339Z"
   },
   {
    "duration": 84,
    "start_time": "2022-10-26T09:10:50.405Z"
   },
   {
    "duration": 50,
    "start_time": "2022-10-26T09:10:50.491Z"
   },
   {
    "duration": 4,
    "start_time": "2022-10-26T09:10:50.543Z"
   },
   {
    "duration": 11,
    "start_time": "2022-10-26T09:10:50.549Z"
   },
   {
    "duration": 28,
    "start_time": "2022-10-26T09:10:50.561Z"
   },
   {
    "duration": 5,
    "start_time": "2022-10-26T09:10:50.592Z"
   },
   {
    "duration": 415,
    "start_time": "2022-10-26T09:10:50.599Z"
   },
   {
    "duration": 31,
    "start_time": "2022-10-26T09:10:51.016Z"
   },
   {
    "duration": 11,
    "start_time": "2022-10-26T09:10:51.049Z"
   },
   {
    "duration": 49,
    "start_time": "2022-10-26T09:10:51.062Z"
   },
   {
    "duration": 52,
    "start_time": "2022-10-26T09:10:51.113Z"
   },
   {
    "duration": 83,
    "start_time": "2022-10-26T09:10:51.167Z"
   },
   {
    "duration": 7,
    "start_time": "2022-10-26T09:10:51.252Z"
   },
   {
    "duration": 17,
    "start_time": "2022-10-26T09:10:51.261Z"
   },
   {
    "duration": 155,
    "start_time": "2022-10-26T09:10:51.279Z"
   },
   {
    "duration": 17,
    "start_time": "2022-10-26T09:10:51.436Z"
   },
   {
    "duration": 1242,
    "start_time": "2022-10-26T09:13:11.551Z"
   },
   {
    "duration": 165,
    "start_time": "2022-10-26T09:13:12.796Z"
   },
   {
    "duration": 4,
    "start_time": "2022-10-26T09:13:12.962Z"
   },
   {
    "duration": 129,
    "start_time": "2022-10-26T09:13:12.967Z"
   },
   {
    "duration": 5,
    "start_time": "2022-10-26T09:13:13.099Z"
   },
   {
    "duration": 155,
    "start_time": "2022-10-26T09:13:13.106Z"
   },
   {
    "duration": 4,
    "start_time": "2022-10-26T09:13:13.263Z"
   },
   {
    "duration": 73,
    "start_time": "2022-10-26T09:13:13.268Z"
   },
   {
    "duration": 66,
    "start_time": "2022-10-26T09:13:13.343Z"
   },
   {
    "duration": 61,
    "start_time": "2022-10-26T09:13:13.410Z"
   },
   {
    "duration": 3,
    "start_time": "2022-10-26T09:13:13.473Z"
   },
   {
    "duration": 9,
    "start_time": "2022-10-26T09:13:13.478Z"
   },
   {
    "duration": 22,
    "start_time": "2022-10-26T09:13:13.489Z"
   },
   {
    "duration": 26,
    "start_time": "2022-10-26T09:13:13.513Z"
   },
   {
    "duration": 392,
    "start_time": "2022-10-26T09:13:13.540Z"
   },
   {
    "duration": 23,
    "start_time": "2022-10-26T09:13:13.938Z"
   },
   {
    "duration": 11,
    "start_time": "2022-10-26T09:13:13.963Z"
   },
   {
    "duration": 73,
    "start_time": "2022-10-26T09:13:13.975Z"
   },
   {
    "duration": 32,
    "start_time": "2022-10-26T09:13:14.050Z"
   },
   {
    "duration": 88,
    "start_time": "2022-10-26T09:13:14.083Z"
   },
   {
    "duration": 8,
    "start_time": "2022-10-26T09:13:14.172Z"
   },
   {
    "duration": 18,
    "start_time": "2022-10-26T09:13:14.182Z"
   },
   {
    "duration": 159,
    "start_time": "2022-10-26T09:13:14.201Z"
   },
   {
    "duration": 10,
    "start_time": "2022-10-26T09:13:14.362Z"
   },
   {
    "duration": 12,
    "start_time": "2022-10-26T09:13:14.373Z"
   },
   {
    "duration": 1462,
    "start_time": "2022-10-26T09:24:48.077Z"
   },
   {
    "duration": 171,
    "start_time": "2022-10-26T09:24:49.541Z"
   },
   {
    "duration": 3,
    "start_time": "2022-10-26T09:24:49.714Z"
   },
   {
    "duration": 124,
    "start_time": "2022-10-26T09:24:49.719Z"
   },
   {
    "duration": 4,
    "start_time": "2022-10-26T09:24:49.845Z"
   },
   {
    "duration": 143,
    "start_time": "2022-10-26T09:24:49.851Z"
   },
   {
    "duration": 4,
    "start_time": "2022-10-26T09:24:49.996Z"
   },
   {
    "duration": 62,
    "start_time": "2022-10-26T09:24:50.002Z"
   },
   {
    "duration": 77,
    "start_time": "2022-10-26T09:24:50.066Z"
   },
   {
    "duration": 46,
    "start_time": "2022-10-26T09:24:50.146Z"
   },
   {
    "duration": 3,
    "start_time": "2022-10-26T09:24:50.194Z"
   },
   {
    "duration": 11,
    "start_time": "2022-10-26T09:24:50.198Z"
   },
   {
    "duration": 47,
    "start_time": "2022-10-26T09:24:50.211Z"
   },
   {
    "duration": 6,
    "start_time": "2022-10-26T09:24:50.260Z"
   },
   {
    "duration": 425,
    "start_time": "2022-10-26T09:24:50.268Z"
   },
   {
    "duration": 26,
    "start_time": "2022-10-26T09:24:50.695Z"
   },
   {
    "duration": 26,
    "start_time": "2022-10-26T09:24:50.723Z"
   },
   {
    "duration": 65,
    "start_time": "2022-10-26T09:24:50.751Z"
   },
   {
    "duration": 43,
    "start_time": "2022-10-26T09:24:50.817Z"
   },
   {
    "duration": 85,
    "start_time": "2022-10-26T09:24:50.862Z"
   },
   {
    "duration": 8,
    "start_time": "2022-10-26T09:24:50.949Z"
   },
   {
    "duration": 21,
    "start_time": "2022-10-26T09:24:50.959Z"
   },
   {
    "duration": 150,
    "start_time": "2022-10-26T09:24:50.981Z"
   },
   {
    "duration": 12,
    "start_time": "2022-10-26T09:24:51.132Z"
   },
   {
    "duration": 14,
    "start_time": "2022-10-26T09:24:51.146Z"
   },
   {
    "duration": 1027,
    "start_time": "2022-10-26T09:30:28.690Z"
   },
   {
    "duration": 175,
    "start_time": "2022-10-26T09:30:29.719Z"
   },
   {
    "duration": 4,
    "start_time": "2022-10-26T09:30:29.896Z"
   },
   {
    "duration": 159,
    "start_time": "2022-10-26T09:30:29.902Z"
   },
   {
    "duration": 4,
    "start_time": "2022-10-26T09:30:30.063Z"
   },
   {
    "duration": 160,
    "start_time": "2022-10-26T09:30:30.069Z"
   },
   {
    "duration": 4,
    "start_time": "2022-10-26T09:30:30.238Z"
   },
   {
    "duration": 103,
    "start_time": "2022-10-26T09:30:30.244Z"
   },
   {
    "duration": 75,
    "start_time": "2022-10-26T09:30:30.349Z"
   },
   {
    "duration": 49,
    "start_time": "2022-10-26T09:30:30.438Z"
   },
   {
    "duration": 6,
    "start_time": "2022-10-26T09:30:30.489Z"
   },
   {
    "duration": 52,
    "start_time": "2022-10-26T09:30:30.497Z"
   },
   {
    "duration": 46,
    "start_time": "2022-10-26T09:30:30.551Z"
   },
   {
    "duration": 34,
    "start_time": "2022-10-26T09:30:30.599Z"
   },
   {
    "duration": 453,
    "start_time": "2022-10-26T09:30:30.635Z"
   },
   {
    "duration": 24,
    "start_time": "2022-10-26T09:30:31.090Z"
   },
   {
    "duration": 36,
    "start_time": "2022-10-26T09:30:31.116Z"
   },
   {
    "duration": 123,
    "start_time": "2022-10-26T09:30:31.154Z"
   },
   {
    "duration": 32,
    "start_time": "2022-10-26T09:30:31.279Z"
   },
   {
    "duration": 150,
    "start_time": "2022-10-26T09:30:31.313Z"
   },
   {
    "duration": 9,
    "start_time": "2022-10-26T09:30:31.465Z"
   },
   {
    "duration": 41,
    "start_time": "2022-10-26T09:30:31.475Z"
   },
   {
    "duration": 154,
    "start_time": "2022-10-26T09:30:31.517Z"
   },
   {
    "duration": 13,
    "start_time": "2022-10-26T09:30:31.673Z"
   },
   {
    "duration": 21,
    "start_time": "2022-10-26T09:30:31.688Z"
   },
   {
    "duration": 54,
    "start_time": "2022-10-26T09:31:16.408Z"
   },
   {
    "duration": 1278,
    "start_time": "2022-10-26T17:32:50.694Z"
   },
   {
    "duration": 740,
    "start_time": "2022-10-26T17:32:51.974Z"
   },
   {
    "duration": 3,
    "start_time": "2022-10-26T17:32:52.716Z"
   },
   {
    "duration": 139,
    "start_time": "2022-10-26T17:32:52.722Z"
   },
   {
    "duration": 6,
    "start_time": "2022-10-26T17:32:52.862Z"
   },
   {
    "duration": 152,
    "start_time": "2022-10-26T17:32:52.870Z"
   },
   {
    "duration": 4,
    "start_time": "2022-10-26T17:32:53.024Z"
   },
   {
    "duration": 75,
    "start_time": "2022-10-26T17:32:53.030Z"
   },
   {
    "duration": 60,
    "start_time": "2022-10-26T17:32:53.107Z"
   },
   {
    "duration": 65,
    "start_time": "2022-10-26T17:32:53.169Z"
   },
   {
    "duration": 3,
    "start_time": "2022-10-26T17:32:53.235Z"
   },
   {
    "duration": 9,
    "start_time": "2022-10-26T17:32:53.240Z"
   },
   {
    "duration": 62,
    "start_time": "2022-10-26T17:32:53.251Z"
   },
   {
    "duration": 5,
    "start_time": "2022-10-26T17:32:53.315Z"
   },
   {
    "duration": 414,
    "start_time": "2022-10-26T17:32:53.322Z"
   },
   {
    "duration": 22,
    "start_time": "2022-10-26T17:32:53.738Z"
   },
   {
    "duration": 11,
    "start_time": "2022-10-26T17:32:53.761Z"
   },
   {
    "duration": 82,
    "start_time": "2022-10-26T17:32:53.774Z"
   },
   {
    "duration": 49,
    "start_time": "2022-10-26T17:32:53.857Z"
   },
   {
    "duration": 64,
    "start_time": "2022-10-26T17:32:53.908Z"
   },
   {
    "duration": 7,
    "start_time": "2022-10-26T17:32:53.973Z"
   },
   {
    "duration": 38,
    "start_time": "2022-10-26T17:32:53.982Z"
   },
   {
    "duration": 124,
    "start_time": "2022-10-26T17:32:54.022Z"
   },
   {
    "duration": 15,
    "start_time": "2022-10-26T17:32:54.148Z"
   },
   {
    "duration": 45,
    "start_time": "2022-10-26T17:32:54.164Z"
   },
   {
    "duration": 121,
    "start_time": "2022-10-26T17:32:54.211Z"
   },
   {
    "duration": 2,
    "start_time": "2022-10-26T17:32:54.334Z"
   },
   {
    "duration": 12,
    "start_time": "2022-10-26T17:43:59.932Z"
   },
   {
    "duration": 1020,
    "start_time": "2022-10-26T17:44:05.620Z"
   },
   {
    "duration": 145,
    "start_time": "2022-10-26T17:44:06.642Z"
   },
   {
    "duration": 3,
    "start_time": "2022-10-26T17:44:06.788Z"
   },
   {
    "duration": 107,
    "start_time": "2022-10-26T17:44:06.793Z"
   },
   {
    "duration": 13,
    "start_time": "2022-10-26T17:44:06.905Z"
   },
   {
    "duration": 127,
    "start_time": "2022-10-26T17:44:06.920Z"
   },
   {
    "duration": 5,
    "start_time": "2022-10-26T17:44:07.049Z"
   },
   {
    "duration": 63,
    "start_time": "2022-10-26T17:44:07.055Z"
   },
   {
    "duration": 56,
    "start_time": "2022-10-26T17:44:07.120Z"
   },
   {
    "duration": 53,
    "start_time": "2022-10-26T17:44:07.178Z"
   },
   {
    "duration": 2,
    "start_time": "2022-10-26T17:44:07.233Z"
   },
   {
    "duration": 9,
    "start_time": "2022-10-26T17:44:07.237Z"
   },
   {
    "duration": 23,
    "start_time": "2022-10-26T17:44:07.247Z"
   },
   {
    "duration": 34,
    "start_time": "2022-10-26T17:44:07.272Z"
   },
   {
    "duration": 403,
    "start_time": "2022-10-26T17:44:07.307Z"
   },
   {
    "duration": 27,
    "start_time": "2022-10-26T17:44:07.712Z"
   },
   {
    "duration": 12,
    "start_time": "2022-10-26T17:44:07.740Z"
   },
   {
    "duration": 76,
    "start_time": "2022-10-26T17:44:07.753Z"
   },
   {
    "duration": 28,
    "start_time": "2022-10-26T17:44:07.831Z"
   },
   {
    "duration": 77,
    "start_time": "2022-10-26T17:44:07.861Z"
   },
   {
    "duration": 9,
    "start_time": "2022-10-26T17:44:07.940Z"
   },
   {
    "duration": 21,
    "start_time": "2022-10-26T17:44:07.951Z"
   },
   {
    "duration": 146,
    "start_time": "2022-10-26T17:44:07.973Z"
   },
   {
    "duration": 13,
    "start_time": "2022-10-26T17:44:08.121Z"
   },
   {
    "duration": 10,
    "start_time": "2022-10-26T17:44:08.136Z"
   },
   {
    "duration": 97,
    "start_time": "2022-10-26T17:44:08.147Z"
   },
   {
    "duration": 77,
    "start_time": "2022-10-26T17:44:08.246Z"
   },
   {
    "duration": 107,
    "start_time": "2022-10-26T17:51:31.282Z"
   },
   {
    "duration": 1053,
    "start_time": "2022-10-26T18:01:54.193Z"
   },
   {
    "duration": 141,
    "start_time": "2022-10-26T18:01:55.248Z"
   },
   {
    "duration": 3,
    "start_time": "2022-10-26T18:01:55.390Z"
   },
   {
    "duration": 118,
    "start_time": "2022-10-26T18:01:55.395Z"
   },
   {
    "duration": 5,
    "start_time": "2022-10-26T18:01:55.515Z"
   },
   {
    "duration": 136,
    "start_time": "2022-10-26T18:01:55.521Z"
   },
   {
    "duration": 4,
    "start_time": "2022-10-26T18:01:55.659Z"
   },
   {
    "duration": 57,
    "start_time": "2022-10-26T18:01:55.664Z"
   },
   {
    "duration": 61,
    "start_time": "2022-10-26T18:01:55.722Z"
   },
   {
    "duration": 57,
    "start_time": "2022-10-26T18:01:55.784Z"
   },
   {
    "duration": 3,
    "start_time": "2022-10-26T18:01:55.843Z"
   },
   {
    "duration": 9,
    "start_time": "2022-10-26T18:01:55.847Z"
   },
   {
    "duration": 19,
    "start_time": "2022-10-26T18:01:55.858Z"
   },
   {
    "duration": 5,
    "start_time": "2022-10-26T18:01:55.906Z"
   },
   {
    "duration": 378,
    "start_time": "2022-10-26T18:01:55.913Z"
   },
   {
    "duration": 23,
    "start_time": "2022-10-26T18:01:56.292Z"
   },
   {
    "duration": 20,
    "start_time": "2022-10-26T18:01:56.317Z"
   },
   {
    "duration": 46,
    "start_time": "2022-10-26T18:01:56.339Z"
   },
   {
    "duration": 32,
    "start_time": "2022-10-26T18:01:56.405Z"
   },
   {
    "duration": 79,
    "start_time": "2022-10-26T18:01:56.439Z"
   },
   {
    "duration": 6,
    "start_time": "2022-10-26T18:01:56.520Z"
   },
   {
    "duration": 17,
    "start_time": "2022-10-26T18:01:56.527Z"
   },
   {
    "duration": 132,
    "start_time": "2022-10-26T18:01:56.546Z"
   },
   {
    "duration": 26,
    "start_time": "2022-10-26T18:01:56.680Z"
   },
   {
    "duration": 14,
    "start_time": "2022-10-26T18:01:56.708Z"
   },
   {
    "duration": 99,
    "start_time": "2022-10-26T18:01:56.724Z"
   },
   {
    "duration": 104,
    "start_time": "2022-10-26T18:13:48.989Z"
   },
   {
    "duration": 84,
    "start_time": "2022-10-26T18:14:27.911Z"
   },
   {
    "duration": 43,
    "start_time": "2022-10-26T18:40:00.725Z"
   },
   {
    "duration": 1121,
    "start_time": "2022-10-26T18:40:07.322Z"
   },
   {
    "duration": 146,
    "start_time": "2022-10-26T18:40:08.444Z"
   },
   {
    "duration": 3,
    "start_time": "2022-10-26T18:40:08.592Z"
   },
   {
    "duration": 120,
    "start_time": "2022-10-26T18:40:08.597Z"
   },
   {
    "duration": 4,
    "start_time": "2022-10-26T18:40:08.720Z"
   },
   {
    "duration": 139,
    "start_time": "2022-10-26T18:40:08.726Z"
   },
   {
    "duration": 4,
    "start_time": "2022-10-26T18:40:08.867Z"
   },
   {
    "duration": 69,
    "start_time": "2022-10-26T18:40:08.872Z"
   },
   {
    "duration": 63,
    "start_time": "2022-10-26T18:40:08.943Z"
   },
   {
    "duration": 44,
    "start_time": "2022-10-26T18:40:09.007Z"
   },
   {
    "duration": 3,
    "start_time": "2022-10-26T18:40:09.052Z"
   },
   {
    "duration": 17,
    "start_time": "2022-10-26T18:40:09.056Z"
   },
   {
    "duration": 37,
    "start_time": "2022-10-26T18:40:09.075Z"
   },
   {
    "duration": 5,
    "start_time": "2022-10-26T18:40:09.115Z"
   },
   {
    "duration": 372,
    "start_time": "2022-10-26T18:40:09.121Z"
   },
   {
    "duration": 28,
    "start_time": "2022-10-26T18:40:09.494Z"
   },
   {
    "duration": 10,
    "start_time": "2022-10-26T18:40:09.524Z"
   },
   {
    "duration": 44,
    "start_time": "2022-10-26T18:40:09.536Z"
   },
   {
    "duration": 28,
    "start_time": "2022-10-26T18:40:09.604Z"
   },
   {
    "duration": 80,
    "start_time": "2022-10-26T18:40:09.634Z"
   },
   {
    "duration": 7,
    "start_time": "2022-10-26T18:40:09.716Z"
   },
   {
    "duration": 16,
    "start_time": "2022-10-26T18:40:09.725Z"
   },
   {
    "duration": 145,
    "start_time": "2022-10-26T18:40:09.743Z"
   },
   {
    "duration": 20,
    "start_time": "2022-10-26T18:40:09.890Z"
   },
   {
    "duration": 14,
    "start_time": "2022-10-26T18:40:09.912Z"
   },
   {
    "duration": 103,
    "start_time": "2022-10-26T18:40:09.927Z"
   },
   {
    "duration": 232,
    "start_time": "2022-10-26T18:40:10.032Z"
   },
   {
    "duration": 0,
    "start_time": "2022-10-26T18:40:10.266Z"
   },
   {
    "duration": 47,
    "start_time": "2022-10-26T18:40:26.190Z"
   },
   {
    "duration": 1150,
    "start_time": "2022-10-26T18:42:02.458Z"
   },
   {
    "duration": 78,
    "start_time": "2022-10-26T18:43:32.895Z"
   },
   {
    "duration": 1154,
    "start_time": "2022-10-26T18:45:43.602Z"
   },
   {
    "duration": 1206,
    "start_time": "2022-10-26T18:46:51.088Z"
   },
   {
    "duration": 1125,
    "start_time": "2022-10-26T18:47:09.002Z"
   },
   {
    "duration": 1154,
    "start_time": "2022-10-26T18:47:24.166Z"
   },
   {
    "duration": 1066,
    "start_time": "2022-10-26T18:47:36.071Z"
   },
   {
    "duration": 1120,
    "start_time": "2022-10-26T18:47:46.815Z"
   },
   {
    "duration": 175,
    "start_time": "2022-10-26T18:47:47.937Z"
   },
   {
    "duration": 5,
    "start_time": "2022-10-26T18:47:48.115Z"
   },
   {
    "duration": 137,
    "start_time": "2022-10-26T18:47:48.123Z"
   },
   {
    "duration": 5,
    "start_time": "2022-10-26T18:47:48.262Z"
   },
   {
    "duration": 155,
    "start_time": "2022-10-26T18:47:48.268Z"
   },
   {
    "duration": 5,
    "start_time": "2022-10-26T18:47:48.425Z"
   },
   {
    "duration": 45,
    "start_time": "2022-10-26T18:47:48.432Z"
   },
   {
    "duration": 85,
    "start_time": "2022-10-26T18:47:48.478Z"
   },
   {
    "duration": 71,
    "start_time": "2022-10-26T18:47:48.566Z"
   },
   {
    "duration": 8,
    "start_time": "2022-10-26T18:47:48.638Z"
   },
   {
    "duration": 25,
    "start_time": "2022-10-26T18:47:48.647Z"
   },
   {
    "duration": 19,
    "start_time": "2022-10-26T18:47:48.674Z"
   },
   {
    "duration": 15,
    "start_time": "2022-10-26T18:47:48.694Z"
   },
   {
    "duration": 427,
    "start_time": "2022-10-26T18:47:48.711Z"
   },
   {
    "duration": 22,
    "start_time": "2022-10-26T18:47:49.141Z"
   },
   {
    "duration": 27,
    "start_time": "2022-10-26T18:47:49.165Z"
   },
   {
    "duration": 67,
    "start_time": "2022-10-26T18:47:49.194Z"
   },
   {
    "duration": 49,
    "start_time": "2022-10-26T18:47:49.262Z"
   },
   {
    "duration": 64,
    "start_time": "2022-10-26T18:47:49.313Z"
   },
   {
    "duration": 8,
    "start_time": "2022-10-26T18:47:49.379Z"
   },
   {
    "duration": 18,
    "start_time": "2022-10-26T18:47:49.406Z"
   },
   {
    "duration": 122,
    "start_time": "2022-10-26T18:47:49.427Z"
   },
   {
    "duration": 13,
    "start_time": "2022-10-26T18:47:49.551Z"
   },
   {
    "duration": 47,
    "start_time": "2022-10-26T18:47:49.566Z"
   },
   {
    "duration": 116,
    "start_time": "2022-10-26T18:47:49.615Z"
   },
   {
    "duration": 1331,
    "start_time": "2022-10-26T18:47:49.733Z"
   },
   {
    "duration": 0,
    "start_time": "2022-10-26T18:47:51.066Z"
   },
   {
    "duration": 0,
    "start_time": "2022-10-26T18:47:51.067Z"
   },
   {
    "duration": 1131,
    "start_time": "2022-10-26T18:47:56.984Z"
   },
   {
    "duration": 1092,
    "start_time": "2022-10-26T18:48:04.738Z"
   },
   {
    "duration": 62,
    "start_time": "2022-10-26T18:48:23.966Z"
   },
   {
    "duration": 5,
    "start_time": "2022-10-26T18:48:27.641Z"
   },
   {
    "duration": 103,
    "start_time": "2022-10-26T18:48:39.803Z"
   },
   {
    "duration": 1142,
    "start_time": "2022-10-26T18:49:28.687Z"
   },
   {
    "duration": 95,
    "start_time": "2022-10-26T18:50:01.084Z"
   },
   {
    "duration": 1052,
    "start_time": "2022-10-26T18:51:12.704Z"
   },
   {
    "duration": 143,
    "start_time": "2022-10-26T18:51:13.758Z"
   },
   {
    "duration": 3,
    "start_time": "2022-10-26T18:51:13.903Z"
   },
   {
    "duration": 117,
    "start_time": "2022-10-26T18:51:13.908Z"
   },
   {
    "duration": 5,
    "start_time": "2022-10-26T18:51:14.027Z"
   },
   {
    "duration": 136,
    "start_time": "2022-10-26T18:51:14.033Z"
   },
   {
    "duration": 4,
    "start_time": "2022-10-26T18:51:14.171Z"
   },
   {
    "duration": 69,
    "start_time": "2022-10-26T18:51:14.176Z"
   },
   {
    "duration": 75,
    "start_time": "2022-10-26T18:51:14.247Z"
   },
   {
    "duration": 44,
    "start_time": "2022-10-26T18:51:14.324Z"
   },
   {
    "duration": 4,
    "start_time": "2022-10-26T18:51:14.370Z"
   },
   {
    "duration": 36,
    "start_time": "2022-10-26T18:51:14.376Z"
   },
   {
    "duration": 27,
    "start_time": "2022-10-26T18:51:14.414Z"
   },
   {
    "duration": 4,
    "start_time": "2022-10-26T18:51:14.443Z"
   },
   {
    "duration": 398,
    "start_time": "2022-10-26T18:51:14.449Z"
   },
   {
    "duration": 21,
    "start_time": "2022-10-26T18:51:14.848Z"
   },
   {
    "duration": 28,
    "start_time": "2022-10-26T18:51:14.871Z"
   },
   {
    "duration": 52,
    "start_time": "2022-10-26T18:51:14.900Z"
   },
   {
    "duration": 29,
    "start_time": "2022-10-26T18:51:14.953Z"
   },
   {
    "duration": 97,
    "start_time": "2022-10-26T18:51:14.983Z"
   },
   {
    "duration": 8,
    "start_time": "2022-10-26T18:51:15.081Z"
   },
   {
    "duration": 30,
    "start_time": "2022-10-26T18:51:15.091Z"
   },
   {
    "duration": 137,
    "start_time": "2022-10-26T18:51:15.123Z"
   },
   {
    "duration": 12,
    "start_time": "2022-10-26T18:51:15.261Z"
   },
   {
    "duration": 43,
    "start_time": "2022-10-26T18:51:15.275Z"
   },
   {
    "duration": 113,
    "start_time": "2022-10-26T18:51:15.320Z"
   },
   {
    "duration": 204,
    "start_time": "2022-10-26T18:51:15.435Z"
   },
   {
    "duration": 126,
    "start_time": "2022-10-26T18:51:15.641Z"
   },
   {
    "duration": 71,
    "start_time": "2022-10-26T18:52:15.091Z"
   },
   {
    "duration": 85,
    "start_time": "2022-10-26T18:52:24.739Z"
   },
   {
    "duration": 1251,
    "start_time": "2022-10-28T04:15:48.283Z"
   },
   {
    "duration": 493,
    "start_time": "2022-10-28T04:15:49.535Z"
   },
   {
    "duration": 4,
    "start_time": "2022-10-28T04:15:50.030Z"
   },
   {
    "duration": 106,
    "start_time": "2022-10-28T04:15:50.036Z"
   },
   {
    "duration": 5,
    "start_time": "2022-10-28T04:15:50.143Z"
   },
   {
    "duration": 146,
    "start_time": "2022-10-28T04:15:50.149Z"
   },
   {
    "duration": 4,
    "start_time": "2022-10-28T04:15:50.297Z"
   },
   {
    "duration": 71,
    "start_time": "2022-10-28T04:15:50.303Z"
   },
   {
    "duration": 67,
    "start_time": "2022-10-28T04:15:50.376Z"
   },
   {
    "duration": 42,
    "start_time": "2022-10-28T04:15:50.446Z"
   },
   {
    "duration": 2,
    "start_time": "2022-10-28T04:15:50.490Z"
   },
   {
    "duration": 43,
    "start_time": "2022-10-28T04:15:50.494Z"
   },
   {
    "duration": 35,
    "start_time": "2022-10-28T04:15:50.539Z"
   },
   {
    "duration": 6,
    "start_time": "2022-10-28T04:15:50.576Z"
   },
   {
    "duration": 406,
    "start_time": "2022-10-28T04:15:50.584Z"
   },
   {
    "duration": 23,
    "start_time": "2022-10-28T04:15:50.992Z"
   },
   {
    "duration": 32,
    "start_time": "2022-10-28T04:15:51.016Z"
   },
   {
    "duration": 67,
    "start_time": "2022-10-28T04:15:51.050Z"
   },
   {
    "duration": 32,
    "start_time": "2022-10-28T04:15:51.119Z"
   },
   {
    "duration": 67,
    "start_time": "2022-10-28T04:15:51.152Z"
   },
   {
    "duration": 23,
    "start_time": "2022-10-28T04:15:51.221Z"
   },
   {
    "duration": 15,
    "start_time": "2022-10-28T04:15:51.246Z"
   },
   {
    "duration": 164,
    "start_time": "2022-10-28T04:15:51.263Z"
   },
   {
    "duration": 13,
    "start_time": "2022-10-28T04:15:51.429Z"
   },
   {
    "duration": 41,
    "start_time": "2022-10-28T04:15:51.444Z"
   },
   {
    "duration": 91,
    "start_time": "2022-10-28T04:15:51.487Z"
   },
   {
    "duration": 110,
    "start_time": "2022-10-28T04:15:51.579Z"
   },
   {
    "duration": 112,
    "start_time": "2022-10-28T04:15:51.692Z"
   },
   {
    "duration": 84,
    "start_time": "2022-10-28T04:26:35.794Z"
   },
   {
    "duration": 61,
    "start_time": "2022-10-28T04:28:01.074Z"
   },
   {
    "duration": 52,
    "start_time": "2022-10-28T04:28:09.074Z"
   },
   {
    "duration": 85,
    "start_time": "2022-10-28T04:28:41.666Z"
   },
   {
    "duration": 1040,
    "start_time": "2022-10-28T04:31:41.555Z"
   },
   {
    "duration": 162,
    "start_time": "2022-10-28T04:31:42.597Z"
   },
   {
    "duration": 3,
    "start_time": "2022-10-28T04:31:42.761Z"
   },
   {
    "duration": 113,
    "start_time": "2022-10-28T04:31:42.766Z"
   },
   {
    "duration": 4,
    "start_time": "2022-10-28T04:31:42.880Z"
   },
   {
    "duration": 134,
    "start_time": "2022-10-28T04:31:42.886Z"
   },
   {
    "duration": 4,
    "start_time": "2022-10-28T04:31:43.021Z"
   },
   {
    "duration": 54,
    "start_time": "2022-10-28T04:31:43.027Z"
   },
   {
    "duration": 66,
    "start_time": "2022-10-28T04:31:43.082Z"
   },
   {
    "duration": 41,
    "start_time": "2022-10-28T04:31:43.150Z"
   },
   {
    "duration": 3,
    "start_time": "2022-10-28T04:31:43.192Z"
   },
   {
    "duration": 9,
    "start_time": "2022-10-28T04:31:43.197Z"
   },
   {
    "duration": 47,
    "start_time": "2022-10-28T04:31:43.207Z"
   },
   {
    "duration": 5,
    "start_time": "2022-10-28T04:31:43.256Z"
   },
   {
    "duration": 388,
    "start_time": "2022-10-28T04:31:43.265Z"
   },
   {
    "duration": 22,
    "start_time": "2022-10-28T04:31:43.655Z"
   },
   {
    "duration": 10,
    "start_time": "2022-10-28T04:31:43.679Z"
   },
   {
    "duration": 74,
    "start_time": "2022-10-28T04:31:43.690Z"
   },
   {
    "duration": 28,
    "start_time": "2022-10-28T04:31:43.765Z"
   },
   {
    "duration": 88,
    "start_time": "2022-10-28T04:31:43.794Z"
   },
   {
    "duration": 7,
    "start_time": "2022-10-28T04:31:43.883Z"
   },
   {
    "duration": 18,
    "start_time": "2022-10-28T04:31:43.891Z"
   },
   {
    "duration": 184,
    "start_time": "2022-10-28T04:31:43.911Z"
   },
   {
    "duration": 11,
    "start_time": "2022-10-28T04:31:44.097Z"
   },
   {
    "duration": 12,
    "start_time": "2022-10-28T04:31:44.109Z"
   },
   {
    "duration": 52,
    "start_time": "2022-10-28T04:31:44.123Z"
   },
   {
    "duration": 212,
    "start_time": "2022-10-28T04:31:44.176Z"
   },
   {
    "duration": 0,
    "start_time": "2022-10-28T04:31:44.389Z"
   },
   {
    "duration": 126,
    "start_time": "2022-10-28T04:33:38.914Z"
   },
   {
    "duration": 123,
    "start_time": "2022-10-28T04:34:02.767Z"
   },
   {
    "duration": 123,
    "start_time": "2022-10-28T04:34:39.983Z"
   },
   {
    "duration": 133,
    "start_time": "2022-10-28T04:34:45.814Z"
   },
   {
    "duration": 144,
    "start_time": "2022-10-28T04:35:30.765Z"
   },
   {
    "duration": 130,
    "start_time": "2022-10-28T04:35:36.357Z"
   },
   {
    "duration": 131,
    "start_time": "2022-10-28T04:35:40.318Z"
   },
   {
    "duration": 1075,
    "start_time": "2022-10-28T04:35:45.114Z"
   },
   {
    "duration": 167,
    "start_time": "2022-10-28T04:35:46.191Z"
   },
   {
    "duration": 4,
    "start_time": "2022-10-28T04:35:46.360Z"
   },
   {
    "duration": 119,
    "start_time": "2022-10-28T04:35:46.366Z"
   },
   {
    "duration": 5,
    "start_time": "2022-10-28T04:35:46.486Z"
   },
   {
    "duration": 147,
    "start_time": "2022-10-28T04:35:46.492Z"
   },
   {
    "duration": 4,
    "start_time": "2022-10-28T04:35:46.641Z"
   },
   {
    "duration": 59,
    "start_time": "2022-10-28T04:35:46.647Z"
   },
   {
    "duration": 74,
    "start_time": "2022-10-28T04:35:46.707Z"
   },
   {
    "duration": 42,
    "start_time": "2022-10-28T04:35:46.783Z"
   },
   {
    "duration": 3,
    "start_time": "2022-10-28T04:35:46.839Z"
   },
   {
    "duration": 8,
    "start_time": "2022-10-28T04:35:46.843Z"
   },
   {
    "duration": 24,
    "start_time": "2022-10-28T04:35:46.853Z"
   },
   {
    "duration": 5,
    "start_time": "2022-10-28T04:35:46.878Z"
   },
   {
    "duration": 466,
    "start_time": "2022-10-28T04:35:46.884Z"
   },
   {
    "duration": 25,
    "start_time": "2022-10-28T04:35:47.352Z"
   },
   {
    "duration": 13,
    "start_time": "2022-10-28T04:35:47.380Z"
   },
   {
    "duration": 85,
    "start_time": "2022-10-28T04:35:47.396Z"
   },
   {
    "duration": 30,
    "start_time": "2022-10-28T04:35:47.482Z"
   },
   {
    "duration": 95,
    "start_time": "2022-10-28T04:35:47.514Z"
   },
   {
    "duration": 7,
    "start_time": "2022-10-28T04:35:47.611Z"
   },
   {
    "duration": 27,
    "start_time": "2022-10-28T04:35:47.619Z"
   },
   {
    "duration": 144,
    "start_time": "2022-10-28T04:35:47.647Z"
   },
   {
    "duration": 12,
    "start_time": "2022-10-28T04:35:47.792Z"
   },
   {
    "duration": 11,
    "start_time": "2022-10-28T04:35:47.806Z"
   },
   {
    "duration": 65,
    "start_time": "2022-10-28T04:35:47.819Z"
   },
   {
    "duration": 181,
    "start_time": "2022-10-28T04:35:47.885Z"
   },
   {
    "duration": 116,
    "start_time": "2022-10-28T04:35:48.069Z"
   },
   {
    "duration": 141,
    "start_time": "2022-10-28T04:36:57.082Z"
   },
   {
    "duration": 161,
    "start_time": "2022-10-28T04:37:06.985Z"
   },
   {
    "duration": 121,
    "start_time": "2022-10-28T04:37:37.937Z"
   },
   {
    "duration": 129,
    "start_time": "2022-10-28T04:37:45.081Z"
   },
   {
    "duration": 89,
    "start_time": "2022-10-28T04:38:12.161Z"
   },
   {
    "duration": 84,
    "start_time": "2022-10-28T04:38:28.056Z"
   },
   {
    "duration": 82,
    "start_time": "2022-10-28T04:38:53.233Z"
   },
   {
    "duration": 13,
    "start_time": "2022-10-28T04:39:58.864Z"
   },
   {
    "duration": 12,
    "start_time": "2022-10-28T04:40:27.071Z"
   },
   {
    "duration": 16,
    "start_time": "2022-10-28T04:40:42.359Z"
   },
   {
    "duration": 16,
    "start_time": "2022-10-28T04:41:25.255Z"
   },
   {
    "duration": 14,
    "start_time": "2022-10-28T04:43:09.597Z"
   },
   {
    "duration": 1116,
    "start_time": "2022-10-28T04:50:35.788Z"
   },
   {
    "duration": 155,
    "start_time": "2022-10-28T04:50:36.906Z"
   },
   {
    "duration": 4,
    "start_time": "2022-10-28T04:50:37.062Z"
   },
   {
    "duration": 144,
    "start_time": "2022-10-28T04:50:37.067Z"
   },
   {
    "duration": 6,
    "start_time": "2022-10-28T04:50:37.214Z"
   },
   {
    "duration": 186,
    "start_time": "2022-10-28T04:50:37.222Z"
   },
   {
    "duration": 5,
    "start_time": "2022-10-28T04:50:37.410Z"
   },
   {
    "duration": 69,
    "start_time": "2022-10-28T04:50:37.417Z"
   },
   {
    "duration": 74,
    "start_time": "2022-10-28T04:50:37.487Z"
   },
   {
    "duration": 41,
    "start_time": "2022-10-28T04:50:37.563Z"
   },
   {
    "duration": 3,
    "start_time": "2022-10-28T04:50:37.606Z"
   },
   {
    "duration": 30,
    "start_time": "2022-10-28T04:50:37.610Z"
   },
   {
    "duration": 21,
    "start_time": "2022-10-28T04:50:37.641Z"
   },
   {
    "duration": 7,
    "start_time": "2022-10-28T04:50:37.665Z"
   },
   {
    "duration": 368,
    "start_time": "2022-10-28T04:50:37.673Z"
   },
   {
    "duration": 21,
    "start_time": "2022-10-28T04:50:38.043Z"
   },
   {
    "duration": 11,
    "start_time": "2022-10-28T04:50:38.065Z"
   },
   {
    "duration": 73,
    "start_time": "2022-10-28T04:50:38.077Z"
   },
   {
    "duration": 29,
    "start_time": "2022-10-28T04:50:38.151Z"
   },
   {
    "duration": 96,
    "start_time": "2022-10-28T04:50:38.182Z"
   },
   {
    "duration": 8,
    "start_time": "2022-10-28T04:50:38.279Z"
   },
   {
    "duration": 17,
    "start_time": "2022-10-28T04:50:38.289Z"
   },
   {
    "duration": 148,
    "start_time": "2022-10-28T04:50:38.308Z"
   },
   {
    "duration": 11,
    "start_time": "2022-10-28T04:50:38.458Z"
   },
   {
    "duration": 12,
    "start_time": "2022-10-28T04:50:38.470Z"
   },
   {
    "duration": 99,
    "start_time": "2022-10-28T04:50:38.484Z"
   },
   {
    "duration": 204,
    "start_time": "2022-10-28T04:50:38.584Z"
   },
   {
    "duration": 0,
    "start_time": "2022-10-28T04:50:38.789Z"
   },
   {
    "duration": 817,
    "start_time": "2022-10-28T04:50:44.594Z"
   },
   {
    "duration": 1175,
    "start_time": "2022-10-28T04:50:54.013Z"
   },
   {
    "duration": 161,
    "start_time": "2022-10-28T04:50:55.190Z"
   },
   {
    "duration": 4,
    "start_time": "2022-10-28T04:50:55.352Z"
   },
   {
    "duration": 121,
    "start_time": "2022-10-28T04:50:55.357Z"
   },
   {
    "duration": 5,
    "start_time": "2022-10-28T04:50:55.479Z"
   },
   {
    "duration": 153,
    "start_time": "2022-10-28T04:50:55.486Z"
   },
   {
    "duration": 5,
    "start_time": "2022-10-28T04:50:55.641Z"
   },
   {
    "duration": 82,
    "start_time": "2022-10-28T04:50:55.647Z"
   },
   {
    "duration": 59,
    "start_time": "2022-10-28T04:50:55.731Z"
   },
   {
    "duration": 60,
    "start_time": "2022-10-28T04:50:55.792Z"
   },
   {
    "duration": 3,
    "start_time": "2022-10-28T04:50:55.854Z"
   },
   {
    "duration": 17,
    "start_time": "2022-10-28T04:50:55.859Z"
   },
   {
    "duration": 41,
    "start_time": "2022-10-28T04:50:55.878Z"
   },
   {
    "duration": 14,
    "start_time": "2022-10-28T04:50:55.920Z"
   },
   {
    "duration": 417,
    "start_time": "2022-10-28T04:50:55.936Z"
   },
   {
    "duration": 23,
    "start_time": "2022-10-28T04:50:56.355Z"
   },
   {
    "duration": 18,
    "start_time": "2022-10-28T04:50:56.380Z"
   },
   {
    "duration": 69,
    "start_time": "2022-10-28T04:50:56.400Z"
   },
   {
    "duration": 29,
    "start_time": "2022-10-28T04:50:56.470Z"
   },
   {
    "duration": 88,
    "start_time": "2022-10-28T04:50:56.500Z"
   },
   {
    "duration": 11,
    "start_time": "2022-10-28T04:50:56.589Z"
   },
   {
    "duration": 35,
    "start_time": "2022-10-28T04:50:56.602Z"
   },
   {
    "duration": 151,
    "start_time": "2022-10-28T04:50:56.640Z"
   },
   {
    "duration": 12,
    "start_time": "2022-10-28T04:50:56.792Z"
   },
   {
    "duration": 37,
    "start_time": "2022-10-28T04:50:56.806Z"
   },
   {
    "duration": 107,
    "start_time": "2022-10-28T04:50:56.845Z"
   },
   {
    "duration": 212,
    "start_time": "2022-10-28T04:50:56.954Z"
   },
   {
    "duration": 0,
    "start_time": "2022-10-28T04:50:57.168Z"
   },
   {
    "duration": 1056,
    "start_time": "2022-10-28T04:51:15.546Z"
   },
   {
    "duration": 158,
    "start_time": "2022-10-28T04:51:16.604Z"
   },
   {
    "duration": 3,
    "start_time": "2022-10-28T04:51:16.766Z"
   },
   {
    "duration": 119,
    "start_time": "2022-10-28T04:51:16.770Z"
   },
   {
    "duration": 5,
    "start_time": "2022-10-28T04:51:16.890Z"
   },
   {
    "duration": 143,
    "start_time": "2022-10-28T04:51:16.896Z"
   },
   {
    "duration": 5,
    "start_time": "2022-10-28T04:51:17.040Z"
   },
   {
    "duration": 66,
    "start_time": "2022-10-28T04:51:17.046Z"
   },
   {
    "duration": 90,
    "start_time": "2022-10-28T04:51:17.115Z"
   },
   {
    "duration": 64,
    "start_time": "2022-10-28T04:51:17.207Z"
   },
   {
    "duration": 3,
    "start_time": "2022-10-28T04:51:17.273Z"
   },
   {
    "duration": 10,
    "start_time": "2022-10-28T04:51:17.278Z"
   },
   {
    "duration": 51,
    "start_time": "2022-10-28T04:51:17.289Z"
   },
   {
    "duration": 7,
    "start_time": "2022-10-28T04:51:17.342Z"
   },
   {
    "duration": 393,
    "start_time": "2022-10-28T04:51:17.351Z"
   },
   {
    "duration": 23,
    "start_time": "2022-10-28T04:51:17.746Z"
   },
   {
    "duration": 11,
    "start_time": "2022-10-28T04:51:17.771Z"
   },
   {
    "duration": 78,
    "start_time": "2022-10-28T04:51:17.784Z"
   },
   {
    "duration": 30,
    "start_time": "2022-10-28T04:51:17.863Z"
   },
   {
    "duration": 86,
    "start_time": "2022-10-28T04:51:17.894Z"
   },
   {
    "duration": 7,
    "start_time": "2022-10-28T04:51:17.982Z"
   },
   {
    "duration": 22,
    "start_time": "2022-10-28T04:51:17.991Z"
   },
   {
    "duration": 152,
    "start_time": "2022-10-28T04:51:18.015Z"
   },
   {
    "duration": 12,
    "start_time": "2022-10-28T04:51:18.169Z"
   },
   {
    "duration": 10,
    "start_time": "2022-10-28T04:51:18.182Z"
   },
   {
    "duration": 85,
    "start_time": "2022-10-28T04:51:18.193Z"
   },
   {
    "duration": 221,
    "start_time": "2022-10-28T04:51:18.281Z"
   },
   {
    "duration": 0,
    "start_time": "2022-10-28T04:51:18.504Z"
   },
   {
    "duration": 1091,
    "start_time": "2022-10-28T04:51:32.292Z"
   },
   {
    "duration": 162,
    "start_time": "2022-10-28T04:51:33.385Z"
   },
   {
    "duration": 3,
    "start_time": "2022-10-28T04:51:33.549Z"
   },
   {
    "duration": 113,
    "start_time": "2022-10-28T04:51:33.553Z"
   },
   {
    "duration": 4,
    "start_time": "2022-10-28T04:51:33.668Z"
   },
   {
    "duration": 207,
    "start_time": "2022-10-28T04:51:33.673Z"
   },
   {
    "duration": 4,
    "start_time": "2022-10-28T04:51:33.882Z"
   },
   {
    "duration": 105,
    "start_time": "2022-10-28T04:51:33.939Z"
   },
   {
    "duration": 100,
    "start_time": "2022-10-28T04:51:34.045Z"
   },
   {
    "duration": 43,
    "start_time": "2022-10-28T04:51:34.146Z"
   },
   {
    "duration": 4,
    "start_time": "2022-10-28T04:51:34.190Z"
   },
   {
    "duration": 10,
    "start_time": "2022-10-28T04:51:34.195Z"
   },
   {
    "duration": 57,
    "start_time": "2022-10-28T04:51:34.207Z"
   },
   {
    "duration": 6,
    "start_time": "2022-10-28T04:51:34.267Z"
   },
   {
    "duration": 482,
    "start_time": "2022-10-28T04:51:34.274Z"
   },
   {
    "duration": 24,
    "start_time": "2022-10-28T04:51:34.757Z"
   },
   {
    "duration": 11,
    "start_time": "2022-10-28T04:51:34.782Z"
   },
   {
    "duration": 70,
    "start_time": "2022-10-28T04:51:34.795Z"
   },
   {
    "duration": 27,
    "start_time": "2022-10-28T04:51:34.867Z"
   },
   {
    "duration": 82,
    "start_time": "2022-10-28T04:51:34.896Z"
   },
   {
    "duration": 8,
    "start_time": "2022-10-28T04:51:34.980Z"
   },
   {
    "duration": 15,
    "start_time": "2022-10-28T04:51:34.989Z"
   },
   {
    "duration": 158,
    "start_time": "2022-10-28T04:51:35.005Z"
   },
   {
    "duration": 12,
    "start_time": "2022-10-28T04:51:35.164Z"
   },
   {
    "duration": 11,
    "start_time": "2022-10-28T04:51:35.177Z"
   },
   {
    "duration": 84,
    "start_time": "2022-10-28T04:51:35.189Z"
   },
   {
    "duration": 121,
    "start_time": "2022-10-28T04:51:35.275Z"
   },
   {
    "duration": 12,
    "start_time": "2022-10-28T04:51:35.397Z"
   },
   {
    "duration": 1147,
    "start_time": "2022-10-28T05:11:46.506Z"
   },
   {
    "duration": 170,
    "start_time": "2022-10-28T05:11:47.655Z"
   },
   {
    "duration": 3,
    "start_time": "2022-10-28T05:11:47.826Z"
   },
   {
    "duration": 138,
    "start_time": "2022-10-28T05:11:47.832Z"
   },
   {
    "duration": 5,
    "start_time": "2022-10-28T05:11:47.972Z"
   },
   {
    "duration": 179,
    "start_time": "2022-10-28T05:11:47.979Z"
   },
   {
    "duration": 4,
    "start_time": "2022-10-28T05:11:48.160Z"
   },
   {
    "duration": 61,
    "start_time": "2022-10-28T05:11:48.166Z"
   },
   {
    "duration": 91,
    "start_time": "2022-10-28T05:11:48.229Z"
   },
   {
    "duration": 53,
    "start_time": "2022-10-28T05:11:48.322Z"
   },
   {
    "duration": 4,
    "start_time": "2022-10-28T05:11:48.377Z"
   },
   {
    "duration": 12,
    "start_time": "2022-10-28T05:11:48.383Z"
   },
   {
    "duration": 24,
    "start_time": "2022-10-28T05:11:48.396Z"
   },
   {
    "duration": 34,
    "start_time": "2022-10-28T05:11:48.422Z"
   },
   {
    "duration": 417,
    "start_time": "2022-10-28T05:11:48.458Z"
   },
   {
    "duration": 25,
    "start_time": "2022-10-28T05:11:48.877Z"
   },
   {
    "duration": 46,
    "start_time": "2022-10-28T05:11:48.904Z"
   },
   {
    "duration": 66,
    "start_time": "2022-10-28T05:11:48.952Z"
   },
   {
    "duration": 43,
    "start_time": "2022-10-28T05:11:49.020Z"
   },
   {
    "duration": 89,
    "start_time": "2022-10-28T05:11:49.065Z"
   },
   {
    "duration": 8,
    "start_time": "2022-10-28T05:11:49.156Z"
   },
   {
    "duration": 16,
    "start_time": "2022-10-28T05:11:49.166Z"
   },
   {
    "duration": 191,
    "start_time": "2022-10-28T05:11:49.184Z"
   },
   {
    "duration": 14,
    "start_time": "2022-10-28T05:11:49.376Z"
   },
   {
    "duration": 12,
    "start_time": "2022-10-28T05:11:49.392Z"
   },
   {
    "duration": 144,
    "start_time": "2022-10-28T05:11:49.406Z"
   },
   {
    "duration": 98,
    "start_time": "2022-10-28T05:11:49.554Z"
   },
   {
    "duration": 13,
    "start_time": "2022-10-28T05:11:49.656Z"
   },
   {
    "duration": 5,
    "start_time": "2022-10-28T05:15:58.590Z"
   },
   {
    "duration": 11,
    "start_time": "2022-10-28T05:16:15.398Z"
   },
   {
    "duration": 10,
    "start_time": "2022-10-28T05:16:35.863Z"
   },
   {
    "duration": 10,
    "start_time": "2022-10-28T05:17:34.910Z"
   },
   {
    "duration": 11,
    "start_time": "2022-10-28T05:19:28.596Z"
   },
   {
    "duration": 83,
    "start_time": "2022-10-28T05:20:47.836Z"
   },
   {
    "duration": 11,
    "start_time": "2022-10-28T05:21:23.043Z"
   },
   {
    "duration": 1169,
    "start_time": "2022-10-28T05:21:30.088Z"
   },
   {
    "duration": 194,
    "start_time": "2022-10-28T05:21:31.259Z"
   },
   {
    "duration": 4,
    "start_time": "2022-10-28T05:21:31.454Z"
   },
   {
    "duration": 138,
    "start_time": "2022-10-28T05:21:31.459Z"
   },
   {
    "duration": 5,
    "start_time": "2022-10-28T05:21:31.599Z"
   },
   {
    "duration": 141,
    "start_time": "2022-10-28T05:21:31.605Z"
   },
   {
    "duration": 5,
    "start_time": "2022-10-28T05:21:31.747Z"
   },
   {
    "duration": 51,
    "start_time": "2022-10-28T05:21:31.754Z"
   },
   {
    "duration": 82,
    "start_time": "2022-10-28T05:21:31.807Z"
   },
   {
    "duration": 51,
    "start_time": "2022-10-28T05:21:31.892Z"
   },
   {
    "duration": 3,
    "start_time": "2022-10-28T05:21:31.945Z"
   },
   {
    "duration": 12,
    "start_time": "2022-10-28T05:21:31.950Z"
   },
   {
    "duration": 22,
    "start_time": "2022-10-28T05:21:31.963Z"
   },
   {
    "duration": 5,
    "start_time": "2022-10-28T05:21:31.987Z"
   },
   {
    "duration": 391,
    "start_time": "2022-10-28T05:21:31.994Z"
   },
   {
    "duration": 23,
    "start_time": "2022-10-28T05:21:32.387Z"
   },
   {
    "duration": 28,
    "start_time": "2022-10-28T05:21:32.411Z"
   },
   {
    "duration": 50,
    "start_time": "2022-10-28T05:21:32.440Z"
   },
   {
    "duration": 51,
    "start_time": "2022-10-28T05:21:32.492Z"
   },
   {
    "duration": 71,
    "start_time": "2022-10-28T05:21:32.545Z"
   },
   {
    "duration": 24,
    "start_time": "2022-10-28T05:21:32.618Z"
   },
   {
    "duration": 16,
    "start_time": "2022-10-28T05:21:32.644Z"
   },
   {
    "duration": 154,
    "start_time": "2022-10-28T05:21:32.661Z"
   },
   {
    "duration": 11,
    "start_time": "2022-10-28T05:21:32.817Z"
   },
   {
    "duration": 16,
    "start_time": "2022-10-28T05:21:32.830Z"
   },
   {
    "duration": 102,
    "start_time": "2022-10-28T05:21:32.847Z"
   },
   {
    "duration": 111,
    "start_time": "2022-10-28T05:21:32.951Z"
   },
   {
    "duration": 5,
    "start_time": "2022-10-28T05:21:33.066Z"
   },
   {
    "duration": 15,
    "start_time": "2022-10-28T05:21:33.072Z"
   },
   {
    "duration": 13,
    "start_time": "2022-10-28T05:21:33.089Z"
   },
   {
    "duration": 10,
    "start_time": "2022-10-28T05:21:33.104Z"
   },
   {
    "duration": 11,
    "start_time": "2022-10-28T05:21:33.138Z"
   },
   {
    "duration": 6,
    "start_time": "2022-10-28T05:24:50.160Z"
   },
   {
    "duration": 1087,
    "start_time": "2022-10-28T05:24:57.333Z"
   },
   {
    "duration": 172,
    "start_time": "2022-10-28T05:24:58.422Z"
   },
   {
    "duration": 3,
    "start_time": "2022-10-28T05:24:58.596Z"
   },
   {
    "duration": 122,
    "start_time": "2022-10-28T05:24:58.600Z"
   },
   {
    "duration": 15,
    "start_time": "2022-10-28T05:24:58.724Z"
   },
   {
    "duration": 147,
    "start_time": "2022-10-28T05:24:58.741Z"
   },
   {
    "duration": 4,
    "start_time": "2022-10-28T05:24:58.889Z"
   },
   {
    "duration": 69,
    "start_time": "2022-10-28T05:24:58.895Z"
   },
   {
    "duration": 61,
    "start_time": "2022-10-28T05:24:58.966Z"
   },
   {
    "duration": 44,
    "start_time": "2022-10-28T05:24:59.039Z"
   },
   {
    "duration": 2,
    "start_time": "2022-10-28T05:24:59.085Z"
   },
   {
    "duration": 25,
    "start_time": "2022-10-28T05:24:59.089Z"
   },
   {
    "duration": 30,
    "start_time": "2022-10-28T05:24:59.116Z"
   },
   {
    "duration": 4,
    "start_time": "2022-10-28T05:24:59.149Z"
   },
   {
    "duration": 397,
    "start_time": "2022-10-28T05:24:59.155Z"
   },
   {
    "duration": 22,
    "start_time": "2022-10-28T05:24:59.554Z"
   },
   {
    "duration": 11,
    "start_time": "2022-10-28T05:24:59.577Z"
   },
   {
    "duration": 72,
    "start_time": "2022-10-28T05:24:59.590Z"
   },
   {
    "duration": 28,
    "start_time": "2022-10-28T05:24:59.664Z"
   },
   {
    "duration": 79,
    "start_time": "2022-10-28T05:24:59.694Z"
   },
   {
    "duration": 7,
    "start_time": "2022-10-28T05:24:59.775Z"
   },
   {
    "duration": 17,
    "start_time": "2022-10-28T05:24:59.784Z"
   },
   {
    "duration": 157,
    "start_time": "2022-10-28T05:24:59.803Z"
   },
   {
    "duration": 12,
    "start_time": "2022-10-28T05:24:59.963Z"
   },
   {
    "duration": 22,
    "start_time": "2022-10-28T05:24:59.977Z"
   },
   {
    "duration": 79,
    "start_time": "2022-10-28T05:25:00.001Z"
   },
   {
    "duration": 131,
    "start_time": "2022-10-28T05:25:00.081Z"
   },
   {
    "duration": 5,
    "start_time": "2022-10-28T05:25:00.214Z"
   },
   {
    "duration": 128,
    "start_time": "2022-10-28T05:25:00.220Z"
   },
   {
    "duration": 0,
    "start_time": "2022-10-28T05:25:00.350Z"
   },
   {
    "duration": 0,
    "start_time": "2022-10-28T05:25:00.352Z"
   },
   {
    "duration": 0,
    "start_time": "2022-10-28T05:25:00.353Z"
   },
   {
    "duration": 5,
    "start_time": "2022-10-28T05:26:33.926Z"
   },
   {
    "duration": 992,
    "start_time": "2022-10-28T05:26:38.894Z"
   },
   {
    "duration": 161,
    "start_time": "2022-10-28T05:26:39.888Z"
   },
   {
    "duration": 3,
    "start_time": "2022-10-28T05:26:40.051Z"
   },
   {
    "duration": 121,
    "start_time": "2022-10-28T05:26:40.055Z"
   },
   {
    "duration": 5,
    "start_time": "2022-10-28T05:26:40.178Z"
   },
   {
    "duration": 158,
    "start_time": "2022-10-28T05:26:40.184Z"
   },
   {
    "duration": 4,
    "start_time": "2022-10-28T05:26:40.344Z"
   },
   {
    "duration": 63,
    "start_time": "2022-10-28T05:26:40.349Z"
   },
   {
    "duration": 72,
    "start_time": "2022-10-28T05:26:40.414Z"
   },
   {
    "duration": 58,
    "start_time": "2022-10-28T05:26:40.487Z"
   },
   {
    "duration": 3,
    "start_time": "2022-10-28T05:26:40.546Z"
   },
   {
    "duration": 10,
    "start_time": "2022-10-28T05:26:40.550Z"
   },
   {
    "duration": 21,
    "start_time": "2022-10-28T05:26:40.561Z"
   },
   {
    "duration": 5,
    "start_time": "2022-10-28T05:26:40.585Z"
   },
   {
    "duration": 412,
    "start_time": "2022-10-28T05:26:40.591Z"
   },
   {
    "duration": 24,
    "start_time": "2022-10-28T05:26:41.005Z"
   },
   {
    "duration": 11,
    "start_time": "2022-10-28T05:26:41.039Z"
   },
   {
    "duration": 50,
    "start_time": "2022-10-28T05:26:41.052Z"
   },
   {
    "duration": 49,
    "start_time": "2022-10-28T05:26:41.103Z"
   },
   {
    "duration": 69,
    "start_time": "2022-10-28T05:26:41.155Z"
   },
   {
    "duration": 8,
    "start_time": "2022-10-28T05:26:41.238Z"
   },
   {
    "duration": 17,
    "start_time": "2022-10-28T05:26:41.247Z"
   },
   {
    "duration": 153,
    "start_time": "2022-10-28T05:26:41.266Z"
   },
   {
    "duration": 11,
    "start_time": "2022-10-28T05:26:41.421Z"
   },
   {
    "duration": 12,
    "start_time": "2022-10-28T05:26:41.433Z"
   },
   {
    "duration": 98,
    "start_time": "2022-10-28T05:26:41.447Z"
   },
   {
    "duration": 126,
    "start_time": "2022-10-28T05:26:41.548Z"
   },
   {
    "duration": 4,
    "start_time": "2022-10-28T05:26:41.676Z"
   },
   {
    "duration": 23,
    "start_time": "2022-10-28T05:26:41.682Z"
   },
   {
    "duration": 15,
    "start_time": "2022-10-28T05:26:41.707Z"
   },
   {
    "duration": 13,
    "start_time": "2022-10-28T05:26:41.739Z"
   },
   {
    "duration": 20,
    "start_time": "2022-10-28T05:26:41.753Z"
   },
   {
    "duration": 6,
    "start_time": "2022-10-28T05:27:57.416Z"
   },
   {
    "duration": 1014,
    "start_time": "2022-10-28T05:28:01.979Z"
   },
   {
    "duration": 161,
    "start_time": "2022-10-28T05:28:02.995Z"
   },
   {
    "duration": 3,
    "start_time": "2022-10-28T05:28:03.158Z"
   },
   {
    "duration": 128,
    "start_time": "2022-10-28T05:28:03.163Z"
   },
   {
    "duration": 5,
    "start_time": "2022-10-28T05:28:03.292Z"
   },
   {
    "duration": 160,
    "start_time": "2022-10-28T05:28:03.299Z"
   },
   {
    "duration": 5,
    "start_time": "2022-10-28T05:28:03.460Z"
   },
   {
    "duration": 73,
    "start_time": "2022-10-28T05:28:03.466Z"
   },
   {
    "duration": 61,
    "start_time": "2022-10-28T05:28:03.540Z"
   },
   {
    "duration": 57,
    "start_time": "2022-10-28T05:28:03.603Z"
   },
   {
    "duration": 2,
    "start_time": "2022-10-28T05:28:03.662Z"
   },
   {
    "duration": 9,
    "start_time": "2022-10-28T05:28:03.666Z"
   },
   {
    "duration": 20,
    "start_time": "2022-10-28T05:28:03.676Z"
   },
   {
    "duration": 5,
    "start_time": "2022-10-28T05:28:03.698Z"
   },
   {
    "duration": 412,
    "start_time": "2022-10-28T05:28:03.704Z"
   },
   {
    "duration": 31,
    "start_time": "2022-10-28T05:28:04.117Z"
   },
   {
    "duration": 11,
    "start_time": "2022-10-28T05:28:04.149Z"
   },
   {
    "duration": 48,
    "start_time": "2022-10-28T05:28:04.161Z"
   },
   {
    "duration": 49,
    "start_time": "2022-10-28T05:28:04.210Z"
   },
   {
    "duration": 83,
    "start_time": "2022-10-28T05:28:04.261Z"
   },
   {
    "duration": 7,
    "start_time": "2022-10-28T05:28:04.346Z"
   },
   {
    "duration": 16,
    "start_time": "2022-10-28T05:28:04.355Z"
   },
   {
    "duration": 169,
    "start_time": "2022-10-28T05:28:04.373Z"
   },
   {
    "duration": 13,
    "start_time": "2022-10-28T05:28:04.544Z"
   },
   {
    "duration": 14,
    "start_time": "2022-10-28T05:28:04.559Z"
   },
   {
    "duration": 172,
    "start_time": "2022-10-28T05:28:04.575Z"
   },
   {
    "duration": 102,
    "start_time": "2022-10-28T05:28:04.748Z"
   },
   {
    "duration": 5,
    "start_time": "2022-10-28T05:28:04.854Z"
   },
   {
    "duration": 17,
    "start_time": "2022-10-28T05:28:04.861Z"
   },
   {
    "duration": 12,
    "start_time": "2022-10-28T05:28:04.879Z"
   },
   {
    "duration": 10,
    "start_time": "2022-10-28T05:28:04.892Z"
   },
   {
    "duration": 40,
    "start_time": "2022-10-28T05:28:04.904Z"
   },
   {
    "duration": 1214,
    "start_time": "2022-10-28T05:29:13.739Z"
   },
   {
    "duration": 166,
    "start_time": "2022-10-28T05:29:14.955Z"
   },
   {
    "duration": 3,
    "start_time": "2022-10-28T05:29:15.123Z"
   },
   {
    "duration": 125,
    "start_time": "2022-10-28T05:29:15.127Z"
   },
   {
    "duration": 4,
    "start_time": "2022-10-28T05:29:15.254Z"
   },
   {
    "duration": 147,
    "start_time": "2022-10-28T05:29:15.260Z"
   },
   {
    "duration": 5,
    "start_time": "2022-10-28T05:29:15.408Z"
   },
   {
    "duration": 72,
    "start_time": "2022-10-28T05:29:15.415Z"
   },
   {
    "duration": 66,
    "start_time": "2022-10-28T05:29:15.489Z"
   },
   {
    "duration": 41,
    "start_time": "2022-10-28T05:29:15.557Z"
   },
   {
    "duration": 3,
    "start_time": "2022-10-28T05:29:15.600Z"
   },
   {
    "duration": 34,
    "start_time": "2022-10-28T05:29:15.604Z"
   },
   {
    "duration": 24,
    "start_time": "2022-10-28T05:29:15.640Z"
   },
   {
    "duration": 5,
    "start_time": "2022-10-28T05:29:15.667Z"
   },
   {
    "duration": 399,
    "start_time": "2022-10-28T05:29:15.673Z"
   },
   {
    "duration": 23,
    "start_time": "2022-10-28T05:29:16.074Z"
   },
   {
    "duration": 11,
    "start_time": "2022-10-28T05:29:16.098Z"
   },
   {
    "duration": 71,
    "start_time": "2022-10-28T05:29:16.111Z"
   },
   {
    "duration": 31,
    "start_time": "2022-10-28T05:29:16.183Z"
   },
   {
    "duration": 87,
    "start_time": "2022-10-28T05:29:16.215Z"
   },
   {
    "duration": 9,
    "start_time": "2022-10-28T05:29:16.303Z"
   },
   {
    "duration": 30,
    "start_time": "2022-10-28T05:29:16.313Z"
   },
   {
    "duration": 143,
    "start_time": "2022-10-28T05:29:16.344Z"
   },
   {
    "duration": 11,
    "start_time": "2022-10-28T05:29:16.488Z"
   },
   {
    "duration": 42,
    "start_time": "2022-10-28T05:29:16.501Z"
   },
   {
    "duration": 102,
    "start_time": "2022-10-28T05:29:16.545Z"
   },
   {
    "duration": 94,
    "start_time": "2022-10-28T05:29:16.648Z"
   },
   {
    "duration": 4,
    "start_time": "2022-10-28T05:29:16.744Z"
   },
   {
    "duration": 25,
    "start_time": "2022-10-28T05:29:16.749Z"
   },
   {
    "duration": 10,
    "start_time": "2022-10-28T05:29:16.775Z"
   },
   {
    "duration": 22,
    "start_time": "2022-10-28T05:29:16.787Z"
   },
   {
    "duration": 22,
    "start_time": "2022-10-28T05:29:16.810Z"
   },
   {
    "duration": 1019,
    "start_time": "2022-10-28T05:29:43.974Z"
   },
   {
    "duration": 156,
    "start_time": "2022-10-28T05:29:44.995Z"
   },
   {
    "duration": 5,
    "start_time": "2022-10-28T05:29:45.152Z"
   },
   {
    "duration": 124,
    "start_time": "2022-10-28T05:29:45.159Z"
   },
   {
    "duration": 4,
    "start_time": "2022-10-28T05:29:45.285Z"
   },
   {
    "duration": 148,
    "start_time": "2022-10-28T05:29:45.291Z"
   },
   {
    "duration": 4,
    "start_time": "2022-10-28T05:29:45.441Z"
   },
   {
    "duration": 48,
    "start_time": "2022-10-28T05:29:45.447Z"
   },
   {
    "duration": 86,
    "start_time": "2022-10-28T05:29:45.496Z"
   },
   {
    "duration": 55,
    "start_time": "2022-10-28T05:29:45.585Z"
   },
   {
    "duration": 3,
    "start_time": "2022-10-28T05:29:45.642Z"
   },
   {
    "duration": 10,
    "start_time": "2022-10-28T05:29:45.646Z"
   },
   {
    "duration": 20,
    "start_time": "2022-10-28T05:29:45.657Z"
   },
   {
    "duration": 4,
    "start_time": "2022-10-28T05:29:45.679Z"
   },
   {
    "duration": 393,
    "start_time": "2022-10-28T05:29:45.684Z"
   },
   {
    "duration": 22,
    "start_time": "2022-10-28T05:29:46.079Z"
   },
   {
    "duration": 11,
    "start_time": "2022-10-28T05:29:46.102Z"
   },
   {
    "duration": 69,
    "start_time": "2022-10-28T05:29:46.115Z"
   },
   {
    "duration": 27,
    "start_time": "2022-10-28T05:29:46.185Z"
   },
   {
    "duration": 83,
    "start_time": "2022-10-28T05:29:46.214Z"
   },
   {
    "duration": 8,
    "start_time": "2022-10-28T05:29:46.299Z"
   },
   {
    "duration": 32,
    "start_time": "2022-10-28T05:29:46.308Z"
   },
   {
    "duration": 149,
    "start_time": "2022-10-28T05:29:46.342Z"
   },
   {
    "duration": 16,
    "start_time": "2022-10-28T05:29:46.492Z"
   },
   {
    "duration": 32,
    "start_time": "2022-10-28T05:29:46.510Z"
   },
   {
    "duration": 107,
    "start_time": "2022-10-28T05:29:46.544Z"
   },
   {
    "duration": 108,
    "start_time": "2022-10-28T05:29:46.653Z"
   },
   {
    "duration": 5,
    "start_time": "2022-10-28T05:29:46.764Z"
   },
   {
    "duration": 15,
    "start_time": "2022-10-28T05:29:46.771Z"
   },
   {
    "duration": 10,
    "start_time": "2022-10-28T05:29:46.788Z"
   },
   {
    "duration": 39,
    "start_time": "2022-10-28T05:29:46.799Z"
   },
   {
    "duration": 11,
    "start_time": "2022-10-28T05:29:46.840Z"
   },
   {
    "duration": 1101,
    "start_time": "2022-10-28T05:30:56.897Z"
   },
   {
    "duration": 166,
    "start_time": "2022-10-28T05:30:58.000Z"
   },
   {
    "duration": 3,
    "start_time": "2022-10-28T05:30:58.170Z"
   },
   {
    "duration": 131,
    "start_time": "2022-10-28T05:30:58.175Z"
   },
   {
    "duration": 5,
    "start_time": "2022-10-28T05:30:58.307Z"
   },
   {
    "duration": 154,
    "start_time": "2022-10-28T05:30:58.313Z"
   },
   {
    "duration": 4,
    "start_time": "2022-10-28T05:30:58.469Z"
   },
   {
    "duration": 74,
    "start_time": "2022-10-28T05:30:58.474Z"
   },
   {
    "duration": 62,
    "start_time": "2022-10-28T05:30:58.551Z"
   },
   {
    "duration": 59,
    "start_time": "2022-10-28T05:30:58.615Z"
   },
   {
    "duration": 3,
    "start_time": "2022-10-28T05:30:58.676Z"
   },
   {
    "duration": 10,
    "start_time": "2022-10-28T05:30:58.680Z"
   },
   {
    "duration": 27,
    "start_time": "2022-10-28T05:30:58.692Z"
   },
   {
    "duration": 6,
    "start_time": "2022-10-28T05:30:58.738Z"
   },
   {
    "duration": 401,
    "start_time": "2022-10-28T05:30:58.746Z"
   },
   {
    "duration": 24,
    "start_time": "2022-10-28T05:30:59.149Z"
   },
   {
    "duration": 13,
    "start_time": "2022-10-28T05:30:59.175Z"
   },
   {
    "duration": 81,
    "start_time": "2022-10-28T05:30:59.189Z"
   },
   {
    "duration": 30,
    "start_time": "2022-10-28T05:30:59.272Z"
   },
   {
    "duration": 92,
    "start_time": "2022-10-28T05:30:59.305Z"
   },
   {
    "duration": 8,
    "start_time": "2022-10-28T05:30:59.399Z"
   },
   {
    "duration": 33,
    "start_time": "2022-10-28T05:30:59.409Z"
   },
   {
    "duration": 1048,
    "start_time": "2022-10-28T05:31:51.383Z"
   },
   {
    "duration": 168,
    "start_time": "2022-10-28T05:31:52.433Z"
   },
   {
    "duration": 3,
    "start_time": "2022-10-28T05:31:52.603Z"
   },
   {
    "duration": 112,
    "start_time": "2022-10-28T05:31:52.607Z"
   },
   {
    "duration": 5,
    "start_time": "2022-10-28T05:31:52.720Z"
   },
   {
    "duration": 137,
    "start_time": "2022-10-28T05:31:52.739Z"
   },
   {
    "duration": 5,
    "start_time": "2022-10-28T05:31:52.878Z"
   },
   {
    "duration": 71,
    "start_time": "2022-10-28T05:31:52.885Z"
   },
   {
    "duration": 60,
    "start_time": "2022-10-28T05:31:52.957Z"
   },
   {
    "duration": 55,
    "start_time": "2022-10-28T05:31:53.020Z"
   },
   {
    "duration": 3,
    "start_time": "2022-10-28T05:31:53.076Z"
   },
   {
    "duration": 14,
    "start_time": "2022-10-28T05:31:53.081Z"
   },
   {
    "duration": 24,
    "start_time": "2022-10-28T05:31:53.097Z"
   },
   {
    "duration": 18,
    "start_time": "2022-10-28T05:31:53.123Z"
   },
   {
    "duration": 365,
    "start_time": "2022-10-28T05:31:53.142Z"
   },
   {
    "duration": 30,
    "start_time": "2022-10-28T05:31:53.508Z"
   },
   {
    "duration": 10,
    "start_time": "2022-10-28T05:31:53.540Z"
   },
   {
    "duration": 51,
    "start_time": "2022-10-28T05:31:53.551Z"
   },
   {
    "duration": 48,
    "start_time": "2022-10-28T05:31:53.604Z"
   },
   {
    "duration": 72,
    "start_time": "2022-10-28T05:31:53.654Z"
   },
   {
    "duration": 17,
    "start_time": "2022-10-28T05:31:53.728Z"
   },
   {
    "duration": 16,
    "start_time": "2022-10-28T05:31:53.747Z"
   },
   {
    "duration": 170,
    "start_time": "2022-10-28T05:31:53.765Z"
   },
   {
    "duration": 12,
    "start_time": "2022-10-28T05:31:53.937Z"
   },
   {
    "duration": 16,
    "start_time": "2022-10-28T05:31:53.950Z"
   },
   {
    "duration": 98,
    "start_time": "2022-10-28T05:31:53.967Z"
   },
   {
    "duration": 111,
    "start_time": "2022-10-28T05:31:54.067Z"
   },
   {
    "duration": 5,
    "start_time": "2022-10-28T05:31:54.181Z"
   },
   {
    "duration": 15,
    "start_time": "2022-10-28T05:31:54.188Z"
   },
   {
    "duration": 10,
    "start_time": "2022-10-28T05:31:54.205Z"
   },
   {
    "duration": 31,
    "start_time": "2022-10-28T05:31:54.216Z"
   },
   {
    "duration": 10,
    "start_time": "2022-10-28T05:31:54.248Z"
   },
   {
    "duration": 1096,
    "start_time": "2022-10-28T05:33:25.404Z"
   },
   {
    "duration": 181,
    "start_time": "2022-10-28T05:33:26.502Z"
   },
   {
    "duration": 3,
    "start_time": "2022-10-28T05:33:26.688Z"
   },
   {
    "duration": 131,
    "start_time": "2022-10-28T05:33:26.693Z"
   },
   {
    "duration": 14,
    "start_time": "2022-10-28T05:33:26.826Z"
   },
   {
    "duration": 150,
    "start_time": "2022-10-28T05:33:26.842Z"
   },
   {
    "duration": 4,
    "start_time": "2022-10-28T05:33:26.995Z"
   },
   {
    "duration": 78,
    "start_time": "2022-10-28T05:33:27.001Z"
   },
   {
    "duration": 80,
    "start_time": "2022-10-28T05:33:27.081Z"
   },
   {
    "duration": 83,
    "start_time": "2022-10-28T05:33:27.165Z"
   },
   {
    "duration": 4,
    "start_time": "2022-10-28T05:33:27.250Z"
   },
   {
    "duration": 14,
    "start_time": "2022-10-28T05:33:27.256Z"
   },
   {
    "duration": 39,
    "start_time": "2022-10-28T05:33:27.272Z"
   },
   {
    "duration": 7,
    "start_time": "2022-10-28T05:33:27.313Z"
   },
   {
    "duration": 427,
    "start_time": "2022-10-28T05:33:27.339Z"
   },
   {
    "duration": 24,
    "start_time": "2022-10-28T05:33:27.768Z"
   },
   {
    "duration": 12,
    "start_time": "2022-10-28T05:33:27.794Z"
   },
   {
    "duration": 72,
    "start_time": "2022-10-28T05:33:27.808Z"
   },
   {
    "duration": 29,
    "start_time": "2022-10-28T05:33:27.881Z"
   },
   {
    "duration": 90,
    "start_time": "2022-10-28T05:33:27.912Z"
   },
   {
    "duration": 7,
    "start_time": "2022-10-28T05:33:28.004Z"
   },
   {
    "duration": 34,
    "start_time": "2022-10-28T05:33:28.012Z"
   },
   {
    "duration": 135,
    "start_time": "2022-10-28T05:33:28.048Z"
   },
   {
    "duration": 11,
    "start_time": "2022-10-28T05:33:28.185Z"
   },
   {
    "duration": 11,
    "start_time": "2022-10-28T05:33:28.197Z"
   },
   {
    "duration": 77,
    "start_time": "2022-10-28T05:33:28.209Z"
   },
   {
    "duration": 136,
    "start_time": "2022-10-28T05:33:28.288Z"
   },
   {
    "duration": 78,
    "start_time": "2022-10-28T05:33:28.439Z"
   },
   {
    "duration": 0,
    "start_time": "2022-10-28T05:33:28.518Z"
   },
   {
    "duration": 0,
    "start_time": "2022-10-28T05:33:28.520Z"
   },
   {
    "duration": 0,
    "start_time": "2022-10-28T05:33:28.521Z"
   },
   {
    "duration": 0,
    "start_time": "2022-10-28T05:33:28.522Z"
   },
   {
    "duration": 1132,
    "start_time": "2022-10-28T05:34:00.911Z"
   },
   {
    "duration": 166,
    "start_time": "2022-10-28T05:34:02.045Z"
   },
   {
    "duration": 4,
    "start_time": "2022-10-28T05:34:02.212Z"
   },
   {
    "duration": 122,
    "start_time": "2022-10-28T05:34:02.218Z"
   },
   {
    "duration": 6,
    "start_time": "2022-10-28T05:34:02.342Z"
   },
   {
    "duration": 163,
    "start_time": "2022-10-28T05:34:02.350Z"
   },
   {
    "duration": 5,
    "start_time": "2022-10-28T05:34:02.515Z"
   },
   {
    "duration": 74,
    "start_time": "2022-10-28T05:34:02.522Z"
   },
   {
    "duration": 79,
    "start_time": "2022-10-28T05:34:02.598Z"
   },
   {
    "duration": 60,
    "start_time": "2022-10-28T05:34:02.680Z"
   },
   {
    "duration": 4,
    "start_time": "2022-10-28T05:34:02.741Z"
   },
   {
    "duration": 21,
    "start_time": "2022-10-28T05:34:02.747Z"
   },
   {
    "duration": 28,
    "start_time": "2022-10-28T05:34:02.770Z"
   },
   {
    "duration": 7,
    "start_time": "2022-10-28T05:34:02.800Z"
   },
   {
    "duration": 395,
    "start_time": "2022-10-28T05:34:02.809Z"
   },
   {
    "duration": 24,
    "start_time": "2022-10-28T05:34:03.206Z"
   },
   {
    "duration": 13,
    "start_time": "2022-10-28T05:34:03.238Z"
   },
   {
    "duration": 52,
    "start_time": "2022-10-28T05:34:03.252Z"
   },
   {
    "duration": 48,
    "start_time": "2022-10-28T05:34:03.305Z"
   },
   {
    "duration": 66,
    "start_time": "2022-10-28T05:34:03.355Z"
   },
   {
    "duration": 8,
    "start_time": "2022-10-28T05:34:03.438Z"
   },
   {
    "duration": 16,
    "start_time": "2022-10-28T05:34:03.448Z"
   },
   {
    "duration": 153,
    "start_time": "2022-10-28T05:34:03.466Z"
   },
   {
    "duration": 10,
    "start_time": "2022-10-28T05:34:03.621Z"
   },
   {
    "duration": 11,
    "start_time": "2022-10-28T05:34:03.633Z"
   },
   {
    "duration": 101,
    "start_time": "2022-10-28T05:34:03.646Z"
   },
   {
    "duration": 114,
    "start_time": "2022-10-28T05:34:03.748Z"
   },
   {
    "duration": 5,
    "start_time": "2022-10-28T05:34:03.866Z"
   },
   {
    "duration": 18,
    "start_time": "2022-10-28T05:34:03.872Z"
   },
   {
    "duration": 16,
    "start_time": "2022-10-28T05:34:03.892Z"
   },
   {
    "duration": 11,
    "start_time": "2022-10-28T05:34:03.910Z"
   },
   {
    "duration": 14,
    "start_time": "2022-10-28T05:34:03.941Z"
   },
   {
    "duration": 12,
    "start_time": "2022-10-28T05:40:04.917Z"
   },
   {
    "duration": 1224,
    "start_time": "2022-10-28T05:40:09.729Z"
   },
   {
    "duration": 160,
    "start_time": "2022-10-28T05:40:10.955Z"
   },
   {
    "duration": 3,
    "start_time": "2022-10-28T05:40:11.117Z"
   },
   {
    "duration": 122,
    "start_time": "2022-10-28T05:40:11.122Z"
   },
   {
    "duration": 5,
    "start_time": "2022-10-28T05:40:11.247Z"
   },
   {
    "duration": 143,
    "start_time": "2022-10-28T05:40:11.253Z"
   },
   {
    "duration": 5,
    "start_time": "2022-10-28T05:40:11.398Z"
   },
   {
    "duration": 72,
    "start_time": "2022-10-28T05:40:11.404Z"
   },
   {
    "duration": 74,
    "start_time": "2022-10-28T05:40:11.478Z"
   },
   {
    "duration": 53,
    "start_time": "2022-10-28T05:40:11.554Z"
   },
   {
    "duration": 4,
    "start_time": "2022-10-28T05:40:11.609Z"
   },
   {
    "duration": 32,
    "start_time": "2022-10-28T05:40:11.615Z"
   },
   {
    "duration": 22,
    "start_time": "2022-10-28T05:40:11.649Z"
   },
   {
    "duration": 5,
    "start_time": "2022-10-28T05:40:11.674Z"
   },
   {
    "duration": 396,
    "start_time": "2022-10-28T05:40:11.681Z"
   },
   {
    "duration": 24,
    "start_time": "2022-10-28T05:40:12.079Z"
   },
   {
    "duration": 11,
    "start_time": "2022-10-28T05:40:12.105Z"
   },
   {
    "duration": 49,
    "start_time": "2022-10-28T05:40:12.139Z"
   },
   {
    "duration": 28,
    "start_time": "2022-10-28T05:40:12.190Z"
   },
   {
    "duration": 83,
    "start_time": "2022-10-28T05:40:12.219Z"
   },
   {
    "duration": 7,
    "start_time": "2022-10-28T05:40:12.304Z"
   },
   {
    "duration": 32,
    "start_time": "2022-10-28T05:40:12.313Z"
   },
   {
    "duration": 141,
    "start_time": "2022-10-28T05:40:12.346Z"
   },
   {
    "duration": 12,
    "start_time": "2022-10-28T05:40:12.488Z"
   },
   {
    "duration": 12,
    "start_time": "2022-10-28T05:40:12.501Z"
   },
   {
    "duration": 108,
    "start_time": "2022-10-28T05:40:12.538Z"
   },
   {
    "duration": 98,
    "start_time": "2022-10-28T05:40:12.648Z"
   },
   {
    "duration": 5,
    "start_time": "2022-10-28T05:40:12.747Z"
   },
   {
    "duration": 16,
    "start_time": "2022-10-28T05:40:12.753Z"
   },
   {
    "duration": 10,
    "start_time": "2022-10-28T05:40:12.771Z"
   },
   {
    "duration": 11,
    "start_time": "2022-10-28T05:40:12.783Z"
   },
   {
    "duration": 10,
    "start_time": "2022-10-28T05:40:12.795Z"
   },
   {
    "duration": 1072,
    "start_time": "2022-10-28T05:47:38.539Z"
   },
   {
    "duration": 157,
    "start_time": "2022-10-28T05:47:39.613Z"
   },
   {
    "duration": 5,
    "start_time": "2022-10-28T05:47:39.771Z"
   },
   {
    "duration": 117,
    "start_time": "2022-10-28T05:47:39.778Z"
   },
   {
    "duration": 5,
    "start_time": "2022-10-28T05:47:39.898Z"
   },
   {
    "duration": 164,
    "start_time": "2022-10-28T05:47:39.904Z"
   },
   {
    "duration": 5,
    "start_time": "2022-10-28T05:47:40.070Z"
   },
   {
    "duration": 68,
    "start_time": "2022-10-28T05:47:40.076Z"
   },
   {
    "duration": 62,
    "start_time": "2022-10-28T05:47:40.146Z"
   },
   {
    "duration": 60,
    "start_time": "2022-10-28T05:47:40.210Z"
   },
   {
    "duration": 4,
    "start_time": "2022-10-28T05:47:40.272Z"
   },
   {
    "duration": 9,
    "start_time": "2022-10-28T05:47:40.278Z"
   },
   {
    "duration": 50,
    "start_time": "2022-10-28T05:47:40.290Z"
   },
   {
    "duration": 6,
    "start_time": "2022-10-28T05:47:40.344Z"
   },
   {
    "duration": 415,
    "start_time": "2022-10-28T05:47:40.352Z"
   },
   {
    "duration": 24,
    "start_time": "2022-10-28T05:47:40.769Z"
   },
   {
    "duration": 13,
    "start_time": "2022-10-28T05:47:40.794Z"
   },
   {
    "duration": 79,
    "start_time": "2022-10-28T05:47:40.809Z"
   },
   {
    "duration": 30,
    "start_time": "2022-10-28T05:47:40.889Z"
   },
   {
    "duration": 72,
    "start_time": "2022-10-28T05:47:40.938Z"
   },
   {
    "duration": 8,
    "start_time": "2022-10-28T05:47:41.012Z"
   },
   {
    "duration": 18,
    "start_time": "2022-10-28T05:47:41.038Z"
   },
   {
    "duration": 165,
    "start_time": "2022-10-28T05:47:41.058Z"
   },
   {
    "duration": 11,
    "start_time": "2022-10-28T05:47:41.225Z"
   },
   {
    "duration": 10,
    "start_time": "2022-10-28T05:47:41.238Z"
   },
   {
    "duration": 95,
    "start_time": "2022-10-28T05:47:41.250Z"
   },
   {
    "duration": 108,
    "start_time": "2022-10-28T05:47:41.346Z"
   },
   {
    "duration": 5,
    "start_time": "2022-10-28T05:47:41.456Z"
   },
   {
    "duration": 25,
    "start_time": "2022-10-28T05:47:41.462Z"
   },
   {
    "duration": 18,
    "start_time": "2022-10-28T05:47:41.488Z"
   },
   {
    "duration": 29,
    "start_time": "2022-10-28T05:47:41.511Z"
   },
   {
    "duration": 12,
    "start_time": "2022-10-28T05:47:41.543Z"
   },
   {
    "duration": 1096,
    "start_time": "2022-10-28T05:51:06.600Z"
   },
   {
    "duration": 159,
    "start_time": "2022-10-28T05:51:07.698Z"
   },
   {
    "duration": 3,
    "start_time": "2022-10-28T05:51:07.859Z"
   },
   {
    "duration": 118,
    "start_time": "2022-10-28T05:51:07.863Z"
   },
   {
    "duration": 4,
    "start_time": "2022-10-28T05:51:07.983Z"
   },
   {
    "duration": 134,
    "start_time": "2022-10-28T05:51:07.989Z"
   },
   {
    "duration": 5,
    "start_time": "2022-10-28T05:51:08.124Z"
   },
   {
    "duration": 47,
    "start_time": "2022-10-28T05:51:08.138Z"
   },
   {
    "duration": 76,
    "start_time": "2022-10-28T05:51:08.186Z"
   },
   {
    "duration": 43,
    "start_time": "2022-10-28T05:51:08.264Z"
   },
   {
    "duration": 3,
    "start_time": "2022-10-28T05:51:08.309Z"
   },
   {
    "duration": 25,
    "start_time": "2022-10-28T05:51:08.314Z"
   },
   {
    "duration": 20,
    "start_time": "2022-10-28T05:51:08.341Z"
   },
   {
    "duration": 5,
    "start_time": "2022-10-28T05:51:08.364Z"
   },
   {
    "duration": 402,
    "start_time": "2022-10-28T05:51:08.371Z"
   },
   {
    "duration": 22,
    "start_time": "2022-10-28T05:51:08.775Z"
   },
   {
    "duration": 11,
    "start_time": "2022-10-28T05:51:08.798Z"
   },
   {
    "duration": 68,
    "start_time": "2022-10-28T05:51:08.810Z"
   },
   {
    "duration": 27,
    "start_time": "2022-10-28T05:51:08.879Z"
   },
   {
    "duration": 83,
    "start_time": "2022-10-28T05:51:08.907Z"
   },
   {
    "duration": 7,
    "start_time": "2022-10-28T05:51:08.992Z"
   },
   {
    "duration": 17,
    "start_time": "2022-10-28T05:51:09.000Z"
   },
   {
    "duration": 149,
    "start_time": "2022-10-28T05:51:09.018Z"
   },
   {
    "duration": 10,
    "start_time": "2022-10-28T05:51:09.169Z"
   },
   {
    "duration": 9,
    "start_time": "2022-10-28T05:51:09.180Z"
   },
   {
    "duration": 82,
    "start_time": "2022-10-28T05:51:09.191Z"
   },
   {
    "duration": 128,
    "start_time": "2022-10-28T05:51:09.275Z"
   },
   {
    "duration": 4,
    "start_time": "2022-10-28T05:51:09.405Z"
   },
   {
    "duration": 16,
    "start_time": "2022-10-28T05:51:09.411Z"
   },
   {
    "duration": 11,
    "start_time": "2022-10-28T05:51:09.439Z"
   },
   {
    "duration": 11,
    "start_time": "2022-10-28T05:51:09.451Z"
   },
   {
    "duration": 11,
    "start_time": "2022-10-28T05:51:09.463Z"
   },
   {
    "duration": 2,
    "start_time": "2022-10-28T06:09:38.657Z"
   },
   {
    "duration": 3,
    "start_time": "2022-10-28T06:11:25.304Z"
   },
   {
    "duration": 1052,
    "start_time": "2022-10-28T06:29:08.296Z"
   },
   {
    "duration": 163,
    "start_time": "2022-10-28T06:29:09.351Z"
   },
   {
    "duration": 4,
    "start_time": "2022-10-28T06:29:09.515Z"
   },
   {
    "duration": 130,
    "start_time": "2022-10-28T06:29:09.520Z"
   },
   {
    "duration": 5,
    "start_time": "2022-10-28T06:29:09.652Z"
   },
   {
    "duration": 147,
    "start_time": "2022-10-28T06:29:09.659Z"
   },
   {
    "duration": 4,
    "start_time": "2022-10-28T06:29:09.808Z"
   },
   {
    "duration": 76,
    "start_time": "2022-10-28T06:29:09.814Z"
   },
   {
    "duration": 76,
    "start_time": "2022-10-28T06:29:09.892Z"
   },
   {
    "duration": 47,
    "start_time": "2022-10-28T06:29:09.970Z"
   },
   {
    "duration": 21,
    "start_time": "2022-10-28T06:29:10.019Z"
   },
   {
    "duration": 8,
    "start_time": "2022-10-28T06:29:10.043Z"
   },
   {
    "duration": 23,
    "start_time": "2022-10-28T06:29:10.053Z"
   },
   {
    "duration": 5,
    "start_time": "2022-10-28T06:29:10.079Z"
   },
   {
    "duration": 413,
    "start_time": "2022-10-28T06:29:10.085Z"
   },
   {
    "duration": 27,
    "start_time": "2022-10-28T06:29:10.501Z"
   },
   {
    "duration": 16,
    "start_time": "2022-10-28T06:29:10.539Z"
   },
   {
    "duration": 99,
    "start_time": "2022-10-28T06:29:10.557Z"
   },
   {
    "duration": 49,
    "start_time": "2022-10-28T06:29:10.658Z"
   },
   {
    "duration": 96,
    "start_time": "2022-10-28T06:29:10.709Z"
   },
   {
    "duration": 11,
    "start_time": "2022-10-28T06:29:10.807Z"
   },
   {
    "duration": 29,
    "start_time": "2022-10-28T06:29:10.819Z"
   },
   {
    "duration": 155,
    "start_time": "2022-10-28T06:29:10.850Z"
   },
   {
    "duration": 12,
    "start_time": "2022-10-28T06:29:11.007Z"
   },
   {
    "duration": 11,
    "start_time": "2022-10-28T06:29:11.020Z"
   },
   {
    "duration": 131,
    "start_time": "2022-10-28T06:29:11.038Z"
   },
   {
    "duration": 116,
    "start_time": "2022-10-28T06:29:11.171Z"
   },
   {
    "duration": 6,
    "start_time": "2022-10-28T06:29:11.288Z"
   },
   {
    "duration": 19,
    "start_time": "2022-10-28T06:29:11.295Z"
   },
   {
    "duration": 31,
    "start_time": "2022-10-28T06:29:11.316Z"
   },
   {
    "duration": 11,
    "start_time": "2022-10-28T06:29:11.349Z"
   },
   {
    "duration": 18,
    "start_time": "2022-10-28T06:29:11.362Z"
   },
   {
    "duration": 4,
    "start_time": "2022-10-28T06:29:11.382Z"
   },
   {
    "duration": 179,
    "start_time": "2022-10-28T06:35:18.761Z"
   },
   {
    "duration": 89,
    "start_time": "2022-10-28T06:35:31.609Z"
   },
   {
    "duration": 84,
    "start_time": "2022-10-28T06:35:46.936Z"
   },
   {
    "duration": 1080,
    "start_time": "2022-10-28T06:35:51.920Z"
   },
   {
    "duration": 161,
    "start_time": "2022-10-28T06:35:53.002Z"
   },
   {
    "duration": 4,
    "start_time": "2022-10-28T06:35:53.164Z"
   },
   {
    "duration": 116,
    "start_time": "2022-10-28T06:35:53.169Z"
   },
   {
    "duration": 4,
    "start_time": "2022-10-28T06:35:53.288Z"
   },
   {
    "duration": 82,
    "start_time": "2022-10-28T06:35:53.293Z"
   },
   {
    "duration": 148,
    "start_time": "2022-10-28T06:35:53.377Z"
   },
   {
    "duration": 11,
    "start_time": "2022-10-28T06:35:53.529Z"
   },
   {
    "duration": 50,
    "start_time": "2022-10-28T06:35:53.541Z"
   },
   {
    "duration": 74,
    "start_time": "2022-10-28T06:35:53.592Z"
   },
   {
    "duration": 41,
    "start_time": "2022-10-28T06:35:53.668Z"
   },
   {
    "duration": 3,
    "start_time": "2022-10-28T06:35:53.710Z"
   },
   {
    "duration": 6,
    "start_time": "2022-10-28T06:35:53.739Z"
   },
   {
    "duration": 20,
    "start_time": "2022-10-28T06:35:53.748Z"
   },
   {
    "duration": 4,
    "start_time": "2022-10-28T06:35:53.770Z"
   },
   {
    "duration": 383,
    "start_time": "2022-10-28T06:35:53.776Z"
   },
   {
    "duration": 23,
    "start_time": "2022-10-28T06:35:54.161Z"
   },
   {
    "duration": 11,
    "start_time": "2022-10-28T06:35:54.185Z"
   },
   {
    "duration": 70,
    "start_time": "2022-10-28T06:35:54.198Z"
   },
   {
    "duration": 28,
    "start_time": "2022-10-28T06:35:54.269Z"
   },
   {
    "duration": 83,
    "start_time": "2022-10-28T06:35:54.298Z"
   },
   {
    "duration": 7,
    "start_time": "2022-10-28T06:35:54.383Z"
   },
   {
    "duration": 15,
    "start_time": "2022-10-28T06:35:54.391Z"
   },
   {
    "duration": 173,
    "start_time": "2022-10-28T06:35:54.407Z"
   },
   {
    "duration": 10,
    "start_time": "2022-10-28T06:35:54.582Z"
   },
   {
    "duration": 11,
    "start_time": "2022-10-28T06:35:54.593Z"
   },
   {
    "duration": 79,
    "start_time": "2022-10-28T06:35:54.606Z"
   },
   {
    "duration": 138,
    "start_time": "2022-10-28T06:35:54.687Z"
   },
   {
    "duration": 12,
    "start_time": "2022-10-28T06:35:54.827Z"
   },
   {
    "duration": 16,
    "start_time": "2022-10-28T06:35:54.841Z"
   },
   {
    "duration": 11,
    "start_time": "2022-10-28T06:35:54.859Z"
   },
   {
    "duration": 14,
    "start_time": "2022-10-28T06:35:54.872Z"
   },
   {
    "duration": 12,
    "start_time": "2022-10-28T06:35:54.888Z"
   },
   {
    "duration": 5,
    "start_time": "2022-10-28T06:35:54.901Z"
   },
   {
    "duration": 85,
    "start_time": "2022-10-28T06:36:58.792Z"
   },
   {
    "duration": 1173,
    "start_time": "2022-10-28T06:37:02.934Z"
   },
   {
    "duration": 166,
    "start_time": "2022-10-28T06:37:04.109Z"
   },
   {
    "duration": 3,
    "start_time": "2022-10-28T06:37:04.277Z"
   },
   {
    "duration": 126,
    "start_time": "2022-10-28T06:37:04.282Z"
   },
   {
    "duration": 4,
    "start_time": "2022-10-28T06:37:04.410Z"
   },
   {
    "duration": 105,
    "start_time": "2022-10-28T06:37:04.416Z"
   },
   {
    "duration": 146,
    "start_time": "2022-10-28T06:37:04.522Z"
   },
   {
    "duration": 5,
    "start_time": "2022-10-28T06:37:04.669Z"
   },
   {
    "duration": 68,
    "start_time": "2022-10-28T06:37:04.675Z"
   },
   {
    "duration": 67,
    "start_time": "2022-10-28T06:37:04.745Z"
   },
   {
    "duration": 66,
    "start_time": "2022-10-28T06:37:04.814Z"
   },
   {
    "duration": 4,
    "start_time": "2022-10-28T06:37:04.881Z"
   },
   {
    "duration": 18,
    "start_time": "2022-10-28T06:37:04.886Z"
   },
   {
    "duration": 34,
    "start_time": "2022-10-28T06:37:04.907Z"
   },
   {
    "duration": 5,
    "start_time": "2022-10-28T06:37:04.942Z"
   },
   {
    "duration": 377,
    "start_time": "2022-10-28T06:37:04.948Z"
   },
   {
    "duration": 29,
    "start_time": "2022-10-28T06:37:05.327Z"
   },
   {
    "duration": 13,
    "start_time": "2022-10-28T06:37:05.357Z"
   },
   {
    "duration": 71,
    "start_time": "2022-10-28T06:37:05.371Z"
   },
   {
    "duration": 31,
    "start_time": "2022-10-28T06:37:05.443Z"
   },
   {
    "duration": 87,
    "start_time": "2022-10-28T06:37:05.475Z"
   },
   {
    "duration": 8,
    "start_time": "2022-10-28T06:37:05.563Z"
   },
   {
    "duration": 20,
    "start_time": "2022-10-28T06:37:05.572Z"
   },
   {
    "duration": 162,
    "start_time": "2022-10-28T06:37:05.594Z"
   },
   {
    "duration": 11,
    "start_time": "2022-10-28T06:37:05.758Z"
   },
   {
    "duration": 11,
    "start_time": "2022-10-28T06:37:05.770Z"
   },
   {
    "duration": 92,
    "start_time": "2022-10-28T06:37:05.782Z"
   },
   {
    "duration": 132,
    "start_time": "2022-10-28T06:37:05.876Z"
   },
   {
    "duration": 5,
    "start_time": "2022-10-28T06:37:06.009Z"
   },
   {
    "duration": 24,
    "start_time": "2022-10-28T06:37:06.015Z"
   },
   {
    "duration": 10,
    "start_time": "2022-10-28T06:37:06.040Z"
   },
   {
    "duration": 9,
    "start_time": "2022-10-28T06:37:06.052Z"
   },
   {
    "duration": 14,
    "start_time": "2022-10-28T06:37:06.063Z"
   },
   {
    "duration": 4,
    "start_time": "2022-10-28T06:37:06.079Z"
   },
   {
    "duration": 1034,
    "start_time": "2022-10-28T06:39:15.063Z"
   },
   {
    "duration": 157,
    "start_time": "2022-10-28T06:39:16.098Z"
   },
   {
    "duration": 3,
    "start_time": "2022-10-28T06:39:16.257Z"
   },
   {
    "duration": 121,
    "start_time": "2022-10-28T06:39:16.262Z"
   },
   {
    "duration": 4,
    "start_time": "2022-10-28T06:39:16.385Z"
   },
   {
    "duration": 158,
    "start_time": "2022-10-28T06:39:16.391Z"
   },
   {
    "duration": 5,
    "start_time": "2022-10-28T06:39:16.550Z"
   },
   {
    "duration": 14,
    "start_time": "2022-10-28T06:39:16.557Z"
   },
   {
    "duration": 55,
    "start_time": "2022-10-28T06:39:16.573Z"
   },
   {
    "duration": 64,
    "start_time": "2022-10-28T06:39:16.640Z"
   },
   {
    "duration": 63,
    "start_time": "2022-10-28T06:39:16.706Z"
   },
   {
    "duration": 4,
    "start_time": "2022-10-28T06:39:16.771Z"
   },
   {
    "duration": 16,
    "start_time": "2022-10-28T06:39:16.777Z"
   },
   {
    "duration": 29,
    "start_time": "2022-10-28T06:39:16.795Z"
   },
   {
    "duration": 5,
    "start_time": "2022-10-28T06:39:16.839Z"
   },
   {
    "duration": 416,
    "start_time": "2022-10-28T06:39:16.846Z"
   },
   {
    "duration": 27,
    "start_time": "2022-10-28T06:39:17.264Z"
   },
   {
    "duration": 37,
    "start_time": "2022-10-28T06:39:17.293Z"
   },
   {
    "duration": 81,
    "start_time": "2022-10-28T06:39:17.333Z"
   },
   {
    "duration": 38,
    "start_time": "2022-10-28T06:39:17.416Z"
   },
   {
    "duration": 82,
    "start_time": "2022-10-28T06:39:17.456Z"
   },
   {
    "duration": 8,
    "start_time": "2022-10-28T06:39:17.540Z"
   },
   {
    "duration": 29,
    "start_time": "2022-10-28T06:39:17.549Z"
   },
   {
    "duration": 161,
    "start_time": "2022-10-28T06:39:17.580Z"
   },
   {
    "duration": 11,
    "start_time": "2022-10-28T06:39:17.743Z"
   },
   {
    "duration": 15,
    "start_time": "2022-10-28T06:39:17.756Z"
   },
   {
    "duration": 174,
    "start_time": "2022-10-28T06:39:17.773Z"
   },
   {
    "duration": 102,
    "start_time": "2022-10-28T06:39:17.952Z"
   },
   {
    "duration": 7,
    "start_time": "2022-10-28T06:39:18.056Z"
   },
   {
    "duration": 31,
    "start_time": "2022-10-28T06:39:18.064Z"
   },
   {
    "duration": 12,
    "start_time": "2022-10-28T06:39:18.097Z"
   },
   {
    "duration": 15,
    "start_time": "2022-10-28T06:39:18.112Z"
   },
   {
    "duration": 35,
    "start_time": "2022-10-28T06:39:18.129Z"
   },
   {
    "duration": 8,
    "start_time": "2022-10-28T06:39:18.166Z"
   },
   {
    "duration": 1250,
    "start_time": "2022-10-28T07:11:19.517Z"
   },
   {
    "duration": 737,
    "start_time": "2022-10-28T07:11:20.769Z"
   },
   {
    "duration": 4,
    "start_time": "2022-10-28T07:11:21.508Z"
   },
   {
    "duration": 144,
    "start_time": "2022-10-28T07:11:21.514Z"
   },
   {
    "duration": 5,
    "start_time": "2022-10-28T07:11:21.660Z"
   },
   {
    "duration": 164,
    "start_time": "2022-10-28T07:11:21.666Z"
   },
   {
    "duration": 6,
    "start_time": "2022-10-28T07:11:21.832Z"
   },
   {
    "duration": 19,
    "start_time": "2022-10-28T07:11:21.839Z"
   },
   {
    "duration": 80,
    "start_time": "2022-10-28T07:11:21.860Z"
   },
   {
    "duration": 65,
    "start_time": "2022-10-28T07:11:21.942Z"
   },
   {
    "duration": 46,
    "start_time": "2022-10-28T07:11:22.010Z"
   },
   {
    "duration": 3,
    "start_time": "2022-10-28T07:11:22.058Z"
   },
   {
    "duration": 31,
    "start_time": "2022-10-28T07:11:22.063Z"
   },
   {
    "duration": 43,
    "start_time": "2022-10-28T07:11:22.096Z"
   },
   {
    "duration": 5,
    "start_time": "2022-10-28T07:11:22.141Z"
   },
   {
    "duration": 398,
    "start_time": "2022-10-28T07:11:22.148Z"
   },
   {
    "duration": 23,
    "start_time": "2022-10-28T07:11:22.548Z"
   },
   {
    "duration": 32,
    "start_time": "2022-10-28T07:11:22.573Z"
   },
   {
    "duration": 84,
    "start_time": "2022-10-28T07:11:22.607Z"
   },
   {
    "duration": 29,
    "start_time": "2022-10-28T07:11:22.693Z"
   },
   {
    "duration": 113,
    "start_time": "2022-10-28T07:11:22.724Z"
   },
   {
    "duration": 8,
    "start_time": "2022-10-28T07:11:22.839Z"
   },
   {
    "duration": 44,
    "start_time": "2022-10-28T07:11:22.848Z"
   },
   {
    "duration": 280,
    "start_time": "2022-10-28T07:11:22.893Z"
   },
   {
    "duration": 15,
    "start_time": "2022-10-28T07:11:23.174Z"
   },
   {
    "duration": 42,
    "start_time": "2022-10-28T07:11:23.190Z"
   },
   {
    "duration": 83,
    "start_time": "2022-10-28T07:11:23.234Z"
   },
   {
    "duration": 97,
    "start_time": "2022-10-28T07:11:23.320Z"
   },
   {
    "duration": 5,
    "start_time": "2022-10-28T07:11:23.419Z"
   },
   {
    "duration": 35,
    "start_time": "2022-10-28T07:11:23.426Z"
   },
   {
    "duration": 30,
    "start_time": "2022-10-28T07:11:23.463Z"
   },
   {
    "duration": 40,
    "start_time": "2022-10-28T07:11:23.495Z"
   },
   {
    "duration": 43,
    "start_time": "2022-10-28T07:11:23.537Z"
   },
   {
    "duration": 31,
    "start_time": "2022-10-28T07:11:23.582Z"
   },
   {
    "duration": 8,
    "start_time": "2022-10-28T08:08:39.059Z"
   },
   {
    "duration": 1229,
    "start_time": "2022-10-28T08:15:45.633Z"
   },
   {
    "duration": 539,
    "start_time": "2022-10-28T08:15:46.864Z"
   },
   {
    "duration": 3,
    "start_time": "2022-10-28T08:15:47.404Z"
   },
   {
    "duration": 112,
    "start_time": "2022-10-28T08:15:47.410Z"
   },
   {
    "duration": 5,
    "start_time": "2022-10-28T08:15:47.524Z"
   },
   {
    "duration": 145,
    "start_time": "2022-10-28T08:15:47.531Z"
   },
   {
    "duration": 4,
    "start_time": "2022-10-28T08:15:47.678Z"
   },
   {
    "duration": 30,
    "start_time": "2022-10-28T08:15:47.684Z"
   },
   {
    "duration": 75,
    "start_time": "2022-10-28T08:15:47.715Z"
   },
   {
    "duration": 75,
    "start_time": "2022-10-28T08:15:47.793Z"
   },
   {
    "duration": 45,
    "start_time": "2022-10-28T08:15:47.870Z"
   },
   {
    "duration": 3,
    "start_time": "2022-10-28T08:15:47.917Z"
   },
   {
    "duration": 21,
    "start_time": "2022-10-28T08:15:47.921Z"
   },
   {
    "duration": 42,
    "start_time": "2022-10-28T08:15:47.944Z"
   },
   {
    "duration": 14,
    "start_time": "2022-10-28T08:15:47.988Z"
   },
   {
    "duration": 412,
    "start_time": "2022-10-28T08:15:48.003Z"
   },
   {
    "duration": 22,
    "start_time": "2022-10-28T08:15:48.417Z"
   },
   {
    "duration": 21,
    "start_time": "2022-10-28T08:15:48.440Z"
   },
   {
    "duration": 85,
    "start_time": "2022-10-28T08:15:48.462Z"
   },
   {
    "duration": 31,
    "start_time": "2022-10-28T08:15:48.548Z"
   },
   {
    "duration": 83,
    "start_time": "2022-10-28T08:15:48.580Z"
   },
   {
    "duration": 7,
    "start_time": "2022-10-28T08:15:48.664Z"
   },
   {
    "duration": 29,
    "start_time": "2022-10-28T08:15:48.673Z"
   },
   {
    "duration": 181,
    "start_time": "2022-10-28T08:15:48.704Z"
   },
   {
    "duration": 11,
    "start_time": "2022-10-28T08:15:48.886Z"
   },
   {
    "duration": 31,
    "start_time": "2022-10-28T08:15:48.898Z"
   },
   {
    "duration": 93,
    "start_time": "2022-10-28T08:15:48.931Z"
   },
   {
    "duration": 109,
    "start_time": "2022-10-28T08:15:49.027Z"
   },
   {
    "duration": 6,
    "start_time": "2022-10-28T08:15:49.138Z"
   },
   {
    "duration": 45,
    "start_time": "2022-10-28T08:15:49.145Z"
   },
   {
    "duration": 19,
    "start_time": "2022-10-28T08:15:49.191Z"
   },
   {
    "duration": 38,
    "start_time": "2022-10-28T08:15:49.212Z"
   },
   {
    "duration": 41,
    "start_time": "2022-10-28T08:15:49.252Z"
   },
   {
    "duration": 14,
    "start_time": "2022-10-28T08:15:49.296Z"
   },
   {
    "duration": 48,
    "start_time": "2022-10-28T08:19:36.490Z"
   },
   {
    "duration": 49,
    "start_time": "2022-10-28T08:20:26.939Z"
   },
   {
    "duration": 51,
    "start_time": "2022-10-28T08:20:45.843Z"
   },
   {
    "duration": 53,
    "start_time": "2022-10-28T08:22:13.363Z"
   },
   {
    "duration": 4,
    "start_time": "2022-10-28T08:23:15.370Z"
   },
   {
    "duration": 60,
    "start_time": "2022-10-28T08:25:28.991Z"
   },
   {
    "duration": 263,
    "start_time": "2022-10-28T08:25:56.933Z"
   },
   {
    "duration": 154,
    "start_time": "2022-10-28T08:26:46.233Z"
   },
   {
    "duration": 3,
    "start_time": "2022-10-28T08:26:58.339Z"
   },
   {
    "duration": 5,
    "start_time": "2022-10-28T08:27:02.696Z"
   },
   {
    "duration": 54,
    "start_time": "2022-10-28T08:27:36.144Z"
   },
   {
    "duration": 169,
    "start_time": "2022-10-28T08:27:41.463Z"
   },
   {
    "duration": 158,
    "start_time": "2022-10-28T08:31:26.182Z"
   },
   {
    "duration": 26,
    "start_time": "2022-10-28T08:32:23.165Z"
   },
   {
    "duration": 9,
    "start_time": "2022-10-28T08:38:05.872Z"
   },
   {
    "duration": 1078,
    "start_time": "2022-10-28T08:39:38.386Z"
   },
   {
    "duration": 148,
    "start_time": "2022-10-28T08:39:39.466Z"
   },
   {
    "duration": 3,
    "start_time": "2022-10-28T08:39:39.616Z"
   },
   {
    "duration": 110,
    "start_time": "2022-10-28T08:39:39.621Z"
   },
   {
    "duration": 5,
    "start_time": "2022-10-28T08:39:39.732Z"
   },
   {
    "duration": 154,
    "start_time": "2022-10-28T08:39:39.739Z"
   },
   {
    "duration": 158,
    "start_time": "2022-10-28T08:39:39.894Z"
   },
   {
    "duration": 5,
    "start_time": "2022-10-28T08:39:40.054Z"
   },
   {
    "duration": 17,
    "start_time": "2022-10-28T08:39:40.061Z"
   },
   {
    "duration": 79,
    "start_time": "2022-10-28T08:39:40.081Z"
   },
   {
    "duration": 53,
    "start_time": "2022-10-28T08:39:40.162Z"
   },
   {
    "duration": 4,
    "start_time": "2022-10-28T08:39:40.217Z"
   },
   {
    "duration": 15,
    "start_time": "2022-10-28T08:39:40.222Z"
   },
   {
    "duration": 21,
    "start_time": "2022-10-28T08:39:40.238Z"
   },
   {
    "duration": 5,
    "start_time": "2022-10-28T08:39:40.260Z"
   },
   {
    "duration": 386,
    "start_time": "2022-10-28T08:39:40.267Z"
   },
   {
    "duration": 21,
    "start_time": "2022-10-28T08:39:40.654Z"
   },
   {
    "duration": 33,
    "start_time": "2022-10-28T08:39:40.676Z"
   },
   {
    "duration": 18,
    "start_time": "2022-10-28T08:39:40.710Z"
   },
   {
    "duration": 80,
    "start_time": "2022-10-28T08:39:40.730Z"
   },
   {
    "duration": 49,
    "start_time": "2022-10-28T08:39:40.812Z"
   },
   {
    "duration": 92,
    "start_time": "2022-10-28T08:39:40.863Z"
   },
   {
    "duration": 7,
    "start_time": "2022-10-28T08:39:40.957Z"
   },
   {
    "duration": 18,
    "start_time": "2022-10-28T08:39:40.966Z"
   },
   {
    "duration": 172,
    "start_time": "2022-10-28T08:39:40.986Z"
   },
   {
    "duration": 11,
    "start_time": "2022-10-28T08:39:41.160Z"
   },
   {
    "duration": 20,
    "start_time": "2022-10-28T08:39:41.172Z"
   },
   {
    "duration": 109,
    "start_time": "2022-10-28T08:39:41.211Z"
   },
   {
    "duration": 106,
    "start_time": "2022-10-28T08:39:41.321Z"
   },
   {
    "duration": 4,
    "start_time": "2022-10-28T08:39:41.429Z"
   },
   {
    "duration": 19,
    "start_time": "2022-10-28T08:39:41.435Z"
   },
   {
    "duration": 13,
    "start_time": "2022-10-28T08:39:41.456Z"
   },
   {
    "duration": 16,
    "start_time": "2022-10-28T08:39:41.470Z"
   },
   {
    "duration": 15,
    "start_time": "2022-10-28T08:39:41.509Z"
   },
   {
    "duration": 4,
    "start_time": "2022-10-28T08:39:41.526Z"
   },
   {
    "duration": 11,
    "start_time": "2022-10-28T08:42:11.240Z"
   },
   {
    "duration": 9,
    "start_time": "2022-10-28T08:42:16.464Z"
   },
   {
    "duration": 10,
    "start_time": "2022-10-28T08:42:30.035Z"
   },
   {
    "duration": 1032,
    "start_time": "2022-10-28T08:48:46.559Z"
   },
   {
    "duration": 152,
    "start_time": "2022-10-28T08:48:47.594Z"
   },
   {
    "duration": 3,
    "start_time": "2022-10-28T08:48:47.747Z"
   },
   {
    "duration": 112,
    "start_time": "2022-10-28T08:48:47.752Z"
   },
   {
    "duration": 5,
    "start_time": "2022-10-28T08:48:47.866Z"
   },
   {
    "duration": 148,
    "start_time": "2022-10-28T08:48:47.872Z"
   },
   {
    "duration": 160,
    "start_time": "2022-10-28T08:48:48.021Z"
   },
   {
    "duration": 4,
    "start_time": "2022-10-28T08:48:48.182Z"
   },
   {
    "duration": 32,
    "start_time": "2022-10-28T08:48:48.188Z"
   },
   {
    "duration": 66,
    "start_time": "2022-10-28T08:48:48.221Z"
   },
   {
    "duration": 37,
    "start_time": "2022-10-28T08:48:48.289Z"
   },
   {
    "duration": 3,
    "start_time": "2022-10-28T08:48:48.328Z"
   },
   {
    "duration": 31,
    "start_time": "2022-10-28T08:48:48.333Z"
   },
   {
    "duration": 28,
    "start_time": "2022-10-28T08:48:48.367Z"
   },
   {
    "duration": 5,
    "start_time": "2022-10-28T08:48:48.397Z"
   },
   {
    "duration": 386,
    "start_time": "2022-10-28T08:48:48.404Z"
   },
   {
    "duration": 24,
    "start_time": "2022-10-28T08:48:48.792Z"
   },
   {
    "duration": 19,
    "start_time": "2022-10-28T08:48:48.818Z"
   },
   {
    "duration": 72,
    "start_time": "2022-10-28T08:48:48.838Z"
   },
   {
    "duration": 36,
    "start_time": "2022-10-28T08:48:48.912Z"
   },
   {
    "duration": 85,
    "start_time": "2022-10-28T08:48:48.950Z"
   },
   {
    "duration": 7,
    "start_time": "2022-10-28T08:48:49.036Z"
   },
   {
    "duration": 17,
    "start_time": "2022-10-28T08:48:49.045Z"
   },
   {
    "duration": 64,
    "start_time": "2022-10-28T08:56:04.386Z"
   },
   {
    "duration": 1079,
    "start_time": "2022-10-28T08:56:09.405Z"
   },
   {
    "duration": 150,
    "start_time": "2022-10-28T08:56:10.486Z"
   },
   {
    "duration": 3,
    "start_time": "2022-10-28T08:56:10.638Z"
   },
   {
    "duration": 112,
    "start_time": "2022-10-28T08:56:10.643Z"
   },
   {
    "duration": 4,
    "start_time": "2022-10-28T08:56:10.757Z"
   },
   {
    "duration": 153,
    "start_time": "2022-10-28T08:56:10.762Z"
   },
   {
    "duration": 167,
    "start_time": "2022-10-28T08:56:10.917Z"
   },
   {
    "duration": 4,
    "start_time": "2022-10-28T08:56:11.086Z"
   },
   {
    "duration": 26,
    "start_time": "2022-10-28T08:56:11.092Z"
   },
   {
    "duration": 62,
    "start_time": "2022-10-28T08:56:11.120Z"
   },
   {
    "duration": 49,
    "start_time": "2022-10-28T08:56:11.184Z"
   },
   {
    "duration": 3,
    "start_time": "2022-10-28T08:56:11.234Z"
   },
   {
    "duration": 22,
    "start_time": "2022-10-28T08:56:11.238Z"
   },
   {
    "duration": 20,
    "start_time": "2022-10-28T08:56:11.262Z"
   },
   {
    "duration": 5,
    "start_time": "2022-10-28T08:56:11.283Z"
   },
   {
    "duration": 385,
    "start_time": "2022-10-28T08:56:11.290Z"
   },
   {
    "duration": 22,
    "start_time": "2022-10-28T08:56:11.676Z"
   },
   {
    "duration": 21,
    "start_time": "2022-10-28T08:56:11.710Z"
   },
   {
    "duration": 77,
    "start_time": "2022-10-28T08:56:11.733Z"
   },
   {
    "duration": 39,
    "start_time": "2022-10-28T08:56:11.811Z"
   },
   {
    "duration": 85,
    "start_time": "2022-10-28T08:56:11.852Z"
   },
   {
    "duration": 7,
    "start_time": "2022-10-28T08:56:11.938Z"
   },
   {
    "duration": 15,
    "start_time": "2022-10-28T08:56:11.947Z"
   },
   {
    "duration": 166,
    "start_time": "2022-10-28T08:56:11.963Z"
   },
   {
    "duration": 11,
    "start_time": "2022-10-28T08:56:12.131Z"
   },
   {
    "duration": 10,
    "start_time": "2022-10-28T08:56:12.144Z"
   },
   {
    "duration": 107,
    "start_time": "2022-10-28T08:56:12.155Z"
   },
   {
    "duration": 93,
    "start_time": "2022-10-28T08:56:12.265Z"
   },
   {
    "duration": 111,
    "start_time": "2022-10-28T08:56:12.360Z"
   },
   {
    "duration": 5,
    "start_time": "2022-10-28T08:56:12.473Z"
   },
   {
    "duration": 20,
    "start_time": "2022-10-28T08:56:12.480Z"
   },
   {
    "duration": 15,
    "start_time": "2022-10-28T08:56:12.502Z"
   },
   {
    "duration": 15,
    "start_time": "2022-10-28T08:56:12.519Z"
   },
   {
    "duration": 19,
    "start_time": "2022-10-28T08:56:12.536Z"
   },
   {
    "duration": 7,
    "start_time": "2022-10-28T08:56:12.557Z"
   },
   {
    "duration": 64,
    "start_time": "2022-10-28T08:56:50.712Z"
   },
   {
    "duration": 68,
    "start_time": "2022-10-28T08:56:58.088Z"
   },
   {
    "duration": 1042,
    "start_time": "2022-10-28T08:57:11.023Z"
   },
   {
    "duration": 149,
    "start_time": "2022-10-28T08:57:12.067Z"
   },
   {
    "duration": 3,
    "start_time": "2022-10-28T08:57:12.218Z"
   },
   {
    "duration": 108,
    "start_time": "2022-10-28T08:57:12.223Z"
   },
   {
    "duration": 4,
    "start_time": "2022-10-28T08:57:12.333Z"
   },
   {
    "duration": 134,
    "start_time": "2022-10-28T08:57:12.339Z"
   },
   {
    "duration": 192,
    "start_time": "2022-10-28T08:57:12.474Z"
   },
   {
    "duration": 6,
    "start_time": "2022-10-28T08:57:12.668Z"
   },
   {
    "duration": 26,
    "start_time": "2022-10-28T08:57:12.675Z"
   },
   {
    "duration": 66,
    "start_time": "2022-10-28T08:57:12.711Z"
   },
   {
    "duration": 66,
    "start_time": "2022-10-28T08:57:12.779Z"
   },
   {
    "duration": 3,
    "start_time": "2022-10-28T08:57:12.847Z"
   },
   {
    "duration": 24,
    "start_time": "2022-10-28T08:57:12.851Z"
   },
   {
    "duration": 33,
    "start_time": "2022-10-28T08:57:12.877Z"
   },
   {
    "duration": 4,
    "start_time": "2022-10-28T08:57:12.912Z"
   },
   {
    "duration": 369,
    "start_time": "2022-10-28T08:57:12.918Z"
   },
   {
    "duration": 35,
    "start_time": "2022-10-28T08:57:13.289Z"
   },
   {
    "duration": 22,
    "start_time": "2022-10-28T08:57:13.326Z"
   },
   {
    "duration": 69,
    "start_time": "2022-10-28T08:57:13.350Z"
   },
   {
    "duration": 36,
    "start_time": "2022-10-28T08:57:13.420Z"
   },
   {
    "duration": 85,
    "start_time": "2022-10-28T08:57:13.458Z"
   },
   {
    "duration": 7,
    "start_time": "2022-10-28T08:57:13.544Z"
   },
   {
    "duration": 25,
    "start_time": "2022-10-28T08:57:13.553Z"
   },
   {
    "duration": 169,
    "start_time": "2022-10-28T08:57:13.580Z"
   },
   {
    "duration": 11,
    "start_time": "2022-10-28T08:57:13.751Z"
   },
   {
    "duration": 16,
    "start_time": "2022-10-28T08:57:13.763Z"
   },
   {
    "duration": 141,
    "start_time": "2022-10-28T08:57:13.780Z"
   },
   {
    "duration": 57,
    "start_time": "2022-10-28T08:57:13.924Z"
   },
   {
    "duration": 114,
    "start_time": "2022-10-28T08:57:13.983Z"
   },
   {
    "duration": 10,
    "start_time": "2022-10-28T08:57:14.099Z"
   },
   {
    "duration": 27,
    "start_time": "2022-10-28T08:57:14.111Z"
   },
   {
    "duration": 16,
    "start_time": "2022-10-28T08:57:14.140Z"
   },
   {
    "duration": 18,
    "start_time": "2022-10-28T08:57:14.158Z"
   },
   {
    "duration": 18,
    "start_time": "2022-10-28T08:57:14.178Z"
   },
   {
    "duration": 19,
    "start_time": "2022-10-28T08:57:14.197Z"
   },
   {
    "duration": 90,
    "start_time": "2022-10-28T09:03:09.122Z"
   },
   {
    "duration": 9,
    "start_time": "2022-10-28T09:03:58.525Z"
   },
   {
    "duration": 9,
    "start_time": "2022-10-28T09:04:12.433Z"
   },
   {
    "duration": 1106,
    "start_time": "2022-10-28T09:04:18.321Z"
   },
   {
    "duration": 151,
    "start_time": "2022-10-28T09:04:19.429Z"
   },
   {
    "duration": 3,
    "start_time": "2022-10-28T09:04:19.581Z"
   },
   {
    "duration": 105,
    "start_time": "2022-10-28T09:04:19.586Z"
   },
   {
    "duration": 4,
    "start_time": "2022-10-28T09:04:19.693Z"
   },
   {
    "duration": 149,
    "start_time": "2022-10-28T09:04:19.698Z"
   },
   {
    "duration": 165,
    "start_time": "2022-10-28T09:04:19.848Z"
   },
   {
    "duration": 4,
    "start_time": "2022-10-28T09:04:20.015Z"
   },
   {
    "duration": 24,
    "start_time": "2022-10-28T09:04:20.021Z"
   },
   {
    "duration": 71,
    "start_time": "2022-10-28T09:04:20.047Z"
   },
   {
    "duration": 37,
    "start_time": "2022-10-28T09:04:20.120Z"
   },
   {
    "duration": 4,
    "start_time": "2022-10-28T09:04:20.158Z"
   },
   {
    "duration": 12,
    "start_time": "2022-10-28T09:04:20.163Z"
   },
   {
    "duration": 36,
    "start_time": "2022-10-28T09:04:20.177Z"
   },
   {
    "duration": 5,
    "start_time": "2022-10-28T09:04:20.214Z"
   },
   {
    "duration": 403,
    "start_time": "2022-10-28T09:04:20.220Z"
   },
   {
    "duration": 20,
    "start_time": "2022-10-28T09:04:20.625Z"
   },
   {
    "duration": 18,
    "start_time": "2022-10-28T09:04:20.647Z"
   },
   {
    "duration": 113,
    "start_time": "2022-10-28T09:04:20.667Z"
   },
   {
    "duration": 40,
    "start_time": "2022-10-28T09:04:20.781Z"
   },
   {
    "duration": 100,
    "start_time": "2022-10-28T09:04:20.823Z"
   },
   {
    "duration": 8,
    "start_time": "2022-10-28T09:04:20.924Z"
   },
   {
    "duration": 43,
    "start_time": "2022-10-28T09:04:20.933Z"
   },
   {
    "duration": 177,
    "start_time": "2022-10-28T09:04:20.977Z"
   },
   {
    "duration": 14,
    "start_time": "2022-10-28T09:04:21.156Z"
   },
   {
    "duration": 18,
    "start_time": "2022-10-28T09:04:21.172Z"
   },
   {
    "duration": 158,
    "start_time": "2022-10-28T09:04:21.191Z"
   },
   {
    "duration": 7,
    "start_time": "2022-10-28T09:04:21.352Z"
   },
   {
    "duration": 78,
    "start_time": "2022-10-28T09:04:21.360Z"
   },
   {
    "duration": 56,
    "start_time": "2022-10-28T09:04:21.440Z"
   },
   {
    "duration": 113,
    "start_time": "2022-10-28T09:04:21.497Z"
   },
   {
    "duration": 5,
    "start_time": "2022-10-28T09:04:21.612Z"
   },
   {
    "duration": 16,
    "start_time": "2022-10-28T09:04:21.618Z"
   },
   {
    "duration": 18,
    "start_time": "2022-10-28T09:04:21.636Z"
   },
   {
    "duration": 9,
    "start_time": "2022-10-28T09:04:21.656Z"
   },
   {
    "duration": 44,
    "start_time": "2022-10-28T09:04:21.667Z"
   },
   {
    "duration": 3,
    "start_time": "2022-10-28T09:04:21.713Z"
   },
   {
    "duration": 1124,
    "start_time": "2022-10-28T09:05:52.902Z"
   },
   {
    "duration": 162,
    "start_time": "2022-10-28T09:05:54.028Z"
   },
   {
    "duration": 4,
    "start_time": "2022-10-28T09:05:54.192Z"
   },
   {
    "duration": 116,
    "start_time": "2022-10-28T09:05:54.198Z"
   },
   {
    "duration": 5,
    "start_time": "2022-10-28T09:05:54.316Z"
   },
   {
    "duration": 144,
    "start_time": "2022-10-28T09:05:54.323Z"
   },
   {
    "duration": 171,
    "start_time": "2022-10-28T09:05:54.468Z"
   },
   {
    "duration": 5,
    "start_time": "2022-10-28T09:05:54.641Z"
   },
   {
    "duration": 15,
    "start_time": "2022-10-28T09:05:54.647Z"
   },
   {
    "duration": 86,
    "start_time": "2022-10-28T09:05:54.664Z"
   },
   {
    "duration": 39,
    "start_time": "2022-10-28T09:05:54.752Z"
   },
   {
    "duration": 4,
    "start_time": "2022-10-28T09:05:54.809Z"
   },
   {
    "duration": 20,
    "start_time": "2022-10-28T09:05:54.815Z"
   },
   {
    "duration": 28,
    "start_time": "2022-10-28T09:05:54.836Z"
   },
   {
    "duration": 6,
    "start_time": "2022-10-28T09:05:54.866Z"
   },
   {
    "duration": 399,
    "start_time": "2022-10-28T09:05:54.873Z"
   },
   {
    "duration": 35,
    "start_time": "2022-10-28T09:05:55.274Z"
   },
   {
    "duration": 22,
    "start_time": "2022-10-28T09:05:55.311Z"
   },
   {
    "duration": 75,
    "start_time": "2022-10-28T09:05:55.335Z"
   },
   {
    "duration": 39,
    "start_time": "2022-10-28T09:05:55.412Z"
   },
   {
    "duration": 100,
    "start_time": "2022-10-28T09:05:55.453Z"
   },
   {
    "duration": 8,
    "start_time": "2022-10-28T09:05:55.555Z"
   },
   {
    "duration": 19,
    "start_time": "2022-10-28T09:05:55.565Z"
   },
   {
    "duration": 180,
    "start_time": "2022-10-28T09:05:55.586Z"
   },
   {
    "duration": 11,
    "start_time": "2022-10-28T09:05:55.767Z"
   },
   {
    "duration": 18,
    "start_time": "2022-10-28T09:05:55.779Z"
   },
   {
    "duration": 163,
    "start_time": "2022-10-28T09:05:55.798Z"
   },
   {
    "duration": 7,
    "start_time": "2022-10-28T09:05:55.964Z"
   },
   {
    "duration": 88,
    "start_time": "2022-10-28T09:05:55.973Z"
   },
   {
    "duration": 67,
    "start_time": "2022-10-28T09:05:56.063Z"
   },
   {
    "duration": 106,
    "start_time": "2022-10-28T09:05:56.132Z"
   },
   {
    "duration": 5,
    "start_time": "2022-10-28T09:05:56.240Z"
   },
   {
    "duration": 16,
    "start_time": "2022-10-28T09:05:56.246Z"
   },
   {
    "duration": 11,
    "start_time": "2022-10-28T09:05:56.263Z"
   },
   {
    "duration": 34,
    "start_time": "2022-10-28T09:05:56.276Z"
   },
   {
    "duration": 11,
    "start_time": "2022-10-28T09:05:56.312Z"
   },
   {
    "duration": 8,
    "start_time": "2022-10-28T09:05:56.325Z"
   },
   {
    "duration": 1416,
    "start_time": "2022-10-28T10:30:45.416Z"
   },
   {
    "duration": 740,
    "start_time": "2022-10-28T10:30:46.835Z"
   },
   {
    "duration": 5,
    "start_time": "2022-10-28T10:30:47.578Z"
   },
   {
    "duration": 156,
    "start_time": "2022-10-28T10:30:47.586Z"
   },
   {
    "duration": 4,
    "start_time": "2022-10-28T10:30:47.744Z"
   },
   {
    "duration": 164,
    "start_time": "2022-10-28T10:30:47.750Z"
   },
   {
    "duration": 255,
    "start_time": "2022-10-28T10:30:47.916Z"
   },
   {
    "duration": 6,
    "start_time": "2022-10-28T10:30:48.173Z"
   },
   {
    "duration": 16,
    "start_time": "2022-10-28T10:30:48.180Z"
   },
   {
    "duration": 105,
    "start_time": "2022-10-28T10:30:48.201Z"
   },
   {
    "duration": 64,
    "start_time": "2022-10-28T10:30:48.308Z"
   },
   {
    "duration": 4,
    "start_time": "2022-10-28T10:30:48.373Z"
   },
   {
    "duration": 12,
    "start_time": "2022-10-28T10:30:48.379Z"
   },
   {
    "duration": 49,
    "start_time": "2022-10-28T10:30:48.394Z"
   },
   {
    "duration": 7,
    "start_time": "2022-10-28T10:30:48.446Z"
   },
   {
    "duration": 458,
    "start_time": "2022-10-28T10:30:48.455Z"
   },
   {
    "duration": 46,
    "start_time": "2022-10-28T10:30:48.915Z"
   },
   {
    "duration": 34,
    "start_time": "2022-10-28T10:30:48.963Z"
   },
   {
    "duration": 108,
    "start_time": "2022-10-28T10:30:48.999Z"
   },
   {
    "duration": 69,
    "start_time": "2022-10-28T10:30:49.109Z"
   },
   {
    "duration": 114,
    "start_time": "2022-10-28T10:30:49.181Z"
   },
   {
    "duration": 12,
    "start_time": "2022-10-28T10:30:49.298Z"
   },
   {
    "duration": 33,
    "start_time": "2022-10-28T10:30:49.312Z"
   },
   {
    "duration": 217,
    "start_time": "2022-10-28T10:30:49.348Z"
   },
   {
    "duration": 13,
    "start_time": "2022-10-28T10:30:49.569Z"
   },
   {
    "duration": 10,
    "start_time": "2022-10-28T10:30:49.584Z"
   },
   {
    "duration": 171,
    "start_time": "2022-10-28T10:30:49.596Z"
   },
   {
    "duration": 8,
    "start_time": "2022-10-28T10:30:49.770Z"
   },
   {
    "duration": 92,
    "start_time": "2022-10-28T10:30:49.780Z"
   },
   {
    "duration": 66,
    "start_time": "2022-10-28T10:30:49.874Z"
   },
   {
    "duration": 117,
    "start_time": "2022-10-28T10:30:49.942Z"
   },
   {
    "duration": 5,
    "start_time": "2022-10-28T10:30:50.061Z"
   },
   {
    "duration": 33,
    "start_time": "2022-10-28T10:30:50.068Z"
   },
   {
    "duration": 14,
    "start_time": "2022-10-28T10:30:50.103Z"
   },
   {
    "duration": 26,
    "start_time": "2022-10-28T10:30:50.119Z"
   },
   {
    "duration": 22,
    "start_time": "2022-10-28T10:30:50.147Z"
   },
   {
    "duration": 19,
    "start_time": "2022-10-28T10:30:50.170Z"
   },
   {
    "duration": 10,
    "start_time": "2022-10-28T10:35:30.883Z"
   },
   {
    "duration": 9,
    "start_time": "2022-10-28T10:35:36.478Z"
   },
   {
    "duration": 1178,
    "start_time": "2022-10-28T10:35:45.157Z"
   },
   {
    "duration": 179,
    "start_time": "2022-10-28T10:35:46.337Z"
   },
   {
    "duration": 5,
    "start_time": "2022-10-28T10:35:46.518Z"
   },
   {
    "duration": 127,
    "start_time": "2022-10-28T10:35:46.528Z"
   },
   {
    "duration": 4,
    "start_time": "2022-10-28T10:35:46.657Z"
   },
   {
    "duration": 144,
    "start_time": "2022-10-28T10:35:46.663Z"
   },
   {
    "duration": 171,
    "start_time": "2022-10-28T10:35:46.808Z"
   },
   {
    "duration": 5,
    "start_time": "2022-10-28T10:35:46.981Z"
   },
   {
    "duration": 15,
    "start_time": "2022-10-28T10:35:46.987Z"
   },
   {
    "duration": 80,
    "start_time": "2022-10-28T10:35:47.004Z"
   },
   {
    "duration": 52,
    "start_time": "2022-10-28T10:35:47.086Z"
   },
   {
    "duration": 2,
    "start_time": "2022-10-28T10:35:47.140Z"
   },
   {
    "duration": 8,
    "start_time": "2022-10-28T10:35:47.144Z"
   },
   {
    "duration": 21,
    "start_time": "2022-10-28T10:35:47.154Z"
   },
   {
    "duration": 6,
    "start_time": "2022-10-28T10:35:47.177Z"
   },
   {
    "duration": 404,
    "start_time": "2022-10-28T10:35:47.185Z"
   },
   {
    "duration": 22,
    "start_time": "2022-10-28T10:35:47.591Z"
   },
   {
    "duration": 33,
    "start_time": "2022-10-28T10:35:47.615Z"
   },
   {
    "duration": 56,
    "start_time": "2022-10-28T10:35:47.649Z"
   },
   {
    "duration": 54,
    "start_time": "2022-10-28T10:35:47.707Z"
   },
   {
    "duration": 88,
    "start_time": "2022-10-28T10:35:47.763Z"
   },
   {
    "duration": 7,
    "start_time": "2022-10-28T10:35:47.853Z"
   },
   {
    "duration": 14,
    "start_time": "2022-10-28T10:35:47.862Z"
   },
   {
    "duration": 168,
    "start_time": "2022-10-28T10:35:47.878Z"
   },
   {
    "duration": 16,
    "start_time": "2022-10-28T10:35:48.048Z"
   },
   {
    "duration": 15,
    "start_time": "2022-10-28T10:35:48.066Z"
   },
   {
    "duration": 204,
    "start_time": "2022-10-28T10:35:48.083Z"
   },
   {
    "duration": 10,
    "start_time": "2022-10-28T10:35:48.290Z"
   },
   {
    "duration": 90,
    "start_time": "2022-10-28T10:35:48.301Z"
   },
   {
    "duration": 75,
    "start_time": "2022-10-28T10:35:48.393Z"
   },
   {
    "duration": 118,
    "start_time": "2022-10-28T10:35:48.470Z"
   },
   {
    "duration": 5,
    "start_time": "2022-10-28T10:35:48.590Z"
   },
   {
    "duration": 30,
    "start_time": "2022-10-28T10:35:48.596Z"
   },
   {
    "duration": 33,
    "start_time": "2022-10-28T10:35:48.628Z"
   },
   {
    "duration": 25,
    "start_time": "2022-10-28T10:35:48.662Z"
   },
   {
    "duration": 29,
    "start_time": "2022-10-28T10:35:48.689Z"
   },
   {
    "duration": 31,
    "start_time": "2022-10-28T10:35:48.719Z"
   },
   {
    "duration": 9,
    "start_time": "2022-10-28T10:39:26.874Z"
   },
   {
    "duration": 131,
    "start_time": "2022-10-28T10:40:29.425Z"
   },
   {
    "duration": 1175,
    "start_time": "2022-10-28T10:40:35.591Z"
   },
   {
    "duration": 175,
    "start_time": "2022-10-28T10:40:36.768Z"
   },
   {
    "duration": 4,
    "start_time": "2022-10-28T10:40:36.945Z"
   },
   {
    "duration": 129,
    "start_time": "2022-10-28T10:40:36.951Z"
   },
   {
    "duration": 6,
    "start_time": "2022-10-28T10:40:37.082Z"
   },
   {
    "duration": 163,
    "start_time": "2022-10-28T10:40:37.090Z"
   },
   {
    "duration": 175,
    "start_time": "2022-10-28T10:40:37.255Z"
   },
   {
    "duration": 6,
    "start_time": "2022-10-28T10:40:37.432Z"
   },
   {
    "duration": 22,
    "start_time": "2022-10-28T10:40:37.440Z"
   },
   {
    "duration": 78,
    "start_time": "2022-10-28T10:40:37.465Z"
   },
   {
    "duration": 46,
    "start_time": "2022-10-28T10:40:37.545Z"
   },
   {
    "duration": 3,
    "start_time": "2022-10-28T10:40:37.593Z"
   },
   {
    "duration": 31,
    "start_time": "2022-10-28T10:40:37.598Z"
   },
   {
    "duration": 30,
    "start_time": "2022-10-28T10:40:37.630Z"
   },
   {
    "duration": 6,
    "start_time": "2022-10-28T10:40:37.662Z"
   },
   {
    "duration": 416,
    "start_time": "2022-10-28T10:40:37.669Z"
   },
   {
    "duration": 24,
    "start_time": "2022-10-28T10:40:38.086Z"
   },
   {
    "duration": 42,
    "start_time": "2022-10-28T10:40:38.111Z"
   },
   {
    "duration": 85,
    "start_time": "2022-10-28T10:40:38.155Z"
   },
   {
    "duration": 47,
    "start_time": "2022-10-28T10:40:38.242Z"
   },
   {
    "duration": 101,
    "start_time": "2022-10-28T10:40:38.291Z"
   },
   {
    "duration": 9,
    "start_time": "2022-10-28T10:40:38.395Z"
   },
   {
    "duration": 31,
    "start_time": "2022-10-28T10:40:38.406Z"
   },
   {
    "duration": 171,
    "start_time": "2022-10-28T10:40:38.439Z"
   },
   {
    "duration": 18,
    "start_time": "2022-10-28T10:40:38.613Z"
   },
   {
    "duration": 21,
    "start_time": "2022-10-28T10:40:38.632Z"
   },
   {
    "duration": 156,
    "start_time": "2022-10-28T10:40:38.655Z"
   },
   {
    "duration": 129,
    "start_time": "2022-10-28T10:40:38.814Z"
   },
   {
    "duration": 0,
    "start_time": "2022-10-28T10:40:38.945Z"
   },
   {
    "duration": 0,
    "start_time": "2022-10-28T10:40:38.946Z"
   },
   {
    "duration": 0,
    "start_time": "2022-10-28T10:40:38.947Z"
   },
   {
    "duration": 0,
    "start_time": "2022-10-28T10:40:38.948Z"
   },
   {
    "duration": 0,
    "start_time": "2022-10-28T10:40:38.949Z"
   },
   {
    "duration": 0,
    "start_time": "2022-10-28T10:40:38.950Z"
   },
   {
    "duration": 0,
    "start_time": "2022-10-28T10:40:38.951Z"
   },
   {
    "duration": 0,
    "start_time": "2022-10-28T10:40:38.952Z"
   },
   {
    "duration": 0,
    "start_time": "2022-10-28T10:40:38.953Z"
   },
   {
    "duration": 81,
    "start_time": "2022-10-28T10:42:50.662Z"
   },
   {
    "duration": 1183,
    "start_time": "2022-10-28T10:43:23.634Z"
   },
   {
    "duration": 178,
    "start_time": "2022-10-28T10:43:24.819Z"
   },
   {
    "duration": 4,
    "start_time": "2022-10-28T10:43:24.999Z"
   },
   {
    "duration": 133,
    "start_time": "2022-10-28T10:43:25.004Z"
   },
   {
    "duration": 5,
    "start_time": "2022-10-28T10:43:25.139Z"
   },
   {
    "duration": 152,
    "start_time": "2022-10-28T10:43:25.145Z"
   },
   {
    "duration": 174,
    "start_time": "2022-10-28T10:43:25.299Z"
   },
   {
    "duration": 4,
    "start_time": "2022-10-28T10:43:25.474Z"
   },
   {
    "duration": 14,
    "start_time": "2022-10-28T10:43:25.480Z"
   },
   {
    "duration": 81,
    "start_time": "2022-10-28T10:43:25.497Z"
   },
   {
    "duration": 54,
    "start_time": "2022-10-28T10:43:25.580Z"
   },
   {
    "duration": 3,
    "start_time": "2022-10-28T10:43:25.635Z"
   },
   {
    "duration": 9,
    "start_time": "2022-10-28T10:43:25.640Z"
   },
   {
    "duration": 28,
    "start_time": "2022-10-28T10:43:25.651Z"
   },
   {
    "duration": 6,
    "start_time": "2022-10-28T10:43:25.681Z"
   },
   {
    "duration": 435,
    "start_time": "2022-10-28T10:43:25.689Z"
   },
   {
    "duration": 26,
    "start_time": "2022-10-28T10:43:26.127Z"
   },
   {
    "duration": 25,
    "start_time": "2022-10-28T10:43:26.155Z"
   },
   {
    "duration": 89,
    "start_time": "2022-10-28T10:43:26.181Z"
   },
   {
    "duration": 40,
    "start_time": "2022-10-28T10:43:26.273Z"
   },
   {
    "duration": 92,
    "start_time": "2022-10-28T10:43:26.315Z"
   },
   {
    "duration": 20,
    "start_time": "2022-10-28T10:43:26.409Z"
   },
   {
    "duration": 16,
    "start_time": "2022-10-28T10:43:26.431Z"
   },
   {
    "duration": 189,
    "start_time": "2022-10-28T10:43:26.449Z"
   },
   {
    "duration": 11,
    "start_time": "2022-10-28T10:43:26.640Z"
   },
   {
    "duration": 11,
    "start_time": "2022-10-28T10:43:26.653Z"
   },
   {
    "duration": 4,
    "start_time": "2022-10-28T10:43:26.666Z"
   },
   {
    "duration": 2,
    "start_time": "2022-10-28T10:43:26.673Z"
   },
   {
    "duration": 163,
    "start_time": "2022-10-28T10:43:26.677Z"
   },
   {
    "duration": 60,
    "start_time": "2022-10-28T10:43:26.842Z"
   },
   {
    "duration": 126,
    "start_time": "2022-10-28T10:43:26.904Z"
   },
   {
    "duration": 5,
    "start_time": "2022-10-28T10:43:27.032Z"
   },
   {
    "duration": 16,
    "start_time": "2022-10-28T10:43:27.039Z"
   },
   {
    "duration": 12,
    "start_time": "2022-10-28T10:43:27.057Z"
   },
   {
    "duration": 13,
    "start_time": "2022-10-28T10:43:27.072Z"
   },
   {
    "duration": 49,
    "start_time": "2022-10-28T10:43:27.086Z"
   },
   {
    "duration": 6,
    "start_time": "2022-10-28T10:43:27.136Z"
   },
   {
    "duration": 63,
    "start_time": "2022-10-28T10:47:43.675Z"
   },
   {
    "duration": 63,
    "start_time": "2022-10-28T10:47:47.434Z"
   },
   {
    "duration": 122,
    "start_time": "2022-10-28T10:48:42.034Z"
   },
   {
    "duration": 39,
    "start_time": "2022-10-28T10:49:20.739Z"
   },
   {
    "duration": 60,
    "start_time": "2022-10-28T10:51:11.551Z"
   },
   {
    "duration": 46,
    "start_time": "2022-10-28T10:51:23.978Z"
   },
   {
    "duration": 1298,
    "start_time": "2022-10-28T10:52:35.049Z"
   },
   {
    "duration": 50,
    "start_time": "2022-10-28T10:52:55.234Z"
   },
   {
    "duration": 125,
    "start_time": "2022-10-28T10:54:45.518Z"
   },
   {
    "duration": 132,
    "start_time": "2022-10-28T10:57:28.780Z"
   },
   {
    "duration": 140,
    "start_time": "2022-10-28T10:57:43.062Z"
   },
   {
    "duration": 136,
    "start_time": "2022-10-28T10:58:52.621Z"
   },
   {
    "duration": 1301,
    "start_time": "2022-10-28T10:59:39.077Z"
   },
   {
    "duration": 1156,
    "start_time": "2022-10-28T10:59:49.337Z"
   },
   {
    "duration": 173,
    "start_time": "2022-10-28T10:59:50.495Z"
   },
   {
    "duration": 3,
    "start_time": "2022-10-28T10:59:50.670Z"
   },
   {
    "duration": 172,
    "start_time": "2022-10-28T10:59:50.676Z"
   },
   {
    "duration": 6,
    "start_time": "2022-10-28T10:59:50.850Z"
   },
   {
    "duration": 171,
    "start_time": "2022-10-28T10:59:50.858Z"
   },
   {
    "duration": 184,
    "start_time": "2022-10-28T10:59:51.031Z"
   },
   {
    "duration": 15,
    "start_time": "2022-10-28T10:59:51.217Z"
   },
   {
    "duration": 57,
    "start_time": "2022-10-28T10:59:51.234Z"
   },
   {
    "duration": 71,
    "start_time": "2022-10-28T10:59:51.295Z"
   },
   {
    "duration": 62,
    "start_time": "2022-10-28T10:59:51.368Z"
   },
   {
    "duration": 4,
    "start_time": "2022-10-28T10:59:51.432Z"
   },
   {
    "duration": 30,
    "start_time": "2022-10-28T10:59:51.438Z"
   },
   {
    "duration": 59,
    "start_time": "2022-10-28T10:59:51.470Z"
   },
   {
    "duration": 7,
    "start_time": "2022-10-28T10:59:51.532Z"
   },
   {
    "duration": 429,
    "start_time": "2022-10-28T10:59:51.541Z"
   },
   {
    "duration": 24,
    "start_time": "2022-10-28T10:59:51.972Z"
   },
   {
    "duration": 39,
    "start_time": "2022-10-28T10:59:51.997Z"
   },
   {
    "duration": 99,
    "start_time": "2022-10-28T10:59:52.038Z"
   },
   {
    "duration": 40,
    "start_time": "2022-10-28T10:59:52.138Z"
   },
   {
    "duration": 96,
    "start_time": "2022-10-28T10:59:52.180Z"
   },
   {
    "duration": 8,
    "start_time": "2022-10-28T10:59:52.278Z"
   },
   {
    "duration": 40,
    "start_time": "2022-10-28T10:59:52.288Z"
   },
   {
    "duration": 189,
    "start_time": "2022-10-28T10:59:52.330Z"
   },
   {
    "duration": 18,
    "start_time": "2022-10-28T10:59:52.523Z"
   },
   {
    "duration": 21,
    "start_time": "2022-10-28T10:59:52.544Z"
   },
   {
    "duration": 3,
    "start_time": "2022-10-28T10:59:52.567Z"
   },
   {
    "duration": 3,
    "start_time": "2022-10-28T10:59:52.573Z"
   },
   {
    "duration": 156,
    "start_time": "2022-10-28T10:59:52.578Z"
   },
   {
    "duration": 67,
    "start_time": "2022-10-28T10:59:52.736Z"
   },
   {
    "duration": 133,
    "start_time": "2022-10-28T10:59:52.805Z"
   },
   {
    "duration": 9,
    "start_time": "2022-10-28T10:59:52.940Z"
   },
   {
    "duration": 21,
    "start_time": "2022-10-28T10:59:52.951Z"
   },
   {
    "duration": 15,
    "start_time": "2022-10-28T10:59:52.974Z"
   },
   {
    "duration": 41,
    "start_time": "2022-10-28T10:59:52.991Z"
   },
   {
    "duration": 18,
    "start_time": "2022-10-28T10:59:53.034Z"
   },
   {
    "duration": 5,
    "start_time": "2022-10-28T10:59:53.054Z"
   },
   {
    "duration": 1366,
    "start_time": "2022-10-28T10:59:53.061Z"
   },
   {
    "duration": 138,
    "start_time": "2022-10-28T11:00:35.436Z"
   },
   {
    "duration": 1223,
    "start_time": "2022-10-28T11:02:14.563Z"
   },
   {
    "duration": 54,
    "start_time": "2022-10-28T11:04:57.953Z"
   },
   {
    "duration": 1255,
    "start_time": "2022-10-28T11:05:04.809Z"
   },
   {
    "duration": 51,
    "start_time": "2022-10-28T11:05:16.026Z"
   },
   {
    "duration": 1272,
    "start_time": "2022-10-28T11:05:28.233Z"
   },
   {
    "duration": 139,
    "start_time": "2022-10-28T11:05:34.057Z"
   },
   {
    "duration": 50,
    "start_time": "2022-10-28T11:10:09.679Z"
   },
   {
    "duration": 129,
    "start_time": "2022-10-28T11:10:46.063Z"
   },
   {
    "duration": 133,
    "start_time": "2022-10-28T11:11:18.798Z"
   },
   {
    "duration": 162,
    "start_time": "2022-10-28T11:11:27.230Z"
   },
   {
    "duration": 133,
    "start_time": "2022-10-28T11:12:58.636Z"
   },
   {
    "duration": 12,
    "start_time": "2022-10-28T11:14:17.218Z"
   },
   {
    "duration": 12,
    "start_time": "2022-10-28T11:14:22.157Z"
   },
   {
    "duration": 33,
    "start_time": "2022-10-28T11:14:58.276Z"
   },
   {
    "duration": 1172,
    "start_time": "2022-10-28T11:17:36.257Z"
   },
   {
    "duration": 182,
    "start_time": "2022-10-28T11:17:37.430Z"
   },
   {
    "duration": 4,
    "start_time": "2022-10-28T11:17:37.614Z"
   },
   {
    "duration": 146,
    "start_time": "2022-10-28T11:17:37.620Z"
   },
   {
    "duration": 5,
    "start_time": "2022-10-28T11:17:37.768Z"
   },
   {
    "duration": 169,
    "start_time": "2022-10-28T11:17:37.774Z"
   },
   {
    "duration": 194,
    "start_time": "2022-10-28T11:17:37.945Z"
   },
   {
    "duration": 6,
    "start_time": "2022-10-28T11:17:38.141Z"
   },
   {
    "duration": 43,
    "start_time": "2022-10-28T11:17:38.150Z"
   },
   {
    "duration": 101,
    "start_time": "2022-10-28T11:17:38.196Z"
   },
   {
    "duration": 60,
    "start_time": "2022-10-28T11:17:38.298Z"
   },
   {
    "duration": 3,
    "start_time": "2022-10-28T11:17:38.360Z"
   },
   {
    "duration": 49,
    "start_time": "2022-10-28T11:17:38.365Z"
   },
   {
    "duration": 44,
    "start_time": "2022-10-28T11:17:38.416Z"
   },
   {
    "duration": 24,
    "start_time": "2022-10-28T11:17:38.462Z"
   },
   {
    "duration": 444,
    "start_time": "2022-10-28T11:17:38.488Z"
   },
   {
    "duration": 24,
    "start_time": "2022-10-28T11:17:38.933Z"
   },
   {
    "duration": 22,
    "start_time": "2022-10-28T11:17:38.959Z"
   },
   {
    "duration": 80,
    "start_time": "2022-10-28T11:17:38.983Z"
   },
   {
    "duration": 39,
    "start_time": "2022-10-28T11:17:39.064Z"
   },
   {
    "duration": 90,
    "start_time": "2022-10-28T11:17:39.105Z"
   },
   {
    "duration": 8,
    "start_time": "2022-10-28T11:17:39.197Z"
   },
   {
    "duration": 43,
    "start_time": "2022-10-28T11:17:39.206Z"
   },
   {
    "duration": 184,
    "start_time": "2022-10-28T11:17:39.250Z"
   },
   {
    "duration": 11,
    "start_time": "2022-10-28T11:17:39.436Z"
   },
   {
    "duration": 36,
    "start_time": "2022-10-28T11:17:39.449Z"
   },
   {
    "duration": 215,
    "start_time": "2022-10-28T11:17:39.487Z"
   },
   {
    "duration": 37,
    "start_time": "2022-10-28T11:17:39.705Z"
   },
   {
    "duration": 78,
    "start_time": "2022-10-28T11:17:39.744Z"
   },
   {
    "duration": 59,
    "start_time": "2022-10-28T11:17:39.824Z"
   },
   {
    "duration": 120,
    "start_time": "2022-10-28T11:17:39.885Z"
   },
   {
    "duration": 6,
    "start_time": "2022-10-28T11:17:40.007Z"
   },
   {
    "duration": 39,
    "start_time": "2022-10-28T11:17:40.015Z"
   },
   {
    "duration": 22,
    "start_time": "2022-10-28T11:17:40.055Z"
   },
   {
    "duration": 44,
    "start_time": "2022-10-28T11:17:40.079Z"
   },
   {
    "duration": 46,
    "start_time": "2022-10-28T11:17:40.124Z"
   },
   {
    "duration": 8,
    "start_time": "2022-10-28T11:17:40.172Z"
   },
   {
    "duration": 154,
    "start_time": "2022-10-28T11:17:40.181Z"
   },
   {
    "duration": 25,
    "start_time": "2022-10-28T11:17:40.337Z"
   },
   {
    "duration": 1221,
    "start_time": "2022-10-28T11:19:18.000Z"
   },
   {
    "duration": 178,
    "start_time": "2022-10-28T11:19:19.223Z"
   },
   {
    "duration": 4,
    "start_time": "2022-10-28T11:19:19.409Z"
   },
   {
    "duration": 124,
    "start_time": "2022-10-28T11:19:19.415Z"
   },
   {
    "duration": 5,
    "start_time": "2022-10-28T11:19:19.541Z"
   },
   {
    "duration": 160,
    "start_time": "2022-10-28T11:19:19.547Z"
   },
   {
    "duration": 188,
    "start_time": "2022-10-28T11:19:19.709Z"
   },
   {
    "duration": 5,
    "start_time": "2022-10-28T11:19:19.899Z"
   },
   {
    "duration": 27,
    "start_time": "2022-10-28T11:19:19.906Z"
   },
   {
    "duration": 65,
    "start_time": "2022-10-28T11:19:19.936Z"
   },
   {
    "duration": 63,
    "start_time": "2022-10-28T11:19:20.003Z"
   },
   {
    "duration": 4,
    "start_time": "2022-10-28T11:19:20.067Z"
   },
   {
    "duration": 10,
    "start_time": "2022-10-28T11:19:20.072Z"
   },
   {
    "duration": 50,
    "start_time": "2022-10-28T11:19:20.084Z"
   },
   {
    "duration": 6,
    "start_time": "2022-10-28T11:19:20.136Z"
   },
   {
    "duration": 438,
    "start_time": "2022-10-28T11:19:20.143Z"
   },
   {
    "duration": 24,
    "start_time": "2022-10-28T11:19:20.582Z"
   },
   {
    "duration": 36,
    "start_time": "2022-10-28T11:19:20.608Z"
   },
   {
    "duration": 58,
    "start_time": "2022-10-28T11:19:20.645Z"
   },
   {
    "duration": 56,
    "start_time": "2022-10-28T11:19:20.705Z"
   },
   {
    "duration": 101,
    "start_time": "2022-10-28T11:19:20.763Z"
   },
   {
    "duration": 9,
    "start_time": "2022-10-28T11:19:20.865Z"
   },
   {
    "duration": 17,
    "start_time": "2022-10-28T11:19:20.876Z"
   },
   {
    "duration": 198,
    "start_time": "2022-10-28T11:19:20.895Z"
   },
   {
    "duration": 13,
    "start_time": "2022-10-28T11:19:21.095Z"
   },
   {
    "duration": 21,
    "start_time": "2022-10-28T11:19:21.109Z"
   },
   {
    "duration": 227,
    "start_time": "2022-10-28T11:19:21.132Z"
   },
   {
    "duration": 26,
    "start_time": "2022-10-28T11:19:21.362Z"
   },
   {
    "duration": 90,
    "start_time": "2022-10-28T11:19:21.390Z"
   },
   {
    "duration": 69,
    "start_time": "2022-10-28T11:19:21.482Z"
   },
   {
    "duration": 115,
    "start_time": "2022-10-28T11:19:21.553Z"
   },
   {
    "duration": 5,
    "start_time": "2022-10-28T11:19:21.669Z"
   },
   {
    "duration": 18,
    "start_time": "2022-10-28T11:19:21.676Z"
   },
   {
    "duration": 13,
    "start_time": "2022-10-28T11:19:21.695Z"
   },
   {
    "duration": 13,
    "start_time": "2022-10-28T11:19:21.730Z"
   },
   {
    "duration": 13,
    "start_time": "2022-10-28T11:19:21.745Z"
   },
   {
    "duration": 4,
    "start_time": "2022-10-28T11:19:21.760Z"
   },
   {
    "duration": 1160,
    "start_time": "2022-10-28T11:21:42.874Z"
   },
   {
    "duration": 24,
    "start_time": "2022-10-28T11:22:08.489Z"
   },
   {
    "duration": 976,
    "start_time": "2022-10-28T11:22:25.462Z"
   },
   {
    "duration": 949,
    "start_time": "2022-10-28T11:22:37.731Z"
   },
   {
    "duration": 23,
    "start_time": "2022-10-28T11:22:57.826Z"
   },
   {
    "duration": 18,
    "start_time": "2022-10-28T11:24:42.650Z"
   },
   {
    "duration": 1180,
    "start_time": "2022-10-28T11:24:54.948Z"
   },
   {
    "duration": 205,
    "start_time": "2022-10-28T11:24:56.130Z"
   },
   {
    "duration": 4,
    "start_time": "2022-10-28T11:24:56.337Z"
   },
   {
    "duration": 133,
    "start_time": "2022-10-28T11:24:56.343Z"
   },
   {
    "duration": 5,
    "start_time": "2022-10-28T11:24:56.478Z"
   },
   {
    "duration": 157,
    "start_time": "2022-10-28T11:24:56.485Z"
   },
   {
    "duration": 183,
    "start_time": "2022-10-28T11:24:56.643Z"
   },
   {
    "duration": 4,
    "start_time": "2022-10-28T11:24:56.830Z"
   },
   {
    "duration": 15,
    "start_time": "2022-10-28T11:24:56.836Z"
   },
   {
    "duration": 84,
    "start_time": "2022-10-28T11:24:56.854Z"
   },
   {
    "duration": 46,
    "start_time": "2022-10-28T11:24:56.940Z"
   },
   {
    "duration": 4,
    "start_time": "2022-10-28T11:24:56.987Z"
   },
   {
    "duration": 8,
    "start_time": "2022-10-28T11:24:56.992Z"
   },
   {
    "duration": 45,
    "start_time": "2022-10-28T11:24:57.001Z"
   },
   {
    "duration": 124,
    "start_time": "2022-10-28T11:24:57.048Z"
   },
   {
    "duration": 0,
    "start_time": "2022-10-28T11:24:57.174Z"
   },
   {
    "duration": 0,
    "start_time": "2022-10-28T11:24:57.175Z"
   },
   {
    "duration": 0,
    "start_time": "2022-10-28T11:24:57.176Z"
   },
   {
    "duration": 0,
    "start_time": "2022-10-28T11:24:57.177Z"
   },
   {
    "duration": 0,
    "start_time": "2022-10-28T11:24:57.178Z"
   },
   {
    "duration": 0,
    "start_time": "2022-10-28T11:24:57.179Z"
   },
   {
    "duration": 0,
    "start_time": "2022-10-28T11:24:57.180Z"
   },
   {
    "duration": 0,
    "start_time": "2022-10-28T11:24:57.181Z"
   },
   {
    "duration": 0,
    "start_time": "2022-10-28T11:24:57.182Z"
   },
   {
    "duration": 0,
    "start_time": "2022-10-28T11:24:57.183Z"
   },
   {
    "duration": 0,
    "start_time": "2022-10-28T11:24:57.184Z"
   },
   {
    "duration": 0,
    "start_time": "2022-10-28T11:24:57.185Z"
   },
   {
    "duration": 0,
    "start_time": "2022-10-28T11:24:57.186Z"
   },
   {
    "duration": 0,
    "start_time": "2022-10-28T11:24:57.187Z"
   },
   {
    "duration": 0,
    "start_time": "2022-10-28T11:24:57.188Z"
   },
   {
    "duration": 0,
    "start_time": "2022-10-28T11:24:57.189Z"
   },
   {
    "duration": 0,
    "start_time": "2022-10-28T11:24:57.191Z"
   },
   {
    "duration": 0,
    "start_time": "2022-10-28T11:24:57.230Z"
   },
   {
    "duration": 0,
    "start_time": "2022-10-28T11:24:57.232Z"
   },
   {
    "duration": 0,
    "start_time": "2022-10-28T11:24:57.233Z"
   },
   {
    "duration": 0,
    "start_time": "2022-10-28T11:24:57.234Z"
   },
   {
    "duration": 0,
    "start_time": "2022-10-28T11:24:57.234Z"
   },
   {
    "duration": 0,
    "start_time": "2022-10-28T11:24:57.236Z"
   },
   {
    "duration": 17,
    "start_time": "2022-10-28T11:25:26.751Z"
   },
   {
    "duration": 15,
    "start_time": "2022-10-28T11:25:50.744Z"
   },
   {
    "duration": 1224,
    "start_time": "2022-10-28T11:26:02.802Z"
   },
   {
    "duration": 181,
    "start_time": "2022-10-28T11:26:04.029Z"
   },
   {
    "duration": 4,
    "start_time": "2022-10-28T11:26:04.212Z"
   },
   {
    "duration": 182,
    "start_time": "2022-10-28T11:26:04.219Z"
   },
   {
    "duration": 6,
    "start_time": "2022-10-28T11:26:04.402Z"
   },
   {
    "duration": 165,
    "start_time": "2022-10-28T11:26:04.409Z"
   },
   {
    "duration": 183,
    "start_time": "2022-10-28T11:26:04.576Z"
   },
   {
    "duration": 4,
    "start_time": "2022-10-28T11:26:04.761Z"
   },
   {
    "duration": 22,
    "start_time": "2022-10-28T11:26:04.767Z"
   },
   {
    "duration": 69,
    "start_time": "2022-10-28T11:26:04.792Z"
   },
   {
    "duration": 81,
    "start_time": "2022-10-28T11:26:04.862Z"
   },
   {
    "duration": 3,
    "start_time": "2022-10-28T11:26:04.945Z"
   },
   {
    "duration": 10,
    "start_time": "2022-10-28T11:26:04.950Z"
   },
   {
    "duration": 73,
    "start_time": "2022-10-28T11:26:04.961Z"
   },
   {
    "duration": 6,
    "start_time": "2022-10-28T11:26:05.036Z"
   },
   {
    "duration": 516,
    "start_time": "2022-10-28T11:26:05.044Z"
   },
   {
    "duration": 24,
    "start_time": "2022-10-28T11:26:05.561Z"
   },
   {
    "duration": 22,
    "start_time": "2022-10-28T11:26:05.587Z"
   },
   {
    "duration": 58,
    "start_time": "2022-10-28T11:26:05.630Z"
   },
   {
    "duration": 54,
    "start_time": "2022-10-28T11:26:05.689Z"
   },
   {
    "duration": 88,
    "start_time": "2022-10-28T11:26:05.745Z"
   },
   {
    "duration": 8,
    "start_time": "2022-10-28T11:26:05.834Z"
   },
   {
    "duration": 17,
    "start_time": "2022-10-28T11:26:05.844Z"
   },
   {
    "duration": 179,
    "start_time": "2022-10-28T11:26:05.862Z"
   },
   {
    "duration": 12,
    "start_time": "2022-10-28T11:26:06.043Z"
   },
   {
    "duration": 10,
    "start_time": "2022-10-28T11:26:06.057Z"
   },
   {
    "duration": 279,
    "start_time": "2022-10-28T11:26:06.069Z"
   },
   {
    "duration": 26,
    "start_time": "2022-10-28T11:26:06.352Z"
   },
   {
    "duration": 94,
    "start_time": "2022-10-28T11:26:06.381Z"
   },
   {
    "duration": 71,
    "start_time": "2022-10-28T11:26:06.477Z"
   },
   {
    "duration": 126,
    "start_time": "2022-10-28T11:26:06.550Z"
   },
   {
    "duration": 5,
    "start_time": "2022-10-28T11:26:06.678Z"
   },
   {
    "duration": 20,
    "start_time": "2022-10-28T11:26:06.685Z"
   },
   {
    "duration": 25,
    "start_time": "2022-10-28T11:26:06.707Z"
   },
   {
    "duration": 12,
    "start_time": "2022-10-28T11:26:06.734Z"
   },
   {
    "duration": 13,
    "start_time": "2022-10-28T11:26:06.748Z"
   },
   {
    "duration": 4,
    "start_time": "2022-10-28T11:26:06.762Z"
   },
   {
    "duration": 24,
    "start_time": "2022-10-28T11:26:57.418Z"
   },
   {
    "duration": 5,
    "start_time": "2022-10-28T11:27:34.473Z"
   },
   {
    "duration": 24,
    "start_time": "2022-10-28T11:27:58.681Z"
   },
   {
    "duration": 16,
    "start_time": "2022-10-28T11:28:58.696Z"
   },
   {
    "duration": 23,
    "start_time": "2022-10-28T11:38:02.756Z"
   },
   {
    "duration": 1307,
    "start_time": "2022-10-28T11:38:07.620Z"
   },
   {
    "duration": 286,
    "start_time": "2022-10-28T11:38:24.348Z"
   },
   {
    "duration": 220,
    "start_time": "2022-10-28T11:38:42.555Z"
   },
   {
    "duration": 343,
    "start_time": "2022-10-28T11:38:46.939Z"
   },
   {
    "duration": 272,
    "start_time": "2022-10-28T11:39:56.762Z"
   },
   {
    "duration": 1570,
    "start_time": "2022-10-28T11:40:10.946Z"
   },
   {
    "duration": 348,
    "start_time": "2022-10-28T11:40:49.298Z"
   },
   {
    "duration": 323,
    "start_time": "2022-10-28T11:41:18.906Z"
   },
   {
    "duration": 333,
    "start_time": "2022-10-28T11:41:29.806Z"
   },
   {
    "duration": 1240,
    "start_time": "2022-10-28T11:43:15.098Z"
   },
   {
    "duration": 197,
    "start_time": "2022-10-28T11:43:16.340Z"
   },
   {
    "duration": 4,
    "start_time": "2022-10-28T11:43:16.538Z"
   },
   {
    "duration": 141,
    "start_time": "2022-10-28T11:43:16.544Z"
   },
   {
    "duration": 5,
    "start_time": "2022-10-28T11:43:16.687Z"
   },
   {
    "duration": 177,
    "start_time": "2022-10-28T11:43:16.693Z"
   },
   {
    "duration": 187,
    "start_time": "2022-10-28T11:43:16.871Z"
   },
   {
    "duration": 5,
    "start_time": "2022-10-28T11:43:17.060Z"
   },
   {
    "duration": 31,
    "start_time": "2022-10-28T11:43:17.066Z"
   },
   {
    "duration": 69,
    "start_time": "2022-10-28T11:43:17.099Z"
   },
   {
    "duration": 59,
    "start_time": "2022-10-28T11:43:17.170Z"
   },
   {
    "duration": 4,
    "start_time": "2022-10-28T11:43:17.231Z"
   },
   {
    "duration": 26,
    "start_time": "2022-10-28T11:43:17.236Z"
   },
   {
    "duration": 37,
    "start_time": "2022-10-28T11:43:17.264Z"
   },
   {
    "duration": 6,
    "start_time": "2022-10-28T11:43:17.303Z"
   },
   {
    "duration": 427,
    "start_time": "2022-10-28T11:43:17.311Z"
   },
   {
    "duration": 25,
    "start_time": "2022-10-28T11:43:17.739Z"
   },
   {
    "duration": 23,
    "start_time": "2022-10-28T11:43:17.766Z"
   },
   {
    "duration": 85,
    "start_time": "2022-10-28T11:43:17.790Z"
   },
   {
    "duration": 39,
    "start_time": "2022-10-28T11:43:17.876Z"
   },
   {
    "duration": 90,
    "start_time": "2022-10-28T11:43:17.916Z"
   },
   {
    "duration": 8,
    "start_time": "2022-10-28T11:43:18.008Z"
   },
   {
    "duration": 20,
    "start_time": "2022-10-28T11:43:18.030Z"
   },
   {
    "duration": 203,
    "start_time": "2022-10-28T11:43:18.052Z"
   },
   {
    "duration": 15,
    "start_time": "2022-10-28T11:43:18.259Z"
   },
   {
    "duration": 58,
    "start_time": "2022-10-28T11:43:18.276Z"
   },
   {
    "duration": 240,
    "start_time": "2022-10-28T11:43:18.337Z"
   },
   {
    "duration": 26,
    "start_time": "2022-10-28T11:43:18.580Z"
   },
   {
    "duration": 71,
    "start_time": "2022-10-28T11:43:18.629Z"
   },
   {
    "duration": 78,
    "start_time": "2022-10-28T11:43:18.702Z"
   },
   {
    "duration": 121,
    "start_time": "2022-10-28T11:43:18.783Z"
   },
   {
    "duration": 5,
    "start_time": "2022-10-28T11:43:18.906Z"
   },
   {
    "duration": 53,
    "start_time": "2022-10-28T11:43:18.912Z"
   },
   {
    "duration": 42,
    "start_time": "2022-10-28T11:43:18.967Z"
   },
   {
    "duration": 35,
    "start_time": "2022-10-28T11:43:19.011Z"
   },
   {
    "duration": 56,
    "start_time": "2022-10-28T11:43:19.048Z"
   },
   {
    "duration": 25,
    "start_time": "2022-10-28T11:43:19.106Z"
   },
   {
    "duration": 54,
    "start_time": "2022-10-28T11:43:19.133Z"
   },
   {
    "duration": 23,
    "start_time": "2022-10-28T11:43:19.189Z"
   },
   {
    "duration": 344,
    "start_time": "2022-10-28T11:43:19.214Z"
   },
   {
    "duration": 434,
    "start_time": "2022-10-28T11:43:42.238Z"
   },
   {
    "duration": 335,
    "start_time": "2022-10-28T11:44:36.534Z"
   },
   {
    "duration": 324,
    "start_time": "2022-10-28T12:02:41.161Z"
   },
   {
    "duration": 1072,
    "start_time": "2022-12-23T20:39:55.374Z"
   },
   {
    "duration": 492,
    "start_time": "2022-12-23T20:39:56.448Z"
   },
   {
    "duration": 3,
    "start_time": "2022-12-23T20:39:56.942Z"
   },
   {
    "duration": 103,
    "start_time": "2022-12-23T20:39:56.947Z"
   },
   {
    "duration": 4,
    "start_time": "2022-12-23T20:39:57.053Z"
   },
   {
    "duration": 148,
    "start_time": "2022-12-23T20:39:57.059Z"
   },
   {
    "duration": 184,
    "start_time": "2022-12-23T20:39:57.209Z"
   },
   {
    "duration": 5,
    "start_time": "2022-12-23T20:39:57.394Z"
   },
   {
    "duration": 16,
    "start_time": "2022-12-23T20:39:57.400Z"
   },
   {
    "duration": 81,
    "start_time": "2022-12-23T20:39:57.418Z"
   },
   {
    "duration": 43,
    "start_time": "2022-12-23T20:39:57.501Z"
   },
   {
    "duration": 3,
    "start_time": "2022-12-23T20:39:57.546Z"
   },
   {
    "duration": 28,
    "start_time": "2022-12-23T20:39:57.550Z"
   },
   {
    "duration": 22,
    "start_time": "2022-12-23T20:39:57.581Z"
   },
   {
    "duration": 381,
    "start_time": "2022-12-23T20:39:57.604Z"
   },
   {
    "duration": 5,
    "start_time": "2022-12-23T20:39:57.987Z"
   },
   {
    "duration": 613,
    "start_time": "2022-12-23T20:39:57.994Z"
   },
   {
    "duration": 26,
    "start_time": "2022-12-23T20:39:58.609Z"
   },
   {
    "duration": 49,
    "start_time": "2022-12-23T20:39:58.637Z"
   },
   {
    "duration": 63,
    "start_time": "2022-12-23T20:39:58.688Z"
   },
   {
    "duration": 62,
    "start_time": "2022-12-23T20:39:58.753Z"
   },
   {
    "duration": 129,
    "start_time": "2022-12-23T20:39:58.817Z"
   },
   {
    "duration": 31,
    "start_time": "2022-12-23T20:39:58.948Z"
   },
   {
    "duration": 19,
    "start_time": "2022-12-23T20:39:58.981Z"
   },
   {
    "duration": 162,
    "start_time": "2022-12-23T20:39:59.001Z"
   },
   {
    "duration": 13,
    "start_time": "2022-12-23T20:39:59.165Z"
   },
   {
    "duration": 14,
    "start_time": "2022-12-23T20:39:59.179Z"
   },
   {
    "duration": 212,
    "start_time": "2022-12-23T20:39:59.194Z"
   },
   {
    "duration": 76,
    "start_time": "2022-12-23T20:39:59.408Z"
   },
   {
    "duration": 69,
    "start_time": "2022-12-23T20:39:59.486Z"
   },
   {
    "duration": 73,
    "start_time": "2022-12-23T20:39:59.556Z"
   },
   {
    "duration": 119,
    "start_time": "2022-12-23T20:39:59.631Z"
   },
   {
    "duration": 5,
    "start_time": "2022-12-23T20:39:59.752Z"
   },
   {
    "duration": 27,
    "start_time": "2022-12-23T20:39:59.758Z"
   },
   {
    "duration": 10,
    "start_time": "2022-12-23T20:39:59.787Z"
   },
   {
    "duration": 12,
    "start_time": "2022-12-23T20:39:59.798Z"
   },
   {
    "duration": 14,
    "start_time": "2022-12-23T20:39:59.811Z"
   },
   {
    "duration": 6,
    "start_time": "2022-12-23T20:39:59.827Z"
   },
   {
    "duration": 1499,
    "start_time": "2023-04-24T16:10:31.388Z"
   },
   {
    "duration": 687,
    "start_time": "2023-04-24T16:10:32.890Z"
   },
   {
    "duration": 5,
    "start_time": "2023-04-24T16:10:33.579Z"
   },
   {
    "duration": 181,
    "start_time": "2023-04-24T16:10:33.587Z"
   },
   {
    "duration": 8,
    "start_time": "2023-04-24T16:10:33.773Z"
   },
   {
    "duration": 232,
    "start_time": "2023-04-24T16:10:33.784Z"
   },
   {
    "duration": 224,
    "start_time": "2023-04-24T16:10:34.018Z"
   },
   {
    "duration": 7,
    "start_time": "2023-04-24T16:10:34.246Z"
   },
   {
    "duration": 31,
    "start_time": "2023-04-24T16:10:34.255Z"
   },
   {
    "duration": 106,
    "start_time": "2023-04-24T16:10:34.288Z"
   },
   {
    "duration": 74,
    "start_time": "2023-04-24T16:10:34.396Z"
   },
   {
    "duration": 5,
    "start_time": "2023-04-24T16:10:34.472Z"
   },
   {
    "duration": 26,
    "start_time": "2023-04-24T16:10:34.479Z"
   },
   {
    "duration": 64,
    "start_time": "2023-04-24T16:10:34.509Z"
   },
   {
    "duration": 409,
    "start_time": "2023-04-24T16:10:34.575Z"
   },
   {
    "duration": 10,
    "start_time": "2023-04-24T16:10:34.987Z"
   },
   {
    "duration": 503,
    "start_time": "2023-04-24T16:10:35.000Z"
   },
   {
    "duration": 56,
    "start_time": "2023-04-24T16:10:35.507Z"
   },
   {
    "duration": 46,
    "start_time": "2023-04-24T16:10:35.567Z"
   },
   {
    "duration": 126,
    "start_time": "2023-04-24T16:10:35.617Z"
   },
   {
    "duration": 75,
    "start_time": "2023-04-24T16:10:35.746Z"
   },
   {
    "duration": 177,
    "start_time": "2023-04-24T16:10:35.824Z"
   },
   {
    "duration": 15,
    "start_time": "2023-04-24T16:10:36.004Z"
   },
   {
    "duration": 76,
    "start_time": "2023-04-24T16:10:36.022Z"
   }
  ],
  "kernelspec": {
   "display_name": "Python 3 (ipykernel)",
   "language": "python",
   "name": "python3"
  },
  "language_info": {
   "codemirror_mode": {
    "name": "ipython",
    "version": 3
   },
   "file_extension": ".py",
   "mimetype": "text/x-python",
   "name": "python",
   "nbconvert_exporter": "python",
   "pygments_lexer": "ipython3",
   "version": "3.9.5"
  },
  "toc": {
   "base_numbering": 1,
   "nav_menu": {},
   "number_sections": true,
   "sideBar": true,
   "skip_h1_title": true,
   "title_cell": "Table of Contents",
   "title_sidebar": "Contents",
   "toc_cell": false,
   "toc_position": {
    "height": "calc(100% - 180px)",
    "left": "10px",
    "top": "150px",
    "width": "356.797px"
   },
   "toc_section_display": true,
   "toc_window_display": true
  }
 },
 "nbformat": 4,
 "nbformat_minor": 2
}
